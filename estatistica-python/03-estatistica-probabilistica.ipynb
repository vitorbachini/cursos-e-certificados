{
 "cells": [
  {
   "cell_type": "markdown",
   "id": "ad5f4bbc-3ed7-45ea-aa5a-40651f65e506",
   "metadata": {},
   "source": [
    "# 03-Estatística Probabilística para Análise de Dados"
   ]
  },
  {
   "cell_type": "markdown",
   "id": "f92de9a9-be6e-4f73-9e17-1b5210e17e5b",
   "metadata": {
    "jp-MarkdownHeadingCollapsed": true
   },
   "source": [
    "## Probabilidade"
   ]
  },
  {
   "cell_type": "code",
   "execution_count": null,
   "id": "42c8df59-d777-4cda-9683-01eb0fc60bec",
   "metadata": {},
   "outputs": [],
   "source": [
    "import numpy as np \n",
    "import pandas as pd\n",
    "enem_sp = pd.read_csv('./enem_2019_tratado.csv', sep=',', encoding='iso-8859-1')"
   ]
  },
  {
   "cell_type": "code",
   "execution_count": null,
   "id": "1282c939-ceb3-4781-a138-b821dc359fb4",
   "metadata": {},
   "outputs": [],
   "source": [
    "enem_guarulhos = enem_sp.loc[enem_sp.NO_MUNICIPIO_RESIDENCIA =='Guarulhos']"
   ]
  },
  {
   "cell_type": "code",
   "execution_count": null,
   "id": "10e3f701-d619-4d2a-be77-64ba8e3b6627",
   "metadata": {},
   "outputs": [],
   "source": [
    "enem_bauru = enem_sp.loc[enem_sp.NO_MUNICIPIO_RESIDENCIA =='Bauru']"
   ]
  },
  {
   "cell_type": "code",
   "execution_count": null,
   "id": "8df153c8-6a0a-4ca5-a86e-3074812d8012",
   "metadata": {},
   "outputs": [],
   "source": [
    "gua = len(enem_guarulhos)"
   ]
  },
  {
   "cell_type": "code",
   "execution_count": null,
   "id": "2563ea11-62e1-46d8-9c68-76695d270302",
   "metadata": {},
   "outputs": [],
   "source": [
    "bau = len(enem_bauru)"
   ]
  },
  {
   "cell_type": "code",
   "execution_count": null,
   "id": "ae2b9150-cb02-492b-8a93-d8aef645194c",
   "metadata": {},
   "outputs": [],
   "source": [
    "sp = len(enem_sp)"
   ]
  },
  {
   "cell_type": "code",
   "execution_count": null,
   "id": "62168bb1-4e7a-46fd-ab44-c17643a611e7",
   "metadata": {},
   "outputs": [],
   "source": [
    "# Criando função probabilidade\n",
    "def prob (A, E):\n",
    "    resultado = (A / E)*100\n",
    "    print('{:.2f}'.format(resultado))"
   ]
  },
  {
   "cell_type": "code",
   "execution_count": null,
   "id": "29c3d9f0-15bb-43e5-a167-f8eaa7877d0f",
   "metadata": {},
   "outputs": [],
   "source": [
    "# Probabilidade de retirar um vestibulando de guarulhos\n",
    "prob(gua, sp)"
   ]
  },
  {
   "cell_type": "code",
   "execution_count": null,
   "id": "76a6a039-0939-4aa2-b47d-3b23e8c0b9ab",
   "metadata": {},
   "outputs": [],
   "source": [
    "# Probabilidade de retirar um vestibulando de bauru\n",
    "prob(bau, sp)"
   ]
  },
  {
   "cell_type": "markdown",
   "id": "6ed978b2-8e5b-41b0-b53a-9b9cc6835157",
   "metadata": {
    "jp-MarkdownHeadingCollapsed": true
   },
   "source": [
    "## Probabilidade de não ocorrer um evento"
   ]
  },
  {
   "cell_type": "code",
   "execution_count": null,
   "id": "d13dff72-eeed-419e-a61e-03107065ec75",
   "metadata": {},
   "outputs": [],
   "source": [
    "# Criando função probabilide de não ocorrer um evento\n",
    "def prob_nao (A, E):\n",
    "    resultado = (1 - (A / E)) * 100\n",
    "    print('{:.2f}'.format(resultado))"
   ]
  },
  {
   "cell_type": "code",
   "execution_count": null,
   "id": "b6a0b0a5-ecec-4e96-a3a7-14e28d4d5ef0",
   "metadata": {},
   "outputs": [],
   "source": [
    "# Probabilidade de não retirar um vestibulando de guarulhos\n",
    "prob_nao(gua, sp)"
   ]
  },
  {
   "cell_type": "code",
   "execution_count": null,
   "id": "9750c649-c60e-4146-b08a-0c622d19e179",
   "metadata": {},
   "outputs": [],
   "source": [
    "# Probabilidade de não retirar um vestibulando de bauru\n",
    "prob_nao(bau, sp)"
   ]
  },
  {
   "cell_type": "code",
   "execution_count": null,
   "id": "c2dd04da-6612-47b6-8991-44bd79c393b2",
   "metadata": {},
   "outputs": [],
   "source": [
    "# Probabilidade de não retirar um vestibulando de guarulhos e nem de bauru\n",
    "prob_nao(gua + bau, sp)"
   ]
  },
  {
   "cell_type": "markdown",
   "id": "5d91d9eb-d458-49d8-9ae6-2bc78dd1752a",
   "metadata": {
    "jp-MarkdownHeadingCollapsed": true
   },
   "source": [
    "## Probabilidade da união mutuamente exclusivos (A U B)"
   ]
  },
  {
   "cell_type": "code",
   "execution_count": null,
   "id": "cdfe7662-73f1-4ef1-8b24-026eca86ecc3",
   "metadata": {},
   "outputs": [],
   "source": [
    "# Criando a função probabilidade da união mutuamente exclusivos\n",
    "def prob_uniao (A, B, E):\n",
    "    resultado = (A/E + B/E)*100\n",
    "    print('{:.2f}'.format(resultado))"
   ]
  },
  {
   "cell_type": "code",
   "execution_count": null,
   "id": "9915d34c-67cc-41f5-a96b-f452a296ae93",
   "metadata": {},
   "outputs": [],
   "source": [
    "# Probabilidade de retirar um vestibulando de guarulhos ou bauru\n",
    "prob_uniao(gua, bau, sp)"
   ]
  },
  {
   "cell_type": "markdown",
   "id": "5b003aeb-a31b-4c49-9d90-7cdda8921bfa",
   "metadata": {
    "jp-MarkdownHeadingCollapsed": true
   },
   "source": [
    "## Probabilidade da intersecção de dois eventos"
   ]
  },
  {
   "cell_type": "code",
   "execution_count": null,
   "id": "14bb1bf2-5043-45b1-aa06-c77c5ea28093",
   "metadata": {},
   "outputs": [],
   "source": [
    "# Criando a função probabilidade da intersecção de dois eventos\n",
    "def prob_intersec (A, B, E):\n",
    "    resultado = (A/E * B/E)*100\n",
    "    print('{:.3f}'.format(resultado))"
   ]
  },
  {
   "cell_type": "code",
   "execution_count": null,
   "id": "5e116466-76ac-433d-bed9-cffc1a317fe1",
   "metadata": {},
   "outputs": [],
   "source": [
    "# Probabilidade de retirar um vestibulando de guarulhos e de bauru (com reposição)\n",
    "prob_intersec(gua, bau, sp)"
   ]
  },
  {
   "cell_type": "markdown",
   "id": "15e0cc65-f90e-4e90-a8fb-455f1cbac640",
   "metadata": {
    "jp-MarkdownHeadingCollapsed": true
   },
   "source": [
    "## Probabilidade condicional"
   ]
  },
  {
   "cell_type": "code",
   "execution_count": null,
   "id": "3daacc7b-3e86-4614-bd71-97963ad554d2",
   "metadata": {},
   "outputs": [],
   "source": [
    "# Criando a função da probabilidade condicional\n",
    "def prob_cond (AB, B):\n",
    "    resultado = (AB / B)*100\n",
    "    print('{:.2f}'.format(resultado))"
   ]
  },
  {
   "cell_type": "code",
   "execution_count": null,
   "id": "f654a410-0548-401a-b56d-b51fd332fc17",
   "metadata": {},
   "outputs": [],
   "source": [
    "# Probabilidade de retirar uma mulher parda\n",
    "mulher = enem_sp.loc[enem_sp.SEXO =='F']"
   ]
  },
  {
   "cell_type": "code",
   "execution_count": null,
   "id": "f07ecdde-4eb7-4551-9987-a185138fc4be",
   "metadata": {},
   "outputs": [],
   "source": [
    "mulher_parda = mulher.loc[mulher.RACA=='parda']"
   ]
  },
  {
   "cell_type": "code",
   "execution_count": null,
   "id": "c3e1bf3e-032e-473b-828b-cd29d0b9811f",
   "metadata": {},
   "outputs": [],
   "source": [
    "prob_cond(len(mulher_parda), len(mulher))"
   ]
  },
  {
   "cell_type": "markdown",
   "id": "38399fa0-1c03-47c1-96dd-cc40713b9e15",
   "metadata": {
    "jp-MarkdownHeadingCollapsed": true
   },
   "source": [
    "## Distribuição Discreta"
   ]
  },
  {
   "cell_type": "code",
   "execution_count": null,
   "id": "75625a17-205a-4334-a676-94b84f07b852",
   "metadata": {},
   "outputs": [],
   "source": [
    "import numpy as np \n",
    "import pandas as pd\n",
    "enem_sp = pd.read_csv('./enem_2019_tratado.csv', sep=',', encoding='iso-8859-1')"
   ]
  },
  {
   "cell_type": "markdown",
   "id": "0c69d742-337c-4688-80dc-2b0e42f8df40",
   "metadata": {
    "jp-MarkdownHeadingCollapsed": true
   },
   "source": [
    "### Distribuição Binomial"
   ]
  },
  {
   "cell_type": "code",
   "execution_count": null,
   "id": "4d57c158-b67d-4330-aab9-f1f2754f8c23",
   "metadata": {},
   "outputs": [],
   "source": [
    "from scipy.stats import binom"
   ]
  },
  {
   "cell_type": "code",
   "execution_count": null,
   "id": "e719f5cc-3931-4224-8a3e-532ce24949ea",
   "metadata": {},
   "outputs": [],
   "source": [
    "# Probabilidade de retirar uma mulher\n",
    "mulher_enem = enem_sp.loc[enem_sp.SEXO == 'F']\n",
    "p = len(mulher_enem) / len(enem_sp)\n",
    "p"
   ]
  },
  {
   "cell_type": "code",
   "execution_count": null,
   "id": "cc758a0e-b029-4418-b155-53dc30776562",
   "metadata": {},
   "outputs": [],
   "source": [
    "# binom.pmf = valor pontual\n",
    "# binom.cdf = faixa de valores (acumulada)"
   ]
  },
  {
   "cell_type": "code",
   "execution_count": null,
   "id": "aefa86df-83e4-4467-a57b-c04b30b51222",
   "metadata": {},
   "outputs": [],
   "source": [
    "# Probabilidade de retirar exatamente 4 mulheres num total de 10 amostras\n",
    "binom.pmf(4, 10, p)\n",
    "\n",
    "# Primeiro parâmetro: valor ou limite que se está pretendendo calcular\n",
    "# Segundo parâmetro: número de tentativas\n",
    "# Terceiro parâmetro: probabilidade de um sucesso"
   ]
  },
  {
   "cell_type": "code",
   "execution_count": null,
   "id": "81341d4d-f7fa-4acc-b828-ed1df3987619",
   "metadata": {},
   "outputs": [],
   "source": [
    "# Probabilidade de retirar pelo menos uma mulher num total de 10 amostras\n",
    "p0 = 1 - binom.pmf(0, 10, p) # utilizando a probabilidade de não ocorrência (0 mulheres)\n",
    "p0"
   ]
  },
  {
   "cell_type": "code",
   "execution_count": null,
   "id": "42266b08-5e41-460e-9b6b-f54a420edad8",
   "metadata": {},
   "outputs": [],
   "source": [
    "# Probabilidade de retirar mais do que 1 mulher num total de 10 amostras\n",
    "p1 = 1 - (binom.pmf(0, 10, p) + binom.pmf(1, 10, p))\n",
    "p1"
   ]
  },
  {
   "cell_type": "code",
   "execution_count": null,
   "id": "e78c9c7d-441d-470b-870f-b4543703217c",
   "metadata": {},
   "outputs": [],
   "source": [
    "# Probabilidade de retirar mais do que 3 mulheres num total de 10 amostras\n",
    "p2 = 1 - (binom.pmf(0, 10, p) + binom.pmf(1, 10, p) + binom.pmf(2, 10, p) + binom.pmf(3, 10, p))\n",
    "p2"
   ]
  },
  {
   "cell_type": "code",
   "execution_count": null,
   "id": "ab81b72a-4a80-4fc6-bc04-55617386f5c5",
   "metadata": {},
   "outputs": [],
   "source": [
    "# outra forma\n",
    "p3 = 1 - binom.cdf(3, 10, p)\n",
    "p3"
   ]
  },
  {
   "cell_type": "code",
   "execution_count": null,
   "id": "619ec3a5-c0d0-487a-ad2e-10f40514b097",
   "metadata": {},
   "outputs": [],
   "source": [
    "# Probabilidade de retirar mais do que 8 mulheres num total de 10 amostras\n",
    "p4 = binom.pmf(9, 10, p) + binom.pmf(10, 10, p)\n",
    "p4"
   ]
  },
  {
   "cell_type": "markdown",
   "id": "c085c2a6-566c-4cc9-a3e0-fd1ad3267957",
   "metadata": {
    "jp-MarkdownHeadingCollapsed": true
   },
   "source": [
    "### Distribuição Geométrica"
   ]
  },
  {
   "cell_type": "code",
   "execution_count": null,
   "id": "645b2eac-e750-4636-a27e-9bc2f592ce08",
   "metadata": {},
   "outputs": [],
   "source": [
    "from scipy.stats import geom"
   ]
  },
  {
   "cell_type": "code",
   "execution_count": null,
   "id": "2ac47f61-5bc0-4d33-b9f8-05f435eb97e4",
   "metadata": {},
   "outputs": [],
   "source": [
    "# Probabilidade de retirar 3 amostras e nenhuma ser mulher\n",
    "# geom.pmf(x, p) x representa a tentativa de sucesso e p a probilidade\n",
    "geom.pmf(4, p)"
   ]
  },
  {
   "cell_type": "markdown",
   "id": "1b0c37f7-98a3-4776-a6d6-0947c7406f55",
   "metadata": {
    "jp-MarkdownHeadingCollapsed": true
   },
   "source": [
    "### Distribuição de Poisson"
   ]
  },
  {
   "cell_type": "code",
   "execution_count": null,
   "id": "a90f6ba8-02d7-4b8d-9f1c-b9896102797e",
   "metadata": {},
   "outputs": [],
   "source": [
    "from scipy.stats import poisson"
   ]
  },
  {
   "cell_type": "code",
   "execution_count": null,
   "id": "b16f0567-b379-41ca-854f-b6247989e692",
   "metadata": {},
   "outputs": [],
   "source": [
    "# Num local de prova 100 vestibulandos, normalmente, terminam a prova\n",
    "# em 2 horas (tempo mínimo). Probabilidade de extamente 90 vestibulandos\n",
    "# terminarem a prova em 2h.\n",
    "\n",
    "# poisson.pmf(x, m) x é a qtd de ocorrências EM ESTUDO e m é a taxa de ocorrências.\n",
    "poisson.pmf(90, 100)"
   ]
  },
  {
   "cell_type": "markdown",
   "id": "449a5d11-6c46-42e9-998a-b38360f9aafd",
   "metadata": {
    "jp-MarkdownHeadingCollapsed": true
   },
   "source": [
    "## Testes de Normalidade"
   ]
  },
  {
   "cell_type": "markdown",
   "id": "5bb77436-0267-4981-9b57-46e63a4c4034",
   "metadata": {},
   "source": [
    "Vários métodos de estimação e testes de hipóteses foram criados sob a suposição\n",
    "de que a amostra aleatória tenha distribuição normal."
   ]
  },
  {
   "cell_type": "code",
   "execution_count": null,
   "id": "1c803caf-ef06-4a4c-aa7b-103b41e3e6ce",
   "metadata": {},
   "outputs": [],
   "source": [
    "import numpy as np \n",
    "import pandas as pd\n",
    "enem_sp = pd.read_csv('./enem_2019_tratado.csv', sep=',', encoding='iso-8859-1')"
   ]
  },
  {
   "cell_type": "code",
   "execution_count": null,
   "id": "68e4672c-fa90-4f28-8672-ecd54ae36224",
   "metadata": {},
   "outputs": [],
   "source": [
    "enem_tupa = enem_sp.loc[enem_sp.NO_MUNICIPIO_RESIDENCIA == 'Tupã']"
   ]
  },
  {
   "cell_type": "code",
   "execution_count": null,
   "id": "8458293b-5b04-4ab2-a88b-9c4cc310aa81",
   "metadata": {},
   "outputs": [],
   "source": [
    "enem_tupa.shape"
   ]
  },
  {
   "cell_type": "markdown",
   "id": "019d0890-cdce-4273-aa13-63698b99a11a",
   "metadata": {},
   "source": [
    "### Testes de Normalidade"
   ]
  },
  {
   "cell_type": "markdown",
   "id": "8e9d46d0-9a7e-4bf0-8010-ad49c70eeba8",
   "metadata": {},
   "source": [
    "Existem testes de normalidade numéricos e teste gráficos:\n",
    "- Shapiro-Wilk (limite de 5000 amostras)\n",
    "- Kolmogorov_Smirnov\n",
    "- Histograma\n",
    "- QQplot"
   ]
  },
  {
   "cell_type": "markdown",
   "id": "563640ab-3ea5-4cc7-8182-c94f9853f3f3",
   "metadata": {},
   "source": [
    "#### Histograma"
   ]
  },
  {
   "cell_type": "code",
   "execution_count": null,
   "id": "9118dc7d-75f2-43e6-832a-8aeddd0feb04",
   "metadata": {},
   "outputs": [],
   "source": [
    "import plotly.express as px"
   ]
  },
  {
   "cell_type": "code",
   "execution_count": null,
   "id": "0c8a0595-c550-4121-97ea-e3633b2af9b7",
   "metadata": {},
   "outputs": [],
   "source": [
    "grafico = px.histogram(enem_sp, x='NOTA_REDACAO', nbins=32, histnorm='percent')\n",
    "grafico.update_layout(width=400, height=400, title_text='Distribuição de Notas da Redação (SP)')\n",
    "grafico.show()"
   ]
  },
  {
   "cell_type": "code",
   "execution_count": null,
   "id": "3cb9170d-f19a-4dde-854d-eaa9320694ad",
   "metadata": {},
   "outputs": [],
   "source": [
    "grafico = px.histogram(enem_tupa, x='NOTA_REDACAO', nbins=32, histnorm='percent')\n",
    "grafico.update_layout(width=400, height=400, title_text='Distribuição de Notas da Redação (Tupã)')\n",
    "grafico.show()"
   ]
  },
  {
   "cell_type": "code",
   "execution_count": null,
   "id": "bcf48995-b49d-49df-998a-e61f33db5a61",
   "metadata": {},
   "outputs": [],
   "source": [
    "import seaborn as sns"
   ]
  },
  {
   "cell_type": "code",
   "execution_count": null,
   "id": "8cb0297c-f162-4dce-8e23-40554c2bf575",
   "metadata": {},
   "outputs": [],
   "source": [
    "sns.histplot(enem_sp, x='NOTA_REDACAO', bins=32, color='orange', kde=True, stat='probability')"
   ]
  },
  {
   "cell_type": "code",
   "execution_count": null,
   "id": "00a52669-68bd-4fe2-94d3-39dafe787735",
   "metadata": {},
   "outputs": [],
   "source": [
    "sns.histplot(enem_tupa, x='NOTA_REDACAO', bins=32, color='green', kde=True, stat='probability')"
   ]
  },
  {
   "cell_type": "markdown",
   "id": "3f01743e-5f98-49b8-b10e-89541584eaea",
   "metadata": {},
   "source": [
    "#### QQPlot"
   ]
  },
  {
   "cell_type": "code",
   "execution_count": null,
   "id": "296d8bfa-8ac7-4669-9427-abdfed54515f",
   "metadata": {},
   "outputs": [],
   "source": [
    "import scipy.stats as stats\n",
    "import matplotlib.pyplot as plt"
   ]
  },
  {
   "cell_type": "code",
   "execution_count": null,
   "id": "9e0037fa-67e0-4835-ae45-6cfd41b22cb5",
   "metadata": {},
   "outputs": [],
   "source": [
    "stats.probplot(enem_sp.NOTA_REDACAO, dist='norm', plot=plt)\n",
    "plt.title('Normal QQ Plot')\n",
    "plt.show()"
   ]
  },
  {
   "cell_type": "code",
   "execution_count": null,
   "id": "d93d32e1-cf51-4d99-8610-adbe3b45acd5",
   "metadata": {},
   "outputs": [],
   "source": [
    "stats.probplot(enem_tupa.NOTA_REDACAO, dist='norm', plot=plt)\n",
    "plt.title('Normal QQ Plot')\n",
    "plt.show()"
   ]
  },
  {
   "cell_type": "code",
   "execution_count": null,
   "id": "a7e65d9a-68ae-48cd-864a-0306ba4de1cb",
   "metadata": {},
   "outputs": [],
   "source": [
    "# Somente com os testes gráficos neste caso fica difícil determinar a normaldiade\n",
    "# da distribuição"
   ]
  },
  {
   "cell_type": "markdown",
   "id": "a8503f23-288f-40e4-8acc-a9a1cdef6ae8",
   "metadata": {},
   "source": [
    "#### Teste de Shapiro-Wilk"
   ]
  },
  {
   "cell_type": "markdown",
   "id": "801522d9-7c81-443e-be0d-734593d64eda",
   "metadata": {},
   "source": [
    "Critérios:\n",
    "- Nível de Significância de 0,05 ou 5% (mais utilizado)\n",
    "- Quando p > 0,05 (distribuição normal)\n",
    "- O teste de Shapiro-Wilk não se aplica a dados maiores que 5000."
   ]
  },
  {
   "cell_type": "code",
   "execution_count": null,
   "id": "84a40b6c-35f9-49a3-9256-c0b56605fc61",
   "metadata": {},
   "outputs": [],
   "source": [
    "stats.shapiro(enem_tupa.NOTA_REDACAO)"
   ]
  },
  {
   "cell_type": "code",
   "execution_count": null,
   "id": "2da59101-ef46-4fce-8213-67b581b39850",
   "metadata": {},
   "outputs": [],
   "source": [
    "# Pelo teste de Shapiro-Wilk, a distribuição não é normal."
   ]
  },
  {
   "cell_type": "markdown",
   "id": "1c5236a5-1f4a-44fa-a7f7-b9013c8bf039",
   "metadata": {},
   "source": [
    "#### Teste Lilliefors (Kolmogorov-Smirnov)"
   ]
  },
  {
   "cell_type": "code",
   "execution_count": null,
   "id": "02116ead-fdc4-4b09-bf30-fa42bccd0501",
   "metadata": {},
   "outputs": [],
   "source": [
    "import statsmodels\n",
    "from statsmodels.stats.diagnostic import lilliefors"
   ]
  },
  {
   "cell_type": "code",
   "execution_count": null,
   "id": "131f40da-614f-4f4d-87a4-d89765d92c8c",
   "metadata": {},
   "outputs": [],
   "source": [
    "statsmodels.stats.diagnostic.lilliefors(enem_sp.NOTA_REDACAO, dist='norm')"
   ]
  },
  {
   "cell_type": "code",
   "execution_count": null,
   "id": "9a082c11-9c0e-4ce4-bd30-faa92278eee3",
   "metadata": {},
   "outputs": [],
   "source": [
    "statsmodels.stats.diagnostic.lilliefors(enem_tupa.NOTA_REDACAO, dist='norm')"
   ]
  },
  {
   "cell_type": "code",
   "execution_count": null,
   "id": "134e338b-5e96-4c92-ade5-0d6c6e05feb2",
   "metadata": {},
   "outputs": [],
   "source": [
    "# As distribuições não são normais."
   ]
  }
 ],
 "metadata": {
  "kernelspec": {
   "display_name": "Python 3 (ipykernel)",
   "language": "python",
   "name": "python3"
  },
  "language_info": {
   "codemirror_mode": {
    "name": "ipython",
    "version": 3
   },
   "file_extension": ".py",
   "mimetype": "text/x-python",
   "name": "python",
   "nbconvert_exporter": "python",
   "pygments_lexer": "ipython3",
   "version": "3.12.7"
  }
 },
 "nbformat": 4,
 "nbformat_minor": 5
}
