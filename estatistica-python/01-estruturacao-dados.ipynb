{
 "cells": [
  {
   "cell_type": "markdown",
   "id": "93efc993-e1a4-403b-8279-b2d0dc5dd63b",
   "metadata": {
    "jp-MarkdownHeadingCollapsed": true
   },
   "source": [
    "# Projeto Análise Estatística do ENEM 2019"
   ]
  },
  {
   "cell_type": "markdown",
   "id": "54cf9ee7-17d3-46cd-9722-d004da894585",
   "metadata": {},
   "source": [
    "Este projeto analisa os resultados do ENEM no estado de São Paulo no ano de 2019.\n",
    "\n",
    "Os dados foram extraídos do site do INEP:\n",
    "\n",
    "inep.gov.br/microdados"
   ]
  },
  {
   "cell_type": "markdown",
   "id": "cd6d78be-a630-4aaf-ae43-ddd9fa457c1b",
   "metadata": {},
   "source": [
    "# 01-Preparação, organização e estruturação dos dados"
   ]
  },
  {
   "cell_type": "code",
   "execution_count": null,
   "id": "a768ec1b-80c4-4e45-9afa-0a5f1952f1d2",
   "metadata": {},
   "outputs": [],
   "source": [
    "import numpy as np\n",
    "import pandas as pd"
   ]
  },
  {
   "cell_type": "code",
   "execution_count": null,
   "id": "c65fc631-22d5-4408-bc90-b120709591bd",
   "metadata": {},
   "outputs": [],
   "source": [
    "dados = pd.read_csv('./microdados_enem_2019_sp.csv', sep=';', encoding='iso-8859-1')"
   ]
  },
  {
   "cell_type": "code",
   "execution_count": null,
   "id": "7403ebff-9952-4f5c-87c8-e1486165ddd6",
   "metadata": {},
   "outputs": [],
   "source": [
    "dados.head()"
   ]
  },
  {
   "cell_type": "code",
   "execution_count": null,
   "id": "02e9abcd-d30b-4206-9ed0-b63489d67f51",
   "metadata": {},
   "outputs": [],
   "source": [
    "dados.shape"
   ]
  },
  {
   "cell_type": "markdown",
   "id": "b8331b43-87b0-435b-a13d-a9ce287621ce",
   "metadata": {
    "jp-MarkdownHeadingCollapsed": true
   },
   "source": [
    "## Extração e Limpeza dos Dados"
   ]
  },
  {
   "cell_type": "code",
   "execution_count": null,
   "id": "7d521c47-991a-4495-81bd-2fe2aae20d11",
   "metadata": {},
   "outputs": [],
   "source": [
    "# Análise dos tipos de atributos\n",
    "\n",
    "dados.dtypes"
   ]
  },
  {
   "cell_type": "code",
   "execution_count": null,
   "id": "8ce7ae00-ccaf-40e7-b005-bdb29b9c438e",
   "metadata": {},
   "outputs": [],
   "source": [
    "dados1 = dados.drop(columns=['CO_MUNICIPIO_RESIDENCIA'])"
   ]
  },
  {
   "cell_type": "code",
   "execution_count": null,
   "id": "9721e02a-72b6-4b76-a2a6-bc7fabd20aed",
   "metadata": {},
   "outputs": [],
   "source": [
    "dados1.head()"
   ]
  },
  {
   "cell_type": "code",
   "execution_count": null,
   "id": "1b7a1c9d-581c-44fa-a00b-e173b5ce8e75",
   "metadata": {},
   "outputs": [],
   "source": [
    "dados1 = dados1.drop(columns=['CO_UF_RESIDENCIA', 'SG_UF_RESIDENCIA', 'CO_MUNICIPIO_NASCIMENTO'])"
   ]
  },
  {
   "cell_type": "code",
   "execution_count": null,
   "id": "b24a8564-4d93-439d-9d61-e46b55f2f8e5",
   "metadata": {},
   "outputs": [],
   "source": [
    "dados1 = dados1.drop(columns=['NO_MUNICIPIO_NASCIMENTO', 'CO_UF_NASCIMENTO', 'SG_UF_NASCIMENTO',\n",
    "                             'TP_ANO_CONCLUIU', 'TP_ENSINO', 'CO_MUNICIPIO_ESC', 'CO_UF_ESC',\n",
    "                             'SG_UF_ESC'])"
   ]
  },
  {
   "cell_type": "code",
   "execution_count": null,
   "id": "9dff665d-0fd2-4213-8470-afe34fcf79dc",
   "metadata": {},
   "outputs": [],
   "source": [
    "dados1 = dados1.drop(columns=['TP_DEPENDENCIA_ADM_ESC', 'TP_LOCALIZACAO_ESC', 'TP_SIT_FUNC_ESC'])"
   ]
  },
  {
   "cell_type": "code",
   "execution_count": null,
   "id": "6e58679d-125a-4fbd-b363-35e04fa2b610",
   "metadata": {},
   "outputs": [],
   "source": [
    "dados1.shape"
   ]
  },
  {
   "cell_type": "markdown",
   "id": "d9b1b1c5-d6b6-458a-ad3f-a01beb7f2178",
   "metadata": {
    "jp-MarkdownHeadingCollapsed": true
   },
   "source": [
    "### Corrigindo erros nas notas"
   ]
  },
  {
   "cell_type": "code",
   "execution_count": null,
   "id": "bf85bd81-4d27-4f3c-9649-bcfa8d06c589",
   "metadata": {},
   "outputs": [],
   "source": [
    "# Todas as notas estão com um erro de uma casa decimal\n",
    "\n",
    "dados1.loc[:, 'NU_NOTA_CN'] /= 10 #  /=  dividir todos os elementos da coluna"
   ]
  },
  {
   "cell_type": "code",
   "execution_count": null,
   "id": "bf0e7562-0fa3-4986-8f09-6bcd56edccf4",
   "metadata": {},
   "outputs": [],
   "source": [
    "dados1.head()"
   ]
  },
  {
   "cell_type": "code",
   "execution_count": null,
   "id": "a3a7e94b-5253-48d0-8be8-1b7b443b1953",
   "metadata": {},
   "outputs": [],
   "source": [
    "dados1.loc[:, 'NU_NOTA_CH'] /= 10\n",
    "dados1.loc[:, 'NU_NOTA_LC'] /= 10\n",
    "dados1.loc[:, 'NU_NOTA_MT'] /= 10"
   ]
  },
  {
   "cell_type": "code",
   "execution_count": null,
   "id": "6f92accf-49aa-425c-887c-30793f7202ba",
   "metadata": {},
   "outputs": [],
   "source": [
    "dados1.head()"
   ]
  },
  {
   "cell_type": "markdown",
   "id": "92d5a20c-d2df-4893-b223-4cd20cd2fc32",
   "metadata": {
    "jp-MarkdownHeadingCollapsed": true
   },
   "source": [
    "### Renomeando Variáveis (colunas)"
   ]
  },
  {
   "cell_type": "code",
   "execution_count": null,
   "id": "9fd26029-b353-4c59-9893-288e9d2464fd",
   "metadata": {},
   "outputs": [],
   "source": [
    "dados1 = dados1.rename(columns={'NU_NOTA_REDACAO': 'NOTA_REDACAO'})"
   ]
  },
  {
   "cell_type": "code",
   "execution_count": null,
   "id": "5eca91a8-18f2-4087-ab25-d86c5732a454",
   "metadata": {},
   "outputs": [],
   "source": [
    "dados1.head()"
   ]
  },
  {
   "cell_type": "code",
   "execution_count": null,
   "id": "cceadafb-a3dc-4b0a-97cf-ac800b42c5fe",
   "metadata": {},
   "outputs": [],
   "source": [
    "dados1 = dados1.rename(columns={'NU_NOTA_CN': 'NOTA_CN', 'NU_NOTA_CH': 'NOTA_CH', \n",
    "                                'NU_NOTA_LC': 'NOTA_LC', 'NU_NOTA_MT': 'NOTA_MT' })"
   ]
  },
  {
   "cell_type": "code",
   "execution_count": null,
   "id": "a60abb1b-f519-46f5-bbee-9a4f5e9d27a5",
   "metadata": {},
   "outputs": [],
   "source": [
    "dados1 = dados1.rename(columns={'NU_NOTA_COMP1': 'COMP1', 'NU_NOTA_COMP2': 'COMP2', \n",
    "                                'NU_NOTA_COMP3': 'COMP3', 'NU_NOTA_COMP4': 'COMP4',\n",
    "                                'NU_NOTA_COMP5': 'COMP5'})"
   ]
  },
  {
   "cell_type": "code",
   "execution_count": null,
   "id": "2e575e18-3ca4-4c59-8e09-bd9fa7f20d1b",
   "metadata": {},
   "outputs": [],
   "source": [
    "dados1 = dados1.rename(columns={'NU_IDADE': 'IDADE', 'TP_SEXO': 'SEXO', \n",
    "                                'TP_COR_RACA': 'RACA', 'Q025': 'INTERNET',\n",
    "                                'TP_ESCOLA': 'ESCOLA'})"
   ]
  },
  {
   "cell_type": "markdown",
   "id": "1da647cc-6286-4fbf-a22f-4a62be4c4ae9",
   "metadata": {
    "jp-MarkdownHeadingCollapsed": true
   },
   "source": [
    "### Renomeando Registros (Linhas)"
   ]
  },
  {
   "cell_type": "code",
   "execution_count": null,
   "id": "3039b69f-8c74-4094-a702-fba019c8016e",
   "metadata": {},
   "outputs": [],
   "source": [
    "dados1['RACA'] = dados1['RACA'].replace({0:'nao_declarado', 1:'branca', 2:'preta', 3:'parda', 4:'amarela', 5:'indigena'})"
   ]
  },
  {
   "cell_type": "code",
   "execution_count": null,
   "id": "92ade5b8-3035-4628-8630-a8781c28ee6b",
   "metadata": {},
   "outputs": [],
   "source": [
    "dados1.head()"
   ]
  },
  {
   "cell_type": "code",
   "execution_count": null,
   "id": "dd9bf896-7bd7-4e38-980c-05b04ff7bd58",
   "metadata": {},
   "outputs": [],
   "source": [
    "dados1['TP_LINGUA'] = dados1['TP_LINGUA'].replace({0:'Ingles', 1:'Espanhol'})"
   ]
  },
  {
   "cell_type": "code",
   "execution_count": null,
   "id": "ff5e6b9f-0871-486a-bca0-bc48b54b8135",
   "metadata": {},
   "outputs": [],
   "source": [
    "dados1['ESCOLA'] = dados1['ESCOLA'].replace({1:'nao_respondeu', 2:'publica', 3:'privada', 4:'exterior'})"
   ]
  },
  {
   "cell_type": "code",
   "execution_count": null,
   "id": "5d4a96ae-7cbc-4cb5-a04b-b4150727be21",
   "metadata": {},
   "outputs": [],
   "source": [
    "dados1['INTERNET'] = dados1['INTERNET'].replace({'A':'Nao', 'B':'Sim'})"
   ]
  },
  {
   "cell_type": "markdown",
   "id": "e238938d-955a-4b73-9457-efa38deaa2eb",
   "metadata": {},
   "source": [
    "## Análise Exploratória e Transformação dos Dados"
   ]
  },
  {
   "cell_type": "markdown",
   "id": "80b48e90-3fa7-4622-a92c-9f6fcf9b533b",
   "metadata": {
    "jp-MarkdownHeadingCollapsed": true
   },
   "source": [
    "### Análise das idades"
   ]
  },
  {
   "cell_type": "code",
   "execution_count": null,
   "id": "9f8edb22-efa4-46ed-84cf-d242f1111dd5",
   "metadata": {},
   "outputs": [],
   "source": [
    "dados1['IDADE'].value_counts()"
   ]
  },
  {
   "cell_type": "code",
   "execution_count": null,
   "id": "eda3070f-b5b6-4aa2-8ece-bc869757e5a5",
   "metadata": {},
   "outputs": [],
   "source": [
    "dados1['IDADE'].value_counts().sort_index()"
   ]
  },
  {
   "cell_type": "code",
   "execution_count": null,
   "id": "86b17e81-3083-4c33-aad0-0aa16d8509f4",
   "metadata": {},
   "outputs": [],
   "source": [
    "# Alguns valores estranhos e curiosos, como idades menores que 12 anos e maior de 80 anos"
   ]
  },
  {
   "cell_type": "code",
   "execution_count": null,
   "id": "ff711763-b933-4595-85dd-2404f215091f",
   "metadata": {},
   "outputs": [],
   "source": [
    "menores_12 = dados1.query('IDADE < 12')['NO_MUNICIPIO_RESIDENCIA'].value_counts()"
   ]
  },
  {
   "cell_type": "code",
   "execution_count": null,
   "id": "de79bb5e-0816-4238-a9d5-cc14092e2829",
   "metadata": {},
   "outputs": [],
   "source": [
    "menores_12"
   ]
  },
  {
   "cell_type": "code",
   "execution_count": null,
   "id": "b001d3e4-a8d6-4e35-8836-06f5f46b4dc9",
   "metadata": {},
   "outputs": [],
   "source": [
    "# removendo os dados com idades menores de 12 anos\n",
    "dados_maiores_11 = dados1.loc[dados1.IDADE > 11]"
   ]
  },
  {
   "cell_type": "code",
   "execution_count": null,
   "id": "27d78a47-753f-4ee4-870e-d3012a258269",
   "metadata": {},
   "outputs": [],
   "source": [
    "dados_maiores_11.head()"
   ]
  },
  {
   "cell_type": "code",
   "execution_count": null,
   "id": "ab5fbe97-1d80-4eb6-ab35-e5509fc611ea",
   "metadata": {},
   "outputs": [],
   "source": [
    "dados_maiores_11['IDADE'].value_counts().sort_index()"
   ]
  },
  {
   "cell_type": "markdown",
   "id": "afac5239-a235-403f-8a3a-b5eeb7e560e0",
   "metadata": {
    "jp-MarkdownHeadingCollapsed": true
   },
   "source": [
    "### Treineiros"
   ]
  },
  {
   "cell_type": "code",
   "execution_count": null,
   "id": "498cbcfd-2be6-4cec-a333-aaced1889c54",
   "metadata": {},
   "outputs": [],
   "source": [
    "dados_maiores_11.query('IN_TREINEIRO == 1')['IN_TREINEIRO'].value_counts()"
   ]
  },
  {
   "cell_type": "code",
   "execution_count": null,
   "id": "4aebfc87-a02d-4ffa-8bff-64d0678504fd",
   "metadata": {},
   "outputs": [],
   "source": [
    "treineiros = dados_maiores_11.loc[dados_maiores_11.IN_TREINEIRO == 1]"
   ]
  },
  {
   "cell_type": "code",
   "execution_count": null,
   "id": "b159a2f6-7532-4992-8eb5-93ff9295e5f6",
   "metadata": {},
   "outputs": [],
   "source": [
    "treineiros.head()"
   ]
  },
  {
   "cell_type": "code",
   "execution_count": null,
   "id": "1ffb09e6-3148-4cc5-a594-da6e0b17a892",
   "metadata": {},
   "outputs": [],
   "source": [
    "treineiros.to_csv('treineiros_enem_2019_sp.csv', encoding = 'iso-8859-1', index = False)"
   ]
  },
  {
   "cell_type": "code",
   "execution_count": null,
   "id": "1a1663b9-ae74-4657-9645-50dba4041ae1",
   "metadata": {},
   "outputs": [],
   "source": [
    "# Separação entre os treineiros e os vestibulandos\n",
    "vestibulandos = dados_maiores_11.loc[dados_maiores_11.IN_TREINEIRO == 0]"
   ]
  },
  {
   "cell_type": "code",
   "execution_count": null,
   "id": "ed4e79b7-9da4-4872-9f42-45102da9ba87",
   "metadata": {},
   "outputs": [],
   "source": [
    "vestibulandos.head()"
   ]
  },
  {
   "cell_type": "code",
   "execution_count": null,
   "id": "d837111d-d6d3-4d5a-b3fb-4a4b5f6c9701",
   "metadata": {},
   "outputs": [],
   "source": [
    "vestibulandos.shape"
   ]
  },
  {
   "cell_type": "markdown",
   "id": "e4af0d8a-86d5-4456-9382-dfcc299ccbe7",
   "metadata": {
    "jp-MarkdownHeadingCollapsed": true
   },
   "source": [
    "### Análise das presenças"
   ]
  },
  {
   "cell_type": "code",
   "execution_count": null,
   "id": "b855131f-9d4a-4097-9148-65ebfa65fe6a",
   "metadata": {},
   "outputs": [],
   "source": [
    "vestibulandos['TP_PRESENCA_CN'].value_counts()"
   ]
  },
  {
   "cell_type": "code",
   "execution_count": null,
   "id": "d0c4731e-81b1-4590-862b-a22854f5095f",
   "metadata": {},
   "outputs": [],
   "source": [
    "vestibulandos['TP_PRESENCA_CH'].value_counts()"
   ]
  },
  {
   "cell_type": "code",
   "execution_count": null,
   "id": "3ca6d2b8-d3c1-4eca-bade-7f23e2e2d3ef",
   "metadata": {},
   "outputs": [],
   "source": [
    "vestibulandos['TP_PRESENCA_LC'].value_counts()"
   ]
  },
  {
   "cell_type": "code",
   "execution_count": null,
   "id": "fd58b183-2d36-43d6-b529-3314bd171ac8",
   "metadata": {},
   "outputs": [],
   "source": [
    "vestibulandos['TP_PRESENCA_MT'].value_counts()"
   ]
  },
  {
   "cell_type": "code",
   "execution_count": null,
   "id": "fd8d5b66-5871-431a-a467-9e981b79871c",
   "metadata": {},
   "outputs": [],
   "source": [
    "vestibulandos['TP_STATUS_REDACAO'].value_counts().sort_index()"
   ]
  },
  {
   "cell_type": "markdown",
   "id": "e94dea14-7217-43a9-aaf6-8da9cda05d9b",
   "metadata": {
    "jp-MarkdownHeadingCollapsed": true
   },
   "source": [
    "### Valores Ausentes"
   ]
  },
  {
   "cell_type": "code",
   "execution_count": null,
   "id": "cf6a32b1-bbff-46d5-b3a6-f85b26ff8658",
   "metadata": {},
   "outputs": [],
   "source": [
    "vestibulandos['IDADE'].isnull().sum()"
   ]
  },
  {
   "cell_type": "code",
   "execution_count": null,
   "id": "e18f2226-c527-421e-8535-0958db51a87b",
   "metadata": {},
   "outputs": [],
   "source": [
    "provas = ['NOTA_REDACAO', 'NOTA_CN', 'NOTA_CH', 'NOTA_LC', 'NOTA_MT']"
   ]
  },
  {
   "cell_type": "code",
   "execution_count": null,
   "id": "4c7a726c-e3bc-47d2-a3be-e096e8fae3da",
   "metadata": {},
   "outputs": [],
   "source": [
    "# Registros NAN nas notas\n",
    "vestibulandos[provas].isnull().sum()"
   ]
  },
  {
   "cell_type": "code",
   "execution_count": null,
   "id": "2ae87c07-3b3e-4160-be30-c06a9d861b91",
   "metadata": {},
   "outputs": [],
   "source": [
    "vestibulandos_classificados = vestibulandos.loc[vestibulandos.TP_PRESENCA_CH == 1]\n",
    "vestibulandos_classificados = vestibulandos_classificados.loc[vestibulandos_classificados.TP_PRESENCA_MT == 1]"
   ]
  },
  {
   "cell_type": "code",
   "execution_count": null,
   "id": "32cb47f6-77d8-4c95-8c63-afb241aef098",
   "metadata": {},
   "outputs": [],
   "source": [
    "vestibulandos_classificados['TP_PRESENCA_MT'].value_counts()"
   ]
  },
  {
   "cell_type": "code",
   "execution_count": null,
   "id": "580fb52a-44db-4d7a-b0e7-9610488618e8",
   "metadata": {},
   "outputs": [],
   "source": [
    "vestibulandos_classificados['TP_PRESENCA_CH'].value_counts()"
   ]
  },
  {
   "cell_type": "code",
   "execution_count": null,
   "id": "b4c55fdb-aa16-4347-88e8-455faf7c78ba",
   "metadata": {},
   "outputs": [],
   "source": [
    "vestibulandos_classificados['TP_PRESENCA_CN'].value_counts()"
   ]
  },
  {
   "cell_type": "code",
   "execution_count": null,
   "id": "097339f5-dc7f-4e6c-8ce3-71b94ba2b0c4",
   "metadata": {},
   "outputs": [],
   "source": [
    "vestibulandos_classificados['TP_PRESENCA_LC'].value_counts()"
   ]
  },
  {
   "cell_type": "code",
   "execution_count": null,
   "id": "a287757b-2973-489c-811f-722f0d42d7bd",
   "metadata": {},
   "outputs": [],
   "source": [
    "vestibulandos_classificados[provas].isnull().sum()"
   ]
  },
  {
   "cell_type": "markdown",
   "id": "f116aa87-28b3-4dc4-899f-865bb2648780",
   "metadata": {},
   "source": [
    "### Notas zero na redação"
   ]
  },
  {
   "cell_type": "code",
   "execution_count": null,
   "id": "fe657e06-466f-4a99-8f41-f48420115f32",
   "metadata": {},
   "outputs": [],
   "source": [
    "vestibulandos_classificados.query('NOTA_REDACAO == 0')['NOTA_REDACAO'].value_counts()"
   ]
  },
  {
   "cell_type": "code",
   "execution_count": null,
   "id": "457842e3-bcf3-41f7-8b48-c6c66b039530",
   "metadata": {},
   "outputs": [],
   "source": [
    "vestibulandos_classificados.query('COMP1 == 0')['COMP1'].value_counts()"
   ]
  },
  {
   "cell_type": "code",
   "execution_count": null,
   "id": "80352cbd-13d9-452c-986c-247aceb9d1dd",
   "metadata": {},
   "outputs": [],
   "source": [
    "vestibulandos_classificados.query('COMP2 == 0')['COMP2'].value_counts()"
   ]
  },
  {
   "cell_type": "code",
   "execution_count": null,
   "id": "8552ac7c-9cf2-47d1-bbcf-bf9c8f32711e",
   "metadata": {},
   "outputs": [],
   "source": [
    "vestibulandos_classificados.query('COMP3 == 0')['COMP3'].value_counts()"
   ]
  },
  {
   "cell_type": "code",
   "execution_count": null,
   "id": "f661edba-4147-43c0-aec3-465616315a36",
   "metadata": {},
   "outputs": [],
   "source": [
    "vestibulandos_classificados.query('COMP4 == 0')['COMP4'].value_counts()"
   ]
  },
  {
   "cell_type": "code",
   "execution_count": null,
   "id": "04590d05-912e-4dc1-9760-c2246cfa3820",
   "metadata": {},
   "outputs": [],
   "source": [
    "vestibulandos_classificados.query('COMP5 == 0')['COMP5'].value_counts()"
   ]
  },
  {
   "cell_type": "code",
   "execution_count": null,
   "id": "53e0654f-2109-40e5-8dbe-a3e918338fcd",
   "metadata": {},
   "outputs": [],
   "source": [
    "# Componente 5 é um ponto fraco da redação"
   ]
  },
  {
   "cell_type": "code",
   "execution_count": null,
   "id": "9954578f-9945-4ea5-9b06-98040a274ac0",
   "metadata": {},
   "outputs": [],
   "source": [
    "vestibulandos_classificados.query('NOTA_CH == 0')['NOTA_CH'].value_counts()"
   ]
  },
  {
   "cell_type": "code",
   "execution_count": null,
   "id": "6e8f9210-e90c-4cca-b505-b51510740a7f",
   "metadata": {},
   "outputs": [],
   "source": [
    "vestibulandos_classificados.query('NOTA_CN == 0')['NOTA_CN'].value_counts()"
   ]
  },
  {
   "cell_type": "code",
   "execution_count": null,
   "id": "71977241-d68f-415d-bef4-aebfc739bb1b",
   "metadata": {},
   "outputs": [],
   "source": [
    "vestibulandos_classificados.query('NOTA_LC == 0')['NOTA_LC'].value_counts()"
   ]
  },
  {
   "cell_type": "code",
   "execution_count": null,
   "id": "4c134f48-1579-4cbf-929f-a2aff7a3fc75",
   "metadata": {},
   "outputs": [],
   "source": [
    "vestibulandos_classificados.query('NOTA_MT == 0')['NOTA_MT'].value_counts()"
   ]
  },
  {
   "cell_type": "code",
   "execution_count": null,
   "id": "ad24b256-8cfb-4570-a907-3b1045064ecd",
   "metadata": {},
   "outputs": [],
   "source": [
    "vestibulandos_classificados.head()"
   ]
  },
  {
   "cell_type": "code",
   "execution_count": null,
   "id": "43ec8576-ebe0-4b56-9d7a-e3b00a769cb1",
   "metadata": {},
   "outputs": [],
   "source": [
    "vestibulandos_classificados = vestibulandos_classificados.drop(columns=['IN_TREINEIRO'])"
   ]
  },
  {
   "cell_type": "code",
   "execution_count": null,
   "id": "ae9e01fc-9337-4184-a07b-ed8e6ddc29d1",
   "metadata": {},
   "outputs": [],
   "source": [
    "vestibulandos_classificados.shape"
   ]
  },
  {
   "cell_type": "markdown",
   "id": "e271b48b-2523-4d9f-91b4-372d6accba08",
   "metadata": {},
   "source": [
    "## Salvando (Exportando) o Dataframe tratado"
   ]
  },
  {
   "cell_type": "code",
   "execution_count": null,
   "id": "27119aec-c3d4-4af7-8260-305a2534249d",
   "metadata": {},
   "outputs": [],
   "source": [
    "vestibulandos_classificados.to_csv('enem_2019_tratado.csv', encoding = 'iso-8859-1', index = False)"
   ]
  },
  {
   "cell_type": "code",
   "execution_count": null,
   "id": "4a8eda14-70bc-4d70-9175-ebeab952431b",
   "metadata": {},
   "outputs": [],
   "source": []
  }
 ],
 "metadata": {
  "kernelspec": {
   "display_name": "Python 3 (ipykernel)",
   "language": "python",
   "name": "python3"
  },
  "language_info": {
   "codemirror_mode": {
    "name": "ipython",
    "version": 3
   },
   "file_extension": ".py",
   "mimetype": "text/x-python",
   "name": "python",
   "nbconvert_exporter": "python",
   "pygments_lexer": "ipython3",
   "version": "3.12.7"
  }
 },
 "nbformat": 4,
 "nbformat_minor": 5
}
