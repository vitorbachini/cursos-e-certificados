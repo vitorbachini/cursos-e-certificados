{
 "cells": [
  {
   "cell_type": "markdown",
   "id": "0360f275-9227-4d49-a14d-2f14c7822833",
   "metadata": {},
   "source": [
    "# 04-Fundamentos da Estatística Inferencial para Análise de Dados"
   ]
  },
  {
   "cell_type": "markdown",
   "id": "2d1f9ef7-b5c0-410f-b1f6-86f2b02c0fc2",
   "metadata": {
    "jp-MarkdownHeadingCollapsed": true
   },
   "source": [
    "## Teste Z para uma Amostra"
   ]
  },
  {
   "cell_type": "code",
   "execution_count": null,
   "id": "08c7c63f-effd-4ae6-854d-8622c09f1222",
   "metadata": {},
   "outputs": [],
   "source": [
    "import numpy as np \n",
    "import pandas as pd\n",
    "enem_sp = pd.read_csv('./enem_2019_tratado.csv', sep=',', encoding='iso-8859-1')"
   ]
  },
  {
   "cell_type": "code",
   "execution_count": null,
   "id": "26300bbe-5985-44fb-afb3-726a179797db",
   "metadata": {},
   "outputs": [],
   "source": [
    "colegiox = enem_sp.loc[enem_sp.CO_ESCOLA == 35017632.0]"
   ]
  },
  {
   "cell_type": "code",
   "execution_count": null,
   "id": "7e6c2bef-fedd-45d7-97ef-cc18fdff5903",
   "metadata": {},
   "outputs": [],
   "source": [
    "colegiox.shape"
   ]
  },
  {
   "cell_type": "markdown",
   "id": "7b6d42fc-9908-4676-a111-c8e8644022ee",
   "metadata": {
    "jp-MarkdownHeadingCollapsed": true
   },
   "source": [
    "### 1. Analisar a classificação das variáveis"
   ]
  },
  {
   "cell_type": "code",
   "execution_count": null,
   "id": "f4b49612-9d5b-4a08-b417-27d344c9edff",
   "metadata": {},
   "outputs": [],
   "source": [
    "colegiox.dtypes"
   ]
  },
  {
   "cell_type": "markdown",
   "id": "2d9f9ff1-f40b-46b6-b16f-217ab1298adc",
   "metadata": {
    "jp-MarkdownHeadingCollapsed": true
   },
   "source": [
    "### 2. Analisar valores missing"
   ]
  },
  {
   "cell_type": "code",
   "execution_count": null,
   "id": "3149130e-b1ee-4909-8f43-8bc221cf250f",
   "metadata": {},
   "outputs": [],
   "source": [
    "colegiox.isnull().sum()"
   ]
  },
  {
   "cell_type": "markdown",
   "id": "c410c80c-834a-4841-9977-1ed43612db93",
   "metadata": {
    "jp-MarkdownHeadingCollapsed": true
   },
   "source": [
    "### 3. Analisar outliers"
   ]
  },
  {
   "cell_type": "code",
   "execution_count": null,
   "id": "4a987de4-b203-493f-a278-cf1cf96db22f",
   "metadata": {},
   "outputs": [],
   "source": [
    "import plotly.express as px"
   ]
  },
  {
   "cell_type": "code",
   "execution_count": null,
   "id": "03dc5f1a-5e00-41a3-8d97-6ed40e4a5358",
   "metadata": {},
   "outputs": [],
   "source": [
    "grafico = px.box(colegiox, y='NOTA_REDACAO')\n",
    "grafico.show()"
   ]
  },
  {
   "cell_type": "markdown",
   "id": "aebad8a1-9681-4e98-a5f6-11bf053e1e72",
   "metadata": {
    "jp-MarkdownHeadingCollapsed": true
   },
   "source": [
    "### 4. Analisar Normalidade"
   ]
  },
  {
   "cell_type": "code",
   "execution_count": null,
   "id": "27002fb0-79d0-406c-940b-364ce5d9d6a7",
   "metadata": {},
   "outputs": [],
   "source": [
    "import seaborn as sns"
   ]
  },
  {
   "cell_type": "code",
   "execution_count": null,
   "id": "61bdb429-d994-4e7c-b0ab-91efdc48d5bb",
   "metadata": {},
   "outputs": [],
   "source": [
    "sns.histplot(colegiox, x='NOTA_REDACAO', bins=10, color='orange', kde=True, stat='probability')"
   ]
  },
  {
   "cell_type": "code",
   "execution_count": null,
   "id": "2c04cc6f-8c0c-4d5e-b83c-b0fb2e007286",
   "metadata": {},
   "outputs": [],
   "source": [
    "import scipy.stats as stats\n",
    "import matplotlib.pyplot as plt"
   ]
  },
  {
   "cell_type": "code",
   "execution_count": null,
   "id": "8b923275-e2c5-43f1-9f0e-103ab4bc83f4",
   "metadata": {},
   "outputs": [],
   "source": [
    "stats.probplot(colegiox.NOTA_REDACAO, dist='norm', plot=plt)\n",
    "plt.title('Normal QQPlot')\n",
    "plt.show()"
   ]
  },
  {
   "cell_type": "code",
   "execution_count": null,
   "id": "692c3daf-bb9b-4e13-aea6-e3ec3af73dba",
   "metadata": {},
   "outputs": [],
   "source": [
    "# Teste Shapiro-Wilk\n",
    "stats.shapiro(colegiox.NOTA_REDACAO)"
   ]
  },
  {
   "cell_type": "code",
   "execution_count": null,
   "id": "35687136-27d6-4e0d-8468-59d95c4fe11e",
   "metadata": {},
   "outputs": [],
   "source": [
    "# p valor > 0,05 -> indica que a distribuição é normal"
   ]
  },
  {
   "cell_type": "markdown",
   "id": "fa937dbf-705e-4d19-83f4-3527d2754ea3",
   "metadata": {
    "jp-MarkdownHeadingCollapsed": true
   },
   "source": [
    "### Teste Z"
   ]
  },
  {
   "cell_type": "markdown",
   "id": "caa8bfb8-9d87-4501-8422-5be8a925fd00",
   "metadata": {},
   "source": [
    "Média das notas do colégio X, comparada a média do estado de São Paulo."
   ]
  },
  {
   "cell_type": "markdown",
   "id": "2769c60e-2fd3-4d0e-ac88-30706ac6835f",
   "metadata": {},
   "source": [
    "H0 = média é igual a de São Paulo: p > 0.05\n",
    "\n",
    "Ha = média é diferente da de São Paulo: p <= 0.05"
   ]
  },
  {
   "cell_type": "code",
   "execution_count": null,
   "id": "04778467-b3c4-401d-8d8a-30e6233a97fa",
   "metadata": {},
   "outputs": [],
   "source": [
    "from statsmodels.stats.weightstats import ztest"
   ]
  },
  {
   "cell_type": "code",
   "execution_count": null,
   "id": "150506cb-2e14-476a-b604-414d9db6b0af",
   "metadata": {},
   "outputs": [],
   "source": [
    "enem_sp.NOTA_REDACAO.describe()"
   ]
  },
  {
   "cell_type": "code",
   "execution_count": null,
   "id": "30489625-f635-4a5d-93e3-63f68e752c08",
   "metadata": {},
   "outputs": [],
   "source": [
    "# a média da nota de redação de são paulo é 593.018322"
   ]
  },
  {
   "cell_type": "code",
   "execution_count": null,
   "id": "6c13bff0-ef2c-437c-878b-1356e894eb8a",
   "metadata": {},
   "outputs": [],
   "source": [
    "stat, p = ztest(colegiox.NOTA_REDACAO, value = 593.018322)\n",
    "print('Estatística do teste: {}'.format(stat.round(2)))\n",
    "print('p-valor: {}'.format(p))"
   ]
  },
  {
   "cell_type": "markdown",
   "id": "0432cfaf-4b05-470b-b2d3-5d8ca388de98",
   "metadata": {},
   "source": [
    "#### Conclusão:\n",
    "\n",
    "Hipótese alternativa é verdadeira. A média do colégio X é diferente do estado de São Paulo, com intervalo de confiança de 95%."
   ]
  },
  {
   "cell_type": "markdown",
   "id": "9c2d0f1c-ff1c-4f6f-b5c1-4db362a75f61",
   "metadata": {
    "jp-MarkdownHeadingCollapsed": true
   },
   "source": [
    "## Teste T para uma Amostra"
   ]
  },
  {
   "cell_type": "code",
   "execution_count": null,
   "id": "55973c05-4e0b-4605-a682-0431fa17b0b5",
   "metadata": {},
   "outputs": [],
   "source": [
    "import numpy as np \n",
    "import pandas as pd\n",
    "enem_sp = pd.read_csv('./enem_2019_tratado.csv', sep=',', encoding='iso-8859-1')"
   ]
  },
  {
   "cell_type": "code",
   "execution_count": null,
   "id": "c752db3e-d402-4085-9ad2-afe9d54c1ba1",
   "metadata": {},
   "outputs": [],
   "source": [
    "colegioy = enem_sp.loc[enem_sp.CO_ESCOLA == 35151506.0]"
   ]
  },
  {
   "cell_type": "code",
   "execution_count": null,
   "id": "5fc2c77e-aa71-4e2d-8eec-1bd847d885b8",
   "metadata": {},
   "outputs": [],
   "source": [
    "colegioy.shape"
   ]
  },
  {
   "cell_type": "code",
   "execution_count": null,
   "id": "a95c119c-75e1-47ef-9357-e6a91aed8fca",
   "metadata": {},
   "outputs": [],
   "source": [
    "colegioy.dtypes"
   ]
  },
  {
   "cell_type": "code",
   "execution_count": null,
   "id": "0425defa-31e5-4ca4-88cf-29c292b9ab00",
   "metadata": {},
   "outputs": [],
   "source": [
    "colegioy.isnull().sum()"
   ]
  },
  {
   "cell_type": "code",
   "execution_count": null,
   "id": "e88cb256-3f6b-4a0f-8404-8d9b35caa4c7",
   "metadata": {},
   "outputs": [],
   "source": [
    "grafico = px.box(colegioy, y='NOTA_REDACAO')\n",
    "grafico.show()"
   ]
  },
  {
   "cell_type": "code",
   "execution_count": null,
   "id": "b4482a8d-04cc-4d3e-847f-e6b08384dcab",
   "metadata": {},
   "outputs": [],
   "source": [
    "sns.histplot(colegioy, x='NOTA_REDACAO', bins=10, color='orange', kde=True, stat='probability')"
   ]
  },
  {
   "cell_type": "code",
   "execution_count": null,
   "id": "3f8f9336-7fba-4093-8273-578f0a2a546c",
   "metadata": {},
   "outputs": [],
   "source": [
    "stats.probplot(colegioy.NOTA_REDACAO, dist='norm', plot=plt)\n",
    "plt.title('Normal QQPlot')\n",
    "plt.show()"
   ]
  },
  {
   "cell_type": "code",
   "execution_count": null,
   "id": "336ed4d1-0865-4381-82d0-1389923efc84",
   "metadata": {},
   "outputs": [],
   "source": [
    "# Teste Shapiro-Wilk\n",
    "stats.shapiro(colegioy.NOTA_REDACAO)"
   ]
  },
  {
   "cell_type": "code",
   "execution_count": null,
   "id": "903f5088-b447-448d-abec-c1baf8c95eea",
   "metadata": {},
   "outputs": [],
   "source": [
    "# Teste Lilliefors\n",
    "import statsmodels\n",
    "from statsmodels.stats.diagnostic import lilliefors\n",
    "\n",
    "statsmodels.stats.diagnostic.lilliefors(colegioy.NOTA_REDACAO, dist='norm')"
   ]
  },
  {
   "cell_type": "code",
   "execution_count": null,
   "id": "ab1a63f8-99c3-43c4-be7b-db8e4f3d82ee",
   "metadata": {},
   "outputs": [],
   "source": [
    "# Teste Anderson-Darling\n",
    "stats.anderson(colegioy.NOTA_REDACAO, 'norm')"
   ]
  },
  {
   "cell_type": "markdown",
   "id": "d3d262d0-f852-4c88-b29a-2453e77b5c96",
   "metadata": {},
   "source": [
    "### Teste t"
   ]
  },
  {
   "cell_type": "markdown",
   "id": "30e35408-38a1-4fbd-bdb7-3db6081a0606",
   "metadata": {},
   "source": [
    "Média das notas do colégio Y, comparada a média do Estado de São Paulo"
   ]
  },
  {
   "cell_type": "markdown",
   "id": "620f394a-d876-4587-b07d-012c738427ff",
   "metadata": {},
   "source": [
    "H0 = média é igual a de São Paulo: p > 0.05\n",
    "\n",
    "Ha = média é diferente da de São Paulo: p <= 0.05"
   ]
  },
  {
   "cell_type": "code",
   "execution_count": null,
   "id": "1d4aa502-d7cb-40ca-963c-90743747a636",
   "metadata": {},
   "outputs": [],
   "source": [
    "enem_sp.NOTA_REDACAO.describe()"
   ]
  },
  {
   "cell_type": "code",
   "execution_count": null,
   "id": "7fb6a9fc-4683-4fd9-b630-e4e0bce04575",
   "metadata": {},
   "outputs": [],
   "source": [
    "# Média nota redação SP -> mean        593.018322"
   ]
  },
  {
   "cell_type": "code",
   "execution_count": null,
   "id": "dbdec0bc-2142-4bff-92e2-a9935ca7de30",
   "metadata": {},
   "outputs": [],
   "source": [
    "import scipy.stats as stats\n",
    "\n",
    "stat, p = stats.ttest_1samp(colegioy.NOTA_REDACAO, popmean = 593.018)\n",
    "print('Estatística do teste: {}'.format(stat.round(2)))\n",
    "print('p-valor: {}'.format(p))"
   ]
  },
  {
   "cell_type": "markdown",
   "id": "84b6030a-830c-4703-8ff9-044c8200060e",
   "metadata": {},
   "source": [
    "#### Interpretação:\n",
    "\n",
    "Teste estatístico: t = 7.18\n",
    "\n",
    "p-valor = 6.72e-08\n",
    "\n",
    "Conclusão: Estatisticamente, a média de redação do colégio y é diferente da média do estado de São Paulo, com intervalo de confiança de 95%."
   ]
  },
  {
   "cell_type": "markdown",
   "id": "fc14cc21-153e-4cbf-967e-2c6a68792e11",
   "metadata": {
    "jp-MarkdownHeadingCollapsed": true
   },
   "source": [
    "## Correlação Linear"
   ]
  },
  {
   "cell_type": "code",
   "execution_count": null,
   "id": "ea10d99c-7212-47e0-84ec-445999363ac7",
   "metadata": {},
   "outputs": [],
   "source": [
    "import numpy as np \n",
    "import pandas as pd\n",
    "enem_sp = pd.read_csv('./enem_2019_tratado.csv', sep=',', encoding='iso-8859-1')"
   ]
  },
  {
   "cell_type": "code",
   "execution_count": null,
   "id": "e486e3be-f04e-4245-99d9-c9c304b044ab",
   "metadata": {},
   "outputs": [],
   "source": [
    "colegiox = enem_sp.loc[enem_sp.CO_ESCOLA == 35017632.0]\n",
    "colegiox.shape"
   ]
  },
  {
   "cell_type": "code",
   "execution_count": null,
   "id": "7151796f-8983-4261-a9f3-94ada30509b6",
   "metadata": {},
   "outputs": [],
   "source": [
    "# Lista com nota final\n",
    "nota_final = ['NOTA_CN', 'NOTA_CH', 'NOTA_MT', 'NOTA_LC', 'NOTA_REDACAO']"
   ]
  },
  {
   "cell_type": "code",
   "execution_count": null,
   "id": "d4bc466a-9631-4a33-9571-c48eb0405f1b",
   "metadata": {},
   "outputs": [],
   "source": [
    "colegiox['nota_final'] = (colegiox[nota_final].mean(axis=1))"
   ]
  },
  {
   "cell_type": "code",
   "execution_count": null,
   "id": "7146f2b2-52e9-4499-9ff7-d32dc28da128",
   "metadata": {},
   "outputs": [],
   "source": [
    "colegiox.head()"
   ]
  },
  {
   "cell_type": "code",
   "execution_count": null,
   "id": "e457c69e-26eb-4d2d-b419-1e59e43ab508",
   "metadata": {},
   "outputs": [],
   "source": [
    "notas_colegiox = colegiox[['NOTA_CN', 'NOTA_CH', 'NOTA_MT', 'NOTA_LC', 'NOTA_REDACAO', 'nota_final']]"
   ]
  },
  {
   "cell_type": "code",
   "execution_count": null,
   "id": "4c9023ec-810f-4b66-b66b-835b425a6383",
   "metadata": {},
   "outputs": [],
   "source": [
    "notas_colegiox"
   ]
  },
  {
   "cell_type": "markdown",
   "id": "d3769df0-4734-4d7e-bd97-8c674c2dcb66",
   "metadata": {
    "jp-MarkdownHeadingCollapsed": true
   },
   "source": [
    "### Gráfico Correlação"
   ]
  },
  {
   "cell_type": "code",
   "execution_count": null,
   "id": "4c0232da-39bd-45bb-9da7-abdf3ac7cc1f",
   "metadata": {},
   "outputs": [],
   "source": [
    "import seaborn as sns\n",
    "sns.pairplot(notas_colegiox)"
   ]
  },
  {
   "cell_type": "code",
   "execution_count": null,
   "id": "d0cdabd0-8149-496d-bfa0-3019f8f2563b",
   "metadata": {},
   "outputs": [],
   "source": [
    "import matplotlib.pyplot as plt"
   ]
  },
  {
   "cell_type": "code",
   "execution_count": null,
   "id": "277ddbe6-77c1-453a-bc53-5b0390449ec3",
   "metadata": {},
   "outputs": [],
   "source": [
    "plt.scatter(notas_colegiox.NOTA_REDACAO, notas_colegiox.nota_final)\n",
    "plt.title('Correlação')\n",
    "plt.xlabel('Nota Redação')\n",
    "plt.ylabel('Nota final')\n",
    "plt.grid(True)\n",
    "plt.show()"
   ]
  },
  {
   "cell_type": "code",
   "execution_count": null,
   "id": "65c6fee1-edca-4232-9a86-9e63a007e663",
   "metadata": {},
   "outputs": [],
   "source": [
    "correlacoes = notas_colegiox.corr(method='pearson')\n",
    "correlacoes"
   ]
  },
  {
   "cell_type": "code",
   "execution_count": null,
   "id": "087bc123-6b5c-4cce-9f4a-fc1073702b1e",
   "metadata": {},
   "outputs": [],
   "source": [
    "correlacoes2 = notas_colegiox.corr(method='spearman')\n",
    "correlacoes2"
   ]
  },
  {
   "cell_type": "code",
   "execution_count": null,
   "id": "f3655bc1-1e0d-49f3-a5bd-9f253c5ffae3",
   "metadata": {},
   "outputs": [],
   "source": [
    "plt.figure()\n",
    "sns.heatmap(correlacoes, annot=False);"
   ]
  },
  {
   "cell_type": "markdown",
   "id": "0f52f85f-8baf-4aa1-8217-659dcc38aa07",
   "metadata": {
    "jp-MarkdownHeadingCollapsed": true
   },
   "source": [
    "### Análise da Normalidade"
   ]
  },
  {
   "cell_type": "code",
   "execution_count": null,
   "id": "00337316-c7d1-4f42-9a54-4ada22ea4b1a",
   "metadata": {},
   "outputs": [],
   "source": [
    "# Teste Shapiro-Wilk\n",
    "# H0 = distribuição normal: p > 0.05\n",
    "# Ha = distribuição != normal: p <= 0.05"
   ]
  },
  {
   "cell_type": "code",
   "execution_count": null,
   "id": "b469513f-09c6-4572-b2b3-0e21b057cd65",
   "metadata": {},
   "outputs": [],
   "source": [
    "import scipy.stats as stats"
   ]
  },
  {
   "cell_type": "code",
   "execution_count": null,
   "id": "c45d5ae4-de67-4222-8d67-0481dd817948",
   "metadata": {},
   "outputs": [],
   "source": [
    "# Nota Redação -> normal\n",
    "stats.shapiro(notas_colegiox.NOTA_REDACAO)"
   ]
  },
  {
   "cell_type": "code",
   "execution_count": null,
   "id": "0cd5440c-6409-4d97-888b-d46055e13496",
   "metadata": {},
   "outputs": [],
   "source": [
    "# Nota Final -> normal\n",
    "stats.shapiro(notas_colegiox.nota_final)"
   ]
  },
  {
   "cell_type": "code",
   "execution_count": null,
   "id": "5ec37754-4fed-4b95-a058-04bc8f6a3a82",
   "metadata": {},
   "outputs": [],
   "source": [
    "# Nota Matemática -> não normal\n",
    "stats.shapiro(notas_colegiox.NOTA_MT)"
   ]
  },
  {
   "cell_type": "code",
   "execution_count": null,
   "id": "71219bc9-450f-4137-a568-4cd41755ea92",
   "metadata": {},
   "outputs": [],
   "source": [
    "# Nota Ciências da Natureza -> não normal\n",
    "stats.shapiro(notas_colegiox.NOTA_CN)"
   ]
  },
  {
   "cell_type": "code",
   "execution_count": null,
   "id": "41eead54-eedf-4993-b43d-7d13133921e5",
   "metadata": {},
   "outputs": [],
   "source": [
    "# Nota Linguagens e Códigos -> não normal\n",
    "stats.shapiro(notas_colegiox.NOTA_LC)"
   ]
  },
  {
   "cell_type": "code",
   "execution_count": null,
   "id": "5d46fb88-60a7-4f19-be66-14a8da407cfc",
   "metadata": {},
   "outputs": [],
   "source": [
    "# Nota Ciências Humanas -> não normal\n",
    "stats.shapiro(notas_colegiox.NOTA_CH)"
   ]
  },
  {
   "cell_type": "code",
   "execution_count": null,
   "id": "12c9b70a-4ef9-4845-a4a9-a7ac713d01de",
   "metadata": {},
   "outputs": [],
   "source": [
    "stats.probplot(notas_colegiox.NOTA_REDACAO, dist='norm', plot=plt)\n",
    "plt.title('Normal QQPlot')\n",
    "plt.show()"
   ]
  },
  {
   "cell_type": "markdown",
   "id": "6453c155-08e5-49b8-bd15-e43b35b34f9d",
   "metadata": {
    "jp-MarkdownHeadingCollapsed": true
   },
   "source": [
    "### Análise Outliers"
   ]
  },
  {
   "cell_type": "code",
   "execution_count": null,
   "id": "0e3b17c1-c766-4e5b-9fa8-47b4d6fda37d",
   "metadata": {},
   "outputs": [],
   "source": [
    "import plotly.express as px"
   ]
  },
  {
   "cell_type": "code",
   "execution_count": null,
   "id": "352967e1-6e7d-4dde-804e-f36d96400870",
   "metadata": {},
   "outputs": [],
   "source": [
    "grafico = px.box(notas_colegiox, y='NOTA_REDACAO')\n",
    "grafico.show()"
   ]
  },
  {
   "cell_type": "code",
   "execution_count": null,
   "id": "fdb8a799-0fbb-4ef4-bcc2-f65379a987e3",
   "metadata": {},
   "outputs": [],
   "source": [
    "grafico = px.box(notas_colegiox, y='NOTA_MT')\n",
    "grafico.show()"
   ]
  },
  {
   "cell_type": "code",
   "execution_count": null,
   "id": "d562d7ff-dc9d-4150-88cc-937d601ef2d8",
   "metadata": {},
   "outputs": [],
   "source": [
    "grafico = px.box(notas_colegiox, y='NOTA_CN')\n",
    "grafico.show()"
   ]
  },
  {
   "cell_type": "code",
   "execution_count": null,
   "id": "226c6223-112a-40bb-bb90-9ed9f69dba82",
   "metadata": {},
   "outputs": [],
   "source": [
    "grafico = px.box(notas_colegiox, y='NOTA_CH')\n",
    "grafico.show()"
   ]
  },
  {
   "cell_type": "code",
   "execution_count": null,
   "id": "0360deb4-e3ad-485f-9f24-6740e828b08a",
   "metadata": {},
   "outputs": [],
   "source": [
    "grafico = px.box(notas_colegiox, y='NOTA_LC')\n",
    "grafico.show()"
   ]
  },
  {
   "cell_type": "code",
   "execution_count": null,
   "id": "ce342141-6892-4880-bf64-5d51800f3e67",
   "metadata": {},
   "outputs": [],
   "source": [
    "grafico = px.box(notas_colegiox, y='nota_final')\n",
    "grafico.show()"
   ]
  },
  {
   "cell_type": "markdown",
   "id": "6d515dd5-f27e-44e0-8701-f655a7d3aeba",
   "metadata": {
    "jp-MarkdownHeadingCollapsed": true
   },
   "source": [
    "## Regressão Linear"
   ]
  },
  {
   "cell_type": "markdown",
   "id": "0b669d05-2967-4059-9832-c354e7d4f508",
   "metadata": {
    "jp-MarkdownHeadingCollapsed": true
   },
   "source": [
    "### Regressão Linear com Statsmodels"
   ]
  },
  {
   "cell_type": "code",
   "execution_count": null,
   "id": "329c17ea-4666-4d78-b515-74f0cc342e9d",
   "metadata": {},
   "outputs": [],
   "source": [
    "import statsmodels.formula.api as smf\n",
    "import statsmodels.stats.api as sms"
   ]
  },
  {
   "cell_type": "code",
   "execution_count": null,
   "id": "fe0f9e66-cd44-49f3-a0f0-ab1d48cbdd01",
   "metadata": {},
   "outputs": [],
   "source": [
    "regressao = smf.ols('nota_final ~ NOTA_REDACAO', data=notas_colegiox).fit()\n",
    "print(regressao.summary())"
   ]
  },
  {
   "cell_type": "code",
   "execution_count": null,
   "id": "d73bfc10-a37d-4244-bf38-9a15fa69069a",
   "metadata": {},
   "outputs": [],
   "source": [
    "coefs = pd.DataFrame(regressao.params)\n",
    "coefs.columns = ['Coeficientes']\n",
    "print(coefs)"
   ]
  },
  {
   "cell_type": "markdown",
   "id": "c39850c9-cfab-40fe-a853-c3452662e333",
   "metadata": {},
   "source": [
    "#### Equação:\n",
    "Nota final = 251,678855 + 0,362749xNotaRedação"
   ]
  },
  {
   "cell_type": "code",
   "execution_count": null,
   "id": "695cc0a4-1436-488a-b1e2-e00febb3afcd",
   "metadata": {},
   "outputs": [],
   "source": [
    "notas_colegiox.head()"
   ]
  },
  {
   "cell_type": "code",
   "execution_count": null,
   "id": "66ed9c75-305c-4d15-af02-24f6bec46bbf",
   "metadata": {},
   "outputs": [],
   "source": [
    "regressao.predict()"
   ]
  },
  {
   "cell_type": "code",
   "execution_count": null,
   "id": "ec9076fc-22fe-41c8-92ed-e68b8742a773",
   "metadata": {},
   "outputs": [],
   "source": [
    "residuos = regressao.resid\n",
    "residuos # resíduo é a distância que o ponto está da reta ajustada"
   ]
  },
  {
   "cell_type": "code",
   "execution_count": null,
   "id": "bf5cb1f8-bf3b-4e5b-862c-cc1a1fb739f1",
   "metadata": {},
   "outputs": [],
   "source": [
    "plt.scatter(y=notas_colegiox.nota_final, x=notas_colegiox.NOTA_REDACAO, color='blue', s=50, alpha=.3) # s=tamanho do ponto, alpha=intensidade da cor\n",
    "X_plot = np.linspace(min(notas_colegiox.NOTA_REDACAO), max(notas_colegiox.NOTA_REDACAO), len(notas_colegiox.NOTA_REDACAO))\n",
    "# X_plot = np.linspace(0, 1000)\n",
    "plt.plot(X_plot, X_plot*regressao.params[1] + regressao.params[0], color='r') # equação\n",
    "plt.title('Reta de Regressão')\n",
    "plt.ylabel('Nota Final')\n",
    "plt.xlabel('Nota Redação')\n",
    "plt.show()"
   ]
  },
  {
   "cell_type": "markdown",
   "id": "2cd30221-9f1b-49a5-8b1e-b7ab8fa5ec03",
   "metadata": {},
   "source": [
    "#### Teste de Normalidade dos resíduos"
   ]
  },
  {
   "cell_type": "code",
   "execution_count": null,
   "id": "5135da3a-b1d5-48be-ae6b-5a979da9cd46",
   "metadata": {},
   "outputs": [],
   "source": [
    "# Vamos validar a regressão"
   ]
  },
  {
   "cell_type": "code",
   "execution_count": null,
   "id": "45ede4ef-43ac-4317-8975-4f42c7687458",
   "metadata": {},
   "outputs": [],
   "source": [
    "# Resíduos da nota redação -> os resíduos têm uma distribuição normal\n",
    "stats.shapiro(residuos)"
   ]
  },
  {
   "cell_type": "code",
   "execution_count": null,
   "id": "91ea11fa-c30f-4ba1-b020-cba4cba102f5",
   "metadata": {},
   "outputs": [],
   "source": [
    "stats.probplot(residuos, dist='norm', plot=plt)\n",
    "plt.title('Normal QQPlot - Resíduos')\n",
    "plt.show()"
   ]
  },
  {
   "cell_type": "markdown",
   "id": "d9136839-883b-46cb-b89e-c926fa950e50",
   "metadata": {},
   "source": [
    "#### Análise da Homocedasticidade dos resíduos\n",
    "(resíduos com variação constante)"
   ]
  },
  {
   "cell_type": "code",
   "execution_count": null,
   "id": "7527fe15-f52f-44b1-bcef-c9e982a804a0",
   "metadata": {},
   "outputs": [],
   "source": [
    "plt.scatter(y=residuos, x=regressao.predict(), color='red')\n",
    "plt.hlines(y=0, xmin=320, xmax=530, color='orange')\n",
    "plt.ylabel('Residuos')\n",
    "plt.xlabel('Valores Preditos')\n",
    "plt.show()"
   ]
  },
  {
   "cell_type": "code",
   "execution_count": null,
   "id": "f7d030d6-06ab-4686-a425-1a3461c4c313",
   "metadata": {},
   "outputs": [],
   "source": [
    "# Tanto a Normalidade quanto a Homocedasticidade dos resíduos servem para validar a equação de regressão"
   ]
  },
  {
   "cell_type": "markdown",
   "id": "bf9a36f4-b073-45d4-ae56-c538d5f45d95",
   "metadata": {
    "jp-MarkdownHeadingCollapsed": true
   },
   "source": [
    "### Regressão com ScikitLearn"
   ]
  },
  {
   "cell_type": "code",
   "execution_count": null,
   "id": "99d72f2c-102e-4929-8b0e-bf326409c713",
   "metadata": {},
   "outputs": [],
   "source": [
    "x = notas_colegiox.iloc[:, 4].values\n",
    "y = notas_colegiox.iloc[:, 5].values # 4 e 5 são os índices 4 = NOTA_REDACAO, 5 = nota_final"
   ]
  },
  {
   "cell_type": "code",
   "execution_count": null,
   "id": "911e75d2-7eab-4ea1-a9b3-1e7917387005",
   "metadata": {},
   "outputs": [],
   "source": [
    "correlacao_sk = np.corrcoef(x,y)\n",
    "correlacao_sk"
   ]
  },
  {
   "cell_type": "code",
   "execution_count": null,
   "id": "aa6af9e2-600f-4245-b02b-a2865f757a94",
   "metadata": {},
   "outputs": [],
   "source": [
    "x = x.reshape(-1, 1) # transformando em matriz"
   ]
  },
  {
   "cell_type": "code",
   "execution_count": null,
   "id": "8647d3a0-a5ea-47e2-9280-45e0c998747f",
   "metadata": {},
   "outputs": [],
   "source": [
    "from sklearn.linear_model import LinearRegression\n",
    "regressao2 = LinearRegression()\n",
    "regressao2.fit(x,y)"
   ]
  },
  {
   "cell_type": "code",
   "execution_count": null,
   "id": "9fdb22a3-43f7-4a23-bbca-1d059306f5c7",
   "metadata": {},
   "outputs": [],
   "source": [
    "regressao2.intercept_"
   ]
  },
  {
   "cell_type": "code",
   "execution_count": null,
   "id": "d1217c55-a0ee-4025-a8aa-48ab7e098c36",
   "metadata": {},
   "outputs": [],
   "source": [
    "regressao2.coef_"
   ]
  },
  {
   "cell_type": "code",
   "execution_count": null,
   "id": "2ba05420-e08e-4712-8f87-391ef67315fe",
   "metadata": {},
   "outputs": [],
   "source": [
    "# Coeficiente de Determinação\n",
    "regressao2.score(x,y)"
   ]
  },
  {
   "cell_type": "code",
   "execution_count": null,
   "id": "a1a211ff-e895-4b23-8572-b61bba6fa281",
   "metadata": {},
   "outputs": [],
   "source": [
    "previsoes = regressao2.predict(x)\n",
    "previsoes"
   ]
  },
  {
   "cell_type": "code",
   "execution_count": null,
   "id": "091d3383-d2bb-4a67-8788-fcd915e63867",
   "metadata": {},
   "outputs": [],
   "source": [
    "previsao = regressao2.predict([[960]])\n",
    "previsao"
   ]
  },
  {
   "cell_type": "markdown",
   "id": "7dbdedc2-d71a-4f64-8671-e77bcca87ee7",
   "metadata": {
    "jp-MarkdownHeadingCollapsed": true
   },
   "source": [
    "## Teste t Student (duas amostras independentes)"
   ]
  },
  {
   "cell_type": "markdown",
   "id": "c7fb9746-12bf-4cc8-b1e2-66c1630f736f",
   "metadata": {},
   "source": [
    "- Amostras pequenas (menor que 30)\n",
    "- Amostras Aleatórias e Independentes\n",
    "- Não necessita conhecimento do desvio padrão"
   ]
  },
  {
   "cell_type": "code",
   "execution_count": null,
   "id": "4bdcda8b-0a93-48cc-970c-0432b6119aa5",
   "metadata": {},
   "outputs": [],
   "source": [
    "import numpy as np \n",
    "import pandas as pd\n",
    "enem_sp = pd.read_csv('./enem_2019_tratado.csv', sep=',', encoding='iso-8859-1')"
   ]
  },
  {
   "cell_type": "markdown",
   "id": "e77d31e1-8d97-458a-a5af-4b5fb352966c",
   "metadata": {},
   "source": [
    "Objetivo: analisar a diferença entra as médias de dois componentes de redação do colégio y."
   ]
  },
  {
   "cell_type": "code",
   "execution_count": null,
   "id": "ee9532ff-4e3e-4bd2-9c65-266608486e6e",
   "metadata": {},
   "outputs": [],
   "source": [
    "colegioy = enem_sp.loc[enem_sp.CO_ESCOLA == 35151506.0 ]"
   ]
  },
  {
   "cell_type": "code",
   "execution_count": null,
   "id": "75425d39-0129-47d6-9087-f6c346ba9799",
   "metadata": {},
   "outputs": [],
   "source": [
    "colegioy.shape"
   ]
  },
  {
   "cell_type": "markdown",
   "id": "2916694a-e872-48a4-b828-dd831b2d9746",
   "metadata": {
    "jp-MarkdownHeadingCollapsed": true
   },
   "source": [
    "### 1. Analisar a classificação das variáveis"
   ]
  },
  {
   "cell_type": "code",
   "execution_count": null,
   "id": "5da5d02a-3a1f-4c5b-ad02-c3aa9e9ce512",
   "metadata": {},
   "outputs": [],
   "source": [
    "colegioy.dtypes"
   ]
  },
  {
   "cell_type": "markdown",
   "id": "6f5438e5-1e36-4391-9f67-9646166e393d",
   "metadata": {
    "jp-MarkdownHeadingCollapsed": true
   },
   "source": [
    "### 2. Analisar valores missing"
   ]
  },
  {
   "cell_type": "code",
   "execution_count": null,
   "id": "5bd232be-9657-4672-a2d2-cdd48c2c6a14",
   "metadata": {},
   "outputs": [],
   "source": [
    "colegioy.isnull().sum()"
   ]
  },
  {
   "cell_type": "markdown",
   "id": "b16d0c68-17a1-4572-b8f7-cddfecb4753e",
   "metadata": {
    "jp-MarkdownHeadingCollapsed": true
   },
   "source": [
    "### 3. Analisar outliers"
   ]
  },
  {
   "cell_type": "code",
   "execution_count": null,
   "id": "e1e0fb8e-1a6d-4bd5-b288-9abe21061fd8",
   "metadata": {},
   "outputs": [],
   "source": [
    "import plotly.express as px"
   ]
  },
  {
   "cell_type": "code",
   "execution_count": null,
   "id": "60868dce-6da7-400b-b1d3-08991da26638",
   "metadata": {},
   "outputs": [],
   "source": [
    "grafico = px.box(colegioy, y='COMP3')\n",
    "grafico.show()"
   ]
  },
  {
   "cell_type": "code",
   "execution_count": null,
   "id": "04f7bbd3-e021-4b3a-a5e6-4941268594cb",
   "metadata": {},
   "outputs": [],
   "source": [
    "grafico = px.box(colegioy, y='COMP5')\n",
    "grafico.show()"
   ]
  },
  {
   "cell_type": "markdown",
   "id": "5510b962-43f5-4cf7-9a6d-23418e43c40a",
   "metadata": {
    "jp-MarkdownHeadingCollapsed": true
   },
   "source": [
    "### 4. Analisar Normalidade"
   ]
  },
  {
   "cell_type": "code",
   "execution_count": null,
   "id": "cce52813-22db-4dfe-a943-dbefbfca8ea8",
   "metadata": {},
   "outputs": [],
   "source": [
    "import scipy.stats as stats"
   ]
  },
  {
   "cell_type": "code",
   "execution_count": null,
   "id": "1f982c94-994d-46a2-94a7-f4fa8ce4fab9",
   "metadata": {},
   "outputs": [],
   "source": [
    "# Teste Shapiro-Wilk\n",
    "stats.shapiro(colegioy.COMP5) # -> indica distribuição normal"
   ]
  },
  {
   "cell_type": "code",
   "execution_count": null,
   "id": "460b4e7a-329d-4374-b73a-417d558b9a0f",
   "metadata": {},
   "outputs": [],
   "source": [
    "# Teste Shapiro-Wilk\n",
    "stats.shapiro(colegioy.COMP3) # -> não indica distribuição normal\n",
    "# para o exemplo vamos considerar que a distribuição seja normal"
   ]
  },
  {
   "cell_type": "code",
   "execution_count": null,
   "id": "015d32f1-bf37-45a0-9360-afa917783528",
   "metadata": {},
   "outputs": [],
   "source": [
    "import statsmodels\n",
    "from statsmodels.stats.diagnostic import lilliefors"
   ]
  },
  {
   "cell_type": "code",
   "execution_count": null,
   "id": "2247f64d-87b5-4a6b-bc4e-53ac0b3e6230",
   "metadata": {},
   "outputs": [],
   "source": [
    "# Teste Lilliefors\n",
    "statsmodels.stats.diagnostic.lilliefors(colegioy.COMP5, dist='norm')"
   ]
  },
  {
   "cell_type": "code",
   "execution_count": null,
   "id": "a51c1004-9490-4516-bb71-ea86b31a9858",
   "metadata": {},
   "outputs": [],
   "source": [
    "import seaborn as sns\n",
    "sns.histplot(colegioy, x='COMP5', bins=6, color='red', kde=True, stat='probability')"
   ]
  },
  {
   "cell_type": "code",
   "execution_count": null,
   "id": "3a19ecae-c959-43de-878f-d68415c88bcf",
   "metadata": {},
   "outputs": [],
   "source": [
    "sns.histplot(colegioy, x='COMP3', bins=6, color='green', kde=True, stat='probability')"
   ]
  },
  {
   "cell_type": "code",
   "execution_count": null,
   "id": "97cc92ad-8758-4d8b-9717-a5f5ce5be5fe",
   "metadata": {},
   "outputs": [],
   "source": [
    "import scipy.stats as stats\n",
    "import matplotlib.pyplot as plt"
   ]
  },
  {
   "cell_type": "code",
   "execution_count": null,
   "id": "a86ff8dd-ad74-48b7-98a7-0c6cb3fbb53a",
   "metadata": {},
   "outputs": [],
   "source": [
    "stats.probplot(colegioy.COMP5, dist='norm', plot=plt)\n",
    "plt.title('Normal QQPlot')\n",
    "plt.show()"
   ]
  },
  {
   "cell_type": "markdown",
   "id": "75ade6a5-de15-4d06-9670-469aadac3475",
   "metadata": {
    "jp-MarkdownHeadingCollapsed": true
   },
   "source": [
    "### 5. Homogenidade das Variâncias (Homecedasticidade)"
   ]
  },
  {
   "cell_type": "markdown",
   "id": "7092dbc2-5140-4989-a507-9f43139a60d6",
   "metadata": {},
   "source": [
    "Variabilidade dos erros constantes."
   ]
  },
  {
   "cell_type": "markdown",
   "id": "d0ce25a4-0bc8-48a2-88ce-67044025c6cb",
   "metadata": {},
   "source": [
    "H0 = variâncias homogêneas: p > 0.05\n",
    "\n",
    "Ha = variâncias não homogêneas: p <= 0.05"
   ]
  },
  {
   "cell_type": "code",
   "execution_count": null,
   "id": "a9048329-fa84-4ff1-9afd-421cf6971fd1",
   "metadata": {},
   "outputs": [],
   "source": [
    "# Teste de Levene\n",
    "from scipy.stats import levene"
   ]
  },
  {
   "cell_type": "code",
   "execution_count": null,
   "id": "519ffcf3-8a26-4014-af49-da516263ad71",
   "metadata": {},
   "outputs": [],
   "source": [
    "stat, p = levene(colegioy.COMP3, colegioy.COMP5, center='mean')\n",
    "print('Estatítica de teste: {}'.format(stat.round(2)))\n",
    "print('p-valor: {}'.format(p.round(10)))"
   ]
  },
  {
   "cell_type": "markdown",
   "id": "5fb07317-5a27-4005-be63-0620b4046dd5",
   "metadata": {
    "jp-MarkdownHeadingCollapsed": true
   },
   "source": [
    "### Teste t-Student"
   ]
  },
  {
   "cell_type": "markdown",
   "id": "296e87f5-80d6-4e9d-ac65-c359f0583137",
   "metadata": {},
   "source": [
    "Comparação das médias das notas dos componentes 3 e 5 das redação do colégio y."
   ]
  },
  {
   "cell_type": "markdown",
   "id": "d5f393bc-3a53-40a0-816f-e8713adb129f",
   "metadata": {},
   "source": [
    "H0 = não há diferença entre as médias dos componentes: p > 0.05\n",
    "\n",
    "Ha = há diferença entre as médias dos componentes: p <= 0.05"
   ]
  },
  {
   "cell_type": "code",
   "execution_count": null,
   "id": "a54ef725-661c-4d5d-9190-711da514211a",
   "metadata": {},
   "outputs": [],
   "source": [
    "import scipy.stats as stats"
   ]
  },
  {
   "cell_type": "code",
   "execution_count": null,
   "id": "15779255-aa24-4ba5-b57d-21af8c71a0fb",
   "metadata": {},
   "outputs": [],
   "source": [
    "stat, p = stats.ttest_ind(colegioy.COMP3, colegioy.COMP5)\n",
    "print('Estatítica de teste: {}'.format(stat.round(2)))\n",
    "print('p-valor: {}'.format(p.round(10)))"
   ]
  },
  {
   "cell_type": "code",
   "execution_count": null,
   "id": "83c23737-67ab-48d3-b41a-0b9a29b37925",
   "metadata": {},
   "outputs": [],
   "source": [
    "colegioy.COMP3.describe()"
   ]
  },
  {
   "cell_type": "code",
   "execution_count": null,
   "id": "4f4887df-cbc6-4574-a332-bfb12bbb352a",
   "metadata": {},
   "outputs": [],
   "source": [
    "colegioy.COMP5.describe()"
   ]
  },
  {
   "cell_type": "markdown",
   "id": "84653cbe-d6ae-4eb3-9651-3f216a92e66e",
   "metadata": {},
   "source": [
    "#### Interpretação:\n",
    "Teste estatístico: - 0.38\n",
    "\n",
    "P-valor: 0,707\n",
    "\n",
    "Conclusão: Estatisticamente, com intervalo de confiança de 95%, a média do componente 3 não é diferente da média do componente 5 em relação ao colégio y."
   ]
  },
  {
   "cell_type": "markdown",
   "id": "dece19ad-47cd-4d68-9fbf-f693d757bebf",
   "metadata": {
    "jp-MarkdownHeadingCollapsed": true
   },
   "source": [
    "## Teste Z para duas amostras independetes"
   ]
  },
  {
   "cell_type": "markdown",
   "id": "4630561c-22ee-4bbd-b3ad-84281c9bf265",
   "metadata": {},
   "source": [
    "- Número de amostras maior ou igual a 30.\n",
    "- Amostras Aleatórias e Independentes\n",
    "- Necessita conhecimento do desvio padrão"
   ]
  },
  {
   "cell_type": "code",
   "execution_count": null,
   "id": "fc563572-6d63-44bb-b1ba-5b976681c12a",
   "metadata": {},
   "outputs": [],
   "source": [
    "import numpy as np \n",
    "import pandas as pd\n",
    "enem_sp = pd.read_csv('./enem_2019_tratado.csv', sep=',', encoding='iso-8859-1')"
   ]
  },
  {
   "cell_type": "markdown",
   "id": "9be12a67-c34a-46ef-a32f-f8ec18e69350",
   "metadata": {},
   "source": [
    "Objetivo: analisar a diferença entre as médias de mulheres e homens para a nota de um dos componentes de redação do colégio X."
   ]
  },
  {
   "cell_type": "code",
   "execution_count": null,
   "id": "ed19d6b0-746d-40fd-9fba-a35f5d239558",
   "metadata": {},
   "outputs": [],
   "source": [
    "colegiox = enem_sp.loc[enem_sp.CO_ESCOLA == 35017632.0]"
   ]
  },
  {
   "cell_type": "code",
   "execution_count": null,
   "id": "720475e7-4fba-4274-8471-23a1229216c9",
   "metadata": {},
   "outputs": [],
   "source": [
    "colegiox.shape"
   ]
  },
  {
   "cell_type": "code",
   "execution_count": null,
   "id": "a2d61e2f-ba72-4565-ba09-9855a020dc29",
   "metadata": {},
   "outputs": [],
   "source": [
    "colegiox_mulher = colegiox.loc[colegiox.SEXO == 'F']\n",
    "colegiox_mulher.shape"
   ]
  },
  {
   "cell_type": "code",
   "execution_count": null,
   "id": "1788b89d-6b96-4881-a5ce-99b56961c35f",
   "metadata": {},
   "outputs": [],
   "source": [
    "colegiox_homem = colegiox.loc[colegiox.SEXO == 'M']\n",
    "colegiox_homem.shape"
   ]
  },
  {
   "cell_type": "markdown",
   "id": "3677f704-c957-46e2-9cb7-ec0de3b728f6",
   "metadata": {
    "jp-MarkdownHeadingCollapsed": true
   },
   "source": [
    "### 1. Analisar a classificação das variáveis"
   ]
  },
  {
   "cell_type": "code",
   "execution_count": null,
   "id": "ffc47ceb-2c8f-4c49-948e-3f639cec117e",
   "metadata": {},
   "outputs": [],
   "source": [
    "colegiox.dtypes"
   ]
  },
  {
   "cell_type": "markdown",
   "id": "4a9faac1-fc49-4377-a58d-324f4993d141",
   "metadata": {
    "jp-MarkdownHeadingCollapsed": true
   },
   "source": [
    "### 2. Analisar valores missing"
   ]
  },
  {
   "cell_type": "code",
   "execution_count": null,
   "id": "f4f8331c-ed91-4495-ae75-ef1090c05fcc",
   "metadata": {},
   "outputs": [],
   "source": [
    "colegiox.isnull().sum()"
   ]
  },
  {
   "cell_type": "markdown",
   "id": "c7802f37-df95-4c5f-8613-0716d9bb3316",
   "metadata": {
    "jp-MarkdownHeadingCollapsed": true
   },
   "source": [
    "### 3. Analisar outliers"
   ]
  },
  {
   "cell_type": "code",
   "execution_count": null,
   "id": "0e222c5c-087e-4fc9-be59-eb75ec3a8135",
   "metadata": {},
   "outputs": [],
   "source": [
    "import plotly.express as px"
   ]
  },
  {
   "cell_type": "code",
   "execution_count": null,
   "id": "b99ef995-6178-4ca1-9037-5f6def5134ba",
   "metadata": {},
   "outputs": [],
   "source": [
    "grafico = px.box(colegiox_mulher, y='COMP5')\n",
    "grafico.show()"
   ]
  },
  {
   "cell_type": "code",
   "execution_count": null,
   "id": "e5e24ce5-0c53-4492-beb5-a7305111cd53",
   "metadata": {},
   "outputs": [],
   "source": [
    "grafico = px.box(colegiox_homem, y='COMP5')\n",
    "grafico.show()"
   ]
  },
  {
   "cell_type": "markdown",
   "id": "9d85d6ff-e356-4f20-abb9-2cb871d10490",
   "metadata": {
    "jp-MarkdownHeadingCollapsed": true
   },
   "source": [
    "### 4. Analisar Normalidade"
   ]
  },
  {
   "cell_type": "code",
   "execution_count": null,
   "id": "9ffa92a5-e01c-41a3-a642-b1fcce2f2493",
   "metadata": {},
   "outputs": [],
   "source": [
    "import scipy.stats as stats"
   ]
  },
  {
   "cell_type": "code",
   "execution_count": null,
   "id": "ac5a7fd9-ec89-4f12-91d9-698c86b1e303",
   "metadata": {},
   "outputs": [],
   "source": [
    "# Teste Shapiro-Wilk\n",
    "stats.shapiro(colegiox_mulher.COMP5)"
   ]
  },
  {
   "cell_type": "code",
   "execution_count": null,
   "id": "e1f835c1-8810-461a-b981-f36c053c50c6",
   "metadata": {},
   "outputs": [],
   "source": [
    "stats.shapiro(colegiox_homem.COMP5)"
   ]
  },
  {
   "cell_type": "code",
   "execution_count": null,
   "id": "772ba9d2-19d6-4771-aa9a-ba97f2cc9d97",
   "metadata": {},
   "outputs": [],
   "source": [
    "# Ambos indicam normalidade"
   ]
  },
  {
   "cell_type": "code",
   "execution_count": null,
   "id": "5ba2fd39-27fd-48a9-9f72-40b930e81d42",
   "metadata": {},
   "outputs": [],
   "source": [
    "import seaborn as sns\n",
    "sns.histplot(colegiox_mulher, x='COMP5', bins=6, color='red', kde=True, stat='probability')"
   ]
  },
  {
   "cell_type": "code",
   "execution_count": null,
   "id": "0eb9c1d8-988b-4f74-b6ac-418989a4f454",
   "metadata": {},
   "outputs": [],
   "source": [
    "sns.histplot(colegiox_homem, x='COMP5', bins=6, color='green', kde=True, stat='probability')"
   ]
  },
  {
   "cell_type": "code",
   "execution_count": null,
   "id": "726d0377-872b-4592-b889-8b837c1d188e",
   "metadata": {},
   "outputs": [],
   "source": [
    "import scipy.stats as stats\n",
    "import matplotlib.pyplot as plt"
   ]
  },
  {
   "cell_type": "code",
   "execution_count": null,
   "id": "1d2b4d33-fe84-45aa-85da-c5a97891347f",
   "metadata": {},
   "outputs": [],
   "source": [
    "stats.probplot(colegiox_mulher.COMP5, dist='norm', plot=plt)\n",
    "plt.title('Normal QQPlot')\n",
    "plt.show()"
   ]
  },
  {
   "cell_type": "code",
   "execution_count": null,
   "id": "1cadef11-44a2-4e91-b04a-f623b34a7536",
   "metadata": {},
   "outputs": [],
   "source": [
    "stats.probplot(colegiox_homem.COMP5, dist='norm', plot=plt)\n",
    "plt.title('Normal QQPlot')\n",
    "plt.show()"
   ]
  },
  {
   "cell_type": "markdown",
   "id": "501dbe4a-7411-4b83-b07c-d586fe51712c",
   "metadata": {
    "jp-MarkdownHeadingCollapsed": true
   },
   "source": [
    "### 5. Homocedasticidade"
   ]
  },
  {
   "cell_type": "code",
   "execution_count": null,
   "id": "17d3b47e-b881-4e53-b10d-8b8841d67550",
   "metadata": {},
   "outputs": [],
   "source": [
    "# Teste de Levene\n",
    "from scipy.stats import levene"
   ]
  },
  {
   "cell_type": "code",
   "execution_count": null,
   "id": "e6095984-70f3-4a48-b130-c7594a1283c7",
   "metadata": {},
   "outputs": [],
   "source": [
    "stat, p = levene(colegiox_mulher.COMP5, colegiox_homem.COMP5, center='mean')\n",
    "print('Estatítica de teste: {}'.format(stat.round(2)))\n",
    "print('p-valor: {}'.format(p.round(10)))"
   ]
  },
  {
   "cell_type": "markdown",
   "id": "c7efa390-6084-4b4b-87b9-e42966bf898c",
   "metadata": {
    "jp-MarkdownHeadingCollapsed": true
   },
   "source": [
    "### Teste Z para duas amostras independentes"
   ]
  },
  {
   "cell_type": "markdown",
   "id": "7a89bb8f-38bf-4595-946a-2cc7fc4eb70d",
   "metadata": {},
   "source": [
    "Comparação das médias das notas do componente 5 da redação entre homens e mulheres do colégio y."
   ]
  },
  {
   "cell_type": "markdown",
   "id": "600f0e6b-0f1b-4bb2-b09d-52774d1f208a",
   "metadata": {},
   "source": [
    "H0 = não há diferença entre as médias entre homens e mulheres: p > 0.05\n",
    "\n",
    "Ha = há diferença entre as médias entre homens e mulheres: p <= 0.05"
   ]
  },
  {
   "cell_type": "code",
   "execution_count": null,
   "id": "759382bd-b26e-4ff2-b030-b88a0ea35078",
   "metadata": {},
   "outputs": [],
   "source": [
    "from statsmodels.stats.weightstats import ztest"
   ]
  },
  {
   "cell_type": "code",
   "execution_count": null,
   "id": "88136a35-e440-4b3e-9a7f-677d919f022e",
   "metadata": {},
   "outputs": [],
   "source": [
    "stat, p = ztest(colegiox_mulher.COMP5, colegiox_homem.COMP5)\n",
    "print('Estatítica de teste: {}'.format(stat.round(2)))\n",
    "print('p-valor: {}'.format(p.round(10)))"
   ]
  },
  {
   "cell_type": "code",
   "execution_count": null,
   "id": "25ba2971-a35f-4e29-af54-a872a13dc1c2",
   "metadata": {},
   "outputs": [],
   "source": [
    "colegiox_mulher.COMP5.describe()"
   ]
  },
  {
   "cell_type": "code",
   "execution_count": null,
   "id": "a6584a10-19fa-44d9-8781-157c1cd1b1ba",
   "metadata": {},
   "outputs": [],
   "source": [
    "colegiox_homem.COMP5.describe()"
   ]
  },
  {
   "cell_type": "markdown",
   "id": "32786310-f90e-4c96-ac24-a8cfa21783ff",
   "metadata": {},
   "source": [
    "#### Interpretação: \n",
    "\n",
    "Teste estatístico: 0.96\n",
    "p-valor: o.339\n",
    "\n",
    "Conclusão: Estatisticamente, com intervalo de confiança de 95%, não se pode concluir que a média do componente 5 de redação do colégio X seja diferente entre homens e mulheres."
   ]
  },
  {
   "cell_type": "markdown",
   "id": "e012d7f2-2dd7-451b-b1aa-6c3fa1ad8ab1",
   "metadata": {
    "jp-MarkdownHeadingCollapsed": true
   },
   "source": [
    "## Teste Mann Whitney (soma de postos de Wilcoxon)"
   ]
  },
  {
   "cell_type": "markdown",
   "id": "cb96a3ae-a971-4262-a365-c305e6b8e45a",
   "metadata": {},
   "source": [
    "Teste NÃO Paramétrico\n",
    "\n",
    "Duas amostras independentes"
   ]
  },
  {
   "cell_type": "code",
   "execution_count": null,
   "id": "66eac478-5c48-4185-a060-02bb657b96f0",
   "metadata": {},
   "outputs": [],
   "source": [
    "import numpy as np \n",
    "import pandas as pd\n",
    "enem_sp = pd.read_csv('./enem_2019_tratado.csv', sep=',', encoding='iso-8859-1')"
   ]
  },
  {
   "cell_type": "markdown",
   "id": "0088d3d3-496a-4462-8819-a84305caa1b0",
   "metadata": {},
   "source": [
    "Objetivo: Analisar a diferença entre as MEDIANAS de mulheres e homens para a nota de um dos componentes de redação do colégio x."
   ]
  },
  {
   "cell_type": "code",
   "execution_count": null,
   "id": "97bfaf59-fd57-4330-ab75-8c07a0e17a12",
   "metadata": {},
   "outputs": [],
   "source": [
    "colegiox = enem_sp.loc[enem_sp.CO_ESCOLA == 35017632.0]\n",
    "colegiox.shape"
   ]
  },
  {
   "cell_type": "code",
   "execution_count": null,
   "id": "2ac1dbe9-3105-4f6a-9d8d-973097626b70",
   "metadata": {},
   "outputs": [],
   "source": [
    "colegiox_mulher = colegiox.loc[colegiox.SEXO == 'F']\n",
    "colegiox_mulher.shape"
   ]
  },
  {
   "cell_type": "code",
   "execution_count": null,
   "id": "ddc98252-5579-4634-8fa7-d4e5a7189b75",
   "metadata": {},
   "outputs": [],
   "source": [
    "colegiox_homem = colegiox.loc[colegiox.SEXO == 'M']\n",
    "colegiox_homem.shape"
   ]
  },
  {
   "cell_type": "markdown",
   "id": "28a12fb6-363f-4c4f-a79a-93f1bab48ad4",
   "metadata": {
    "jp-MarkdownHeadingCollapsed": true
   },
   "source": [
    "### 1. Analisar a classificação das variáveis"
   ]
  },
  {
   "cell_type": "code",
   "execution_count": null,
   "id": "be3c5510-5340-437e-968a-b6ee4af18562",
   "metadata": {},
   "outputs": [],
   "source": [
    "colegiox.dtypes"
   ]
  },
  {
   "cell_type": "markdown",
   "id": "d95182b5-5b5a-4c2a-a6fb-6dab597bfc14",
   "metadata": {
    "jp-MarkdownHeadingCollapsed": true
   },
   "source": [
    "### 2. Analisar valores missing"
   ]
  },
  {
   "cell_type": "code",
   "execution_count": null,
   "id": "9000838f-a681-422e-b3f1-205bb9f2a441",
   "metadata": {},
   "outputs": [],
   "source": [
    "colegiox.isnull().sum()"
   ]
  },
  {
   "cell_type": "markdown",
   "id": "335afcce-9985-4e46-ae95-5c19b73ac1ec",
   "metadata": {
    "jp-MarkdownHeadingCollapsed": true
   },
   "source": [
    "### 3. Analisar Normalidade"
   ]
  },
  {
   "cell_type": "code",
   "execution_count": null,
   "id": "aa82a61a-b946-48b0-820b-42f5d0406b7d",
   "metadata": {},
   "outputs": [],
   "source": [
    "import scipy.stats as stats\n",
    "import matplotlib.pyplot as plt"
   ]
  },
  {
   "cell_type": "code",
   "execution_count": null,
   "id": "0b8577a2-badd-4348-9e69-56df9c74650b",
   "metadata": {},
   "outputs": [],
   "source": [
    "# Teste Shapiro-Wilk\n",
    "stats.shapiro(colegiox_mulher.NOTA_MT)"
   ]
  },
  {
   "cell_type": "code",
   "execution_count": null,
   "id": "93d6fdd8-bfa1-4992-825b-f213a9714fe8",
   "metadata": {},
   "outputs": [],
   "source": [
    "stats.probplot(colegiox_mulher.NOTA_MT, dist='norm', plot=plt)\n",
    "plt.title('Normal QQPlot')\n",
    "plt.show()"
   ]
  },
  {
   "cell_type": "code",
   "execution_count": null,
   "id": "b9bf8206-676b-47fa-8cf7-49f363378a54",
   "metadata": {},
   "outputs": [],
   "source": [
    "# Teste Shapiro-Wilk\n",
    "stats.shapiro(colegiox_homem.NOTA_MT)"
   ]
  },
  {
   "cell_type": "code",
   "execution_count": null,
   "id": "dde60d4a-2b2f-4013-96a3-fae3179b76dd",
   "metadata": {},
   "outputs": [],
   "source": [
    "stats.probplot(colegiox_homem.NOTA_MT, dist='norm', plot=plt)\n",
    "plt.title('Normal QQPlot')\n",
    "plt.show()"
   ]
  },
  {
   "cell_type": "markdown",
   "id": "9192229c-cfca-4d22-b813-21829f77ac68",
   "metadata": {},
   "source": [
    "### Teste Mann Whitney"
   ]
  },
  {
   "cell_type": "markdown",
   "id": "88de1649-9cc6-48af-b93a-4fafdb087357",
   "metadata": {},
   "source": [
    "Comparação das medianas das notas homens e mulheres do colégiox X."
   ]
  },
  {
   "cell_type": "markdown",
   "id": "f435a16a-1e29-48d8-8e87-9f83632179f7",
   "metadata": {},
   "source": [
    "H0 = não há diferença entre as médias entre homens e mulheres: p > 0.05\n",
    "\n",
    "Ha = há diferença entre as médias entre homens e mulheres: p <= 0.05"
   ]
  },
  {
   "cell_type": "code",
   "execution_count": null,
   "id": "72c38f04-c5f0-46f4-bd5e-2140f1d4f51c",
   "metadata": {},
   "outputs": [],
   "source": [
    "import scipy.stats as stats"
   ]
  },
  {
   "cell_type": "code",
   "execution_count": null,
   "id": "69ace548-fb21-40c4-8496-d32e5b9098fa",
   "metadata": {},
   "outputs": [],
   "source": [
    "stat, p = stats.mannwhitneyu(colegiox_mulher.NOTA_MT, colegiox_homem.NOTA_MT)\n",
    "print('Estatítica de teste: {}'.format(stat.round(2)))\n",
    "print('p-valor: {}'.format(p.round(10)))"
   ]
  },
  {
   "cell_type": "code",
   "execution_count": null,
   "id": "e0952537-9c8d-4be5-879d-c7f7328c0c82",
   "metadata": {},
   "outputs": [],
   "source": [
    "stat, p = stats.mannwhitneyu(colegiox_mulher.NOTA_CN, colegiox_homem.NOTA_CN)\n",
    "print('Estatítica de teste: {}'.format(stat.round(2)))\n",
    "print('p-valor: {}'.format(p.round(10)))"
   ]
  },
  {
   "cell_type": "code",
   "execution_count": null,
   "id": "63e495d2-8a59-4444-be20-311477da9062",
   "metadata": {},
   "outputs": [],
   "source": [
    "colegiox_mulher.NOTA_MT.describe()"
   ]
  },
  {
   "cell_type": "code",
   "execution_count": null,
   "id": "0ff7c0cf-e3d4-4525-bde5-9011183a30c4",
   "metadata": {},
   "outputs": [],
   "source": [
    "colegiox_mulher.NOTA_CN.describe()"
   ]
  },
  {
   "cell_type": "code",
   "execution_count": null,
   "id": "5a29324b-60f6-434f-bcd9-ef2d3354b5a7",
   "metadata": {},
   "outputs": [],
   "source": [
    "colegiox_homem.NOTA_MT.describe()"
   ]
  },
  {
   "cell_type": "code",
   "execution_count": null,
   "id": "0f803db4-3081-4bb1-a926-c8549e8ba52b",
   "metadata": {},
   "outputs": [],
   "source": [
    "colegiox_homem.NOTA_CN.describe()"
   ]
  },
  {
   "cell_type": "code",
   "execution_count": null,
   "id": "e3c5dadd-bcb3-4a92-acd1-b17c9468c00f",
   "metadata": {},
   "outputs": [],
   "source": [
    "import plotly.express as px"
   ]
  },
  {
   "cell_type": "code",
   "execution_count": null,
   "id": "aa9ae8eb-5736-47af-818f-c4ccbd3b0dde",
   "metadata": {},
   "outputs": [],
   "source": [
    "grafico = px.box(colegiox, x='SEXO', y='NOTA_MT')\n",
    "grafico.show()"
   ]
  },
  {
   "cell_type": "code",
   "execution_count": null,
   "id": "a8e5fff1-455c-45c9-be52-5bf9fe10ef6a",
   "metadata": {},
   "outputs": [],
   "source": [
    "grafico = px.box(colegiox, x='SEXO', y='NOTA_CN')\n",
    "grafico.show()"
   ]
  },
  {
   "cell_type": "markdown",
   "id": "e2cd075f-e906-4251-9280-53be7746eea7",
   "metadata": {},
   "source": [
    "#### Conclusão: \n",
    "Estatisticamente, com intervalo de confiança de 95%, não se pode concluir que a mediana das notas de Matemática e Ciências da Natureza do colégio X sejam diferentes entre homens e mulheres."
   ]
  },
  {
   "cell_type": "markdown",
   "id": "76f6d235-c6ff-4f89-9fcb-e4a87b87e053",
   "metadata": {
    "jp-MarkdownHeadingCollapsed": true
   },
   "source": [
    "## Teste t pareado (duas amostras dependentes)"
   ]
  },
  {
   "cell_type": "markdown",
   "id": "b96f1617-9cd7-4aef-bbe2-dde7e05a9435",
   "metadata": {},
   "source": [
    "Teste paramétrico"
   ]
  },
  {
   "cell_type": "code",
   "execution_count": null,
   "id": "c143db31-42b6-461e-8c80-eb4b8600e1d8",
   "metadata": {},
   "outputs": [],
   "source": [
    "import numpy as np \n",
    "import pandas as pd\n",
    "enem_sp = pd.read_csv('./enem_2019_tratado.csv', sep=',', encoding='iso-8859-1')"
   ]
  },
  {
   "cell_type": "markdown",
   "id": "cf5d0578-2944-4f1a-a113-18910bcb5f49",
   "metadata": {},
   "source": [
    "Objetivo: Analisar a diferença da média da nota de redação com relação aos seus componentes.\n",
    "\n",
    "OBS: amostras independentes = analisa a diferença nas médias\n",
    "\n",
    "amostras dependentes = analisa diferença média"
   ]
  },
  {
   "cell_type": "code",
   "execution_count": null,
   "id": "e963d766-fd99-4915-8ce2-1aeaf9332615",
   "metadata": {},
   "outputs": [],
   "source": [
    "colegioy = enem_sp.loc[enem_sp.CO_ESCOLA == 35151506.0]\n",
    "colegioy.shape"
   ]
  },
  {
   "cell_type": "markdown",
   "id": "115f1e2f-b826-4914-b5ad-facdb49675dd",
   "metadata": {
    "jp-MarkdownHeadingCollapsed": true
   },
   "source": [
    "### 1. Analisar a classificação das variáveis"
   ]
  },
  {
   "cell_type": "code",
   "execution_count": null,
   "id": "7a0825d9-7c56-4aaf-8841-67d9ec5af486",
   "metadata": {},
   "outputs": [],
   "source": [
    "colegioy.dtypes"
   ]
  },
  {
   "cell_type": "markdown",
   "id": "9bf47710-734a-4590-b2c3-2e01f4647901",
   "metadata": {
    "jp-MarkdownHeadingCollapsed": true
   },
   "source": [
    "### 2. Analisar valores missing"
   ]
  },
  {
   "cell_type": "code",
   "execution_count": null,
   "id": "ea4c5a39-6da5-4881-aaf5-a20f73f33b80",
   "metadata": {},
   "outputs": [],
   "source": [
    "colegioy.isnull().sum()"
   ]
  },
  {
   "cell_type": "markdown",
   "id": "8b655a8d-e3d4-4cbd-8e15-eb7e187d96be",
   "metadata": {
    "jp-MarkdownHeadingCollapsed": true
   },
   "source": [
    "### 3. Analisar Outliers"
   ]
  },
  {
   "cell_type": "code",
   "execution_count": null,
   "id": "b58deb82-7740-48fa-95b2-7526dbbf496b",
   "metadata": {},
   "outputs": [],
   "source": [
    "import plotly.express as px"
   ]
  },
  {
   "cell_type": "code",
   "execution_count": null,
   "id": "f5848e0c-fc19-4a48-9724-5c52e15d5ecf",
   "metadata": {},
   "outputs": [],
   "source": [
    "grafico = px.box(colegioy, y='COMP1')\n",
    "grafico.show()"
   ]
  },
  {
   "cell_type": "markdown",
   "id": "40d1bbeb-5c42-4c4c-9cd9-c6485680f464",
   "metadata": {
    "jp-MarkdownHeadingCollapsed": true
   },
   "source": [
    "### 4. Analisar Normalidade"
   ]
  },
  {
   "cell_type": "code",
   "execution_count": null,
   "id": "187b1a88-82c0-420d-9a59-4e1e4364fa73",
   "metadata": {},
   "outputs": [],
   "source": [
    "import scipy.stats as stats"
   ]
  },
  {
   "cell_type": "code",
   "execution_count": null,
   "id": "6bdcdb98-dbc8-46fd-8bae-a8bfb5d812d0",
   "metadata": {},
   "outputs": [],
   "source": [
    "diferenca1 = colegioy.NOTA_REDACAO - colegioy.COMP1\n",
    "diferenca2 = colegioy.NOTA_REDACAO - colegioy.COMP2\n",
    "diferenca3 = colegioy.NOTA_REDACAO - colegioy.COMP3\n",
    "diferenca4 = colegioy.NOTA_REDACAO - colegioy.COMP4\n",
    "diferenca5 = colegioy.NOTA_REDACAO - colegioy.COMP5"
   ]
  },
  {
   "cell_type": "code",
   "execution_count": null,
   "id": "eed269a5-2820-460e-ab92-5ddb12a8315a",
   "metadata": {},
   "outputs": [],
   "source": [
    "# Teste Shapiro-Wilk\n",
    "stats.shapiro(diferenca2) # apenas a diferença 2 possui uma distribuição normal"
   ]
  },
  {
   "cell_type": "markdown",
   "id": "1f40f883-a4ac-487e-95ab-719d166f6190",
   "metadata": {
    "jp-MarkdownHeadingCollapsed": true
   },
   "source": [
    "### Teste t "
   ]
  },
  {
   "cell_type": "markdown",
   "id": "028babdd-3570-4205-ac51-81e50b129cd6",
   "metadata": {},
   "source": [
    "Comparação das diferenças das médias das notas de redação e de seus componentes que passaram no teste de normalidade"
   ]
  },
  {
   "cell_type": "markdown",
   "id": "a9843021-c19d-46b2-9997-2955993205b2",
   "metadata": {},
   "source": [
    "H0 = não há diferença entre as diferenças das médias da redação com os seus componentes: p > 0.05\n",
    "\n",
    "Ha = há diferença entre as diferenças das médias da redação com os seus componentes: p <= 0.05"
   ]
  },
  {
   "cell_type": "code",
   "execution_count": null,
   "id": "55804864-81e6-412e-b278-5ae4a8aea375",
   "metadata": {},
   "outputs": [],
   "source": [
    "import scipy.stats as stats"
   ]
  },
  {
   "cell_type": "code",
   "execution_count": null,
   "id": "3fe5cb85-19dc-4903-9908-cd3d4a5ec7a6",
   "metadata": {},
   "outputs": [],
   "source": [
    "stat, p = stats.ttest_rel(diferenca1, diferenca2)\n",
    "print('Estatítica de teste: {}'.format(stat.round(2)))\n",
    "print('p-valor: {}'.format(p.round(10)))"
   ]
  },
  {
   "cell_type": "code",
   "execution_count": null,
   "id": "2447ff0b-d173-4789-8d4e-7365cdb4e30a",
   "metadata": {},
   "outputs": [],
   "source": [
    "diferenca1.mean()"
   ]
  },
  {
   "cell_type": "code",
   "execution_count": null,
   "id": "0acfb6ef-3d08-4556-8812-b5975894ba4c",
   "metadata": {},
   "outputs": [],
   "source": [
    "diferenca2.mean()"
   ]
  },
  {
   "cell_type": "markdown",
   "id": "3023a639-d392-4c7c-8299-281a59332be7",
   "metadata": {},
   "source": [
    "#### Interpretação:\n",
    "\n",
    "Teste estatístico: 0.17\n",
    "\n",
    "P-valor: 0.869\n",
    "\n",
    "Conclusão: Estatisticamente, com intervalo de confiança de 95%, não há evidências para afirmar que existe diferença na diferença da média entre a redação e os seus componentes 1 e 2 do colegio y."
   ]
  },
  {
   "cell_type": "markdown",
   "id": "5a459aa2-893d-4d87-ba22-cccac4eae31b",
   "metadata": {
    "jp-MarkdownHeadingCollapsed": true
   },
   "source": [
    "## Teste Wilcoxon (não paramétrico)"
   ]
  },
  {
   "cell_type": "code",
   "execution_count": null,
   "id": "d536fc28-9403-48b5-be51-0b2240a7a505",
   "metadata": {},
   "outputs": [],
   "source": [
    "import numpy as np \n",
    "import pandas as pd\n",
    "enem_sp = pd.read_csv('./enem_2019_tratado.csv', sep=',', encoding='iso-8859-1')"
   ]
  },
  {
   "cell_type": "markdown",
   "id": "405deb76-f2a3-4446-b5d8-2d644491eb86",
   "metadata": {},
   "source": [
    "Objetivo: Analisa a diferença mediana da nota de redação com relação aos seus componentes.\n",
    "\n",
    "Obs: amostras independentes = analisa diferença nas medianas.\n",
    "\n",
    "amostras dependentes = analisa a mediana das diferenças."
   ]
  },
  {
   "cell_type": "code",
   "execution_count": null,
   "id": "3953a95d-7a84-427b-940b-5305eee54e23",
   "metadata": {},
   "outputs": [],
   "source": [
    "colegioy = enem_sp.loc[enem_sp.CO_ESCOLA == 35151506.0]\n",
    "colegioy.shape"
   ]
  },
  {
   "cell_type": "markdown",
   "id": "05e25410-0bf3-4c8a-9e66-d3652aaf94f2",
   "metadata": {},
   "source": [
    "### Passos 1, 2, 3 são iguais ao anterior."
   ]
  },
  {
   "cell_type": "markdown",
   "id": "08864145-ace7-429e-bda8-3c6bf922f5fd",
   "metadata": {
    "jp-MarkdownHeadingCollapsed": true
   },
   "source": [
    "### 4. Analisar Normalidade"
   ]
  },
  {
   "cell_type": "code",
   "execution_count": null,
   "id": "fd83d3aa-66b3-441e-8940-3622f772a003",
   "metadata": {},
   "outputs": [],
   "source": [
    "diferenca1 = colegioy.NOTA_REDACAO - colegioy.COMP1\n",
    "diferenca2 = colegioy.NOTA_REDACAO - colegioy.COMP2\n",
    "diferenca3 = colegioy.NOTA_REDACAO - colegioy.COMP3\n",
    "diferenca4 = colegioy.NOTA_REDACAO - colegioy.COMP4\n",
    "diferenca5 = colegioy.NOTA_REDACAO - colegioy.COMP5"
   ]
  },
  {
   "cell_type": "code",
   "execution_count": null,
   "id": "b45dfd78-7d6d-492e-956d-0fb7a82b5c7f",
   "metadata": {},
   "outputs": [],
   "source": [
    "# Teste Shapiro-Wilk\n",
    "stats.shapiro(diferenca2) # apenas a diferença 2 possui uma distribuição normal"
   ]
  },
  {
   "cell_type": "markdown",
   "id": "e48bcd38-e594-420a-89a0-868ced2dadcf",
   "metadata": {
    "jp-MarkdownHeadingCollapsed": true
   },
   "source": [
    "### Teste Wilcoxon"
   ]
  },
  {
   "cell_type": "markdown",
   "id": "226090df-b0f4-479e-b027-cfadbd99e6eb",
   "metadata": {},
   "source": [
    "Comparação das medianas das diferenças que não passaram no teste de normalidade"
   ]
  },
  {
   "cell_type": "markdown",
   "id": "165abb1a-48e4-4e53-8917-0ee4a979c66c",
   "metadata": {},
   "source": [
    "H0 = não há diferença entre as diferenças das medianas: p > 0.05\n",
    "\n",
    "Ha = há diferença entre as diferenças das medianas: p <= 0.05"
   ]
  },
  {
   "cell_type": "code",
   "execution_count": null,
   "id": "59019df9-1b1e-43e1-8ffb-275348e0d2c2",
   "metadata": {},
   "outputs": [],
   "source": [
    "import scipy.stats as stats"
   ]
  },
  {
   "cell_type": "code",
   "execution_count": null,
   "id": "99ba9c74-e98a-4bca-bc3e-76aa7b307f7f",
   "metadata": {},
   "outputs": [],
   "source": [
    "stat, p = stats.wilcoxon(diferenca1, diferenca3)\n",
    "print('Estatítica de teste: {}'.format(stat.round(2)))\n",
    "print('p-valor: {}'.format(p.round(10)))"
   ]
  },
  {
   "cell_type": "code",
   "execution_count": null,
   "id": "7195eff5-9629-4aa2-bdf9-1309906f3f3d",
   "metadata": {},
   "outputs": [],
   "source": [
    "diferenca1.median()"
   ]
  },
  {
   "cell_type": "code",
   "execution_count": null,
   "id": "82e45622-6d53-434f-b006-bcb60a60c828",
   "metadata": {},
   "outputs": [],
   "source": [
    "diferenca3.median()"
   ]
  },
  {
   "cell_type": "code",
   "execution_count": null,
   "id": "de7c4954-1743-4942-9695-fe5cc5e72e6e",
   "metadata": {},
   "outputs": [],
   "source": [
    "stat, p = stats.wilcoxon(diferenca1, diferenca4)\n",
    "print('Estatítica de teste: {}'.format(stat.round(2)))\n",
    "print('p-valor: {}'.format(p.round(10)))"
   ]
  },
  {
   "cell_type": "code",
   "execution_count": null,
   "id": "6d6bc7ea-ccf2-4d9e-ba23-7f285ddff82d",
   "metadata": {},
   "outputs": [],
   "source": [
    "diferenca4.median()"
   ]
  },
  {
   "cell_type": "code",
   "execution_count": null,
   "id": "ef1075b9-d65c-4b5d-b171-5e930a514783",
   "metadata": {},
   "outputs": [],
   "source": [
    "stat, p = stats.wilcoxon(diferenca1, diferenca5)\n",
    "print('Estatítica de teste: {}'.format(stat.round(2)))\n",
    "print('p-valor: {}'.format(p.round(10)))"
   ]
  },
  {
   "cell_type": "code",
   "execution_count": null,
   "id": "f964048e-c46c-4f96-9c06-c23bf49374a6",
   "metadata": {},
   "outputs": [],
   "source": [
    "diferenca5.median()"
   ]
  },
  {
   "cell_type": "code",
   "execution_count": null,
   "id": "b66bfae1-cb2c-4d24-aed6-a27a243f99ba",
   "metadata": {},
   "outputs": [],
   "source": [
    "stat, p = stats.wilcoxon(diferenca3, diferenca4)\n",
    "print('Estatítica de teste: {}'.format(stat.round(2)))\n",
    "print('p-valor: {}'.format(p.round(10)))"
   ]
  },
  {
   "cell_type": "code",
   "execution_count": null,
   "id": "cd42ff89-14cd-4a75-adaa-67b7264be628",
   "metadata": {},
   "outputs": [],
   "source": [
    "stat, p = stats.wilcoxon(diferenca3, diferenca5)\n",
    "print('Estatítica de teste: {}'.format(stat.round(2)))\n",
    "print('p-valor: {}'.format(p.round(10)))"
   ]
  },
  {
   "cell_type": "code",
   "execution_count": null,
   "id": "37f13b76-0d18-45db-a900-ca2dfe86e58d",
   "metadata": {},
   "outputs": [],
   "source": [
    "stat, p = stats.wilcoxon(diferenca4, diferenca5)\n",
    "print('Estatítica de teste: {}'.format(stat.round(2)))\n",
    "print('p-valor: {}'.format(p.round(10)))"
   ]
  },
  {
   "cell_type": "markdown",
   "id": "35b24f90-b1fb-4ffc-baa9-c9faf025b737",
   "metadata": {},
   "source": [
    "Conclusão: Estatisticamente, com intervalo de confiança de 95%, não há evidências para afirrmar que existe diferença na diferença das medianas analisadas."
   ]
  },
  {
   "cell_type": "code",
   "execution_count": null,
   "id": "f8b5391d-d6d2-4caa-8d0a-ab9997a45428",
   "metadata": {},
   "outputs": [],
   "source": []
  }
 ],
 "metadata": {
  "kernelspec": {
   "display_name": "Python 3 (ipykernel)",
   "language": "python",
   "name": "python3"
  },
  "language_info": {
   "codemirror_mode": {
    "name": "ipython",
    "version": 3
   },
   "file_extension": ".py",
   "mimetype": "text/x-python",
   "name": "python",
   "nbconvert_exporter": "python",
   "pygments_lexer": "ipython3",
   "version": "3.12.7"
  }
 },
 "nbformat": 4,
 "nbformat_minor": 5
}
