{
 "cells": [
  {
   "cell_type": "markdown",
   "id": "ea07738a-a2d5-40a9-b89b-3f19111aca45",
   "metadata": {},
   "source": [
    "# 02-Fundamentos da Estatística"
   ]
  },
  {
   "cell_type": "markdown",
   "id": "fa2a0bd7-66ef-4ec7-a021-a3a2d2ada125",
   "metadata": {
    "jp-MarkdownHeadingCollapsed": true
   },
   "source": [
    "## Amostragens"
   ]
  },
  {
   "cell_type": "code",
   "execution_count": null,
   "id": "93069943-20cc-4b2d-980e-ca1c595059b5",
   "metadata": {},
   "outputs": [],
   "source": [
    "import numpy as np\n",
    "import pandas as pd"
   ]
  },
  {
   "cell_type": "code",
   "execution_count": null,
   "id": "51d38832-3522-456f-a332-e72d63e3d6ae",
   "metadata": {},
   "outputs": [],
   "source": [
    "enem_sp = pd.read_csv('./enem_2019_tratado.csv', encoding = 'iso-8859-1', sep = ',')"
   ]
  },
  {
   "cell_type": "code",
   "execution_count": null,
   "id": "2741c922-b73c-45a8-9c46-23ae505d2ef3",
   "metadata": {},
   "outputs": [],
   "source": [
    "enem_sp.head()"
   ]
  },
  {
   "cell_type": "code",
   "execution_count": null,
   "id": "d3e7a246-66c8-4e2d-8af7-3246448dfe2b",
   "metadata": {},
   "outputs": [],
   "source": [
    "enem_sp.shape"
   ]
  },
  {
   "cell_type": "code",
   "execution_count": null,
   "id": "a08a0825-e8e0-4075-8630-945804da6dd8",
   "metadata": {},
   "outputs": [],
   "source": [
    "enem_campinas = enem_sp.loc[enem_sp.NO_MUNICIPIO_RESIDENCIA == 'Campinas']"
   ]
  },
  {
   "cell_type": "code",
   "execution_count": null,
   "id": "19b80696-7b44-4265-bf25-b21de3613a73",
   "metadata": {},
   "outputs": [],
   "source": [
    "enem_campinas.head()"
   ]
  },
  {
   "cell_type": "code",
   "execution_count": null,
   "id": "0eda06b5-51a8-4a90-9461-8895b921f208",
   "metadata": {},
   "outputs": [],
   "source": [
    "enem_campinas.shape"
   ]
  },
  {
   "cell_type": "markdown",
   "id": "ab930ad8-12be-42a8-a923-d6baabff0cb9",
   "metadata": {
    "jp-MarkdownHeadingCollapsed": true
   },
   "source": [
    "### Amostragem Aleatória Simples"
   ]
  },
  {
   "cell_type": "code",
   "execution_count": null,
   "id": "ad58493e-1795-4064-bece-cf604b7de590",
   "metadata": {},
   "outputs": [],
   "source": [
    "np.random.seed(33)"
   ]
  },
  {
   "cell_type": "code",
   "execution_count": null,
   "id": "be10c917-ad23-4c83-8b5e-4fd11acabee0",
   "metadata": {},
   "outputs": [],
   "source": [
    "amos_simples = enem_campinas.sample(frac = 0.2) # 20% dos dados"
   ]
  },
  {
   "cell_type": "code",
   "execution_count": null,
   "id": "5844aabd-c661-4c5c-a579-ec163563fedf",
   "metadata": {},
   "outputs": [],
   "source": [
    "amos_simples"
   ]
  },
  {
   "cell_type": "code",
   "execution_count": null,
   "id": "1d8a3264-8aa4-4de5-aca1-0fd7afc7c0e9",
   "metadata": {},
   "outputs": [],
   "source": [
    "amos_simples = enem_campinas.sample(3000) # número fixo de dados"
   ]
  },
  {
   "cell_type": "code",
   "execution_count": null,
   "id": "cda7be0d-cdc6-41a1-9d45-a626a56b57fa",
   "metadata": {},
   "outputs": [],
   "source": [
    "amos_simples"
   ]
  },
  {
   "cell_type": "code",
   "execution_count": null,
   "id": "7e01417d-84cb-4e47-ae55-1ea855a455a1",
   "metadata": {},
   "outputs": [],
   "source": [
    "np.random.seed(1234)"
   ]
  },
  {
   "cell_type": "code",
   "execution_count": null,
   "id": "cc8fcc71-a5e1-419f-8632-ac69447227de",
   "metadata": {},
   "outputs": [],
   "source": [
    "amostra = np.random.choice(a = [0,1], size = 13198, replace = True, p = [0.8, 0.2])"
   ]
  },
  {
   "cell_type": "code",
   "execution_count": null,
   "id": "a5d6be6d-c904-48bb-ac03-7cc911e63cb0",
   "metadata": {},
   "outputs": [],
   "source": [
    "amostra"
   ]
  },
  {
   "cell_type": "code",
   "execution_count": null,
   "id": "ca5dd263-8c32-4274-9d6d-5f21afbac161",
   "metadata": {},
   "outputs": [],
   "source": [
    "len(amostra[amostra == 0])"
   ]
  },
  {
   "cell_type": "code",
   "execution_count": null,
   "id": "285626f7-78f6-4feb-8abd-f0536306cdb5",
   "metadata": {},
   "outputs": [],
   "source": [
    "len(amostra[amostra == 1])"
   ]
  },
  {
   "cell_type": "code",
   "execution_count": null,
   "id": "3515f910-fbd8-4d35-badd-1120ebd2ab87",
   "metadata": {},
   "outputs": [],
   "source": [
    "amos_simples = enem_campinas.loc[amostra == 1]"
   ]
  },
  {
   "cell_type": "code",
   "execution_count": null,
   "id": "24996b66-5279-46db-bdb8-ae598e02da59",
   "metadata": {},
   "outputs": [],
   "source": [
    "amos_simples"
   ]
  },
  {
   "cell_type": "markdown",
   "id": "bbd558e6-8bd3-45c8-952d-db46e01fd555",
   "metadata": {
    "jp-MarkdownHeadingCollapsed": true
   },
   "source": [
    "### Amostragem Sistemática"
   ]
  },
  {
   "cell_type": "code",
   "execution_count": null,
   "id": "a908956a-1209-4360-b74e-89cf4d80878e",
   "metadata": {},
   "outputs": [],
   "source": [
    "enem_campinas.shape"
   ]
  },
  {
   "cell_type": "code",
   "execution_count": null,
   "id": "fb30ff41-2d86-4bb3-8436-6dff9b672bfc",
   "metadata": {},
   "outputs": [],
   "source": [
    "np.random.seed(3124)\n",
    "inicio = np.random.choice(10, 1)"
   ]
  },
  {
   "cell_type": "code",
   "execution_count": null,
   "id": "da8e2a56-6e48-441e-a349-69a76d3b5d8f",
   "metadata": {},
   "outputs": [],
   "source": [
    "amostra2 = np.arange(inicio, 13198, 100)\n",
    "amostra2"
   ]
  },
  {
   "cell_type": "code",
   "execution_count": null,
   "id": "3d4c8623-ebea-4669-bb1e-4643a316606f",
   "metadata": {},
   "outputs": [],
   "source": [
    "amos_sistematica = enem_campinas.iloc[amostra2, :]"
   ]
  },
  {
   "cell_type": "code",
   "execution_count": null,
   "id": "f874a99a-c370-4dd1-822a-5b6d4f5d664d",
   "metadata": {},
   "outputs": [],
   "source": [
    "amos_sistematica"
   ]
  },
  {
   "cell_type": "code",
   "execution_count": null,
   "id": "47f8e58d-d86d-4503-8392-48d8f266f3b7",
   "metadata": {},
   "outputs": [],
   "source": [
    "# outra maneira"
   ]
  },
  {
   "cell_type": "code",
   "execution_count": null,
   "id": "b6a08241-2cc7-4bb3-a59e-12da490d7275",
   "metadata": {},
   "outputs": [],
   "source": [
    "np.random.seed(543)"
   ]
  },
  {
   "cell_type": "code",
   "execution_count": null,
   "id": "f8db13d9-ba81-4d0e-b4c0-b3bf64fddab2",
   "metadata": {},
   "outputs": [],
   "source": [
    "inicio = np.random.choice(10, 1)\n",
    "passo = np.random.randint(100, 150, 1)"
   ]
  },
  {
   "cell_type": "code",
   "execution_count": null,
   "id": "03068e05-8865-4672-9c55-1d2e049207b8",
   "metadata": {},
   "outputs": [],
   "source": [
    "amostra2 = np.arange(inicio, 13198, passo)"
   ]
  },
  {
   "cell_type": "code",
   "execution_count": null,
   "id": "b0ecfec6-2c24-453c-9abd-21714752b115",
   "metadata": {},
   "outputs": [],
   "source": [
    "amostra2_camp = enem_campinas.iloc[amostra2, :]"
   ]
  },
  {
   "cell_type": "code",
   "execution_count": null,
   "id": "b61c7090-9c32-4e0c-afb7-9de88142b020",
   "metadata": {},
   "outputs": [],
   "source": [
    "amostra2_camp"
   ]
  },
  {
   "cell_type": "markdown",
   "id": "5299274b-0b94-4551-ada9-b0a526dc1fbe",
   "metadata": {
    "jp-MarkdownHeadingCollapsed": true
   },
   "source": [
    "### Amostragem Estratificada"
   ]
  },
  {
   "cell_type": "code",
   "execution_count": null,
   "id": "581d8e42-b574-4ee2-b931-c6a3febaeaa5",
   "metadata": {},
   "outputs": [],
   "source": [
    "enem_campinas['RACA'].value_counts()"
   ]
  },
  {
   "cell_type": "code",
   "execution_count": null,
   "id": "80385687-d0e3-4c22-b1be-e6af25e0bdd4",
   "metadata": {},
   "outputs": [],
   "source": [
    "# Para quantidade pequena de grupos"
   ]
  },
  {
   "cell_type": "code",
   "execution_count": null,
   "id": "0a626c09-a341-4fa9-a1e3-86c43422c72d",
   "metadata": {},
   "outputs": [],
   "source": [
    "branca = enem_campinas.loc[enem_campinas.RACA == 'branca'].sample(frac = 0.1)\n",
    "branca.shape"
   ]
  },
  {
   "cell_type": "code",
   "execution_count": null,
   "id": "57b791a7-ffe0-4ffe-abdf-b4eafc88259b",
   "metadata": {},
   "outputs": [],
   "source": [
    "parda = enem_campinas.loc[enem_campinas.RACA == 'parda'].sample(frac = 0.1)\n",
    "parda.shape"
   ]
  },
  {
   "cell_type": "code",
   "execution_count": null,
   "id": "156e6376-fa21-421a-819b-77bab6b611fd",
   "metadata": {},
   "outputs": [],
   "source": [
    "preta = enem_campinas.loc[enem_campinas.RACA == 'preta'].sample(frac = 0.1)\n",
    "preta.shape"
   ]
  },
  {
   "cell_type": "code",
   "execution_count": null,
   "id": "8c136328-b05f-4388-a765-e5031314bab4",
   "metadata": {},
   "outputs": [],
   "source": [
    "amarela = enem_campinas.loc[enem_campinas.RACA == 'amarela'].sample(frac = 0.1)\n",
    "amarela.shape"
   ]
  },
  {
   "cell_type": "code",
   "execution_count": null,
   "id": "e766d10a-bfda-43f2-86c3-2f004143290b",
   "metadata": {},
   "outputs": [],
   "source": [
    "nd = enem_campinas.loc[enem_campinas.RACA == 'nao_declarado'].sample(frac = 0.1)\n",
    "nd.shape"
   ]
  },
  {
   "cell_type": "code",
   "execution_count": null,
   "id": "69f67630-a2a5-44e3-a180-39c1c910cba3",
   "metadata": {},
   "outputs": [],
   "source": [
    "indigena = enem_campinas.loc[enem_campinas.RACA == 'indigena'].sample(frac = 0.1)\n",
    "indigena.shape"
   ]
  },
  {
   "cell_type": "code",
   "execution_count": null,
   "id": "63169bd6-ca6d-4052-a710-ff874a32e66e",
   "metadata": {},
   "outputs": [],
   "source": [
    "amos_estra = pd.concat([branca, parda, preta, amarela, nd, indigena])\n",
    "amos_estra"
   ]
  },
  {
   "cell_type": "code",
   "execution_count": null,
   "id": "950005b5-7899-491e-b34e-54aef07c9f62",
   "metadata": {},
   "outputs": [],
   "source": [
    "# Para grandes quantidades de grupos"
   ]
  },
  {
   "cell_type": "code",
   "execution_count": null,
   "id": "05783f40-09eb-4de8-9419-0f6d31c74280",
   "metadata": {},
   "outputs": [],
   "source": [
    "from sklearn.model_selection import train_test_split"
   ]
  },
  {
   "cell_type": "code",
   "execution_count": null,
   "id": "516f562f-6cb3-4a92-8d38-fc6ca93674c1",
   "metadata": {},
   "outputs": [],
   "source": [
    "x_treino, x_teste, y_treino, amos_estra = train_test_split(enem_campinas.drop('RACA', axis=1),\n",
    "                                                          enem_campinas['RACA'], stratify=enem_campinas['RACA'],\n",
    "                                                          test_size=0.2)"
   ]
  },
  {
   "cell_type": "code",
   "execution_count": null,
   "id": "813e01b5-d1b4-4018-a875-4d6ef8b29a67",
   "metadata": {},
   "outputs": [],
   "source": [
    "amos_estra.shape"
   ]
  },
  {
   "cell_type": "code",
   "execution_count": null,
   "id": "2eddc4a6-3879-4c83-b35f-efffc720c8c1",
   "metadata": {},
   "outputs": [],
   "source": [
    "amos_estra.value_counts()"
   ]
  },
  {
   "cell_type": "code",
   "execution_count": null,
   "id": "dc0b075e-41a7-4743-be84-e26cc86f7d21",
   "metadata": {},
   "outputs": [],
   "source": [
    "amos_estra = amos_estra.index"
   ]
  },
  {
   "cell_type": "code",
   "execution_count": null,
   "id": "0c4f8ecd-a346-45fd-a3c9-35893f14a6da",
   "metadata": {},
   "outputs": [],
   "source": [
    "amos_estra"
   ]
  },
  {
   "cell_type": "code",
   "execution_count": null,
   "id": "f59ec422-eefe-4fc9-b290-203dc631fea1",
   "metadata": {},
   "outputs": [],
   "source": [
    "amos_estra_camp = enem_campinas.loc[amos_estra, :]"
   ]
  },
  {
   "cell_type": "code",
   "execution_count": null,
   "id": "b8eda77b-fc1b-4cef-b1d1-dc27213cc624",
   "metadata": {},
   "outputs": [],
   "source": [
    "amos_estra_camp"
   ]
  },
  {
   "cell_type": "markdown",
   "id": "4e91440f-4a4f-4a20-a37b-5bcd43c470bb",
   "metadata": {
    "jp-MarkdownHeadingCollapsed": true
   },
   "source": [
    "### Amostragem Por Conglomerado (Agrupamento)"
   ]
  },
  {
   "cell_type": "code",
   "execution_count": null,
   "id": "6c99b173-7b06-4fd0-8d86-cdec288c17e4",
   "metadata": {},
   "outputs": [],
   "source": [
    "escolas_publicas = enem_campinas.loc[enem_campinas.ESCOLA == 'publica']"
   ]
  },
  {
   "cell_type": "code",
   "execution_count": null,
   "id": "f02c265e-7fb3-451a-ae55-ce8c59e9a696",
   "metadata": {},
   "outputs": [],
   "source": [
    "escolas_publicas.shape"
   ]
  },
  {
   "cell_type": "code",
   "execution_count": null,
   "id": "7b5b9c7c-d4d0-4928-9ce4-15e91466feca",
   "metadata": {},
   "outputs": [],
   "source": [
    "amostras = escolas_publicas['CO_ESCOLA'].value_counts()\n",
    "amostras"
   ]
  },
  {
   "cell_type": "code",
   "execution_count": null,
   "id": "7af9d416-47db-4d05-a0be-d5691ca56649",
   "metadata": {},
   "outputs": [],
   "source": [
    "amostras.index"
   ]
  },
  {
   "cell_type": "code",
   "execution_count": null,
   "id": "cf2df61b-999d-4a28-a6df-6fe26d0babe3",
   "metadata": {},
   "outputs": [],
   "source": [
    "amostragem = np.random.choice(a=[0,1], size=186,replace=True, p=[0.85, 0.15]) # 186 é a quantidade de escolas publicas (length)"
   ]
  },
  {
   "cell_type": "code",
   "execution_count": null,
   "id": "44f0869e-ce8e-4131-aba8-d77b7c136894",
   "metadata": {},
   "outputs": [],
   "source": [
    "amostragem"
   ]
  },
  {
   "cell_type": "code",
   "execution_count": null,
   "id": "82e7caba-91c7-4a57-8046-b970cc463026",
   "metadata": {},
   "outputs": [],
   "source": [
    "amos_conglomerado = amostras.loc[amostragem == 1]"
   ]
  },
  {
   "cell_type": "code",
   "execution_count": null,
   "id": "d7bfa387-b935-432c-8310-e44f72eb8ff3",
   "metadata": {},
   "outputs": [],
   "source": [
    "amos_conglomerado"
   ]
  },
  {
   "cell_type": "code",
   "execution_count": null,
   "id": "ac2095a3-f2b4-45fd-b175-441deec199ed",
   "metadata": {},
   "outputs": [],
   "source": [
    "amos_conglomerado.shape"
   ]
  },
  {
   "cell_type": "code",
   "execution_count": null,
   "id": "16268667-712d-42e4-8c13-4a8ba68da8db",
   "metadata": {},
   "outputs": [],
   "source": [
    "amos_conglomerado.index"
   ]
  },
  {
   "cell_type": "code",
   "execution_count": null,
   "id": "518a7a27-4acd-4ec3-94cb-44ba89753087",
   "metadata": {},
   "outputs": [],
   "source": [
    "amos_conglomerado = escolas_publicas.loc[escolas_publicas['CO_ESCOLA'].isin([35045664.0, 35018351.0, 35018314.0, 35018570.0, 35112859.0, 35018259.0,\n",
    "       35905471.0, 35924544.0, 35812900.0, 35018296.0, 35467765.0, 35045676.0,\n",
    "       35018922.0, 35065626.0, 35901118.0, 35045697.0, 35213640.0, 35112720.0,\n",
    "       35131982.0, 35018200.0, 35165062.0, 35915592.0, 35112707.0, 35112641.0,\n",
    "       35172510.0, 35112537.0, 35307701.0, 35917552.0, 35017255.0])]"
   ]
  },
  {
   "cell_type": "code",
   "execution_count": null,
   "id": "ccb1a945-d750-4786-8804-98f9584afcd8",
   "metadata": {},
   "outputs": [],
   "source": [
    "amos_conglomerado"
   ]
  },
  {
   "cell_type": "markdown",
   "id": "f1b7515e-26c7-42b7-9394-41a56a7ba25c",
   "metadata": {
    "jp-MarkdownHeadingCollapsed": true
   },
   "source": [
    "## Distribuição de Frequências"
   ]
  },
  {
   "cell_type": "code",
   "execution_count": null,
   "id": "af803c24-b843-4e22-8ef2-fcaf7811bd0a",
   "metadata": {},
   "outputs": [],
   "source": [
    "import numpy as np\n",
    "import pandas as pd\n",
    "from collections import Counter"
   ]
  },
  {
   "cell_type": "code",
   "execution_count": null,
   "id": "e2b65bcf-e3f8-4796-8c31-2ea0babd6dcb",
   "metadata": {},
   "outputs": [],
   "source": [
    "enem_sp = pd.read_csv('./enem_2019_tratado.csv', sep=',', encoding='iso-8859-1')"
   ]
  },
  {
   "cell_type": "code",
   "execution_count": null,
   "id": "2740f8bc-8c94-4248-b85b-16f65ac1b553",
   "metadata": {},
   "outputs": [],
   "source": [
    "enem_sp.head()"
   ]
  },
  {
   "cell_type": "code",
   "execution_count": null,
   "id": "f1617eea-9ec3-4d0f-a20a-322d2cd8437d",
   "metadata": {},
   "outputs": [],
   "source": [
    "enem_sorocaba = enem_sp.loc[enem_sp.NO_MUNICIPIO_RESIDENCIA == 'Sorocaba']"
   ]
  },
  {
   "cell_type": "code",
   "execution_count": null,
   "id": "7b717da4-3d1d-4cda-b0c1-00a4ce49c66a",
   "metadata": {},
   "outputs": [],
   "source": [
    "enem_sorocaba.shape"
   ]
  },
  {
   "cell_type": "markdown",
   "id": "da4c22e3-0ee0-413c-a6de-d9f3fd503f86",
   "metadata": {
    "jp-MarkdownHeadingCollapsed": true
   },
   "source": [
    "### Frequência absoluta"
   ]
  },
  {
   "cell_type": "code",
   "execution_count": null,
   "id": "05f12e94-7271-42db-8b24-17a4c073e5cf",
   "metadata": {},
   "outputs": [],
   "source": [
    "idades = enem_sorocaba['IDADE']"
   ]
  },
  {
   "cell_type": "code",
   "execution_count": null,
   "id": "e9c50365-0c03-44d0-8018-436f0a756dce",
   "metadata": {},
   "outputs": [],
   "source": [
    "idades"
   ]
  },
  {
   "cell_type": "code",
   "execution_count": null,
   "id": "970fe83f-5562-4262-b894-bebf7160cca4",
   "metadata": {},
   "outputs": [],
   "source": [
    "freq_absoluta = Counter(idades)"
   ]
  },
  {
   "cell_type": "code",
   "execution_count": null,
   "id": "17a3d5ec-d147-4c6e-b70d-979b8b071f11",
   "metadata": {},
   "outputs": [],
   "source": [
    "freq_absoluta"
   ]
  },
  {
   "cell_type": "code",
   "execution_count": null,
   "id": "2429c6ac-5fc9-4a2b-a26e-dfa181f44efc",
   "metadata": {},
   "outputs": [],
   "source": [
    "freq_absoluta = pd.DataFrame.from_dict(freq_absoluta, orient='index')"
   ]
  },
  {
   "cell_type": "code",
   "execution_count": null,
   "id": "4ed3dfec-9781-4b71-8165-6b217cd5e815",
   "metadata": {},
   "outputs": [],
   "source": [
    "freq_absoluta"
   ]
  },
  {
   "cell_type": "code",
   "execution_count": null,
   "id": "6712fa87-ef50-4182-9758-bec486ef1055",
   "metadata": {},
   "outputs": [],
   "source": [
    "freq_absoluta = freq_absoluta.sort_index(ascending=True)"
   ]
  },
  {
   "cell_type": "code",
   "execution_count": null,
   "id": "526ffeae-7575-4262-ab8c-6f5981566995",
   "metadata": {},
   "outputs": [],
   "source": [
    "freq_absoluta"
   ]
  },
  {
   "cell_type": "markdown",
   "id": "a493bec6-42f9-4a2b-a8ca-793faf1293ab",
   "metadata": {
    "jp-MarkdownHeadingCollapsed": true
   },
   "source": [
    "### Frequência Relativa"
   ]
  },
  {
   "cell_type": "code",
   "execution_count": null,
   "id": "0261afba-5a76-4182-9268-7a9e2b75d62b",
   "metadata": {},
   "outputs": [],
   "source": [
    "freq_relativa = freq_absoluta / freq_absoluta.sum()\n",
    "freq_relativa"
   ]
  },
  {
   "cell_type": "code",
   "execution_count": null,
   "id": "25f8c5d2-2cc6-427b-811d-ecb191fa7209",
   "metadata": {},
   "outputs": [],
   "source": [
    "freq_relativa_perc = freq_relativa * 100\n",
    "freq_relativa_perc"
   ]
  },
  {
   "cell_type": "markdown",
   "id": "e9613444-6c82-4511-a89e-4caf1adeeab2",
   "metadata": {
    "jp-MarkdownHeadingCollapsed": true
   },
   "source": [
    "## Gráfico de frequências: Histograma"
   ]
  },
  {
   "cell_type": "markdown",
   "id": "069a32eb-97bd-4901-9667-246775f01457",
   "metadata": {
    "jp-MarkdownHeadingCollapsed": true
   },
   "source": [
    "### Matplotlib"
   ]
  },
  {
   "cell_type": "code",
   "execution_count": null,
   "id": "0ee310f6-9c43-4c47-9f22-607471cad850",
   "metadata": {},
   "outputs": [],
   "source": [
    "import matplotlib.pyplot as plt"
   ]
  },
  {
   "cell_type": "code",
   "execution_count": null,
   "id": "fe295852-5366-4de0-8fc4-a91ac088315c",
   "metadata": {},
   "outputs": [],
   "source": [
    "enem_sorocaba.IDADE.hist(bins = 8)\n",
    "plt.title('Distribuição de Idades - ENEM SP 2019 - Sorocaba')\n",
    "plt.show()"
   ]
  },
  {
   "cell_type": "code",
   "execution_count": null,
   "id": "706c65f2-ce27-4438-a4af-37c563c0c4eb",
   "metadata": {},
   "outputs": [],
   "source": [
    "plt.hist(enem_sorocaba.IDADE, 8, rwidth = 1)\n",
    "plt.title('Distribuição de Idades - ENEM SP 2019 - Sorocaba')\n",
    "plt.show()"
   ]
  },
  {
   "cell_type": "code",
   "execution_count": null,
   "id": "1527ddd5-a681-4b5c-9e46-f76f134a8be7",
   "metadata": {},
   "outputs": [],
   "source": [
    "from matplotlib import colors\n",
    "plt.hist(enem_sorocaba.IDADE, 20, rwidth=1, color='green', density=True)\n",
    "plt.title('Distribuição de Idades - ENEM SP 2019 - Sorocaba')\n",
    "plt.xlabel('Idade')\n",
    "plt.ylabel('Frequência')\n",
    "plt.show()"
   ]
  },
  {
   "cell_type": "markdown",
   "id": "234137b6-b7b2-48a9-b2eb-2b3825dc155f",
   "metadata": {
    "jp-MarkdownHeadingCollapsed": true
   },
   "source": [
    "### Seaborn"
   ]
  },
  {
   "cell_type": "code",
   "execution_count": null,
   "id": "a72b02ca-e7c4-4e69-a382-30a27b12e248",
   "metadata": {},
   "outputs": [],
   "source": [
    "import seaborn as sns"
   ]
  },
  {
   "cell_type": "code",
   "execution_count": null,
   "id": "2bfceb06-0554-4cb7-88b1-4bb2f5dc0ca3",
   "metadata": {},
   "outputs": [],
   "source": [
    "sns.displot(enem_sorocaba['IDADE'], bins=8, color='blue', kde=False); # kde = linha de densidade"
   ]
  },
  {
   "cell_type": "code",
   "execution_count": null,
   "id": "9d0d6419-892a-46b5-86cc-b9e31d7ec309",
   "metadata": {},
   "outputs": [],
   "source": [
    "# podemos usar displot e histplot\n",
    "sns.histplot(enem_sorocaba, x='IDADE', bins=8, color='green', kde=True, stat='probability');"
   ]
  },
  {
   "cell_type": "markdown",
   "id": "f586a6ed-f9b0-4344-a81f-474cfb4e541e",
   "metadata": {
    "jp-MarkdownHeadingCollapsed": true
   },
   "source": [
    "### Plotly"
   ]
  },
  {
   "cell_type": "code",
   "execution_count": null,
   "id": "0312dc4d-87f6-4589-b42d-6de24f832352",
   "metadata": {},
   "outputs": [],
   "source": [
    "import plotly.express as px\n",
    "grafico = px.histogram(enem_sorocaba, x='IDADE', nbins=10, histnorm='percent')\n",
    "grafico.update_layout(width=500,height=500,title_text='Distribuição de idades - ENEM SP 2019 - Sorocaba')\n",
    "grafico.show()"
   ]
  },
  {
   "cell_type": "code",
   "execution_count": null,
   "id": "36a944a8-99b3-4ea6-bb0a-e58b553e0ac5",
   "metadata": {},
   "outputs": [],
   "source": [
    "grafico = px.histogram(enem_sorocaba, x='IDADE', nbins=10, histnorm='probability', color='SEXO')\n",
    "grafico.update_layout(width=500,height=500,title_text='Distribuição de idades - ENEM SP 2019 - Sorocaba')\n",
    "grafico.show()"
   ]
  },
  {
   "cell_type": "code",
   "execution_count": null,
   "id": "abe01735-37cd-43ea-93d1-a1872244924e",
   "metadata": {},
   "outputs": [],
   "source": [
    "grafico = px.histogram(enem_sorocaba, x='NOTA_MT', nbins=14, color='SEXO')\n",
    "grafico.update_layout(width=500,height=500,title_text='Distribuição de idades - ENEM SP 2019 - Sorocaba')\n",
    "grafico.show()"
   ]
  },
  {
   "cell_type": "code",
   "execution_count": null,
   "id": "152cfb17-5936-42f4-9684-c0cd048b45f3",
   "metadata": {},
   "outputs": [],
   "source": [
    "grafico = px.histogram(enem_sorocaba, x='NOTA_CN', nbins=14, color='SEXO')\n",
    "grafico.update_layout(width=500,height=500,title_text='Distribuição de idades - ENEM SP 2019 - Sorocaba')\n",
    "grafico.show()"
   ]
  },
  {
   "cell_type": "code",
   "execution_count": null,
   "id": "bc67d050-964f-4e22-9478-9a1abcf2a082",
   "metadata": {},
   "outputs": [],
   "source": [
    "grafico = px.histogram(enem_sorocaba, x='NOTA_REDACAO', nbins=20, color='RACA', histnorm='percent')\n",
    "grafico.update_layout(width=500,height=500,title_text='Distribuição de idades - ENEM SP 2019 - Sorocaba')\n",
    "grafico.show()"
   ]
  },
  {
   "cell_type": "markdown",
   "id": "1adafca8-676e-47ee-9af0-22a5668776c9",
   "metadata": {
    "jp-MarkdownHeadingCollapsed": true
   },
   "source": [
    "## Medidas de tendência central"
   ]
  },
  {
   "cell_type": "code",
   "execution_count": null,
   "id": "9dc1950a-4b38-4a2e-99b9-0d81c23f82cd",
   "metadata": {},
   "outputs": [],
   "source": [
    "import numpy as np \n",
    "import pandas as pd\n",
    "enem_sp = pd.read_csv('./enem_2019_tratado.csv', sep=',', encoding='iso-8859-1')"
   ]
  },
  {
   "cell_type": "markdown",
   "id": "bdc81af5-b08d-4a77-91d0-c524a3bdbbfe",
   "metadata": {
    "jp-MarkdownHeadingCollapsed": true
   },
   "source": [
    "### Média"
   ]
  },
  {
   "cell_type": "code",
   "execution_count": null,
   "id": "57a807ae-89d3-40eb-9bf4-0956003c94f0",
   "metadata": {},
   "outputs": [],
   "source": [
    "enem_sp['IDADE'].mean()"
   ]
  },
  {
   "cell_type": "code",
   "execution_count": null,
   "id": "7d1edcde-48c6-4415-a595-66737fcf8d98",
   "metadata": {},
   "outputs": [],
   "source": [
    "round(enem_sp['IDADE'].mean(),1)"
   ]
  },
  {
   "cell_type": "code",
   "execution_count": null,
   "id": "81f99318-0d06-4358-8f7d-cba6a5779c05",
   "metadata": {},
   "outputs": [],
   "source": [
    "enem_sp['NOTA_REDACAO'].mean()"
   ]
  },
  {
   "cell_type": "code",
   "execution_count": null,
   "id": "928289d9-6905-4313-aba5-8becb4e78430",
   "metadata": {},
   "outputs": [],
   "source": [
    "enem_sp.describe()"
   ]
  },
  {
   "cell_type": "markdown",
   "id": "2d93f7fe-5e7a-4c14-99dc-ed2b49cac75b",
   "metadata": {
    "jp-MarkdownHeadingCollapsed": true
   },
   "source": [
    "### Mediana"
   ]
  },
  {
   "cell_type": "code",
   "execution_count": null,
   "id": "183e9496-5334-42ca-b0b8-8ee0f567637f",
   "metadata": {},
   "outputs": [],
   "source": [
    "enem_sp['IDADE'].median()"
   ]
  },
  {
   "cell_type": "markdown",
   "id": "7ae1096c-1df4-49b6-91b8-7526bedc04f9",
   "metadata": {
    "jp-MarkdownHeadingCollapsed": true
   },
   "source": [
    "### Moda"
   ]
  },
  {
   "cell_type": "code",
   "execution_count": null,
   "id": "a3dbda50-ff61-408a-b598-51e3d4e5fd2d",
   "metadata": {},
   "outputs": [],
   "source": [
    "enem_sp.IDADE.mode()"
   ]
  },
  {
   "cell_type": "markdown",
   "id": "fcca4c01-a27d-4bd6-9c82-105e76d2da89",
   "metadata": {
    "jp-MarkdownHeadingCollapsed": true
   },
   "source": [
    "### Distribuição"
   ]
  },
  {
   "cell_type": "code",
   "execution_count": null,
   "id": "59f869b5-2c99-4425-a391-384495c249d8",
   "metadata": {},
   "outputs": [],
   "source": [
    "enem_sp.COMP3.mode()"
   ]
  },
  {
   "cell_type": "code",
   "execution_count": null,
   "id": "e0cde9f5-8288-4256-b54e-c2ad23e14fbf",
   "metadata": {},
   "outputs": [],
   "source": [
    "enem_sp.COMP3.mean()"
   ]
  },
  {
   "cell_type": "code",
   "execution_count": null,
   "id": "a85df7a6-b56d-4ceb-89b1-0e3bf3aea79d",
   "metadata": {},
   "outputs": [],
   "source": [
    "enem_sp.COMP3.median()"
   ]
  },
  {
   "cell_type": "code",
   "execution_count": null,
   "id": "f4b358c0-3bcf-4eb8-9099-d1620939ef60",
   "metadata": {},
   "outputs": [],
   "source": [
    "import plotly.express as px"
   ]
  },
  {
   "cell_type": "code",
   "execution_count": null,
   "id": "7c7894bf-0273-49a7-bbc6-0aefcc7f8b59",
   "metadata": {},
   "outputs": [],
   "source": [
    "grafico = px.histogram(enem_sp, x='COMP3', nbins=15)\n",
    "grafico.update_layout(width=400, height=400, title_text='Nota do componente 3 da redação - ENEM SP 2019')\n",
    "grafico.show()"
   ]
  },
  {
   "cell_type": "code",
   "execution_count": null,
   "id": "79ad5112-0cbb-4468-84f8-307327f70337",
   "metadata": {},
   "outputs": [],
   "source": [
    "enem_sp.COMP2.mode()"
   ]
  },
  {
   "cell_type": "code",
   "execution_count": null,
   "id": "1c1d8983-63b1-4672-9226-6995ee547644",
   "metadata": {},
   "outputs": [],
   "source": [
    "enem_sp.COMP2.mean()"
   ]
  },
  {
   "cell_type": "code",
   "execution_count": null,
   "id": "5bc2eea4-af50-4029-9e64-f9fa0eb3f7f2",
   "metadata": {},
   "outputs": [],
   "source": [
    "enem_sp.COMP2.median()"
   ]
  },
  {
   "cell_type": "code",
   "execution_count": null,
   "id": "7dfd7a78-9081-4639-9fc9-6d75e090abc2",
   "metadata": {},
   "outputs": [],
   "source": [
    "grafico = px.histogram(enem_sp, x='COMP2', nbins=15)\n",
    "grafico.update_layout(width=400, height=400, title_text='Nota do componente 2 da redação - ENEM SP 2019')\n",
    "grafico.show()"
   ]
  },
  {
   "cell_type": "markdown",
   "id": "7a137c26-b14a-452b-a5f7-bdf3793cb9c4",
   "metadata": {},
   "source": [
    "## Medidas de Dispersão e Posição"
   ]
  },
  {
   "cell_type": "code",
   "execution_count": null,
   "id": "830130e7-babb-4834-9b10-bffc3e75b520",
   "metadata": {},
   "outputs": [],
   "source": [
    "import numpy as np \n",
    "import pandas as pd\n",
    "enem_sp = pd.read_csv('./enem_2019_tratado.csv', sep=',', encoding='iso-8859-1')"
   ]
  },
  {
   "cell_type": "markdown",
   "id": "dcf5b808-97c6-48ce-af40-b2b6850db620",
   "metadata": {
    "jp-MarkdownHeadingCollapsed": true
   },
   "source": [
    "### Medidas de Dispersão"
   ]
  },
  {
   "cell_type": "markdown",
   "id": "667c2ff7-408d-4a68-9e8f-947b04ce5b05",
   "metadata": {},
   "source": [
    "#### Variância"
   ]
  },
  {
   "cell_type": "code",
   "execution_count": null,
   "id": "966cea6e-6ecd-4dd0-ae7d-ba047bf5abee",
   "metadata": {},
   "outputs": [],
   "source": [
    "enem_sp.NOTA_MT.var()"
   ]
  },
  {
   "cell_type": "markdown",
   "id": "8227846c-d8dd-4916-a8db-44f6c7dd4e6b",
   "metadata": {},
   "source": [
    "#### Desvio-padrão"
   ]
  },
  {
   "cell_type": "code",
   "execution_count": null,
   "id": "d06a12e3-15ec-4580-8331-ce02a8475612",
   "metadata": {},
   "outputs": [],
   "source": [
    "enem_sp.NOTA_MT.std()"
   ]
  },
  {
   "cell_type": "code",
   "execution_count": null,
   "id": "fbc83b82-0c18-4154-a8e6-ac78458821ae",
   "metadata": {},
   "outputs": [],
   "source": [
    "enem_sp.describe()"
   ]
  },
  {
   "cell_type": "markdown",
   "id": "c1f4acc6-66a3-4cc1-93ab-adec3e585b99",
   "metadata": {
    "jp-MarkdownHeadingCollapsed": true
   },
   "source": [
    "### Medidas de Posição"
   ]
  },
  {
   "cell_type": "markdown",
   "id": "8a66a21f-5458-4d85-b676-e54704f87668",
   "metadata": {},
   "source": [
    "#### Mínimo"
   ]
  },
  {
   "cell_type": "code",
   "execution_count": null,
   "id": "ae65af56-0711-4b59-b9c0-549fd8c99d2e",
   "metadata": {},
   "outputs": [],
   "source": [
    "enem_sp.NOTA_MT.min()"
   ]
  },
  {
   "cell_type": "markdown",
   "id": "2f064995-bda9-4917-a553-9bfb3702e931",
   "metadata": {},
   "source": [
    "#### Máximo"
   ]
  },
  {
   "cell_type": "code",
   "execution_count": null,
   "id": "4bc6822d-0123-43f1-a98b-5ad5d15de057",
   "metadata": {},
   "outputs": [],
   "source": [
    "enem_sp.NOTA_MT.max()"
   ]
  },
  {
   "cell_type": "markdown",
   "id": "19135a16-dcd2-4edc-baaa-4d116c2129ea",
   "metadata": {},
   "source": [
    "#### Primeiro Quartil"
   ]
  },
  {
   "cell_type": "code",
   "execution_count": null,
   "id": "133a8cf6-cc71-4361-ad60-1777e00be065",
   "metadata": {},
   "outputs": [],
   "source": [
    "enem_sp.NOTA_MT.quantile(0.25)"
   ]
  },
  {
   "cell_type": "markdown",
   "id": "45c99069-1c3f-4276-acfa-a7b482182f09",
   "metadata": {},
   "source": [
    "#### Segundo Quartil (mediana)"
   ]
  },
  {
   "cell_type": "code",
   "execution_count": null,
   "id": "74664c29-9a8f-4ab7-b630-0f218522543e",
   "metadata": {},
   "outputs": [],
   "source": [
    "enem_sp.NOTA_MT.quantile(0.50)"
   ]
  },
  {
   "cell_type": "markdown",
   "id": "2911a5ff-25ec-4f52-8b39-6c268e563598",
   "metadata": {},
   "source": [
    "#### Terceiro Quartil"
   ]
  },
  {
   "cell_type": "code",
   "execution_count": null,
   "id": "998fe4f7-8299-41b9-b149-7eea233a920e",
   "metadata": {},
   "outputs": [],
   "source": [
    "enem_sp.NOTA_MT.quantile(0.75)"
   ]
  },
  {
   "cell_type": "markdown",
   "id": "8a39a72e-5337-47cb-92ac-4612c790c48a",
   "metadata": {
    "jp-MarkdownHeadingCollapsed": true
   },
   "source": [
    "## Gráfico BoxPlot e Outliers"
   ]
  },
  {
   "cell_type": "markdown",
   "id": "fd9dde3f-5e2e-4a7b-b09e-d9b8a7ecfc09",
   "metadata": {},
   "source": [
    "### Matplotlib"
   ]
  },
  {
   "cell_type": "code",
   "execution_count": null,
   "id": "f420ebd9-8b1f-4af8-8c21-7f25154bd943",
   "metadata": {},
   "outputs": [],
   "source": [
    "import matplotlib.pyplot as plt"
   ]
  },
  {
   "cell_type": "code",
   "execution_count": null,
   "id": "622db428-32c6-4617-a386-d549314cb8fa",
   "metadata": {},
   "outputs": [],
   "source": [
    "plt.boxplot(enem_sp.NOTA_MT)\n",
    "plt.show"
   ]
  },
  {
   "cell_type": "markdown",
   "id": "85b53909-5f9d-49f0-8c30-4c0d1da5edb9",
   "metadata": {},
   "source": [
    "### Seaborn"
   ]
  },
  {
   "cell_type": "code",
   "execution_count": null,
   "id": "45061d3b-4fd7-4085-9783-4be9f28281a0",
   "metadata": {},
   "outputs": [],
   "source": [
    "import seaborn as sns"
   ]
  },
  {
   "cell_type": "code",
   "execution_count": null,
   "id": "bc9d6630-9fcd-43f9-b29f-29a4dea99d9c",
   "metadata": {},
   "outputs": [],
   "source": [
    "sns.boxplot(y='NOTA_MT', data=enem_sp);"
   ]
  },
  {
   "cell_type": "markdown",
   "id": "ad97cf19-5cb7-4c84-9170-f2f17dd97684",
   "metadata": {},
   "source": [
    "### Plotly"
   ]
  },
  {
   "cell_type": "code",
   "execution_count": null,
   "id": "6f32daf3-4bde-4c94-9311-917d4068f3c4",
   "metadata": {},
   "outputs": [],
   "source": [
    "import plotly.express as px"
   ]
  },
  {
   "cell_type": "code",
   "execution_count": null,
   "id": "af52d764-274e-498b-8e93-e73e28bc3c10",
   "metadata": {},
   "outputs": [],
   "source": [
    "grafico = px.box(enem_sp, y='NOTA_MT')\n",
    "grafico.show()"
   ]
  },
  {
   "cell_type": "code",
   "execution_count": null,
   "id": "25705e67-951e-403d-a8e7-fc41b33d74e4",
   "metadata": {},
   "outputs": [],
   "source": [
    "sem_outliers = enem_sp.loc[enem_sp.NOTA_MT <= 902.9]"
   ]
  },
  {
   "cell_type": "code",
   "execution_count": null,
   "id": "5e00360a-fcb9-4e6f-ade3-5d6e9f5ad548",
   "metadata": {},
   "outputs": [],
   "source": [
    "sem_outliers = sem_outliers.loc[sem_outliers.NOTA_MT >= 359.1]"
   ]
  },
  {
   "cell_type": "code",
   "execution_count": null,
   "id": "39b6f8b1-a8cf-45dc-b5a1-953f69071a32",
   "metadata": {},
   "outputs": [],
   "source": [
    "grafico = px.box(sem_outliers, y='NOTA_MT')\n",
    "grafico.show()"
   ]
  },
  {
   "cell_type": "code",
   "execution_count": null,
   "id": "d0f1d496-fed9-41b1-88b0-4aef25b4b8c2",
   "metadata": {},
   "outputs": [],
   "source": [
    "grafico = px.box(enem_sp, x='SEXO', y='NOTA_MT')\n",
    "grafico.show()"
   ]
  },
  {
   "cell_type": "code",
   "execution_count": null,
   "id": "4b3b53b5-c222-4ee1-adac-e6a735a5e152",
   "metadata": {},
   "outputs": [],
   "source": []
  }
 ],
 "metadata": {
  "kernelspec": {
   "display_name": "Python 3 (ipykernel)",
   "language": "python",
   "name": "python3"
  },
  "language_info": {
   "codemirror_mode": {
    "name": "ipython",
    "version": 3
   },
   "file_extension": ".py",
   "mimetype": "text/x-python",
   "name": "python",
   "nbconvert_exporter": "python",
   "pygments_lexer": "ipython3",
   "version": "3.12.7"
  }
 },
 "nbformat": 4,
 "nbformat_minor": 5
}
