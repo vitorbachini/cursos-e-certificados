{
 "cells": [
  {
   "cell_type": "markdown",
   "id": "eaa81ca8-43ca-4140-b3f6-c78905f50e29",
   "metadata": {},
   "source": [
    "# 20-Math Modules"
   ]
  },
  {
   "cell_type": "markdown",
   "id": "c0dceeeb-faa8-42ea-a20f-8f0e93a4d101",
   "metadata": {},
   "source": [
    "## Fractions"
   ]
  },
  {
   "cell_type": "markdown",
   "id": "b82c6ace-893c-4d3d-a5db-98b849cbf863",
   "metadata": {},
   "source": [
    "## Random"
   ]
  },
  {
   "cell_type": "markdown",
   "id": "a35403c9-ab30-4064-88c6-b5c36812b42c",
   "metadata": {},
   "source": [
    "## Math"
   ]
  },
  {
   "cell_type": "markdown",
   "id": "7f7c91ae-6073-4df7-b5a3-13f18fb27bb1",
   "metadata": {},
   "source": [
    "## Statistics"
   ]
  },
  {
   "cell_type": "code",
   "execution_count": null,
   "id": "ddd14b43-bfd9-4b82-91ca-b7daf92b3ab9",
   "metadata": {},
   "outputs": [],
   "source": []
  }
 ],
 "metadata": {
  "kernelspec": {
   "display_name": "Python 3 (ipykernel)",
   "language": "python",
   "name": "python3"
  },
  "language_info": {
   "codemirror_mode": {
    "name": "ipython",
    "version": 3
   },
   "file_extension": ".py",
   "mimetype": "text/x-python",
   "name": "python",
   "nbconvert_exporter": "python",
   "pygments_lexer": "ipython3",
   "version": "3.12.7"
  }
 },
 "nbformat": 4,
 "nbformat_minor": 5
}
