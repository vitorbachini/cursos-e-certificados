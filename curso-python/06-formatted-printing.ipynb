{
 "cells": [
  {
   "cell_type": "markdown",
   "id": "959db1da-6451-4e8f-bfec-df77e88f32e3",
   "metadata": {},
   "source": [
    "# 06-Formatted-Printing"
   ]
  },
  {
   "cell_type": "markdown",
   "id": "a24bf290-57bd-4c87-8685-49179cf11d8a",
   "metadata": {},
   "source": [
    "## ASCII code"
   ]
  },
  {
   "cell_type": "markdown",
   "id": "6da33f41-8d4d-4ed1-ab67-aa0e4da5e5ba",
   "metadata": {},
   "source": [
    "## Unicode"
   ]
  },
  {
   "cell_type": "markdown",
   "id": "7344260d-b432-4e6d-9cb9-4ee117a26736",
   "metadata": {},
   "source": [
    "## Escape Sequences"
   ]
  },
  {
   "cell_type": "markdown",
   "id": "bb3c99b9-c24f-4b3f-b10c-007d7355f2ca",
   "metadata": {},
   "source": [
    "## Print Function"
   ]
  },
  {
   "cell_type": "markdown",
   "id": "79471e8f-524b-486d-8f8c-0ed12c53b381",
   "metadata": {},
   "source": [
    "## Formatted Printing"
   ]
  },
  {
   "cell_type": "code",
   "execution_count": null,
   "id": "eefb0d1e-efc4-4a78-98e3-b43b1cee656a",
   "metadata": {},
   "outputs": [],
   "source": []
  }
 ],
 "metadata": {
  "kernelspec": {
   "display_name": "Python 3 (ipykernel)",
   "language": "python",
   "name": "python3"
  },
  "language_info": {
   "codemirror_mode": {
    "name": "ipython",
    "version": 3
   },
   "file_extension": ".py",
   "mimetype": "text/x-python",
   "name": "python",
   "nbconvert_exporter": "python",
   "pygments_lexer": "ipython3",
   "version": "3.12.7"
  }
 },
 "nbformat": 4,
 "nbformat_minor": 5
}
