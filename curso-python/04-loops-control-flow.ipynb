{
 "cells": [
  {
   "cell_type": "markdown",
   "id": "e27b5fe0-dcfa-4f10-8ef1-e206b035b205",
   "metadata": {},
   "source": [
    "# 04-Loops - Control Flow"
   ]
  },
  {
   "cell_type": "markdown",
   "id": "1ed1007e-b870-4b1c-af42-1a7a846eed11",
   "metadata": {
    "jp-MarkdownHeadingCollapsed": true
   },
   "source": [
    "## While loops"
   ]
  },
  {
   "cell_type": "code",
   "execution_count": 2,
   "id": "c0d2ff6c-38e9-482a-a8c9-2f672d656ea9",
   "metadata": {},
   "outputs": [
    {
     "name": "stdout",
     "output_type": "stream",
     "text": [
      "1\n",
      "2\n",
      "3\n",
      "4\n",
      "5\n",
      "6\n",
      "7\n",
      "8\n",
      "9\n",
      "10\n"
     ]
    }
   ],
   "source": [
    "# while\n",
    "\n",
    "count = 0\n",
    "while count < 10:\n",
    "    count = count + 1\n",
    "    print(count)\n"
   ]
  },
  {
   "cell_type": "code",
   "execution_count": 4,
   "id": "76e86e46-a110-4747-91be-b71f1a37a4e9",
   "metadata": {},
   "outputs": [
    {
     "name": "stdin",
     "output_type": "stream",
     "text": [
      "Digite um número:  56723\n"
     ]
    },
    {
     "name": "stdout",
     "output_type": "stream",
     "text": [
      "3\n",
      "2\n",
      "7\n",
      "6\n",
      "5\n"
     ]
    }
   ],
   "source": [
    "n = int(input('Digite um número: '))\n",
    "\n",
    "while n > 0:\n",
    "    resto = n % 10\n",
    "    n = n // 10\n",
    "    print(resto)"
   ]
  },
  {
   "cell_type": "markdown",
   "id": "85b4f50b-459b-457d-8595-4c1de97e8a6b",
   "metadata": {
    "jp-MarkdownHeadingCollapsed": true
   },
   "source": [
    "## Challenge 1"
   ]
  },
  {
   "cell_type": "code",
   "execution_count": 5,
   "id": "ab22c199-8965-4012-bc7a-3e9c5b5a05fd",
   "metadata": {},
   "outputs": [
    {
     "name": "stdin",
     "output_type": "stream",
     "text": [
      "Digite um número:  5\n"
     ]
    },
    {
     "name": "stdout",
     "output_type": "stream",
     "text": [
      "5 x 1 = 5\n",
      "5 x 2 = 10\n",
      "5 x 3 = 15\n",
      "5 x 4 = 20\n",
      "5 x 5 = 25\n",
      "5 x 6 = 30\n",
      "5 x 7 = 35\n",
      "5 x 8 = 40\n",
      "5 x 9 = 45\n",
      "5 x 10 = 50\n"
     ]
    }
   ],
   "source": [
    "# tabela de multiplicação\n",
    "\n",
    "n = int(input('Digite um número: '))\n",
    "\n",
    "count = 0\n",
    "while count < 10:\n",
    "    count = count + 1\n",
    "    print(f'{n} x {count} =', n * count)"
   ]
  },
  {
   "cell_type": "markdown",
   "id": "51db90f7-a3b6-4e69-be43-90a4e0656be1",
   "metadata": {
    "jp-MarkdownHeadingCollapsed": true
   },
   "source": [
    "## Challenge 2"
   ]
  },
  {
   "cell_type": "code",
   "execution_count": 5,
   "id": "b14abcbe-afd5-459c-8b83-41eb0897894c",
   "metadata": {},
   "outputs": [
    {
     "name": "stdin",
     "output_type": "stream",
     "text": [
      "Digite um número:  2\n"
     ]
    },
    {
     "name": "stdout",
     "output_type": "stream",
     "text": [
      "Número de dígitos: 1\n"
     ]
    }
   ],
   "source": [
    "# contar o número de digitos de um número\n",
    "\n",
    "n = int(input('Digite um número: '))\n",
    "\n",
    "count = 0\n",
    "while n > 0:\n",
    "    n = n // 10\n",
    "    count = count + 1\n",
    "print(f'Número de dígitos: {count}')"
   ]
  },
  {
   "cell_type": "code",
   "execution_count": 7,
   "id": "6045a954-7c40-4d25-b09a-a4187a537fc5",
   "metadata": {},
   "outputs": [
    {
     "name": "stdin",
     "output_type": "stream",
     "text": [
      "Digite um número:  1234\n"
     ]
    },
    {
     "name": "stdout",
     "output_type": "stream",
     "text": [
      "A soma dos dígitos é: 10\n"
     ]
    }
   ],
   "source": [
    "# encontrar a soma dos dígitos de um número\n",
    "\n",
    "n = int(input('Digite um número: '))\n",
    "\n",
    "soma = 0\n",
    "while n > 0:\n",
    "    resto = n % 10\n",
    "    n = n // 10\n",
    "    soma = soma + resto\n",
    "print(f'A soma dos dígitos é: {soma}')"
   ]
  },
  {
   "cell_type": "code",
   "execution_count": 10,
   "id": "dc4ccf23-5f85-4f69-b273-fdde67ede347",
   "metadata": {},
   "outputs": [
    {
     "name": "stdin",
     "output_type": "stream",
     "text": [
      "Digite um número:  123\n"
     ]
    },
    {
     "name": "stdout",
     "output_type": "stream",
     "text": [
      "O número reverso é: 321\n"
     ]
    }
   ],
   "source": [
    "# reverter um número\n",
    "\n",
    "n = int(input('Digite um número: '))\n",
    "\n",
    "reverso = ''\n",
    "while n > 0:\n",
    "    resto = n % 10\n",
    "    n = n // 10\n",
    "    reverso = f'{reverso}' + f'{resto}'\n",
    "print(f'O número reverso é: {reverso}')"
   ]
  },
  {
   "cell_type": "code",
   "execution_count": 19,
   "id": "83e37eae-107d-467d-a29e-dee1a23dbc1c",
   "metadata": {},
   "outputs": [
    {
     "name": "stdin",
     "output_type": "stream",
     "text": [
      "Digite um número: 1221\n"
     ]
    },
    {
     "name": "stdout",
     "output_type": "stream",
     "text": [
      "Número é Palindrome\n"
     ]
    }
   ],
   "source": [
    "# checar se um número é um palindrome (números que são iguais quando feito o reverso)\n",
    "\n",
    "n = int(input('Digite um número:'))\n",
    "n_inicial = n\n",
    "\n",
    "reverso = ''\n",
    "while n > 0:\n",
    "    resto = n % 10\n",
    "    n = n // 10\n",
    "    reverso = f'{reverso}' + f'{resto}'\n",
    "\n",
    "n_reverso = int(reverso)\n",
    "\n",
    "\n",
    "if n_inicial == n_reverso:\n",
    "    print('Número é Palindrome')\n",
    "else: \n",
    "   print('Número não é Palindrome')"
   ]
  },
  {
   "cell_type": "markdown",
   "id": "2e98e19d-ea39-44f8-85d5-6ebaeaba433d",
   "metadata": {
    "jp-MarkdownHeadingCollapsed": true
   },
   "source": [
    "## Challenge 3"
   ]
  },
  {
   "cell_type": "code",
   "execution_count": 3,
   "id": "18a6274a-4e90-4bd3-8748-1f9257919631",
   "metadata": {},
   "outputs": [
    {
     "name": "stdin",
     "output_type": "stream",
     "text": [
      "Quantos números você vai digitar? 2\n",
      "Digite o 1o número: 5\n",
      "Digite o 2o número: -3\n"
     ]
    },
    {
     "name": "stdout",
     "output_type": "stream",
     "text": [
      "A soma dos números é: 2\n"
     ]
    }
   ],
   "source": [
    "# encontrar a soma dos números\n",
    "\n",
    "n = int(input('Quantos números você vai digitar?'))\n",
    "\n",
    "i = 0\n",
    "soma = 0\n",
    "while i < n:\n",
    "    x = int(input(f'Digite o {i + 1}o número:'))\n",
    "    soma = soma + x\n",
    "    i = i + 1\n",
    "print(f'A soma dos números é: {soma}')"
   ]
  },
  {
   "cell_type": "code",
   "execution_count": 4,
   "id": "4a277b87-9a6a-45d9-aa89-e98fcd87eb6a",
   "metadata": {},
   "outputs": [
    {
     "name": "stdin",
     "output_type": "stream",
     "text": [
      "Quantos números você vai digitar? 5\n",
      "Digite o 1o número: 2\n",
      "Digite o 2o número: 3\n",
      "Digite o 3o número: 4\n",
      "Digite o 4o número: -10\n",
      "Digite o 5o número: -20\n"
     ]
    },
    {
     "name": "stdout",
     "output_type": "stream",
     "text": [
      "A soma positiva dos números é: 9\n",
      "A soma negativa dos números é: -30\n"
     ]
    }
   ],
   "source": [
    "# encontrar a soma positiva e a soma negativa dos números\n",
    "\n",
    "n = int(input('Quantos números você vai digitar?'))\n",
    "\n",
    "i = 0\n",
    "soma_positiva = 0\n",
    "soma_negativa = 0\n",
    "while i < n:\n",
    "    x = int(input(f'Digite o {i + 1}o número:'))\n",
    "    if x >= 0:\n",
    "        soma_positiva = soma_positiva + x\n",
    "    else:\n",
    "        soma_negativa = soma_negativa + x\n",
    "    i = i + 1\n",
    "print(f'A soma positiva dos números é: {soma_positiva}')\n",
    "print(f'A soma negativa dos números é: {soma_negativa}')"
   ]
  },
  {
   "cell_type": "code",
   "execution_count": 10,
   "id": "8aff8492-83bb-40d5-b255-e952cb86757a",
   "metadata": {},
   "outputs": [
    {
     "name": "stdin",
     "output_type": "stream",
     "text": [
      "Quantos números você vai digitar? 3\n",
      "Digite o 1o número: 2\n",
      "Digite o 2o número: 4\n",
      "Digite o 3o número: 4\n"
     ]
    },
    {
     "name": "stdout",
     "output_type": "stream",
     "text": [
      "O maior número é: 4\n"
     ]
    }
   ],
   "source": [
    "# encontrar o maior número\n",
    "\n",
    "n = int(input('Quantos números você vai digitar?'))\n",
    "\n",
    "i = 0\n",
    "maior = 0\n",
    "while i < n:\n",
    "    x = int(input(f'Digite o {i + 1}o número:'))\n",
    "    if x > maior:\n",
    "        maior = x\n",
    "    i = i + 1\n",
    "print(f'O maior número é: {maior}')"
   ]
  },
  {
   "cell_type": "markdown",
   "id": "241edc60-0958-4181-b5ed-4fb2c55925b7",
   "metadata": {
    "jp-MarkdownHeadingCollapsed": true
   },
   "source": [
    "## Challenge 4"
   ]
  },
  {
   "cell_type": "code",
   "execution_count": 12,
   "id": "8c58a0d9-80b5-4448-aedc-c8b6fe17d9fe",
   "metadata": {},
   "outputs": [
    {
     "name": "stdin",
     "output_type": "stream",
     "text": [
      "Digite um número: 1\n"
     ]
    },
    {
     "name": "stdout",
     "output_type": "stream",
     "text": [
      "Seu número é menor, tente novamente.\n"
     ]
    },
    {
     "name": "stdin",
     "output_type": "stream",
     "text": [
      "Digite um número: 10\n"
     ]
    },
    {
     "name": "stdout",
     "output_type": "stream",
     "text": [
      "Seu número é maior, tente novamente.\n"
     ]
    },
    {
     "name": "stdin",
     "output_type": "stream",
     "text": [
      "Digite um número: 2\n"
     ]
    },
    {
     "name": "stdout",
     "output_type": "stream",
     "text": [
      "Seu número é menor, tente novamente.\n"
     ]
    },
    {
     "name": "stdin",
     "output_type": "stream",
     "text": [
      "Digite um número: 9\n"
     ]
    },
    {
     "name": "stdout",
     "output_type": "stream",
     "text": [
      "Parabéns, você acertou!\n"
     ]
    }
   ],
   "source": [
    "# adivinhar um número\n",
    "import random\n",
    "\n",
    "n = random.randint(1,10)\n",
    "\n",
    "guess = 0 \n",
    "while guess != n:\n",
    "    guess = int(input('Digite um número:'))\n",
    "    if guess < n:\n",
    "        print('Seu número é menor, tente novamente.')\n",
    "    elif guess > n:\n",
    "        print('Seu número é maior, tente novamente.')\n",
    "    else:\n",
    "        print('Parabéns, você acertou!')"
   ]
  },
  {
   "cell_type": "markdown",
   "id": "2c34a77a-581f-4560-8cee-089005ae65fc",
   "metadata": {
    "jp-MarkdownHeadingCollapsed": true
   },
   "source": [
    "## Infinite Loop - break - continue - pass"
   ]
  },
  {
   "cell_type": "code",
   "execution_count": 13,
   "id": "daf88277-1e5f-4a33-bba7-35c59f05ea02",
   "metadata": {},
   "outputs": [],
   "source": [
    "# break - interrempe o programa\n",
    "# continue - volta para o início do while\n",
    "# pass - ignora a linha de código e continua o programa"
   ]
  },
  {
   "cell_type": "markdown",
   "id": "c050d18d-1fba-4df6-ab6a-1dc77c5bdf38",
   "metadata": {
    "jp-MarkdownHeadingCollapsed": true
   },
   "source": [
    "## else suite"
   ]
  },
  {
   "cell_type": "code",
   "execution_count": 15,
   "id": "4182c949-26d3-4340-92a5-102780959c2d",
   "metadata": {},
   "outputs": [
    {
     "name": "stdout",
     "output_type": "stream",
     "text": [
      "1\n",
      "2\n",
      "3\n",
      "4\n",
      "5\n",
      "6\n",
      "7\n",
      "8\n",
      "9\n",
      "10\n",
      "Printed all 10 numbers\n",
      "End of Program\n"
     ]
    }
   ],
   "source": [
    "count = 1\n",
    "while count <=10:\n",
    "    print(count)\n",
    "    count += 1\n",
    "else:\n",
    "    print('Printed all 10 numbers')\n",
    "print('End of Program')"
   ]
  },
  {
   "cell_type": "markdown",
   "id": "34bb9ee3-1fb7-4221-97c1-a1607f955c0a",
   "metadata": {
    "jp-MarkdownHeadingCollapsed": true
   },
   "source": [
    "## for loop"
   ]
  },
  {
   "cell_type": "code",
   "execution_count": 16,
   "id": "f1e29f7b-7770-4a97-91dd-67e1b90691f9",
   "metadata": {},
   "outputs": [
    {
     "name": "stdout",
     "output_type": "stream",
     "text": [
      "H\n",
      "e\n",
      "l\n",
      "l\n",
      "o\n"
     ]
    }
   ],
   "source": [
    "msg = 'Hello'\n",
    "\n",
    "for x in msg:\n",
    "    print(x)"
   ]
  },
  {
   "cell_type": "code",
   "execution_count": 17,
   "id": "d187a046-d4e9-40c9-9f38-699e3a1e6300",
   "metadata": {},
   "outputs": [
    {
     "name": "stdout",
     "output_type": "stream",
     "text": [
      "0\n",
      "1\n",
      "2\n",
      "3\n",
      "4\n",
      "5\n",
      "6\n",
      "7\n",
      "8\n",
      "9\n"
     ]
    }
   ],
   "source": [
    "for i in range (0, 10):\n",
    "    print(i)"
   ]
  },
  {
   "cell_type": "code",
   "execution_count": 18,
   "id": "d9e67fa0-962b-422d-8c34-506d9f4e5235",
   "metadata": {},
   "outputs": [
    {
     "name": "stdout",
     "output_type": "stream",
     "text": [
      "10\n",
      "9\n",
      "8\n",
      "7\n",
      "6\n",
      "5\n",
      "4\n",
      "3\n",
      "2\n",
      "1\n"
     ]
    }
   ],
   "source": [
    "for i in range (10, 0, -1):\n",
    "    print(i)"
   ]
  },
  {
   "cell_type": "markdown",
   "id": "3d783348-b07d-453a-ba4a-d902815cc670",
   "metadata": {
    "jp-MarkdownHeadingCollapsed": true
   },
   "source": [
    "## Challenge 5"
   ]
  },
  {
   "cell_type": "code",
   "execution_count": 20,
   "id": "f22633e6-2134-48df-9177-e2e22e37d784",
   "metadata": {},
   "outputs": [
    {
     "name": "stdin",
     "output_type": "stream",
     "text": [
      "Digite um número: 5\n"
     ]
    },
    {
     "name": "stdout",
     "output_type": "stream",
     "text": [
      "5 x 1 = 5\n",
      "5 x 2 = 10\n",
      "5 x 3 = 15\n",
      "5 x 4 = 20\n",
      "5 x 5 = 25\n",
      "5 x 6 = 30\n",
      "5 x 7 = 35\n",
      "5 x 8 = 40\n",
      "5 x 9 = 45\n",
      "5 x 10 = 50\n"
     ]
    }
   ],
   "source": [
    "# tabela de multiplicação\n",
    "\n",
    "n = int(input('Digite um número:'))\n",
    "\n",
    "for i in range (1,11):\n",
    "    print(f'{n} x {i} =', n * i)"
   ]
  },
  {
   "cell_type": "code",
   "execution_count": 2,
   "id": "4d6f72e7-ffe7-4ea8-9181-9003f1db5ebf",
   "metadata": {},
   "outputs": [
    {
     "name": "stdin",
     "output_type": "stream",
     "text": [
      "Digite um número: 4\n"
     ]
    },
    {
     "name": "stdout",
     "output_type": "stream",
     "text": [
      "O fatorial é: 24\n"
     ]
    }
   ],
   "source": [
    "# fatorial de um número\n",
    "\n",
    "n = int(input('Digite um número:'))\n",
    "\n",
    "fatorial = 1\n",
    "for i in range (1,n):\n",
    "    fatorial = fatorial * n\n",
    "    n -= 1\n",
    "print(f'O fatorial é: {fatorial}')"
   ]
  },
  {
   "cell_type": "markdown",
   "id": "a40418f8-4e89-4ec4-ac96-b89402a3a05b",
   "metadata": {
    "jp-MarkdownHeadingCollapsed": true
   },
   "source": [
    "## Challenge 6"
   ]
  },
  {
   "cell_type": "code",
   "execution_count": 5,
   "id": "d58ebb8e-ba60-4149-8705-536a85c53376",
   "metadata": {},
   "outputs": [
    {
     "name": "stdin",
     "output_type": "stream",
     "text": [
      "Termo inicial da PA: 5\n",
      "Razão da PA: 2\n",
      "Número de termos: 6\n"
     ]
    },
    {
     "name": "stdout",
     "output_type": "stream",
     "text": [
      "5\n",
      "7\n",
      "9\n",
      "11\n",
      "13\n",
      "15\n"
     ]
    }
   ],
   "source": [
    "# print n terms of AP series - AP = Progressão Aritmética\n",
    "\n",
    "a = int(input('Termo inicial da PA:')) # termo inicial\n",
    "d = int(input('Razão da PA:')) # razão\n",
    "n = int(input('Número de termos:')) # número de termos\n",
    "\n",
    "for i in range (a, (n*d) + a, d):\n",
    "    print(i)"
   ]
  },
  {
   "cell_type": "code",
   "execution_count": 8,
   "id": "0548e78e-6edc-4149-a25d-cdce745b681d",
   "metadata": {},
   "outputs": [
    {
     "name": "stdin",
     "output_type": "stream",
     "text": [
      "Número de termos: 10\n"
     ]
    },
    {
     "name": "stdout",
     "output_type": "stream",
     "text": [
      "0\n",
      "1\n",
      "1\n",
      "2\n",
      "3\n",
      "5\n",
      "8\n",
      "13\n",
      "21\n",
      "34\n"
     ]
    }
   ],
   "source": [
    "# print n terms of Fibonnaci series\n",
    "\n",
    "n = int(input('Número de termos:')) # número de termos\n",
    "\n",
    "a = 0\n",
    "b = 1\n",
    "\n",
    "for i in range(n):\n",
    "    print(a)\n",
    "    c = a + b\n",
    "    a = b\n",
    "    b = c"
   ]
  },
  {
   "cell_type": "markdown",
   "id": "9f8fb48c-73b7-454e-b4dd-7c5a2d93b47d",
   "metadata": {
    "jp-MarkdownHeadingCollapsed": true
   },
   "source": [
    "## Challenge 7"
   ]
  },
  {
   "cell_type": "code",
   "execution_count": 13,
   "id": "644ac479-5d98-4cd3-a2bd-f5630554910a",
   "metadata": {},
   "outputs": [
    {
     "name": "stdin",
     "output_type": "stream",
     "text": [
      "Digite um número: 12\n"
     ]
    },
    {
     "name": "stdout",
     "output_type": "stream",
     "text": [
      "1\n",
      "2\n",
      "3\n",
      "4\n",
      "6\n",
      "12\n"
     ]
    }
   ],
   "source": [
    "# encontrar os números divisíveis\n",
    "\n",
    "n = int(input('Digite um número:'))\n",
    "\n",
    "for i in range(1, n+1):\n",
    "    if n % i == 0:\n",
    "        print(i)"
   ]
  },
  {
   "cell_type": "code",
   "execution_count": 29,
   "id": "8479751a-8090-428b-8ec2-55012a50a14b",
   "metadata": {},
   "outputs": [
    {
     "name": "stdin",
     "output_type": "stream",
     "text": [
      "Digite um número: 33\n"
     ]
    },
    {
     "name": "stdout",
     "output_type": "stream",
     "text": [
      "33 não é um número primo\n"
     ]
    }
   ],
   "source": [
    "# checar se um número é primo\n",
    "\n",
    "n = int(input('Digite um número:'))\n",
    "\n",
    "count = 0\n",
    "for i in range(1, n+1):\n",
    "    if n % i == 0:\n",
    "        count += 1\n",
    "\n",
    "if count <= 2:\n",
    "    print(f'{n} é um número primo')\n",
    "else:\n",
    "    print(f'{n} não é um número primo')"
   ]
  },
  {
   "cell_type": "markdown",
   "id": "0ec68391-9f29-4e65-87eb-37a782df9f4a",
   "metadata": {
    "jp-MarkdownHeadingCollapsed": true
   },
   "source": [
    "## break - continue - pass - for loop"
   ]
  },
  {
   "cell_type": "code",
   "execution_count": 30,
   "id": "7b36b601-48c0-486f-84d0-9df5b1fe1477",
   "metadata": {},
   "outputs": [
    {
     "name": "stdout",
     "output_type": "stream",
     "text": [
      "0\n",
      "1\n",
      "2\n",
      "3\n",
      "4\n",
      "5\n"
     ]
    }
   ],
   "source": [
    "for i in range (0, 10):\n",
    "    if i > 5:\n",
    "        break;\n",
    "    else:\n",
    "        print(i)\n",
    "else:\n",
    "    print('For completed')"
   ]
  },
  {
   "cell_type": "markdown",
   "id": "da2ed111-164c-444c-b055-dffc66435b2a",
   "metadata": {
    "jp-MarkdownHeadingCollapsed": true
   },
   "source": [
    "## Nested Loops"
   ]
  },
  {
   "cell_type": "code",
   "execution_count": 5,
   "id": "6f2c830c-b56e-41bb-aced-0932d68dce7b",
   "metadata": {},
   "outputs": [
    {
     "name": "stdin",
     "output_type": "stream",
     "text": [
      "Digite o numero de linhas:  3\n",
      "Digite o numero de colunas:  3\n",
      "Elemento [0,0]:  4\n",
      "Elemento [0,1]:  5\n",
      "Elemento [0,2]:  6\n",
      "Elemento [1,0]:  7\n",
      "Elemento [1,1]:  11\n",
      "Elemento [1,2]:  12\n",
      "Elemento [2,0]:  65\n",
      "Elemento [2,1]:  23\n",
      "Elemento [2,2]:  4\n"
     ]
    },
    {
     "name": "stdout",
     "output_type": "stream",
     "text": [
      "Matriz digitada: \n",
      "4  5  6  \n",
      "7  11  12  \n",
      "65  23  4  \n"
     ]
    }
   ],
   "source": [
    "M = int(input(\"Digite o numero de linhas: \"))\n",
    "N = int(input(\"Digite o numero de colunas: \"))\n",
    "\n",
    "mat = [[0 for x in range(N)] for x in range(N)]\n",
    "\n",
    "for i in range(0, M):\n",
    "    for j in range(0, N):\n",
    "        mat[i][j] = int(input(f\"Elemento [{i},{j}]: \"))\n",
    "\n",
    "print(\"Matriz digitada: \")\n",
    "for i in range(0, M):\n",
    "    for j in range(0, N):\n",
    "        print(mat[i][j], \" \", end='')\n",
    "    print()"
   ]
  },
  {
   "cell_type": "markdown",
   "id": "ec95494c-98da-4fbe-bcea-d92871885899",
   "metadata": {
    "jp-MarkdownHeadingCollapsed": true
   },
   "source": [
    "## Match Case"
   ]
  },
  {
   "cell_type": "code",
   "execution_count": null,
   "id": "77303769-ef8e-434d-8ded-c752608f7eef",
   "metadata": {},
   "outputs": [],
   "source": [
    "day = int(input('Digite um dia:'))\n",
    "\n",
    "match day:\n",
    "    case 1:\n",
    "        print('Sunday')\n",
    "    case 2:\n",
    "        print('Monday')\n",
    "    #... assim por diante\n",
    "    case _:\n",
    "        print('Digite um dia válido')\n",
    "    "
   ]
  }
 ],
 "metadata": {
  "kernelspec": {
   "display_name": "Python 3 (ipykernel)",
   "language": "python",
   "name": "python3"
  },
  "language_info": {
   "codemirror_mode": {
    "name": "ipython",
    "version": 3
   },
   "file_extension": ".py",
   "mimetype": "text/x-python",
   "name": "python",
   "nbconvert_exporter": "python",
   "pygments_lexer": "ipython3",
   "version": "3.12.7"
  }
 },
 "nbformat": 4,
 "nbformat_minor": 5
}
