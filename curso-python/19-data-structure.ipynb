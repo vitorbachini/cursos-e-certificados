{
 "cells": [
  {
   "cell_type": "markdown",
   "id": "139f792a-1b50-4c72-aaaa-17c2fce1146c",
   "metadata": {},
   "source": [
    "# 19-Data Structure Modules"
   ]
  },
  {
   "cell_type": "markdown",
   "id": "5df8c874-40cd-452e-b1f6-9503ddc0e81b",
   "metadata": {
    "jp-MarkdownHeadingCollapsed": true
   },
   "source": [
    "## Counter"
   ]
  },
  {
   "cell_type": "code",
   "execution_count": 1,
   "id": "8da9ab2b-fec0-4165-8028-ccbc1ee84fa9",
   "metadata": {},
   "outputs": [],
   "source": [
    "from collections import Counter"
   ]
  },
  {
   "cell_type": "code",
   "execution_count": 2,
   "id": "f24579e2-89ea-4bd8-87e5-da992e730415",
   "metadata": {},
   "outputs": [],
   "source": [
    "l = [1, 2, 3, 1, 4, 1, 2, 5, 6, 7, 3]"
   ]
  },
  {
   "cell_type": "code",
   "execution_count": 3,
   "id": "7156321b-0c68-4172-90d5-f35b1bcfb3d9",
   "metadata": {},
   "outputs": [
    {
     "data": {
      "text/plain": [
       "Counter({1: 3, 2: 2, 3: 2, 4: 1, 5: 1, 6: 1, 7: 1})"
      ]
     },
     "execution_count": 3,
     "metadata": {},
     "output_type": "execute_result"
    }
   ],
   "source": [
    "c = Counter(l)\n",
    "c"
   ]
  },
  {
   "cell_type": "code",
   "execution_count": 4,
   "id": "7e8f6d23-313a-4056-a295-3f593f2ab491",
   "metadata": {},
   "outputs": [
    {
     "data": {
      "text/plain": [
       "3"
      ]
     },
     "execution_count": 4,
     "metadata": {},
     "output_type": "execute_result"
    }
   ],
   "source": [
    "c[1]"
   ]
  },
  {
   "cell_type": "code",
   "execution_count": 5,
   "id": "cc7d508b-e3dc-493b-9b5e-376f911af23c",
   "metadata": {},
   "outputs": [
    {
     "data": {
      "text/plain": [
       "dict_keys([1, 2, 3, 4, 5, 6, 7])"
      ]
     },
     "execution_count": 5,
     "metadata": {},
     "output_type": "execute_result"
    }
   ],
   "source": [
    "c.keys()"
   ]
  },
  {
   "cell_type": "markdown",
   "id": "88704ee0-3f23-4c45-859a-cb8d5a8e1474",
   "metadata": {
    "jp-MarkdownHeadingCollapsed": true
   },
   "source": [
    "## Deque"
   ]
  },
  {
   "cell_type": "code",
   "execution_count": 7,
   "id": "1949a66f-7e2f-4d44-9ac9-1ac71ab149c6",
   "metadata": {},
   "outputs": [],
   "source": [
    "from collections import deque\n",
    "\n",
    "d = [1, 2, 3, 4, 5]"
   ]
  },
  {
   "cell_type": "code",
   "execution_count": 8,
   "id": "d68f8e20-77b1-439b-8f6b-083b288fe192",
   "metadata": {},
   "outputs": [
    {
     "data": {
      "text/plain": [
       "[1, 2, 3, 4, 5]"
      ]
     },
     "execution_count": 8,
     "metadata": {},
     "output_type": "execute_result"
    }
   ],
   "source": [
    "q = deque(d)\n",
    "d"
   ]
  },
  {
   "cell_type": "code",
   "execution_count": 9,
   "id": "961f085f-5e5f-483a-96ff-57a824b7f0be",
   "metadata": {},
   "outputs": [],
   "source": [
    "q.append(6)"
   ]
  },
  {
   "cell_type": "markdown",
   "id": "485ba532-92f5-44bc-a236-2b348d49621e",
   "metadata": {},
   "source": [
    "## Array"
   ]
  },
  {
   "cell_type": "markdown",
   "id": "28856858-b011-4d2f-bff5-ffb33d4e304c",
   "metadata": {},
   "source": [
    "## Heapq"
   ]
  },
  {
   "cell_type": "markdown",
   "id": "6a3730f4-ce65-4e5e-a0fe-5e4c06fea9dd",
   "metadata": {},
   "source": [
    "## Bisect"
   ]
  },
  {
   "cell_type": "markdown",
   "id": "d00ab524-a2de-4f37-be90-c278e0b6a064",
   "metadata": {},
   "source": [
    "## Copy"
   ]
  },
  {
   "cell_type": "code",
   "execution_count": null,
   "id": "bd83241f-a0d8-43c9-9e1c-a8b8109c04d0",
   "metadata": {},
   "outputs": [],
   "source": []
  }
 ],
 "metadata": {
  "kernelspec": {
   "display_name": "Python 3 (ipykernel)",
   "language": "python",
   "name": "python3"
  },
  "language_info": {
   "codemirror_mode": {
    "name": "ipython",
    "version": 3
   },
   "file_extension": ".py",
   "mimetype": "text/x-python",
   "name": "python",
   "nbconvert_exporter": "python",
   "pygments_lexer": "ipython3",
   "version": "3.12.7"
  }
 },
 "nbformat": 4,
 "nbformat_minor": 5
}
