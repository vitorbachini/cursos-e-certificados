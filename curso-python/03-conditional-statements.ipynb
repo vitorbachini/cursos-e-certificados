{
 "cells": [
  {
   "cell_type": "markdown",
   "id": "c69aa31e-40ee-4054-99a7-d61f601c249a",
   "metadata": {},
   "source": [
    "# 03-Declarações Condicionais"
   ]
  },
  {
   "cell_type": "markdown",
   "id": "6bc0a0bb-1821-4dfb-8d98-90ce33c7d8ee",
   "metadata": {
    "jp-MarkdownHeadingCollapsed": true
   },
   "source": [
    "## if else"
   ]
  },
  {
   "cell_type": "code",
   "execution_count": 31,
   "id": "5ecad149-d529-4685-b3ef-35a73d8635d0",
   "metadata": {},
   "outputs": [
    {
     "name": "stdout",
     "output_type": "stream",
     "text": [
      "Número ímpar\n"
     ]
    }
   ],
   "source": [
    "# Número par\n",
    "\n",
    "a = 1\n",
    "\n",
    "if a % 2 == 0:\n",
    "    print('Número par')\n",
    "else:\n",
    "    print('Número ímpar')"
   ]
  },
  {
   "cell_type": "markdown",
   "id": "df74e42a-64ca-4acc-81f1-ec89185774f9",
   "metadata": {
    "jp-MarkdownHeadingCollapsed": true
   },
   "source": [
    "## Operadores lógicos"
   ]
  },
  {
   "cell_type": "code",
   "execution_count": 32,
   "id": "2be5df8e-bf0f-4534-bd3d-3fbf12eae3c6",
   "metadata": {},
   "outputs": [
    {
     "name": "stdout",
     "output_type": "stream",
     "text": [
      "a é maior que todos\n"
     ]
    }
   ],
   "source": [
    "# and\n",
    "a = 5\n",
    "b = 3\n",
    "c = 2\n",
    "\n",
    "if a > b and a > c:\n",
    "    print('a é maior que todos')"
   ]
  },
  {
   "cell_type": "code",
   "execution_count": 33,
   "id": "0d0d82a3-a5c5-40bb-99f2-06b3ea128dfc",
   "metadata": {},
   "outputs": [
    {
     "name": "stdout",
     "output_type": "stream",
     "text": [
      "Approved\n"
     ]
    }
   ],
   "source": [
    "math = 65\n",
    "phy = 89\n",
    "chem = 62\n",
    "\n",
    "if math > 45 and phy > 45 and chem > 45:\n",
    "    print('Approved')"
   ]
  },
  {
   "cell_type": "code",
   "execution_count": 37,
   "id": "1adb3b11-1bd8-4562-9960-9e8fe063a16e",
   "metadata": {},
   "outputs": [
    {
     "name": "stdout",
     "output_type": "stream",
     "text": [
      "Masculino\n"
     ]
    }
   ],
   "source": [
    "# or\n",
    "\n",
    "gender = 'm'\n",
    "\n",
    "if gender == 'm' or gender == 'M':\n",
    "    print('Masculino')"
   ]
  },
  {
   "cell_type": "code",
   "execution_count": 40,
   "id": "3226c91f-68ff-45a8-a45b-cf4790ae5fce",
   "metadata": {},
   "outputs": [
    {
     "name": "stdout",
     "output_type": "stream",
     "text": [
      "x não está entre 50 e 100\n"
     ]
    }
   ],
   "source": [
    "# not\n",
    "\n",
    "x = 30\n",
    "\n",
    "if not (x >= 50 and x <=100):\n",
    "    print('x não está entre 50 e 100')"
   ]
  },
  {
   "cell_type": "markdown",
   "id": "5b9ccfea-ca00-408e-95f8-eccc240d499c",
   "metadata": {
    "jp-MarkdownHeadingCollapsed": true
   },
   "source": [
    "## Challenge 1"
   ]
  },
  {
   "cell_type": "code",
   "execution_count": 42,
   "id": "9c782fab-10ce-4d3e-8b5d-61aaa6542f27",
   "metadata": {},
   "outputs": [
    {
     "name": "stdin",
     "output_type": "stream",
     "text": [
      "Digite o primeiro número 20\n",
      "Digite o segundo número 15\n"
     ]
    },
    {
     "name": "stdout",
     "output_type": "stream",
     "text": [
      "5\n"
     ]
    }
   ],
   "source": [
    "# 1: diferença positiva entre dois números\n",
    "\n",
    "n1 = int(input('Digite o primeiro número'))\n",
    "n2 = int(input('Digite o segundo número'))\n",
    "\n",
    "if n1 - n2 >= 0:\n",
    "    print(n1 - n2)\n",
    "else:\n",
    "    print(n2 - n1)"
   ]
  },
  {
   "cell_type": "code",
   "execution_count": 46,
   "id": "0247df8c-f0ad-403a-b5bd-5838d8aa49c4",
   "metadata": {},
   "outputs": [
    {
     "name": "stdin",
     "output_type": "stream",
     "text": [
      "Digite um número 7\n"
     ]
    },
    {
     "name": "stdout",
     "output_type": "stream",
     "text": [
      "O número é ímpar\n"
     ]
    }
   ],
   "source": [
    "# 2: número par ou ímpar\n",
    "\n",
    "a = int(input('Digite um número'))\n",
    "\n",
    "if a % 2 == 0:\n",
    "    print('O número é par')\n",
    "else:\n",
    "    print('O número é ímpar')"
   ]
  },
  {
   "cell_type": "code",
   "execution_count": 44,
   "id": "433e2ebc-addb-42ec-a594-ec61dc9d49cf",
   "metadata": {},
   "outputs": [
    {
     "name": "stdin",
     "output_type": "stream",
     "text": [
      "Digite a sua idade 16\n"
     ]
    },
    {
     "name": "stdout",
     "output_type": "stream",
     "text": [
      "Pode votar\n"
     ]
    }
   ],
   "source": [
    "# 3: pode votar\n",
    "\n",
    "age = int(input('Digite a sua idade'))\n",
    "\n",
    "if age >= 16:\n",
    "    print('Pode votar')\n",
    "else:\n",
    "    print('Não pode votar')"
   ]
  },
  {
   "cell_type": "markdown",
   "id": "16baf6f6-8961-4e1e-a63f-8ee675baa3d7",
   "metadata": {
    "jp-MarkdownHeadingCollapsed": true
   },
   "source": [
    "## Challenge 2"
   ]
  },
  {
   "cell_type": "code",
   "execution_count": 49,
   "id": "d0bf6691-3daf-4b8f-aaab-efe238636e72",
   "metadata": {},
   "outputs": [
    {
     "name": "stdin",
     "output_type": "stream",
     "text": [
      "Digite uma nota:  -14\n"
     ]
    },
    {
     "name": "stdout",
     "output_type": "stream",
     "text": [
      "Nota inválida\n"
     ]
    }
   ],
   "source": [
    "# 1: checar se o número está no intervalo\n",
    "\n",
    "nota = int(input('Digite uma nota: '))\n",
    "\n",
    "if nota >= 0 and nota <=100:\n",
    "    print('A nota é válida')\n",
    "else:\n",
    "    print('Nota inválida')"
   ]
  },
  {
   "cell_type": "code",
   "execution_count": 51,
   "id": "5c97fc72-8297-41a3-8839-ac7364abe3cf",
   "metadata": {},
   "outputs": [
    {
     "name": "stdin",
     "output_type": "stream",
     "text": [
      "Digite M para Homem e F para Mulher:  f\n"
     ]
    },
    {
     "name": "stdout",
     "output_type": "stream",
     "text": [
      "Mulher\n"
     ]
    }
   ],
   "source": [
    "# 2: checar se a pessoa é homem ou mulher\n",
    "\n",
    "gender = input('Digite M para Homem e F para Mulher: ')\n",
    "\n",
    "if gender == 'm' or gender == 'M':\n",
    "    print('Homem')\n",
    "elif gender == 'f' or gender == 'F':\n",
    "    print('Mulher')"
   ]
  },
  {
   "cell_type": "code",
   "execution_count": 53,
   "id": "4c06f25a-77af-43b6-b2b2-cdc089a11cdb",
   "metadata": {},
   "outputs": [
    {
     "name": "stdin",
     "output_type": "stream",
     "text": [
      "Digite sua idade:  23\n"
     ]
    },
    {
     "name": "stdout",
     "output_type": "stream",
     "text": [
      "Pode trabalhar\n"
     ]
    }
   ],
   "source": [
    "# 3: checar se a pessoa é elegível para trabalhar\n",
    "\n",
    "age = int(input('Digite sua idade: '))\n",
    "\n",
    "if age >= 18 and age <= 60:\n",
    "    print('Pode trabalhar')\n",
    "else:\n",
    "    print('Não pode trabalhar')"
   ]
  },
  {
   "cell_type": "markdown",
   "id": "5f039ac3-7154-4834-a981-9d2fa9e27392",
   "metadata": {
    "jp-MarkdownHeadingCollapsed": true
   },
   "source": [
    "## Challenge 3"
   ]
  },
  {
   "cell_type": "code",
   "execution_count": 54,
   "id": "2ddb9960-8ad2-4ef5-a383-7c8ca8bf42d4",
   "metadata": {},
   "outputs": [
    {
     "name": "stdout",
     "output_type": "stream",
     "text": [
      "Approved\n"
     ]
    }
   ],
   "source": [
    "# 1: checar se o aluno passou ou não\n",
    "\n",
    "math = 65\n",
    "phy = 89\n",
    "chem = 62\n",
    "\n",
    "if math >= 45 and phy >= 45 and chem >= 45:\n",
    "    print('Approved')\n",
    "else:\n",
    "    print('Reproved')"
   ]
  },
  {
   "cell_type": "code",
   "execution_count": 56,
   "id": "a5b37686-9890-473c-9de7-67ed29316d7b",
   "metadata": {},
   "outputs": [
    {
     "name": "stdin",
     "output_type": "stream",
     "text": [
      "Digite o seu username john\n"
     ]
    },
    {
     "name": "stdout",
     "output_type": "stream",
     "text": [
      "Authorized\n"
     ]
    }
   ],
   "source": [
    "# 2: checar se a pessoa possui acesso de admin\n",
    "\n",
    "username = input('Digite o seu username')\n",
    "\n",
    "if username == 'john' or username == 'smith':\n",
    "    print('Authorized')\n",
    "else:\n",
    "    print('Unauthorized')"
   ]
  },
  {
   "cell_type": "code",
   "execution_count": 58,
   "id": "52daed9b-628c-4a5e-809f-f336d443ff58",
   "metadata": {},
   "outputs": [
    {
     "name": "stdin",
     "output_type": "stream",
     "text": [
      "Digite uma letra a\n"
     ]
    },
    {
     "name": "stdout",
     "output_type": "stream",
     "text": [
      "Vogal\n"
     ]
    }
   ],
   "source": [
    "# 3: checar se é vogal ou consoante\n",
    "\n",
    "letra = input('Digite uma letra minúscula')\n",
    "\n",
    "if letra == 'a' or letra == 'e' or letra == 'i' or letra == 'o' or letra == 'u':\n",
    "    print('Vogal')\n",
    "else:\n",
    "    print('Consoante')"
   ]
  },
  {
   "cell_type": "markdown",
   "id": "dc6053b8-8292-4173-8d6b-3ee2bf1523b2",
   "metadata": {
    "jp-MarkdownHeadingCollapsed": true
   },
   "source": [
    "## Challenge 4"
   ]
  },
  {
   "cell_type": "code",
   "execution_count": 66,
   "id": "c34dde04-94cc-4431-b316-8e149d1cf76e",
   "metadata": {},
   "outputs": [
    {
     "name": "stdin",
     "output_type": "stream",
     "text": [
      "Digite o valor total:  590\n"
     ]
    },
    {
     "name": "stdout",
     "output_type": "stream",
     "text": [
      "Valor do desconto: 59.0\n"
     ]
    }
   ],
   "source": [
    "# calcular a quantidade de desconto\n",
    "\n",
    "amount = int(input('Digite o valor total: '))\n",
    "\n",
    "if amount <= 1000:\n",
    "    discount = amount * 0.1\n",
    "elif amount > 1000 and amount <= 5000:\n",
    "    discount = amount * 0.2\n",
    "elif amount > 5000 and amount <= 10000:\n",
    "    discount = amount * 0.3\n",
    "else:\n",
    "    discount = amount * 0.5\n",
    "print(f'Valor do desconto: {discount}')"
   ]
  },
  {
   "cell_type": "markdown",
   "id": "1c5e333e-11fd-46c7-b7f9-df19c1fe22be",
   "metadata": {
    "jp-MarkdownHeadingCollapsed": true
   },
   "source": [
    "## Challenge 5"
   ]
  },
  {
   "cell_type": "code",
   "execution_count": 69,
   "id": "09e65a4f-c06c-4e60-887f-0df9bc6d64e2",
   "metadata": {},
   "outputs": [
    {
     "name": "stdin",
     "output_type": "stream",
     "text": [
      "Digite o número do dia da semana:  3\n"
     ]
    },
    {
     "name": "stdout",
     "output_type": "stream",
     "text": [
      "Terça\n"
     ]
    }
   ],
   "source": [
    "# dia da semana\n",
    "\n",
    "day = int(input('Digite o número do dia da semana: '))\n",
    "\n",
    "if day == 1:\n",
    "    print('Domingo')\n",
    "elif day == 2:\n",
    "    print('Segunda')\n",
    "elif day == 3:\n",
    "    print('Terça')\n",
    "elif day == 4:\n",
    "    print('Quarta')\n",
    "elif day == 5:\n",
    "    print('Quinta')\n",
    "elif day == 6:\n",
    "    print('Sexta')\n",
    "elif day == 7:\n",
    "    print('Sábado')\n",
    "else:\n",
    "    print('Dia inválido')"
   ]
  },
  {
   "cell_type": "markdown",
   "id": "fd7bd32d-ab04-4cb2-b76d-05591a2ec0c8",
   "metadata": {
    "jp-MarkdownHeadingCollapsed": true
   },
   "source": [
    "## Challenge 6"
   ]
  },
  {
   "cell_type": "code",
   "execution_count": 75,
   "id": "257be13d-be1e-42fe-b6fe-fa167e0093fc",
   "metadata": {},
   "outputs": [
    {
     "name": "stdin",
     "output_type": "stream",
     "text": [
      "Digite um ano:  2020\n"
     ]
    },
    {
     "name": "stdout",
     "output_type": "stream",
     "text": [
      "É um ano bissexto\n"
     ]
    }
   ],
   "source": [
    "# ano bissexto\n",
    "\n",
    "year = int(input('Digite um ano: '))\n",
    "\n",
    "if year % 100 == 0:\n",
    "    if year % 400 == 0:\n",
    "        print('É um ano bissexto')\n",
    "    else:\n",
    "        print('Não é um ano bissexto')\n",
    "elif year % 4 == 0:\n",
    "    print('É um ano bissexto')\n",
    "else:\n",
    "    print('Não é um ano bissexto')"
   ]
  }
 ],
 "metadata": {
  "kernelspec": {
   "display_name": "Python 3 (ipykernel)",
   "language": "python",
   "name": "python3"
  },
  "language_info": {
   "codemirror_mode": {
    "name": "ipython",
    "version": 3
   },
   "file_extension": ".py",
   "mimetype": "text/x-python",
   "name": "python",
   "nbconvert_exporter": "python",
   "pygments_lexer": "ipython3",
   "version": "3.12.7"
  }
 },
 "nbformat": 4,
 "nbformat_minor": 5
}
