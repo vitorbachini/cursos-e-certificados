{
 "cells": [
  {
   "cell_type": "markdown",
   "id": "d6be031e-9023-4be4-a6de-daabbec88175",
   "metadata": {},
   "source": [
    "# 08-Lists"
   ]
  },
  {
   "cell_type": "markdown",
   "id": "deb0a7f1-9ea0-479d-8a8d-4e8b97afe5bb",
   "metadata": {
    "jp-MarkdownHeadingCollapsed": true
   },
   "source": [
    "## Introduction to List"
   ]
  },
  {
   "cell_type": "code",
   "execution_count": 1,
   "id": "5ab1cd27-bb20-49db-9830-7ef2f8ac6352",
   "metadata": {},
   "outputs": [],
   "source": [
    "mylist = ['john', 'eric', 'smith', 'david', 'mark']"
   ]
  },
  {
   "cell_type": "code",
   "execution_count": 3,
   "id": "38f786ee-accf-4f32-80a3-2c9ec18fea37",
   "metadata": {},
   "outputs": [
    {
     "data": {
      "text/plain": [
       "['john', 'eric', 'smith', 'david', 'mark']"
      ]
     },
     "execution_count": 3,
     "metadata": {},
     "output_type": "execute_result"
    }
   ],
   "source": [
    "mylist"
   ]
  },
  {
   "cell_type": "code",
   "execution_count": 4,
   "id": "25494be9-e452-44bc-a270-13bd2b91d533",
   "metadata": {},
   "outputs": [
    {
     "data": {
      "text/plain": [
       "'eric'"
      ]
     },
     "execution_count": 4,
     "metadata": {},
     "output_type": "execute_result"
    }
   ],
   "source": [
    "mylist[1]"
   ]
  },
  {
   "cell_type": "markdown",
   "id": "784fc255-8968-4b5b-9d9b-21e7cedd1547",
   "metadata": {
    "jp-MarkdownHeadingCollapsed": true
   },
   "source": [
    "## Indexing and Slicing"
   ]
  },
  {
   "cell_type": "code",
   "execution_count": 5,
   "id": "a1e6664d-89b9-4214-9a77-735423c06fcc",
   "metadata": {},
   "outputs": [],
   "source": [
    "list1 = [1,2,3,4,5,6,7,8,9,10]"
   ]
  },
  {
   "cell_type": "code",
   "execution_count": 6,
   "id": "783de01d-73ac-4f50-b8d2-6b93281d3360",
   "metadata": {},
   "outputs": [
    {
     "name": "stdout",
     "output_type": "stream",
     "text": [
      "[1, 2, 3, 4, 5]\n"
     ]
    }
   ],
   "source": [
    "print(list1[0:5])"
   ]
  },
  {
   "cell_type": "markdown",
   "id": "b8e52eb3-1cfb-4268-9196-61f547bcfd1c",
   "metadata": {
    "jp-MarkdownHeadingCollapsed": true
   },
   "source": [
    "## Concatenation and in not in"
   ]
  },
  {
   "cell_type": "code",
   "execution_count": 10,
   "id": "c778d1d4-4608-4e1d-a43e-a468a85cc07f",
   "metadata": {},
   "outputs": [],
   "source": [
    "list1 = [1,2,3]\n",
    "list2 = [8, 9, 10]\n",
    "\n",
    "list3 = list1 + list2\n",
    "list4 = list1 * 2"
   ]
  },
  {
   "cell_type": "code",
   "execution_count": 8,
   "id": "f338218f-0da4-4fbe-b94d-a1ac70b741a1",
   "metadata": {},
   "outputs": [
    {
     "name": "stdout",
     "output_type": "stream",
     "text": [
      "[1, 2, 3, 8, 9, 10]\n"
     ]
    }
   ],
   "source": [
    "print(list3)"
   ]
  },
  {
   "cell_type": "code",
   "execution_count": 11,
   "id": "0011d8ca-6a22-44c1-9650-67184c2d3773",
   "metadata": {},
   "outputs": [
    {
     "name": "stdout",
     "output_type": "stream",
     "text": [
      "[1, 2, 3, 1, 2, 3]\n"
     ]
    }
   ],
   "source": [
    "print(list4)"
   ]
  },
  {
   "cell_type": "code",
   "execution_count": 12,
   "id": "19ab9d6b-9655-4dbf-bb97-59516d6eb1ad",
   "metadata": {},
   "outputs": [
    {
     "data": {
      "text/plain": [
       "True"
      ]
     },
     "execution_count": 12,
     "metadata": {},
     "output_type": "execute_result"
    }
   ],
   "source": [
    "1 in list1"
   ]
  },
  {
   "cell_type": "code",
   "execution_count": 13,
   "id": "9d7717c3-0013-42d2-a410-0ec78ec5f794",
   "metadata": {},
   "outputs": [
    {
     "data": {
      "text/plain": [
       "True"
      ]
     },
     "execution_count": 13,
     "metadata": {},
     "output_type": "execute_result"
    }
   ],
   "source": [
    "5 not in list1"
   ]
  },
  {
   "cell_type": "markdown",
   "id": "8406518a-ce9d-40da-aab2-82b035c23507",
   "metadata": {
    "jp-MarkdownHeadingCollapsed": true
   },
   "source": [
    "## Visiting Elements in a List (iterations)"
   ]
  },
  {
   "cell_type": "code",
   "execution_count": 14,
   "id": "10d9b310-30f6-4da1-8596-ad1684f73e5f",
   "metadata": {},
   "outputs": [],
   "source": [
    "list1 = [5,6,7,8,9]"
   ]
  },
  {
   "cell_type": "code",
   "execution_count": 15,
   "id": "b30d088a-52c9-4e23-97e6-cb3733068e51",
   "metadata": {},
   "outputs": [
    {
     "name": "stdout",
     "output_type": "stream",
     "text": [
      "5\n",
      "6\n",
      "7\n",
      "8\n",
      "9\n"
     ]
    }
   ],
   "source": [
    "for x in list1:\n",
    "    print(x)"
   ]
  },
  {
   "cell_type": "code",
   "execution_count": 21,
   "id": "3b675055-4cce-4074-b791-a87627f15b41",
   "metadata": {},
   "outputs": [
    {
     "name": "stdout",
     "output_type": "stream",
     "text": [
      "5\n",
      "6\n",
      "7\n",
      "8\n",
      "9\n"
     ]
    }
   ],
   "source": [
    "for y in range(list1[0], list1[4] + 1):\n",
    "    print(y)"
   ]
  },
  {
   "cell_type": "code",
   "execution_count": 20,
   "id": "236d3121-6b3f-482f-b132-22c4774f1064",
   "metadata": {},
   "outputs": [
    {
     "name": "stdout",
     "output_type": "stream",
     "text": [
      "5\n",
      "6\n",
      "7\n",
      "8\n",
      "9\n"
     ]
    }
   ],
   "source": [
    "for i in range (len(list1)):\n",
    "    print(list1[i])"
   ]
  },
  {
   "cell_type": "code",
   "execution_count": 22,
   "id": "f6e41a32-7173-4e07-9e31-e139a27b85c9",
   "metadata": {},
   "outputs": [
    {
     "name": "stdout",
     "output_type": "stream",
     "text": [
      "9\n",
      "8\n",
      "7\n",
      "6\n",
      "5\n"
     ]
    }
   ],
   "source": [
    "for j in range(len(list1) - 1, -1, -1):\n",
    "    print(list1[j])"
   ]
  },
  {
   "cell_type": "code",
   "execution_count": 24,
   "id": "4042d3f4-e19d-41f5-babd-01183b7e07ff",
   "metadata": {},
   "outputs": [
    {
     "name": "stdout",
     "output_type": "stream",
     "text": [
      "5\n",
      "6\n",
      "7\n",
      "8\n",
      "9\n"
     ]
    }
   ],
   "source": [
    "k = 0\n",
    "while k < len(list1):\n",
    "    print(list1[k])\n",
    "    k += 1"
   ]
  },
  {
   "cell_type": "markdown",
   "id": "0c627be3-4728-4961-840d-a17a5371e09c",
   "metadata": {
    "jp-MarkdownHeadingCollapsed": true
   },
   "source": [
    "## Adding Elements"
   ]
  },
  {
   "cell_type": "code",
   "execution_count": 30,
   "id": "8a7b27a7-cce1-4d42-bc45-6e93971bcd78",
   "metadata": {},
   "outputs": [
    {
     "name": "stdout",
     "output_type": "stream",
     "text": [
      "[5, 6, 7, 8, 9]\n"
     ]
    }
   ],
   "source": [
    "l1 = [5,6,7,8,9]\n",
    "print(l1)"
   ]
  },
  {
   "cell_type": "code",
   "execution_count": 31,
   "id": "b14eddfc-01b2-4bee-aa0e-e4301a9ce3a5",
   "metadata": {},
   "outputs": [
    {
     "name": "stdout",
     "output_type": "stream",
     "text": [
      "[5, 6, 7, 8, 9, 10]\n"
     ]
    }
   ],
   "source": [
    "l1.append(10)\n",
    "print(l1)"
   ]
  },
  {
   "cell_type": "code",
   "execution_count": 32,
   "id": "50db85c3-fe37-4dd7-9bd5-6619fa3cfbdc",
   "metadata": {},
   "outputs": [
    {
     "name": "stdout",
     "output_type": "stream",
     "text": [
      "[5, 6, 7, 8, 9, 10, 11, 12, 13]\n"
     ]
    }
   ],
   "source": [
    "l1.extend([11,12,13])\n",
    "print(l1)"
   ]
  },
  {
   "cell_type": "code",
   "execution_count": 33,
   "id": "45650b65-6a59-401a-8b1e-9ffe8a3d7e3b",
   "metadata": {},
   "outputs": [
    {
     "name": "stdout",
     "output_type": "stream",
     "text": [
      "[4, 5, 6, 7, 8, 9, 10, 11, 12, 13]\n"
     ]
    }
   ],
   "source": [
    "l1.insert(0, 4)\n",
    "print(l1)"
   ]
  },
  {
   "cell_type": "code",
   "execution_count": 34,
   "id": "e104a130-6c61-47fb-80b7-8e7abd9025ee",
   "metadata": {},
   "outputs": [
    {
     "name": "stdout",
     "output_type": "stream",
     "text": [
      "[4, 5, 6, 7, 8, 9, 10, 11, 12, 13]\n"
     ]
    }
   ],
   "source": [
    "l2 = l1.copy()\n",
    "print(l2)"
   ]
  },
  {
   "cell_type": "markdown",
   "id": "81fc83d1-4ca7-44e4-81e0-979879498cf9",
   "metadata": {
    "jp-MarkdownHeadingCollapsed": true
   },
   "source": [
    "## Removing Elements"
   ]
  },
  {
   "cell_type": "code",
   "execution_count": 38,
   "id": "c6d535a5-feb2-4497-a0dd-e1b5cfe9d287",
   "metadata": {},
   "outputs": [
    {
     "name": "stdout",
     "output_type": "stream",
     "text": [
      "[5, 6, 7, 8, 9]\n"
     ]
    }
   ],
   "source": [
    "l1 = [5,6,7,8,9]\n",
    "print(l1)"
   ]
  },
  {
   "cell_type": "code",
   "execution_count": 36,
   "id": "ea945172-eab3-42c9-875d-d83ce8e42e7c",
   "metadata": {},
   "outputs": [
    {
     "name": "stdout",
     "output_type": "stream",
     "text": [
      "[5, 6, 7, 8]\n"
     ]
    }
   ],
   "source": [
    "l1.pop()\n",
    "print(l1)"
   ]
  },
  {
   "cell_type": "code",
   "execution_count": 37,
   "id": "5d36d3bb-de91-4fdf-b42f-d7531422c73e",
   "metadata": {},
   "outputs": [
    {
     "name": "stdout",
     "output_type": "stream",
     "text": [
      "[6, 7, 8]\n"
     ]
    }
   ],
   "source": [
    "l1.pop(0)\n",
    "print(l1)"
   ]
  },
  {
   "cell_type": "code",
   "execution_count": 39,
   "id": "d54c4f14-c465-49a0-849c-18f79ebf6b45",
   "metadata": {},
   "outputs": [
    {
     "name": "stdout",
     "output_type": "stream",
     "text": [
      "[5, 6, 7, 9]\n"
     ]
    }
   ],
   "source": [
    "l1.remove(8)\n",
    "print(l1)"
   ]
  },
  {
   "cell_type": "code",
   "execution_count": 40,
   "id": "cad323c9-369f-45d4-8cd2-db7fd55e3399",
   "metadata": {},
   "outputs": [
    {
     "name": "stdout",
     "output_type": "stream",
     "text": [
      "[]\n"
     ]
    }
   ],
   "source": [
    "l1.clear()\n",
    "print(l1)"
   ]
  },
  {
   "cell_type": "markdown",
   "id": "c694c642-923f-4144-a587-43c47d88cbd3",
   "metadata": {
    "jp-MarkdownHeadingCollapsed": true
   },
   "source": [
    "## Index and Sorting"
   ]
  },
  {
   "cell_type": "code",
   "execution_count": 3,
   "id": "8e842510-f675-4b54-bb7a-d257ed710919",
   "metadata": {},
   "outputs": [],
   "source": [
    "l1 = [5,6,7,5,8,9,6,10,6]"
   ]
  },
  {
   "cell_type": "code",
   "execution_count": 4,
   "id": "77c2182c-f579-4847-94a1-4949cc9f6d31",
   "metadata": {},
   "outputs": [
    {
     "data": {
      "text/plain": [
       "4"
      ]
     },
     "execution_count": 4,
     "metadata": {},
     "output_type": "execute_result"
    }
   ],
   "source": [
    "l1.index(8)"
   ]
  },
  {
   "cell_type": "code",
   "execution_count": 5,
   "id": "3c9da22e-a8b1-4072-bc5e-e89dca51097e",
   "metadata": {},
   "outputs": [
    {
     "data": {
      "text/plain": [
       "1"
      ]
     },
     "execution_count": 5,
     "metadata": {},
     "output_type": "execute_result"
    }
   ],
   "source": [
    "l1.index(6)"
   ]
  },
  {
   "cell_type": "code",
   "execution_count": 6,
   "id": "cb59c73d-f77d-418e-98ed-cf36e372800f",
   "metadata": {},
   "outputs": [
    {
     "data": {
      "text/plain": [
       "6"
      ]
     },
     "execution_count": 6,
     "metadata": {},
     "output_type": "execute_result"
    }
   ],
   "source": [
    "l1.index(6,2)"
   ]
  },
  {
   "cell_type": "code",
   "execution_count": 7,
   "id": "1ae1a16c-f3a7-48da-b8cc-e5be6fd372b4",
   "metadata": {},
   "outputs": [
    {
     "data": {
      "text/plain": [
       "3"
      ]
     },
     "execution_count": 7,
     "metadata": {},
     "output_type": "execute_result"
    }
   ],
   "source": [
    "l1.count(6)"
   ]
  },
  {
   "cell_type": "code",
   "execution_count": 10,
   "id": "48edb935-a720-49e0-b06b-0ec159c68d0d",
   "metadata": {},
   "outputs": [
    {
     "data": {
      "text/plain": [
       "[6, 10, 6, 9, 8, 5, 7, 6, 5]"
      ]
     },
     "execution_count": 10,
     "metadata": {},
     "output_type": "execute_result"
    }
   ],
   "source": [
    "l1.reverse()\n",
    "l1"
   ]
  },
  {
   "cell_type": "code",
   "execution_count": 12,
   "id": "e8279c11-eb2d-4e5c-a588-af92b4212348",
   "metadata": {},
   "outputs": [
    {
     "data": {
      "text/plain": [
       "[5, 5, 6, 6, 6, 7, 8, 9, 10]"
      ]
     },
     "execution_count": 12,
     "metadata": {},
     "output_type": "execute_result"
    }
   ],
   "source": [
    "l1.sort()\n",
    "l1"
   ]
  },
  {
   "cell_type": "markdown",
   "id": "107e7543-2b74-4b70-bbb9-c820ab294d2a",
   "metadata": {
    "jp-MarkdownHeadingCollapsed": true
   },
   "source": [
    "## List Comprehensions"
   ]
  },
  {
   "cell_type": "code",
   "execution_count": 13,
   "id": "d86b5780-581e-40da-b514-183f29f9874e",
   "metadata": {},
   "outputs": [
    {
     "data": {
      "text/plain": [
       "[0, 1, 2, 3, 4, 5, 6, 7, 8, 9]"
      ]
     },
     "execution_count": 13,
     "metadata": {},
     "output_type": "execute_result"
    }
   ],
   "source": [
    "l1 = [x for x in range(10)]\n",
    "l1"
   ]
  },
  {
   "cell_type": "code",
   "execution_count": 15,
   "id": "b88440d7-98cb-4662-9348-7b597f9940dc",
   "metadata": {},
   "outputs": [
    {
     "data": {
      "text/plain": [
       "[1, 4, 9, 16, 25]"
      ]
     },
     "execution_count": 15,
     "metadata": {},
     "output_type": "execute_result"
    }
   ],
   "source": [
    "l2 = [x**2 for x in range(1,6)]\n",
    "l2"
   ]
  },
  {
   "cell_type": "code",
   "execution_count": 17,
   "id": "43181add-ab82-4ee0-ab9c-bdeaa96c674f",
   "metadata": {},
   "outputs": [
    {
     "data": {
      "text/plain": [
       "[10, 8, 12]"
      ]
     },
     "execution_count": 17,
     "metadata": {},
     "output_type": "execute_result"
    }
   ],
   "source": [
    "l3 = [x for x in(10, 5, 7, 8, 12, 3) if x % 2 == 0]\n",
    "l3"
   ]
  },
  {
   "cell_type": "code",
   "execution_count": 18,
   "id": "6a927b6a-2272-4b75-bac4-d9387149d8f9",
   "metadata": {},
   "outputs": [
    {
     "data": {
      "text/plain": [
       "['p', 'y', 't', 'h', 'o', 'n']"
      ]
     },
     "execution_count": 18,
     "metadata": {},
     "output_type": "execute_result"
    }
   ],
   "source": [
    "l4 = [x.lower() for x in 'PytHOn']\n",
    "l4"
   ]
  },
  {
   "cell_type": "code",
   "execution_count": 20,
   "id": "86802252-4d2f-4d83-a14b-ddc49967e43e",
   "metadata": {},
   "outputs": [
    {
     "data": {
      "text/plain": [
       "['a', 'b', 'b', 'c', 'i', 'j', 'o', 'f', 'd']"
      ]
     },
     "execution_count": 20,
     "metadata": {},
     "output_type": "execute_result"
    }
   ],
   "source": [
    "l5 = [x for x in 'ab123bc#@$ijo%@5123f*(d' if x.isalpha()]\n",
    "l5"
   ]
  },
  {
   "cell_type": "code",
   "execution_count": 21,
   "id": "8356cf70-dac4-4d30-90de-87283e9e1ed9",
   "metadata": {},
   "outputs": [
    {
     "name": "stdin",
     "output_type": "stream",
     "text": [
      "Enter names pedro joão marcos\n"
     ]
    },
    {
     "data": {
      "text/plain": [
       "['pedro', 'joão', 'marcos']"
      ]
     },
     "execution_count": 21,
     "metadata": {},
     "output_type": "execute_result"
    }
   ],
   "source": [
    "data = input('Enter names:')\n",
    "l6 = data.split()\n",
    "l6"
   ]
  },
  {
   "cell_type": "markdown",
   "id": "05b220ce-4198-426f-8e1e-d38ecc7f9605",
   "metadata": {},
   "source": [
    "## Nested List"
   ]
  },
  {
   "cell_type": "code",
   "execution_count": 22,
   "id": "63fdf0e1-9247-4c5f-bbd3-ab19839040b3",
   "metadata": {},
   "outputs": [
    {
     "name": "stdout",
     "output_type": "stream",
     "text": [
      "[[6, 8, 4], [9, 11, 11], [13, 14, 4]]\n"
     ]
    }
   ],
   "source": [
    "a = [[1,2,3], [5,2,3], [6,7,2]]\n",
    "b = [[5,6,1], [4,9,8], [7,7,2]]\n",
    "c = []\n",
    "\n",
    "for i in range(len(a)):\n",
    "    S = []\n",
    "    for j in range(len(b)):\n",
    "        S.append(a[i][j] + b[i][j])\n",
    "    c.append((S))\n",
    "print(c)"
   ]
  },
  {
   "cell_type": "markdown",
   "id": "324beef5-6e9f-4003-8cd4-3fe975d53e3e",
   "metadata": {
    "jp-MarkdownHeadingCollapsed": true
   },
   "source": [
    "## Challenge 1"
   ]
  },
  {
   "cell_type": "code",
   "execution_count": 24,
   "id": "e53391d9-36ea-4fba-abe9-0c64a8a5a451",
   "metadata": {},
   "outputs": [
    {
     "name": "stdout",
     "output_type": "stream",
     "text": [
      "Total salary = 2940\n"
     ]
    }
   ],
   "source": [
    "# calcular salário\n",
    "\n",
    "work_hours = [8, 7, 8, 9, 10] # horas trabalhadas por dia\n",
    "salary_hour = 70\n",
    "\n",
    "total_salary = 0\n",
    "for x in work_hours:\n",
    "    total_salary = total_salary + (x * salary_hour)\n",
    "print(f'Total salary = {total_salary}')"
   ]
  },
  {
   "cell_type": "code",
   "execution_count": 25,
   "id": "e239fd83-8ae0-4fd5-b9d2-9c28677581e6",
   "metadata": {},
   "outputs": [
    {
     "name": "stdin",
     "output_type": "stream",
     "text": [
      "Enter hours per day in entire week, separeted by space: 8 7 8 9 10\n",
      "Enter hourly wage 70\n"
     ]
    },
    {
     "name": "stdout",
     "output_type": "stream",
     "text": [
      "Total salary = 2940\n"
     ]
    }
   ],
   "source": [
    "work_hours = [int(x) for x in input('Enter hours per day in entire week, separated by space:').split()]\n",
    "wage = int(input('Enter hourly wage'))\n",
    "\n",
    "total_hours = sum(work_hours)\n",
    "total_salary = total_hours * wage\n",
    "print(f'Total salary = {total_salary}')"
   ]
  },
  {
   "cell_type": "markdown",
   "id": "f4a34c9e-3803-4015-be44-62bf8bbba17e",
   "metadata": {
    "jp-MarkdownHeadingCollapsed": true
   },
   "source": [
    "## Challenge 2"
   ]
  },
  {
   "cell_type": "code",
   "execution_count": 26,
   "id": "bd63804d-9265-4c7b-9e74-b68937d1e188",
   "metadata": {},
   "outputs": [
    {
     "name": "stdout",
     "output_type": "stream",
     "text": [
      "[3, 4, 5, 6, 7, 8]\n"
     ]
    }
   ],
   "source": [
    "# remover duplicatas da lista\n",
    "l1 = [3, 4, 5, 5, 6, 7, 7, 7, 8]\n",
    "\n",
    "l2 = []\n",
    "\n",
    "for x in l1:\n",
    "    if x not in l2:\n",
    "        l2.append(x)\n",
    "print(l2)"
   ]
  },
  {
   "cell_type": "markdown",
   "id": "73f5d811-735c-4501-b92e-e5b987620c95",
   "metadata": {
    "jp-MarkdownHeadingCollapsed": true
   },
   "source": [
    "## Challenge 3"
   ]
  },
  {
   "cell_type": "code",
   "execution_count": 34,
   "id": "246e273d-c9cc-4931-8020-373aeaf7b886",
   "metadata": {},
   "outputs": [
    {
     "name": "stdout",
     "output_type": "stream",
     "text": [
      "3510712\n"
     ]
    }
   ],
   "source": [
    "# concatenar os números de uma lista\n",
    "l1 = [3,5,10,7,12]\n",
    "\n",
    "n = ''\n",
    "\n",
    "for x in l1:\n",
    "    n = n + str(x)\n",
    "print(n)"
   ]
  },
  {
   "cell_type": "markdown",
   "id": "444b1cca-36e7-4206-acd6-63f1199b3f53",
   "metadata": {
    "jp-MarkdownHeadingCollapsed": true
   },
   "source": [
    "## Challenge 4"
   ]
  },
  {
   "cell_type": "code",
   "execution_count": 39,
   "id": "c3831e9c-05f8-4bf2-9ddb-29bae37d2ce2",
   "metadata": {},
   "outputs": [
    {
     "name": "stdout",
     "output_type": "stream",
     "text": [
      "hotdog 3\n"
     ]
    }
   ],
   "source": [
    "l1 = ['pizza', 'nuggets', 'hotdog', 'noodles', 'pasta', 'burger']\n",
    "l2 = ['burger', 'hotdog', 'noodles', 'pasta', 'nuggets', 'pizza']\n",
    "\n",
    "index1 = 10\n",
    "index2 = 10\n",
    "\n",
    "for i in range(len(l1)):\n",
    "    indx = l2.index(l1[i])\n",
    "\n",
    "    if i + indx < index1 + index2:\n",
    "        index1 = i\n",
    "        index2 = indx\n",
    "\n",
    "print(l1[index1], index1+index2)"
   ]
  },
  {
   "cell_type": "markdown",
   "id": "fcf8080c-bd80-4783-9a4c-8318883e0ea6",
   "metadata": {
    "jp-MarkdownHeadingCollapsed": true
   },
   "source": [
    "## Challenge 5"
   ]
  },
  {
   "cell_type": "code",
   "execution_count": 40,
   "id": "91dd048e-512d-4507-aa4d-3b9fcd906bfd",
   "metadata": {},
   "outputs": [
    {
     "name": "stdout",
     "output_type": "stream",
     "text": [
      "[10, 6, 4]\n"
     ]
    }
   ],
   "source": [
    "l1 = [10, 15, 6, 9, 12, 8, 4]\n",
    "l2 = [14, 6, 19, 4, 7, 10, 11]\n",
    "l3 = []\n",
    "\n",
    "for x in l1:\n",
    "    if x in l2:\n",
    "        l3.append(x)\n",
    "print(l3)"
   ]
  },
  {
   "cell_type": "markdown",
   "id": "b27dd60d-d6cc-4ede-b2ac-2e5acbf53733",
   "metadata": {
    "jp-MarkdownHeadingCollapsed": true
   },
   "source": [
    "## Challenge 6"
   ]
  },
  {
   "cell_type": "code",
   "execution_count": 43,
   "id": "2c5522d6-ab83-4841-a268-230d8cdf05b2",
   "metadata": {},
   "outputs": [
    {
     "name": "stdout",
     "output_type": "stream",
     "text": [
      "['A', 2, 'B', 4, 'C', 1, 'D', 2, 'E', 3]\n"
     ]
    }
   ],
   "source": [
    "l1 = ['A', 'B', 'C', 'D', 'E', 'A', 'B', 'E', 'B', 'D', 'B', 'E']\n",
    "\n",
    "result = []\n",
    "\n",
    "for x in l1:\n",
    "    if x not in result:\n",
    "        result.append(x)\n",
    "        result.append(l1.count(x))\n",
    "print(result)"
   ]
  },
  {
   "cell_type": "markdown",
   "id": "165a83b9-eb22-4270-9b36-afddf1c52414",
   "metadata": {
    "jp-MarkdownHeadingCollapsed": true
   },
   "source": [
    "## Challenge 7"
   ]
  },
  {
   "cell_type": "code",
   "execution_count": 46,
   "id": "d0d52dc3-aabf-4612-b1b0-b054bf4b4d81",
   "metadata": {},
   "outputs": [
    {
     "name": "stdout",
     "output_type": "stream",
     "text": [
      "[[6, 8, 10, 12], [6, 8, 10, 12], [6, 8, 10, 12]]\n"
     ]
    }
   ],
   "source": [
    "l1 = [[1,2,3,4], [1,2,3,4], [1,2,3,4]]\n",
    "l2 = [[5,6,7,8], [5,6,7,8], [5,6,7,8]]\n",
    "l3 = []\n",
    "\n",
    "for i in range(3):\n",
    "    S = []\n",
    "    for j in range(4):\n",
    "        S.append(l1[i][j] + l2[i][j])\n",
    "    l3.append(S)\n",
    "print(l3)"
   ]
  },
  {
   "cell_type": "markdown",
   "id": "a933f086-b60d-4817-975f-020aaad3b335",
   "metadata": {
    "jp-MarkdownHeadingCollapsed": true
   },
   "source": [
    "## Challenge 8"
   ]
  },
  {
   "cell_type": "code",
   "execution_count": 47,
   "id": "526c0f2e-a90f-414d-b76a-583d800109de",
   "metadata": {},
   "outputs": [
    {
     "name": "stdout",
     "output_type": "stream",
     "text": [
      "[[1, 1, 1], [2, 2, 2], [3, 3, 3], [4, 4, 4]]\n"
     ]
    }
   ],
   "source": [
    "l1 = [[1,2,3,4],[1,2,3,4],[1,2,3,4]]\n",
    "l2 = []\n",
    "\n",
    "for i in range(4):\n",
    "    S=[]\n",
    "    for j in range(3):\n",
    "        S.append(l1[j][i])\n",
    "    l2.append(S)\n",
    "print(l2)"
   ]
  },
  {
   "cell_type": "markdown",
   "id": "c08216bb-077f-4014-9303-06378d3b76ed",
   "metadata": {},
   "source": [
    "## Challenge 9"
   ]
  },
  {
   "cell_type": "code",
   "execution_count": 49,
   "id": "78979f46-c80e-4152-96cd-1bbf60077824",
   "metadata": {},
   "outputs": [
    {
     "name": "stdin",
     "output_type": "stream",
     "text": [
      "Digite uma letra: n\n"
     ]
    },
    {
     "name": "stdout",
     "output_type": "stream",
     "text": [
      "nuggets\n",
      "noodles\n"
     ]
    }
   ],
   "source": [
    "letter = input('Digite uma letra:')\n",
    "\n",
    "food = ['pizza', 'nuggets', 'hotdog', 'noodles', 'pasta', 'burger']\n",
    "\n",
    "for x in food:\n",
    "    if x.startswith(letter):\n",
    "        print(x)"
   ]
  },
  {
   "cell_type": "code",
   "execution_count": null,
   "id": "e93fc041-2b6e-48f6-a853-0bcc7fed8945",
   "metadata": {},
   "outputs": [],
   "source": []
  }
 ],
 "metadata": {
  "kernelspec": {
   "display_name": "Python 3 (ipykernel)",
   "language": "python",
   "name": "python3"
  },
  "language_info": {
   "codemirror_mode": {
    "name": "ipython",
    "version": 3
   },
   "file_extension": ".py",
   "mimetype": "text/x-python",
   "name": "python",
   "nbconvert_exporter": "python",
   "pygments_lexer": "ipython3",
   "version": "3.12.7"
  }
 },
 "nbformat": 4,
 "nbformat_minor": 5
}
