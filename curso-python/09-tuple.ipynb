{
 "cells": [
  {
   "cell_type": "markdown",
   "id": "09774f19-adbd-4147-af50-a7e3998946d9",
   "metadata": {},
   "source": [
    "# 09-Tuple"
   ]
  },
  {
   "cell_type": "markdown",
   "id": "d7241e5b-2f79-4f7e-8cf3-bf8e8665d5b3",
   "metadata": {
    "jp-MarkdownHeadingCollapsed": true
   },
   "source": [
    "## Introduction to Tuple"
   ]
  },
  {
   "cell_type": "code",
   "execution_count": 1,
   "id": "8114c437-b631-469d-b9bd-4be5b54bb947",
   "metadata": {},
   "outputs": [
    {
     "data": {
      "text/plain": [
       "tuple"
      ]
     },
     "execution_count": 1,
     "metadata": {},
     "output_type": "execute_result"
    }
   ],
   "source": [
    "t1 = (1,2,3,4,5)\n",
    "type(t1)"
   ]
  },
  {
   "cell_type": "code",
   "execution_count": 2,
   "id": "8d4eb5cc-0a11-4e24-bce1-13e677326321",
   "metadata": {},
   "outputs": [
    {
     "data": {
      "text/plain": [
       "tuple"
      ]
     },
     "execution_count": 2,
     "metadata": {},
     "output_type": "execute_result"
    }
   ],
   "source": [
    "t2 = 10, 20, 30, 40, 50\n",
    "type(t2)"
   ]
  },
  {
   "cell_type": "code",
   "execution_count": 3,
   "id": "b510d593-dfb0-4d3e-9a4e-444f3e0ebacc",
   "metadata": {},
   "outputs": [],
   "source": [
    "a,b,c,d,e = t2"
   ]
  },
  {
   "cell_type": "code",
   "execution_count": 4,
   "id": "f6265c77-d33a-4182-8161-fb45921b39b1",
   "metadata": {},
   "outputs": [
    {
     "data": {
      "text/plain": [
       "10"
      ]
     },
     "execution_count": 4,
     "metadata": {},
     "output_type": "execute_result"
    }
   ],
   "source": [
    "a"
   ]
  },
  {
   "cell_type": "code",
   "execution_count": 5,
   "id": "8fd756c0-cde6-4d98-bf91-7f1859bb361b",
   "metadata": {},
   "outputs": [
    {
     "data": {
      "text/plain": [
       "50"
      ]
     },
     "execution_count": 5,
     "metadata": {},
     "output_type": "execute_result"
    }
   ],
   "source": [
    "e"
   ]
  },
  {
   "cell_type": "markdown",
   "id": "a27b6660-2190-48a5-b470-cd3dd3f8e37e",
   "metadata": {
    "jp-MarkdownHeadingCollapsed": true
   },
   "source": [
    "## Tuple Comprehensions and Methods"
   ]
  },
  {
   "cell_type": "code",
   "execution_count": 7,
   "id": "8ea0f175-be1d-42e2-a172-7020f8281c19",
   "metadata": {},
   "outputs": [
    {
     "data": {
      "text/plain": [
       "(0, 1, 2, 3, 4, 5, 6, 7, 8, 9)"
      ]
     },
     "execution_count": 7,
     "metadata": {},
     "output_type": "execute_result"
    }
   ],
   "source": [
    "t1 = tuple(x for x in range(10))\n",
    "t1"
   ]
  },
  {
   "cell_type": "code",
   "execution_count": 9,
   "id": "5047e31a-174d-44dc-bba9-a5ed2ea4d432",
   "metadata": {},
   "outputs": [
    {
     "data": {
      "text/plain": [
       "(1, 9, 25, 49, 81)"
      ]
     },
     "execution_count": 9,
     "metadata": {},
     "output_type": "execute_result"
    }
   ],
   "source": [
    "t2 = tuple(x**2 for x in (1,3,5,7,9))\n",
    "t2"
   ]
  },
  {
   "cell_type": "code",
   "execution_count": 10,
   "id": "cbf6d3b2-169b-4682-942d-94151278b715",
   "metadata": {},
   "outputs": [
    {
     "data": {
      "text/plain": [
       "3"
      ]
     },
     "execution_count": 10,
     "metadata": {},
     "output_type": "execute_result"
    }
   ],
   "source": [
    "t3 = (1,1,1,2,3,4,5,5)\n",
    "t3.count(1)"
   ]
  },
  {
   "cell_type": "code",
   "execution_count": 11,
   "id": "e1aa2623-1758-4a89-b7fc-f691d674f286",
   "metadata": {},
   "outputs": [
    {
     "data": {
      "text/plain": [
       "0"
      ]
     },
     "execution_count": 11,
     "metadata": {},
     "output_type": "execute_result"
    }
   ],
   "source": [
    "t3.index(1)"
   ]
  },
  {
   "cell_type": "markdown",
   "id": "ea481565-fb9d-411f-920d-9f1cd473e199",
   "metadata": {},
   "source": [
    "## Tuple Operators"
   ]
  },
  {
   "cell_type": "code",
   "execution_count": 12,
   "id": "a0aeff91-660e-4252-a452-ab547b25306c",
   "metadata": {},
   "outputs": [
    {
     "name": "stdout",
     "output_type": "stream",
     "text": [
      "10\n",
      "20\n",
      "30\n",
      "40\n",
      "50\n"
     ]
    }
   ],
   "source": [
    "t1 = 10, 20, 30, 40, 50\n",
    "\n",
    "for i in t1:\n",
    "    print(i)"
   ]
  },
  {
   "cell_type": "code",
   "execution_count": 13,
   "id": "28858d11-f178-4d96-9162-6316d74296a1",
   "metadata": {},
   "outputs": [
    {
     "data": {
      "text/plain": [
       "(1, 2, 3, 4, 5, 6)"
      ]
     },
     "execution_count": 13,
     "metadata": {},
     "output_type": "execute_result"
    }
   ],
   "source": [
    "t1 = 1, 2, 3\n",
    "t2 = 4, 5, 6\n",
    "t3 = t1 + t2\n",
    "t3"
   ]
  },
  {
   "cell_type": "code",
   "execution_count": null,
   "id": "5f14a224-a4c1-40f4-ba74-2cf2902ad045",
   "metadata": {},
   "outputs": [],
   "source": []
  }
 ],
 "metadata": {
  "kernelspec": {
   "display_name": "Python 3 (ipykernel)",
   "language": "python",
   "name": "python3"
  },
  "language_info": {
   "codemirror_mode": {
    "name": "ipython",
    "version": 3
   },
   "file_extension": ".py",
   "mimetype": "text/x-python",
   "name": "python",
   "nbconvert_exporter": "python",
   "pygments_lexer": "ipython3",
   "version": "3.12.7"
  }
 },
 "nbformat": 4,
 "nbformat_minor": 5
}
