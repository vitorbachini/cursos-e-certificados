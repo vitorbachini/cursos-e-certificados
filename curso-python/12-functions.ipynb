{
 "cells": [
  {
   "cell_type": "markdown",
   "id": "6b3d61e3-8efe-40ae-8452-decdf0cd928f",
   "metadata": {},
   "source": [
    "# 12-Functions"
   ]
  },
  {
   "cell_type": "markdown",
   "id": "ee915647-d2a1-4cf6-a7ae-3e75f3eaac2b",
   "metadata": {
    "jp-MarkdownHeadingCollapsed": true
   },
   "source": [
    "## How to write a function"
   ]
  },
  {
   "cell_type": "code",
   "execution_count": null,
   "id": "307d0731-fe97-4c0c-a79a-1427b60ee416",
   "metadata": {},
   "outputs": [],
   "source": [
    "def soma (a, b):\n",
    "    x = a + b\n",
    "    return print(f'A soma de {a} e {b} é: {x}')"
   ]
  },
  {
   "cell_type": "code",
   "execution_count": null,
   "id": "affb58aa-4544-45ee-a24e-ddaf0cd898fe",
   "metadata": {},
   "outputs": [],
   "source": [
    "soma(1,2)"
   ]
  },
  {
   "cell_type": "markdown",
   "id": "1a99c910-7528-465a-a862-e0fe9d10f9a9",
   "metadata": {
    "jp-MarkdownHeadingCollapsed": true
   },
   "source": [
    "## Positional vs Keyword arguments"
   ]
  },
  {
   "cell_type": "code",
   "execution_count": null,
   "id": "ef528085-7e0c-41e2-b9f1-1c9547f53b53",
   "metadata": {},
   "outputs": [],
   "source": [
    "def salary (basic, allowance, deduction):\n",
    "    sal = basic + allowance - deduction\n",
    "    return sal"
   ]
  },
  {
   "cell_type": "code",
   "execution_count": null,
   "id": "4bc6709d-9186-4c2a-ae95-b87637fd9698",
   "metadata": {},
   "outputs": [],
   "source": [
    "s = salary(8000, 6000, 2000)  # positional arguments\n",
    "print(f'Liquid salary = {s}')  "
   ]
  },
  {
   "cell_type": "code",
   "execution_count": null,
   "id": "92d5e8bf-cc1c-47d5-ba1b-7a12959ec7a8",
   "metadata": {},
   "outputs": [],
   "source": [
    "s = salary(deduction = 2000, basic = 8000, allowance = 6000) # keyword arguments\n",
    "print(f'Liquid salary = {s}')  "
   ]
  },
  {
   "cell_type": "markdown",
   "id": "81ce6d5b-4086-4845-af4a-5f780a7138d5",
   "metadata": {
    "jp-MarkdownHeadingCollapsed": true
   },
   "source": [
    "## Default Arguments"
   ]
  },
  {
   "cell_type": "code",
   "execution_count": null,
   "id": "274a04b8-60d9-4c5d-8083-8b2cfdc2cdbd",
   "metadata": {},
   "outputs": [],
   "source": [
    "def add (a, b = 0, c = 0):\n",
    "    return a+b+c"
   ]
  },
  {
   "cell_type": "code",
   "execution_count": null,
   "id": "894d254c-e1e2-4df5-9a5c-b1720e835caa",
   "metadata": {},
   "outputs": [],
   "source": [
    "print(add(5, 10, 15))"
   ]
  },
  {
   "cell_type": "code",
   "execution_count": null,
   "id": "3fe75d2d-2ae0-4d62-9e38-47428fb016f5",
   "metadata": {},
   "outputs": [],
   "source": [
    "print(add(5, 10))"
   ]
  },
  {
   "cell_type": "code",
   "execution_count": null,
   "id": "05e49a59-979e-4f2f-8ec9-35cc53d3427b",
   "metadata": {},
   "outputs": [],
   "source": [
    "print(add(5))"
   ]
  },
  {
   "cell_type": "markdown",
   "id": "aa6ddd82-37ec-42a1-ab44-9b725e045e39",
   "metadata": {},
   "source": [
    "## Mixed Positional or Keyword arguments"
   ]
  },
  {
   "cell_type": "markdown",
   "id": "200ad6da-2bc7-4325-994d-3f0b936e901f",
   "metadata": {
    "jp-MarkdownHeadingCollapsed": true
   },
   "source": [
    "## Variable Length Arguments"
   ]
  },
  {
   "cell_type": "code",
   "execution_count": null,
   "id": "1093ce6e-57e1-4a1b-90ee-61b2a966fc8d",
   "metadata": {},
   "outputs": [],
   "source": [
    "# variable length arguments\n",
    "\n",
    "def fun1(*args):\n",
    "    print(type(args), args)"
   ]
  },
  {
   "cell_type": "code",
   "execution_count": null,
   "id": "60913142-0019-4abd-aa07-fc09ef1d7755",
   "metadata": {},
   "outputs": [],
   "source": [
    "fun1()\n",
    "fun1(10,20)\n",
    "fun1(10,20,30,40)\n",
    "fun1(10,'hello', 20, 30)"
   ]
  },
  {
   "cell_type": "code",
   "execution_count": null,
   "id": "81dadbbb-068e-4b38-9b59-d28b5f83f320",
   "metadata": {},
   "outputs": [],
   "source": [
    "# unpacking arguments\n",
    "\n",
    "l1 = [11, 22, 33]\n",
    "\n",
    "def fun2(a, b, c):\n",
    "    print(a, b, c)\n",
    "\n",
    "fun2(l1[0], l1[1], l1[2])"
   ]
  },
  {
   "cell_type": "code",
   "execution_count": null,
   "id": "79ccb700-f56c-41fb-896e-b14972303bd1",
   "metadata": {},
   "outputs": [],
   "source": [
    "fun2(*l1) # distribui os valores da lista para as variáveis"
   ]
  },
  {
   "cell_type": "code",
   "execution_count": null,
   "id": "a494d4e2-91d9-43e8-88cf-86c51052c3df",
   "metadata": {},
   "outputs": [],
   "source": [
    "# multiple return values\n",
    "\n",
    "def fun3(a, b, c):\n",
    "    return a+10, b*10, c-10"
   ]
  },
  {
   "cell_type": "code",
   "execution_count": null,
   "id": "7f5cc2a5-2d38-483a-b137-3723d2512cd5",
   "metadata": {},
   "outputs": [],
   "source": [
    "x, y, z = fun3(50 ,50 ,50)\n",
    "print(x)\n",
    "print(y)\n",
    "print(z)"
   ]
  },
  {
   "cell_type": "markdown",
   "id": "308ea3dc-5c85-4cdb-aebe-5fa2cf60f545",
   "metadata": {
    "jp-MarkdownHeadingCollapsed": true
   },
   "source": [
    "## Variable Length Keyword Arguments"
   ]
  },
  {
   "cell_type": "code",
   "execution_count": null,
   "id": "76f6f40d-ac75-447e-876a-5ff4c6ac4e1d",
   "metadata": {},
   "outputs": [],
   "source": [
    "def fun1(**kwargs):\n",
    "    for x in kwargs:\n",
    "        print(x, kwargs[x])"
   ]
  },
  {
   "cell_type": "code",
   "execution_count": null,
   "id": "6adb621a-d010-4501-b0b8-a6b672a37b79",
   "metadata": {},
   "outputs": [],
   "source": [
    "fun1(name = 'Ajay', roll = 10, addr = 'Delhi')"
   ]
  },
  {
   "cell_type": "markdown",
   "id": "a1234145-eb9a-459b-9c25-59a00bd4fbbf",
   "metadata": {
    "jp-MarkdownHeadingCollapsed": true
   },
   "source": [
    "## Iterators and Generators"
   ]
  },
  {
   "cell_type": "code",
   "execution_count": 16,
   "id": "e6814269-61a9-4c89-b4a4-4c5797145578",
   "metadata": {},
   "outputs": [
    {
     "name": "stdout",
     "output_type": "stream",
     "text": [
      "1\n",
      "2\n",
      "3\n",
      "4\n",
      "5\n"
     ]
    }
   ],
   "source": [
    "l1 = [1, 2, 3, 4, 5]\n",
    "\n",
    "itr = iter(l1)\n",
    "\n",
    "print(next(itr))\n",
    "print(next(itr))\n",
    "print(next(itr))\n",
    "print(next(itr))\n",
    "print(next(itr))"
   ]
  },
  {
   "cell_type": "code",
   "execution_count": 20,
   "id": "8b5ada49-fb7f-48a8-b6ae-ddf9f61244eb",
   "metadata": {},
   "outputs": [
    {
     "name": "stdout",
     "output_type": "stream",
     "text": [
      "Sun\n",
      "Mon\n",
      "Tue\n",
      "Wed\n"
     ]
    }
   ],
   "source": [
    "def days():\n",
    "    l = ['Sun', 'Mon', 'Tue', 'Wed', 'Thur', 'Fri', 'Sat']\n",
    "    i = 0\n",
    "\n",
    "    while True:\n",
    "        x = l[i]\n",
    "        i = (i + 1) % 7\n",
    "        yield x # não para a função, apenas segura o valor e espera a próxima iteração\n",
    "\n",
    "d = days()\n",
    "print(next(d))\n",
    "print(next(d))\n",
    "print(next(d))\n",
    "print(next(d))"
   ]
  },
  {
   "cell_type": "markdown",
   "id": "219f9351-2751-43b9-b969-363c5b26a474",
   "metadata": {
    "jp-MarkdownHeadingCollapsed": true
   },
   "source": [
    "## Global vs Local Variables"
   ]
  },
  {
   "cell_type": "code",
   "execution_count": 22,
   "id": "2e8d6934-39f8-40ce-ba8b-5519180880ac",
   "metadata": {},
   "outputs": [
    {
     "name": "stdout",
     "output_type": "stream",
     "text": [
      "Local: 11\n",
      "Global: 10\n"
     ]
    }
   ],
   "source": [
    "g = 10 # global variable\n",
    "\n",
    "def fun1(a, b):\n",
    "    c = a + b # local variable\n",
    "    print('Local:', c) \n",
    "    print('Global:', g)\n",
    "\n",
    "fun1(4, 7)"
   ]
  },
  {
   "cell_type": "markdown",
   "id": "c0370b33-5603-4386-a20c-35c4ad551533",
   "metadata": {
    "jp-MarkdownHeadingCollapsed": true
   },
   "source": [
    "## Recursive Function"
   ]
  },
  {
   "cell_type": "code",
   "execution_count": 23,
   "id": "3e4ef0e0-8f6c-4d80-b147-a68a5a26e694",
   "metadata": {},
   "outputs": [],
   "source": [
    "def fact(n):\n",
    "    if n==0:\n",
    "        return 1\n",
    "    else:\n",
    "        return n*fact(n-1)"
   ]
  },
  {
   "cell_type": "code",
   "execution_count": 24,
   "id": "e379bb1e-8416-494b-a9d4-d8e0afab1187",
   "metadata": {},
   "outputs": [
    {
     "data": {
      "text/plain": [
       "120"
      ]
     },
     "execution_count": 24,
     "metadata": {},
     "output_type": "execute_result"
    }
   ],
   "source": [
    "fact(5)"
   ]
  },
  {
   "cell_type": "markdown",
   "id": "1420d0b1-e305-449f-9021-c198c2bc73f3",
   "metadata": {
    "jp-MarkdownHeadingCollapsed": true
   },
   "source": [
    "## Built-in Functions"
   ]
  },
  {
   "cell_type": "markdown",
   "id": "8b2367f3-52f7-4fb7-b455-6555658ec9fd",
   "metadata": {},
   "source": [
    "## Modules"
   ]
  },
  {
   "cell_type": "markdown",
   "id": "50a90d53-824a-48d4-87c2-fbbc89dc8165",
   "metadata": {
    "jp-MarkdownHeadingCollapsed": true
   },
   "source": [
    "## Challenge 1"
   ]
  },
  {
   "cell_type": "code",
   "execution_count": 27,
   "id": "23878d1c-2b04-4796-af34-e7dc4215c5d5",
   "metadata": {},
   "outputs": [],
   "source": [
    "# diference between two numbers\n",
    "\n",
    "def difference(a, b):\n",
    "    diff = a - b\n",
    "    if abs(diff) <= 5:\n",
    "        return True\n",
    "    else:\n",
    "        return False"
   ]
  },
  {
   "cell_type": "code",
   "execution_count": 29,
   "id": "836a527b-d48d-44b9-8e62-e0ad0f32d3fc",
   "metadata": {},
   "outputs": [
    {
     "data": {
      "text/plain": [
       "True"
      ]
     },
     "execution_count": 29,
     "metadata": {},
     "output_type": "execute_result"
    }
   ],
   "source": [
    "difference(18,13)"
   ]
  },
  {
   "cell_type": "markdown",
   "id": "1e269413-38ae-4c71-a5e3-c4547a0f0cb0",
   "metadata": {
    "jp-MarkdownHeadingCollapsed": true
   },
   "source": [
    "## Challenge 2"
   ]
  },
  {
   "cell_type": "code",
   "execution_count": 34,
   "id": "c49883a9-2d67-4bc0-bffb-8a5d38bd07a4",
   "metadata": {},
   "outputs": [],
   "source": [
    "# maximum of 3 numbers\n",
    "\n",
    "def max3(a, b, c):\n",
    "    if a > b and a > c:\n",
    "        return a\n",
    "    elif b > c:\n",
    "        return b\n",
    "    else: \n",
    "        return c"
   ]
  },
  {
   "cell_type": "code",
   "execution_count": 35,
   "id": "9212d388-3476-46cb-bd10-39c9851ce62e",
   "metadata": {},
   "outputs": [
    {
     "data": {
      "text/plain": [
       "14"
      ]
     },
     "execution_count": 35,
     "metadata": {},
     "output_type": "execute_result"
    }
   ],
   "source": [
    "max3(14,14,11)"
   ]
  },
  {
   "cell_type": "markdown",
   "id": "daa9a5b9-36a8-40ce-9f6f-44a6e6db9021",
   "metadata": {
    "jp-MarkdownHeadingCollapsed": true
   },
   "source": [
    "## Challenge 3"
   ]
  },
  {
   "cell_type": "code",
   "execution_count": 36,
   "id": "bd8d997b-3499-4c3c-9444-206765f890ff",
   "metadata": {},
   "outputs": [],
   "source": [
    "# positional message\n",
    "\n",
    "def msg(name, prof,/):\n",
    "    print(f'My name is {name} and i am {prof}')"
   ]
  },
  {
   "cell_type": "code",
   "execution_count": 37,
   "id": "8b7c6c23-f7e9-4455-9746-e6e9432f9874",
   "metadata": {},
   "outputs": [
    {
     "name": "stdout",
     "output_type": "stream",
     "text": [
      "My name is Douglas and i am Jogador\n"
     ]
    }
   ],
   "source": [
    "msg('Douglas', 'Jogador')"
   ]
  },
  {
   "cell_type": "markdown",
   "id": "17edecc9-ad15-43aa-8823-5f9652ff1e12",
   "metadata": {
    "jp-MarkdownHeadingCollapsed": true
   },
   "source": [
    "## Challenge 4"
   ]
  },
  {
   "cell_type": "code",
   "execution_count": 47,
   "id": "9d434cae-fe59-4750-a4a6-1a718120d861",
   "metadata": {},
   "outputs": [],
   "source": [
    "# planet names\n",
    "\n",
    "def planet(id):\n",
    "    planets = {1: 'Mercury', \n",
    "               2: 'Venus', \n",
    "               3: 'Earth',\n",
    "               4: 'Mars',\n",
    "               5: 'Jupiter',\n",
    "               6: 'Saturn',\n",
    "               7: 'Uranus',\n",
    "               8: 'Neptune',\n",
    "               9: 'Pluto'}\n",
    "    if planets[id]:\n",
    "        return planets[id]\n",
    "    else:\n",
    "        return print('No planet with specified id')"
   ]
  },
  {
   "cell_type": "code",
   "execution_count": 48,
   "id": "35c3f614-7f1c-4850-b0f7-4a8d5816d1ed",
   "metadata": {},
   "outputs": [
    {
     "name": "stdin",
     "output_type": "stream",
     "text": [
      "Enter a planet id 2\n"
     ]
    },
    {
     "name": "stdout",
     "output_type": "stream",
     "text": [
      "Venus\n"
     ]
    }
   ],
   "source": [
    "id = int(input('Enter a planet id'))\n",
    "p = planet(id)\n",
    "print(p)"
   ]
  },
  {
   "cell_type": "markdown",
   "id": "dfe9180a-41ac-4138-99fe-a762dfea8c0a",
   "metadata": {
    "jp-MarkdownHeadingCollapsed": true
   },
   "source": [
    "## Challenge 5"
   ]
  },
  {
   "cell_type": "code",
   "execution_count": 49,
   "id": "ff55c7f2-bb43-4926-a5c3-b72013a6619e",
   "metadata": {},
   "outputs": [],
   "source": [
    "# scores ending with 0\n",
    "\n",
    "def sum0(l):\n",
    "    s = 0\n",
    "\n",
    "    for i in l:\n",
    "        if i % 10 == 0:\n",
    "            s += i\n",
    "    return s"
   ]
  },
  {
   "cell_type": "code",
   "execution_count": 50,
   "id": "7f49c56a-2660-469c-8109-b68c25c33d6a",
   "metadata": {},
   "outputs": [
    {
     "name": "stdout",
     "output_type": "stream",
     "text": [
      "510\n"
     ]
    }
   ],
   "source": [
    "l = [100, 123, 122, 110, 300, 421]\n",
    "\n",
    "print(sum0(l))"
   ]
  },
  {
   "cell_type": "markdown",
   "id": "d13dae46-c68f-4841-a4b2-dd56c3a93a2b",
   "metadata": {
    "jp-MarkdownHeadingCollapsed": true
   },
   "source": [
    "## Challenge 6"
   ]
  },
  {
   "cell_type": "code",
   "execution_count": 51,
   "id": "a12fbf8e-36d0-4aac-ad58-4421570558b3",
   "metadata": {},
   "outputs": [],
   "source": [
    "# invert a dictionary\n",
    "\n",
    "def invert(d):\n",
    "\n",
    "    newd = {}\n",
    "    for k, v in d.items():\n",
    "        newd[v] = k\n",
    "\n",
    "    return newd"
   ]
  },
  {
   "cell_type": "code",
   "execution_count": 52,
   "id": "54ce8346-f6ef-4ddb-ada7-43f9a6ac3585",
   "metadata": {},
   "outputs": [],
   "source": [
    "d1 = {'a': 10, 'b':20, 'c': 30}"
   ]
  },
  {
   "cell_type": "code",
   "execution_count": 53,
   "id": "b868b158-e4d6-46ac-847e-13812182b89f",
   "metadata": {},
   "outputs": [
    {
     "name": "stdout",
     "output_type": "stream",
     "text": [
      "{10: 'a', 20: 'b', 30: 'c'}\n"
     ]
    }
   ],
   "source": [
    "d2 = invert(d1)\n",
    "print(d2)"
   ]
  },
  {
   "cell_type": "markdown",
   "id": "e57402c0-3f93-4e46-b4e4-5f87cf40d7ac",
   "metadata": {
    "jp-MarkdownHeadingCollapsed": true
   },
   "source": [
    "## Challenge 7"
   ]
  },
  {
   "cell_type": "code",
   "execution_count": 54,
   "id": "67f3f83c-6b09-4cd3-8706-5f3b1ec9a798",
   "metadata": {},
   "outputs": [],
   "source": [
    "# case counting letters\n",
    "\n",
    "def count(string):\n",
    "    lower = 0\n",
    "    upper = 0\n",
    "\n",
    "    for i in string:\n",
    "        if i.islower():\n",
    "            lower += 1\n",
    "        elif i.isupper():\n",
    "            upper += 1\n",
    "            \n",
    "    return lower, upper        "
   ]
  },
  {
   "cell_type": "code",
   "execution_count": 55,
   "id": "a2df7973-fdd5-43ea-a687-358b67473262",
   "metadata": {},
   "outputs": [
    {
     "data": {
      "text/plain": [
       "(10, 8)"
      ]
     },
     "execution_count": 55,
     "metadata": {},
     "output_type": "execute_result"
    }
   ],
   "source": [
    "count('acADSMadsadAMKDdas')"
   ]
  },
  {
   "cell_type": "markdown",
   "id": "3fa6a7cf-9832-4062-8fdf-3cc8e1ebeb3d",
   "metadata": {
    "jp-MarkdownHeadingCollapsed": true
   },
   "source": [
    "## Nested Functions"
   ]
  },
  {
   "cell_type": "code",
   "execution_count": 1,
   "id": "5809f436-8f0e-4529-8fc5-0a37fa73f49b",
   "metadata": {},
   "outputs": [
    {
     "name": "stdout",
     "output_type": "stream",
     "text": [
      "inner function\n"
     ]
    }
   ],
   "source": [
    "def outer():\n",
    "    def inner():\n",
    "        print('inner function')\n",
    "    inner()\n",
    "\n",
    "outer()"
   ]
  },
  {
   "cell_type": "markdown",
   "id": "fee1cd31-6eac-4dea-a4eb-73341f5072b4",
   "metadata": {
    "jp-MarkdownHeadingCollapsed": true
   },
   "source": [
    "## Returning Functions"
   ]
  },
  {
   "cell_type": "code",
   "execution_count": 2,
   "id": "557eff70-f155-4c41-a9d4-b484cf3c72dd",
   "metadata": {},
   "outputs": [
    {
     "name": "stdout",
     "output_type": "stream",
     "text": [
      "hello world\n"
     ]
    }
   ],
   "source": [
    "def display():\n",
    "    print('hello world')\n",
    "\n",
    "def fun(d):\n",
    "    d()\n",
    "\n",
    "fun(display)"
   ]
  },
  {
   "cell_type": "code",
   "execution_count": 4,
   "id": "271d1858-ee0d-4683-9fdf-de556067e8d8",
   "metadata": {},
   "outputs": [
    {
     "name": "stdout",
     "output_type": "stream",
     "text": [
      "hello world\n"
     ]
    }
   ],
   "source": [
    "def outer():\n",
    "    def display():\n",
    "        print('hello world')\n",
    "    return display\n",
    "\n",
    "d = outer()\n",
    "d()"
   ]
  },
  {
   "cell_type": "markdown",
   "id": "002662a0-44fe-4e17-80a5-306d2bee8f85",
   "metadata": {
    "jp-MarkdownHeadingCollapsed": true
   },
   "source": [
    "## Closure Functions"
   ]
  },
  {
   "cell_type": "code",
   "execution_count": 7,
   "id": "2d192c82-13f1-42a6-b544-a0e84ab774eb",
   "metadata": {},
   "outputs": [
    {
     "name": "stdout",
     "output_type": "stream",
     "text": [
      "**********\n",
      "Hello\n",
      "**********\n"
     ]
    }
   ],
   "source": [
    "def closure():\n",
    "    msg = 'Hello'\n",
    "\n",
    "    def display():\n",
    "        print('*' * 10)\n",
    "        print(msg)\n",
    "        print('*' * 10)\n",
    "    return display\n",
    "\n",
    "d = closure()\n",
    "d()"
   ]
  },
  {
   "cell_type": "markdown",
   "id": "bf1b5289-cb0f-4b2f-a755-0707271247ba",
   "metadata": {
    "jp-MarkdownHeadingCollapsed": true
   },
   "source": [
    "## Caller Class"
   ]
  },
  {
   "cell_type": "code",
   "execution_count": 8,
   "id": "eed6fe6b-89b1-4472-beaf-d54103d6035d",
   "metadata": {},
   "outputs": [
    {
     "name": "stdout",
     "output_type": "stream",
     "text": [
      "Human Resource Departament\n",
      "Marketing Departament\n"
     ]
    }
   ],
   "source": [
    "class dept:\n",
    "    def __init__(self):\n",
    "        self.depts = {\n",
    "            'hr': 'Human Resource Departament',\n",
    "            'acc': 'Accounts and Finance Departament',\n",
    "            'sd': 'Sales and Marketing Departament',\n",
    "            'mft': 'Manufacturing Departament',\n",
    "            'mkt': 'Marketing Departament'\n",
    "        }\n",
    "\n",
    "    def __call__(self, dept):\n",
    "        return self.depts[dept]\n",
    "\n",
    "d = dept()\n",
    "s = d('hr')\n",
    "print(s)\n",
    "print(d('mkt'))"
   ]
  },
  {
   "cell_type": "markdown",
   "id": "65cccacb-ab4a-4665-a5bb-89356facbeeb",
   "metadata": {
    "jp-MarkdownHeadingCollapsed": true
   },
   "source": [
    "## Decorator"
   ]
  },
  {
   "cell_type": "code",
   "execution_count": 11,
   "id": "15069a0c-9d21-452c-b045-f88e9ab7f921",
   "metadata": {},
   "outputs": [
    {
     "name": "stdout",
     "output_type": "stream",
     "text": [
      "**********\n",
      "Hello\n",
      "**********\n"
     ]
    }
   ],
   "source": [
    "def decorator(fun):\n",
    "    def wrapper(msg):\n",
    "        print('*' * 10)\n",
    "        fun(msg)\n",
    "        print('*' * 10)\n",
    "    return wrapper\n",
    "\n",
    "def display(msg):\n",
    "    print(msg)\n",
    "\n",
    "d = decorator(display)\n",
    "d('Hello')"
   ]
  },
  {
   "cell_type": "markdown",
   "id": "0b623aed-0139-4f18-8831-2a0c037f7a4c",
   "metadata": {},
   "source": [
    "## Lambda Functions"
   ]
  },
  {
   "cell_type": "code",
   "execution_count": 12,
   "id": "89c8a7df-afd9-44c1-93f5-f8f9be605548",
   "metadata": {},
   "outputs": [
    {
     "name": "stdout",
     "output_type": "stream",
     "text": [
      "16.0\n"
     ]
    }
   ],
   "source": [
    "k = lambda miles: 1.6 * miles\n",
    "print(k(10))"
   ]
  },
  {
   "cell_type": "code",
   "execution_count": null,
   "id": "ecaee88b-b77b-455f-95ea-83ca77b4df87",
   "metadata": {},
   "outputs": [],
   "source": []
  }
 ],
 "metadata": {
  "kernelspec": {
   "display_name": "Python 3 (ipykernel)",
   "language": "python",
   "name": "python3"
  },
  "language_info": {
   "codemirror_mode": {
    "name": "ipython",
    "version": 3
   },
   "file_extension": ".py",
   "mimetype": "text/x-python",
   "name": "python",
   "nbconvert_exporter": "python",
   "pygments_lexer": "ipython3",
   "version": "3.12.7"
  }
 },
 "nbformat": 4,
 "nbformat_minor": 5
}
