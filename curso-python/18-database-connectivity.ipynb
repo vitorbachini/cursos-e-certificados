{
 "cells": [
  {
   "cell_type": "markdown",
   "id": "00f32172-0f2e-479b-acd9-efa16ae2ed29",
   "metadata": {},
   "source": [
    "# 18-DataBase Connectivity"
   ]
  },
  {
   "cell_type": "markdown",
   "id": "2a923ccd-28c4-4fad-9bbb-e66d5b88c733",
   "metadata": {
    "jp-MarkdownHeadingCollapsed": true
   },
   "source": [
    "## Create a Database"
   ]
  },
  {
   "cell_type": "code",
   "execution_count": 1,
   "id": "9cc760df-2fcf-4732-8456-ba3061aefbaf",
   "metadata": {},
   "outputs": [],
   "source": [
    "# usando como exemplo o SQLite\n",
    "\n",
    "import sqlite3"
   ]
  },
  {
   "cell_type": "code",
   "execution_count": null,
   "id": "ce337078-12d4-463a-acf3-8f1c9ea0c2d8",
   "metadata": {},
   "outputs": [],
   "source": [
    "conn = sqlite3.connect('univ.db') # criando a database"
   ]
  },
  {
   "cell_type": "markdown",
   "id": "c7f96590-ae44-429e-995a-49deddecac8e",
   "metadata": {
    "jp-MarkdownHeadingCollapsed": true
   },
   "source": [
    "## Create Tables"
   ]
  },
  {
   "cell_type": "code",
   "execution_count": null,
   "id": "8a1e882d-18f7-4b4e-8e2e-83a46c03cb31",
   "metadata": {},
   "outputs": [],
   "source": [
    "cur = conn.cursor() # criar um cursor"
   ]
  },
  {
   "cell_type": "code",
   "execution_count": null,
   "id": "2d75321d-5aa5-49e1-801b-9922d09bc9b6",
   "metadata": {},
   "outputs": [],
   "source": [
    "cur.execute('create table Dept(deptno integer primary key, name text)') # executar a query sql"
   ]
  },
  {
   "cell_type": "code",
   "execution_count": null,
   "id": "21e2852e-8517-4508-b68a-f70f37ada1ef",
   "metadata": {},
   "outputs": [],
   "source": [
    "cur.execute('create table Sudents(roll integer primary key, city text, deptno integer, foreign key(deptno) references Dept(deptno))')"
   ]
  },
  {
   "cell_type": "code",
   "execution_count": null,
   "id": "4338238a-949a-4684-b674-bf0ffad1cad2",
   "metadata": {},
   "outputs": [],
   "source": [
    "conn.commit()"
   ]
  },
  {
   "cell_type": "code",
   "execution_count": null,
   "id": "aa1d432e-3066-4e05-84bf-546c662b9256",
   "metadata": {},
   "outputs": [],
   "source": [
    "cur.close()"
   ]
  },
  {
   "cell_type": "code",
   "execution_count": null,
   "id": "78f1d266-bb34-4af3-9a3d-f522abcf27d3",
   "metadata": {},
   "outputs": [],
   "source": [
    "conn.close()"
   ]
  },
  {
   "cell_type": "markdown",
   "id": "a94b34cc-1ae2-4f14-ab81-96ea1de5e190",
   "metadata": {},
   "source": [
    "## Insert into Tables"
   ]
  },
  {
   "cell_type": "code",
   "execution_count": null,
   "id": "4e512f91-bf71-4c85-b303-52c2133b8e44",
   "metadata": {},
   "outputs": [],
   "source": [
    "cur.execute('insert into Dept') # igual a query em sql"
   ]
  },
  {
   "cell_type": "markdown",
   "id": "cc4887a7-3a37-4078-a003-c1713a591a01",
   "metadata": {},
   "source": [
    "## Querying Data"
   ]
  },
  {
   "cell_type": "code",
   "execution_count": null,
   "id": "4420a729-d004-4ed7-a7e1-ada2df738194",
   "metadata": {},
   "outputs": [],
   "source": [
    "rows = cur.execute('select * from Dept')"
   ]
  },
  {
   "cell_type": "code",
   "execution_count": null,
   "id": "8b2707f3-3390-4936-b690-6148f1cb67d0",
   "metadata": {},
   "outputs": [],
   "source": [
    "print(rows.fetchone()) # retorna uma linha"
   ]
  },
  {
   "cell_type": "code",
   "execution_count": null,
   "id": "78c27d44-9c31-4dbb-a269-cb212b858275",
   "metadata": {},
   "outputs": [],
   "source": [
    "print(rows.fetchmany(3))"
   ]
  },
  {
   "cell_type": "code",
   "execution_count": null,
   "id": "26ff4a96-0ce6-46c1-a91a-1124c7a6bb44",
   "metadata": {},
   "outputs": [],
   "source": [
    "print(rows.fetchall())"
   ]
  },
  {
   "cell_type": "code",
   "execution_count": null,
   "id": "d20c490b-dd79-472e-98f8-e999082ba3f0",
   "metadata": {},
   "outputs": [],
   "source": [
    "allrows = rows.fetchall()\n",
    "\n",
    "for t in allrows:\n",
    "    print(t[0])"
   ]
  },
  {
   "cell_type": "code",
   "execution_count": null,
   "id": "87630b20-a27a-4184-9c3f-fd55fc92d9fa",
   "metadata": {},
   "outputs": [],
   "source": [
    "# basicamente todas as queries utilizadas em sql podem ser utilizadas através do execute\n",
    "# Exemplo:\n",
    "\n",
    "sao_paulo = cur.execute('select * from City where City = Sao Paulo') "
   ]
  },
  {
   "cell_type": "markdown",
   "id": "564ea4ce-be7a-41fc-bfad-9f4a16292485",
   "metadata": {},
   "source": [
    "## Update and Delete"
   ]
  },
  {
   "cell_type": "code",
   "execution_count": null,
   "id": "fa3bab47-bf47-4072-8bb9-fcfda8992476",
   "metadata": {},
   "outputs": [],
   "source": []
  }
 ],
 "metadata": {
  "kernelspec": {
   "display_name": "Python 3 (ipykernel)",
   "language": "python",
   "name": "python3"
  },
  "language_info": {
   "codemirror_mode": {
    "name": "ipython",
    "version": 3
   },
   "file_extension": ".py",
   "mimetype": "text/x-python",
   "name": "python",
   "nbconvert_exporter": "python",
   "pygments_lexer": "ipython3",
   "version": "3.12.7"
  }
 },
 "nbformat": 4,
 "nbformat_minor": 5
}
