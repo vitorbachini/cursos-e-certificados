{
 "cells": [
  {
   "cell_type": "markdown",
   "id": "4c385087-471e-4248-a499-f9865df4de9d",
   "metadata": {},
   "source": [
    "# 13-Exception Handling"
   ]
  },
  {
   "cell_type": "markdown",
   "id": "c4d85325-ae74-4532-944d-5fe67112d9b5",
   "metadata": {
    "jp-MarkdownHeadingCollapsed": true
   },
   "source": [
    "## What are exceptions?"
   ]
  },
  {
   "cell_type": "code",
   "execution_count": 3,
   "id": "4d7988ae-2fbb-4a9c-87c0-d8942eb8f86c",
   "metadata": {},
   "outputs": [
    {
     "ename": "IndentationError",
     "evalue": "expected an indented block after 'if' statement on line 7 (3605270853.py, line 8)",
     "output_type": "error",
     "traceback": [
      "\u001b[1;36m  Cell \u001b[1;32mIn[3], line 8\u001b[1;36m\u001b[0m\n\u001b[1;33m    print('sdasd')\u001b[0m\n\u001b[1;37m    ^\u001b[0m\n\u001b[1;31mIndentationError\u001b[0m\u001b[1;31m:\u001b[0m expected an indented block after 'if' statement on line 7\n"
     ]
    }
   ],
   "source": [
    "# types of errors\n",
    "\n",
    "x = 2\n",
    "y = 3\n",
    "\n",
    "if x > y:\n",
    "print('sdasd') # syntax error\n",
    "\n",
    "if x > y\n",
    "    print('adasd') # syntax error\n",
    "\n",
    "print(z) # runtime error\n",
    "\n",
    "c = 10 / 0 # runtime error\n",
    "\n"
   ]
  },
  {
   "cell_type": "markdown",
   "id": "cd7130d7-a076-4b43-891a-5c17584e24c3",
   "metadata": {},
   "source": [
    "## Programmer vs User Error"
   ]
  },
  {
   "cell_type": "markdown",
   "id": "e2758492-e1c5-4e3c-ba6d-986377be8007",
   "metadata": {
    "jp-MarkdownHeadingCollapsed": true
   },
   "source": [
    "## Examples of Exception"
   ]
  },
  {
   "cell_type": "code",
   "execution_count": 5,
   "id": "5b6e7e5f-6b11-4d8c-873a-2bd13f783d33",
   "metadata": {},
   "outputs": [
    {
     "name": "stdin",
     "output_type": "stream",
     "text": [
      "Enter a index 5\n"
     ]
    },
    {
     "ename": "IndexError",
     "evalue": "list index out of range",
     "output_type": "error",
     "traceback": [
      "\u001b[1;31m---------------------------------------------------------------------------\u001b[0m",
      "\u001b[1;31mIndexError\u001b[0m                                Traceback (most recent call last)",
      "Cell \u001b[1;32mIn[5], line 3\u001b[0m\n\u001b[0;32m      1\u001b[0m l \u001b[38;5;241m=\u001b[39m [\u001b[38;5;241m10\u001b[39m,\u001b[38;5;241m20\u001b[39m,\u001b[38;5;241m30\u001b[39m,\u001b[38;5;241m40\u001b[39m,\u001b[38;5;241m50\u001b[39m]\n\u001b[0;32m      2\u001b[0m index \u001b[38;5;241m=\u001b[39m \u001b[38;5;28mint\u001b[39m(\u001b[38;5;28minput\u001b[39m(\u001b[38;5;124m'\u001b[39m\u001b[38;5;124mEnter a index\u001b[39m\u001b[38;5;124m'\u001b[39m))\n\u001b[1;32m----> 3\u001b[0m \u001b[38;5;28mprint\u001b[39m(l[index])\n",
      "\u001b[1;31mIndexError\u001b[0m: list index out of range"
     ]
    }
   ],
   "source": [
    "l = [10,20,30,40,50]\n",
    "index = int(input('Enter a index'))\n",
    "print(l[index])"
   ]
  },
  {
   "cell_type": "code",
   "execution_count": 7,
   "id": "d0c615f1-dc23-4237-a0d6-e2c469797143",
   "metadata": {},
   "outputs": [
    {
     "ename": "ValueError",
     "evalue": "invalid literal for int() with base 10: 'abc'",
     "output_type": "error",
     "traceback": [
      "\u001b[1;31m---------------------------------------------------------------------------\u001b[0m",
      "\u001b[1;31mValueError\u001b[0m                                Traceback (most recent call last)",
      "Cell \u001b[1;32mIn[7], line 1\u001b[0m\n\u001b[1;32m----> 1\u001b[0m val \u001b[38;5;241m=\u001b[39m \u001b[38;5;28mint\u001b[39m(\u001b[38;5;124m'\u001b[39m\u001b[38;5;124mabc\u001b[39m\u001b[38;5;124m'\u001b[39m)\n\u001b[0;32m      2\u001b[0m \u001b[38;5;28mprint\u001b[39m(val, \u001b[38;5;28mtype\u001b[39m(val))\n\u001b[0;32m      4\u001b[0m res \u001b[38;5;241m=\u001b[39m \u001b[38;5;124m'\u001b[39m\u001b[38;5;124m3\u001b[39m\u001b[38;5;124m'\u001b[39m \u001b[38;5;241m+\u001b[39m \u001b[38;5;241m5\u001b[39m\n",
      "\u001b[1;31mValueError\u001b[0m: invalid literal for int() with base 10: 'abc'"
     ]
    }
   ],
   "source": [
    "val = int('abc')\n",
    "print(val, type(val))\n",
    "\n",
    "res = '3' + 5"
   ]
  },
  {
   "cell_type": "code",
   "execution_count": 8,
   "id": "16171f89-7275-4671-ad0d-5e2ccf5bbf5d",
   "metadata": {},
   "outputs": [
    {
     "name": "stdin",
     "output_type": "stream",
     "text": [
      "Enter first number 1\n",
      "Enter second number 0\n"
     ]
    },
    {
     "ename": "ZeroDivisionError",
     "evalue": "integer division or modulo by zero",
     "output_type": "error",
     "traceback": [
      "\u001b[1;31m---------------------------------------------------------------------------\u001b[0m",
      "\u001b[1;31mZeroDivisionError\u001b[0m                         Traceback (most recent call last)",
      "Cell \u001b[1;32mIn[8], line 4\u001b[0m\n\u001b[0;32m      1\u001b[0m a \u001b[38;5;241m=\u001b[39m \u001b[38;5;28mint\u001b[39m(\u001b[38;5;28minput\u001b[39m(\u001b[38;5;124m'\u001b[39m\u001b[38;5;124mEnter first number\u001b[39m\u001b[38;5;124m'\u001b[39m))\n\u001b[0;32m      2\u001b[0m b \u001b[38;5;241m=\u001b[39m \u001b[38;5;28mint\u001b[39m(\u001b[38;5;28minput\u001b[39m(\u001b[38;5;124m'\u001b[39m\u001b[38;5;124mEnter second number\u001b[39m\u001b[38;5;124m'\u001b[39m))\n\u001b[1;32m----> 4\u001b[0m res \u001b[38;5;241m=\u001b[39m a \u001b[38;5;241m/\u001b[39m\u001b[38;5;241m/\u001b[39m b\n\u001b[0;32m      5\u001b[0m \u001b[38;5;28mprint\u001b[39m(res)\n",
      "\u001b[1;31mZeroDivisionError\u001b[0m: integer division or modulo by zero"
     ]
    }
   ],
   "source": [
    "a = int(input('Enter first number'))\n",
    "b = int(input('Enter second number'))\n",
    "\n",
    "res = a // b\n",
    "print(res)"
   ]
  },
  {
   "cell_type": "markdown",
   "id": "570457f7-d66f-4e9f-bacb-6dafb67293ee",
   "metadata": {
    "jp-MarkdownHeadingCollapsed": true
   },
   "source": [
    "## Handling Exceptions"
   ]
  },
  {
   "cell_type": "code",
   "execution_count": 13,
   "id": "41c80f52-9c2d-4339-9340-87f4d702af84",
   "metadata": {},
   "outputs": [
    {
     "name": "stdin",
     "output_type": "stream",
     "text": [
      "Enter a index 6\n"
     ]
    },
    {
     "name": "stdout",
     "output_type": "stream",
     "text": [
      "ERROR: Invalid index\n",
      "Program terminated\n"
     ]
    }
   ],
   "source": [
    "l = [10,20,30,40,50]\n",
    "\n",
    "try:\n",
    "    index = int(input('Enter a index'))\n",
    "    print(l[index])\n",
    "except:\n",
    "    print('ERROR: Invalid index')\n",
    "\n",
    "print('Program terminated')"
   ]
  },
  {
   "cell_type": "markdown",
   "id": "5141b965-66cd-42fd-a652-ea0ad753d325",
   "metadata": {
    "jp-MarkdownHeadingCollapsed": true
   },
   "source": [
    "## Handling Multiple Exceptions"
   ]
  },
  {
   "cell_type": "code",
   "execution_count": 15,
   "id": "b36bfbe3-cf24-4d6d-9d67-c96dbd28698d",
   "metadata": {},
   "outputs": [
    {
     "name": "stdin",
     "output_type": "stream",
     "text": [
      "Enter a index abc\n"
     ]
    },
    {
     "name": "stdout",
     "output_type": "stream",
     "text": [
      "ERROR: Enter only integer value\n",
      "Program terminated\n"
     ]
    }
   ],
   "source": [
    "l = [10,20,30,40,50]\n",
    "\n",
    "try:\n",
    "    index = int(input('Enter a index'))\n",
    "    print(l[index])\n",
    "except IndexError:\n",
    "    print('ERROR: Invalid index')\n",
    "except ValueError:\n",
    "    print('ERROR: Enter only integer value')\n",
    "except:\n",
    "    print('ERROR')\n",
    "\n",
    "print('Program terminated')"
   ]
  },
  {
   "cell_type": "markdown",
   "id": "46ed45fa-5392-4913-a94f-29cc6df1d6fa",
   "metadata": {
    "jp-MarkdownHeadingCollapsed": true
   },
   "source": [
    "## Why try and except"
   ]
  },
  {
   "cell_type": "code",
   "execution_count": null,
   "id": "f5a7b2cb-d403-4634-9c61-5b4255015adb",
   "metadata": {},
   "outputs": [],
   "source": [
    "a = int(input('Enter first number'))\n",
    "b = int(input('Enter second number'))\n",
    "\n",
    "if b != 0:\n",
    "    res = a // b\n",
    "print(res)\n",
    "else:\n",
    "    print('Zero Division Error')"
   ]
  },
  {
   "cell_type": "markdown",
   "id": "c9da6b83-0d01-4da4-9565-b54e8d79fa5b",
   "metadata": {
    "jp-MarkdownHeadingCollapsed": true
   },
   "source": [
    "## try - except - else"
   ]
  },
  {
   "cell_type": "code",
   "execution_count": 17,
   "id": "5e4fe041-35e7-47d9-afc4-b7c385077549",
   "metadata": {},
   "outputs": [
    {
     "name": "stdin",
     "output_type": "stream",
     "text": [
      "Enter numerator 10\n",
      "Enter denominator 0\n"
     ]
    },
    {
     "name": "stdout",
     "output_type": "stream",
     "text": [
      "integer division or modulo by zero\n"
     ]
    }
   ],
   "source": [
    "try:\n",
    "    a = int(input('Enter numerator'))\n",
    "    b = int(input('Enter denominator'))\n",
    "    c = a // b\n",
    "except ZeroDivisionError as err:\n",
    "    print(err)\n",
    "else:\n",
    "    print('Division is', c)"
   ]
  },
  {
   "cell_type": "markdown",
   "id": "3222dbc2-c5d1-4b47-8ade-65de5ba8f167",
   "metadata": {
    "jp-MarkdownHeadingCollapsed": true
   },
   "source": [
    "## finally block"
   ]
  },
  {
   "cell_type": "code",
   "execution_count": 18,
   "id": "1c02092c-e7dd-4ad9-9b52-ff8b188a1b63",
   "metadata": {},
   "outputs": [
    {
     "name": "stdin",
     "output_type": "stream",
     "text": [
      "Enter numerator 10\n",
      "Enter denominator 20\n"
     ]
    },
    {
     "name": "stdout",
     "output_type": "stream",
     "text": [
      "Division is 0\n",
      "Finally Block\n"
     ]
    }
   ],
   "source": [
    "try:\n",
    "    a = int(input('Enter numerator'))\n",
    "    b = int(input('Enter denominator'))\n",
    "    c = a // b\n",
    "except ZeroDivisionError as err:\n",
    "    print(err)\n",
    "else:\n",
    "    print('Division is', c)\n",
    "finally:\n",
    "    print('Finally Block')"
   ]
  },
  {
   "cell_type": "markdown",
   "id": "f05816f7-b3dd-47c8-876a-6b777a44629d",
   "metadata": {},
   "source": [
    "## User Define Excpetion"
   ]
  },
  {
   "cell_type": "code",
   "execution_count": 19,
   "id": "5b39c35c-bff9-4ee5-8794-a6dec30c8c9f",
   "metadata": {},
   "outputs": [
    {
     "name": "stdout",
     "output_type": "stream",
     "text": [
      "Some Error\n"
     ]
    }
   ],
   "source": [
    "class MyError(Exception):\n",
    "    pass\n",
    "\n",
    "try:\n",
    "    raise MyError('Some Error')\n",
    "except MyError as err:\n",
    "    print(err)"
   ]
  },
  {
   "cell_type": "markdown",
   "id": "d58ac75e-eb1b-4b3f-98ff-8b29aff292fc",
   "metadata": {
    "jp-MarkdownHeadingCollapsed": true
   },
   "source": [
    "## Nested try except"
   ]
  },
  {
   "cell_type": "code",
   "execution_count": null,
   "id": "146a3333-c16b-4de1-bc3d-43a628e66bde",
   "metadata": {},
   "outputs": [],
   "source": [
    "try:\n",
    "    a = int(input('Enter numerator'))\n",
    "    try:\n",
    "    b = int(input('Enter denominator'))\n",
    "        try:\n",
    "            c = a // b\n",
    "        except ZeroDivisionError as e:\n",
    "            print(e)\n",
    "    except ValueError:\n",
    "        print('Value Error')\n",
    "except ValueError:\n",
    "    print('Value Error')"
   ]
  },
  {
   "cell_type": "markdown",
   "id": "4cbb5de6-b380-43f8-a5e4-3b0679396439",
   "metadata": {
    "jp-MarkdownHeadingCollapsed": true
   },
   "source": [
    "## Challenge 1"
   ]
  },
  {
   "cell_type": "code",
   "execution_count": 23,
   "id": "30b2e899-ca27-445f-9d35-fd2bf1bccb70",
   "metadata": {},
   "outputs": [
    {
     "name": "stdin",
     "output_type": "stream",
     "text": [
      "Enter an age -2\n"
     ]
    },
    {
     "name": "stdout",
     "output_type": "stream",
     "text": [
      "Error: Age must be greater than zero\n"
     ]
    }
   ],
   "source": [
    "class NegativeAgeException(Exception):\n",
    "    pass\n",
    "\n",
    "def stage(age):\n",
    "    if age < 0:\n",
    "        raise NegativeAgeException('Age must be greater than zero')\n",
    "    elif age >= 0 and age < 13:\n",
    "        print('Kid')\n",
    "    elif age >= 13 and age < 19:\n",
    "        print('Teen')\n",
    "    elif age >= 19 and age < 50:\n",
    "        print('Young')\n",
    "    else:\n",
    "        print('Old')\n",
    "\n",
    "age = int(input('Enter an age'))\n",
    "\n",
    "try:\n",
    "    stage(age)\n",
    "except NegativeAgeException as err:\n",
    "    print('Error:', err)"
   ]
  },
  {
   "cell_type": "markdown",
   "id": "1277162a-f15c-4045-9b81-de7c6e84cc88",
   "metadata": {},
   "source": []
  },
  {
   "cell_type": "code",
   "execution_count": null,
   "id": "f0a2ea31-89af-48bd-898c-04bd1e279f02",
   "metadata": {},
   "outputs": [],
   "source": []
  }
 ],
 "metadata": {
  "kernelspec": {
   "display_name": "Python 3 (ipykernel)",
   "language": "python",
   "name": "python3"
  },
  "language_info": {
   "codemirror_mode": {
    "name": "ipython",
    "version": 3
   },
   "file_extension": ".py",
   "mimetype": "text/x-python",
   "name": "python",
   "nbconvert_exporter": "python",
   "pygments_lexer": "ipython3",
   "version": "3.12.7"
  }
 },
 "nbformat": 4,
 "nbformat_minor": 5
}
