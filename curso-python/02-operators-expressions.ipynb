{
 "cells": [
  {
   "cell_type": "markdown",
   "id": "9bbcdad1-aa36-458b-b6b3-064f151e1248",
   "metadata": {},
   "source": [
    "# 02-Operators and Expressions"
   ]
  },
  {
   "cell_type": "markdown",
   "id": "70f3f78f-7d28-4155-abc4-464ef91832ee",
   "metadata": {
    "jp-MarkdownHeadingCollapsed": true
   },
   "source": [
    "## Operadores Aritméticos"
   ]
  },
  {
   "cell_type": "code",
   "execution_count": 1,
   "id": "4e9f40e9-94d3-46fb-a9de-1e9ff11efe2c",
   "metadata": {},
   "outputs": [],
   "source": [
    "a = 5\n",
    "b = 10"
   ]
  },
  {
   "cell_type": "code",
   "execution_count": 2,
   "id": "c5e04e18-286b-4519-a508-3734c220f561",
   "metadata": {},
   "outputs": [
    {
     "data": {
      "text/plain": [
       "15"
      ]
     },
     "execution_count": 2,
     "metadata": {},
     "output_type": "execute_result"
    }
   ],
   "source": [
    "# Adição\n",
    "\n",
    "c = a + b\n",
    "c"
   ]
  },
  {
   "cell_type": "code",
   "execution_count": 3,
   "id": "d4313474-a0b5-441e-83e2-76215dc0aacf",
   "metadata": {},
   "outputs": [
    {
     "data": {
      "text/plain": [
       "-5"
      ]
     },
     "execution_count": 3,
     "metadata": {},
     "output_type": "execute_result"
    }
   ],
   "source": [
    "# Subtração\n",
    "\n",
    "c = a - b\n",
    "c"
   ]
  },
  {
   "cell_type": "code",
   "execution_count": 4,
   "id": "06a73ce3-cc08-46d9-bd52-405c231f100a",
   "metadata": {},
   "outputs": [
    {
     "data": {
      "text/plain": [
       "50"
      ]
     },
     "execution_count": 4,
     "metadata": {},
     "output_type": "execute_result"
    }
   ],
   "source": [
    "# Multiplicação\n",
    "\n",
    "c = a * b\n",
    "c"
   ]
  },
  {
   "cell_type": "code",
   "execution_count": 5,
   "id": "5a488885-9fe9-449b-8f87-3dd2a865da8e",
   "metadata": {},
   "outputs": [
    {
     "data": {
      "text/plain": [
       "0.5"
      ]
     },
     "execution_count": 5,
     "metadata": {},
     "output_type": "execute_result"
    }
   ],
   "source": [
    "# Divisão\n",
    "\n",
    "c = a / b\n",
    "c"
   ]
  },
  {
   "cell_type": "code",
   "execution_count": 6,
   "id": "16ef6dc5-9ee4-4742-8bec-769ab45ac208",
   "metadata": {},
   "outputs": [
    {
     "data": {
      "text/plain": [
       "9765625"
      ]
     },
     "execution_count": 6,
     "metadata": {},
     "output_type": "execute_result"
    }
   ],
   "source": [
    "# Exponenciação\n",
    "\n",
    "c = a**b\n",
    "c"
   ]
  },
  {
   "cell_type": "code",
   "execution_count": 7,
   "id": "2f076754-5b03-45be-b015-07312e74d04a",
   "metadata": {},
   "outputs": [
    {
     "data": {
      "text/plain": [
       "0"
      ]
     },
     "execution_count": 7,
     "metadata": {},
     "output_type": "execute_result"
    }
   ],
   "source": [
    "# Divisão Inteira\n",
    "\n",
    "c = a // b\n",
    "c"
   ]
  },
  {
   "cell_type": "code",
   "execution_count": 8,
   "id": "6628fe16-c763-4fa0-a61a-7fedfa2b2170",
   "metadata": {},
   "outputs": [
    {
     "data": {
      "text/plain": [
       "5"
      ]
     },
     "execution_count": 8,
     "metadata": {},
     "output_type": "execute_result"
    }
   ],
   "source": [
    "# Resto da divisão\n",
    "\n",
    "c = a % b\n",
    "c"
   ]
  },
  {
   "cell_type": "markdown",
   "id": "20cec324-879c-4a8d-8db3-f40f7523fb23",
   "metadata": {
    "jp-MarkdownHeadingCollapsed": true
   },
   "source": [
    "## Expressões"
   ]
  },
  {
   "cell_type": "code",
   "execution_count": 9,
   "id": "b4509b40-27a6-441f-9072-61ca7e687866",
   "metadata": {},
   "outputs": [],
   "source": [
    "a = 2\n",
    "b = 3\n",
    "c = 5"
   ]
  },
  {
   "cell_type": "code",
   "execution_count": 10,
   "id": "a062f82f-59a0-44d5-a586-b479dea93689",
   "metadata": {},
   "outputs": [
    {
     "data": {
      "text/plain": [
       "11"
      ]
     },
     "execution_count": 10,
     "metadata": {},
     "output_type": "execute_result"
    }
   ],
   "source": [
    "d = c + (a * b)\n",
    "d"
   ]
  },
  {
   "cell_type": "code",
   "execution_count": 13,
   "id": "e97ad844-18cf-46a7-8a19-f076f23da619",
   "metadata": {},
   "outputs": [
    {
     "name": "stdin",
     "output_type": "stream",
     "text": [
      "Digite a base do retângulo:  3\n",
      "Digite a altura do retângulo:  4\n"
     ]
    },
    {
     "name": "stdout",
     "output_type": "stream",
     "text": [
      "Área do retângulo: 12.0\n"
     ]
    }
   ],
   "source": [
    "# Área do Retângulo\n",
    "\n",
    "base = float(input('Digite a base do retângulo: '))\n",
    "altura = float(input('Digite a altura do retângulo: '))\n",
    "\n",
    "area = base * altura\n",
    "print(f'Área do retângulo: {area}')"
   ]
  },
  {
   "cell_type": "markdown",
   "id": "4e4caa0d-703d-462e-9bf0-96e7aa3d2556",
   "metadata": {
    "jp-MarkdownHeadingCollapsed": true
   },
   "source": [
    "## Challenge: Área do Triângulo"
   ]
  },
  {
   "cell_type": "code",
   "execution_count": 14,
   "id": "dc45014c-c814-436d-bd5a-3c737ea31f24",
   "metadata": {},
   "outputs": [
    {
     "name": "stdin",
     "output_type": "stream",
     "text": [
      "Digite a base do triângulo:  3\n",
      "Digite a altura do triângulo:  4\n"
     ]
    },
    {
     "name": "stdout",
     "output_type": "stream",
     "text": [
      "Área do triângulo: 6.0\n"
     ]
    }
   ],
   "source": [
    "# Área do Triângulo\n",
    "\n",
    "b = float(input('Digite a base do triângulo: '))\n",
    "h = float(input('Digite a altura do triângulo: '))\n",
    "\n",
    "area = (b * h) / 2\n",
    "print(f'Área do triângulo: {area}')"
   ]
  },
  {
   "cell_type": "markdown",
   "id": "121c50c3-d1f7-4ba7-abe1-0df11a933ef0",
   "metadata": {
    "jp-MarkdownHeadingCollapsed": true
   },
   "source": [
    "## Challenge: Converter km para milhas"
   ]
  },
  {
   "cell_type": "code",
   "execution_count": 17,
   "id": "cb35e2e3-b836-41e0-9966-c3ddf8630ee1",
   "metadata": {},
   "outputs": [
    {
     "name": "stdin",
     "output_type": "stream",
     "text": [
      "Digite a distância em km:  36\n"
     ]
    },
    {
     "name": "stdout",
     "output_type": "stream",
     "text": [
      "A distância em milhas é de: 22.37\n"
     ]
    }
   ],
   "source": [
    "# Km to Miles\n",
    "\n",
    "km = float(input('Digite a distância em km: '))\n",
    "\n",
    "miles = km * 0.621371\n",
    "print(f'A distância em milhas é de: {miles:.2f}')"
   ]
  },
  {
   "cell_type": "code",
   "execution_count": 19,
   "id": "4ff18db0-5524-4976-b308-825818fc6a13",
   "metadata": {},
   "outputs": [
    {
     "name": "stdin",
     "output_type": "stream",
     "text": [
      "Digite o raio do círculo:  10\n"
     ]
    },
    {
     "name": "stdout",
     "output_type": "stream",
     "text": [
      "A área do círculo é: 314.16\n"
     ]
    }
   ],
   "source": [
    "# Área do Círculo\n",
    "import math\n",
    "\n",
    "raio = float(input('Digite o raio do círculo: '))\n",
    "\n",
    "area = math.pi * (raio)**2\n",
    "print(f'A área do círculo é: {area:.2f}')"
   ]
  },
  {
   "cell_type": "markdown",
   "id": "b60eb3e1-aaec-4bf2-858d-f6b22be73d12",
   "metadata": {
    "jp-MarkdownHeadingCollapsed": true
   },
   "source": [
    "## Challenge: Área da superfície de um cuboide"
   ]
  },
  {
   "cell_type": "code",
   "execution_count": 21,
   "id": "a54e299b-7a2c-49e3-ac27-49a0a4020435",
   "metadata": {},
   "outputs": [
    {
     "name": "stdin",
     "output_type": "stream",
     "text": [
      "Digite a base do retângulo:  10\n",
      "Digite a altura do retângulo:  5\n",
      "Digite o comprimento do retângulo:  3\n"
     ]
    },
    {
     "name": "stdout",
     "output_type": "stream",
     "text": [
      "A área do cuboide é de: 190.0\n"
     ]
    }
   ],
   "source": [
    "# Área da superfície de um cuboide\n",
    "# área = 2 * (base*altura + base*comprimento + comprimento*altura)\n",
    "\n",
    "base = float(input('Digite a base do retângulo: '))\n",
    "altura = float(input('Digite a altura do retângulo: '))\n",
    "comprimento = float(input('Digite o comprimento do retângulo: '))\n",
    "\n",
    "area = 2 * (base*altura + base*comprimento + altura*comprimento)\n",
    "print(f'A área do cuboide é de: {area}')"
   ]
  },
  {
   "cell_type": "markdown",
   "id": "c569203a-ed6f-414a-87f1-5f5438fedcb6",
   "metadata": {
    "jp-MarkdownHeadingCollapsed": true
   },
   "source": [
    "## Challenge: Equações Quadráticas"
   ]
  },
  {
   "cell_type": "code",
   "execution_count": 26,
   "id": "6d8528ed-2d58-46ca-8ed0-afb822035bea",
   "metadata": {},
   "outputs": [
    {
     "name": "stdin",
     "output_type": "stream",
     "text": [
      "Digite o valor de a:  1\n",
      "Digite o valor de b:  -5\n",
      "Digite o valor de c:  6\n"
     ]
    },
    {
     "name": "stdout",
     "output_type": "stream",
     "text": [
      "O valor de x1 é 3.0 e o valor de x2 é 2.0\n"
     ]
    }
   ],
   "source": [
    "# ax^2 + bx + c = 0\n",
    "import math\n",
    "\n",
    "a = int(input('Digite o valor de a: '))\n",
    "b = int(input('Digite o valor de b: '))\n",
    "c = int(input('Digite o valor de c: '))\n",
    "\n",
    "x1 = (-b + math.sqrt(b**2 - 4*a*c)) / (2 * a)\n",
    "x2 = (-b - math.sqrt(b**2 - 4*a*c)) / (2 * a)\n",
    "print(f'O valor de x1 é {x1} e o valor de x2 é {x2}')"
   ]
  },
  {
   "cell_type": "markdown",
   "id": "77bc3ac6-a335-4c05-887f-8328e65226e4",
   "metadata": {},
   "source": [
    "## Operadores de Atribuição"
   ]
  },
  {
   "cell_type": "code",
   "execution_count": null,
   "id": "4cb6a188-8eeb-4daf-b522-ada9c445a74d",
   "metadata": {},
   "outputs": [],
   "source": []
  }
 ],
 "metadata": {
  "kernelspec": {
   "display_name": "Python 3 (ipykernel)",
   "language": "python",
   "name": "python3"
  },
  "language_info": {
   "codemirror_mode": {
    "name": "ipython",
    "version": 3
   },
   "file_extension": ".py",
   "mimetype": "text/x-python",
   "name": "python",
   "nbconvert_exporter": "python",
   "pygments_lexer": "ipython3",
   "version": "3.12.7"
  }
 },
 "nbformat": 4,
 "nbformat_minor": 5
}
