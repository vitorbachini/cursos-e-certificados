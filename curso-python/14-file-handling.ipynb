{
 "cells": [
  {
   "cell_type": "markdown",
   "id": "80769cd4-e95b-4b9d-b521-da9c33aa6452",
   "metadata": {},
   "source": [
    "## 14-File Handling"
   ]
  },
  {
   "cell_type": "markdown",
   "id": "df654175-4c63-4919-b4c5-7fa0baf6aa82",
   "metadata": {
    "jp-MarkdownHeadingCollapsed": true
   },
   "source": [
    "## Introduction to Files"
   ]
  },
  {
   "cell_type": "code",
   "execution_count": null,
   "id": "801326f7-325d-4a03-be50-f98d88e4f4b2",
   "metadata": {},
   "outputs": [],
   "source": [
    "file_handler = open(filename, mode)"
   ]
  },
  {
   "cell_type": "code",
   "execution_count": null,
   "id": "3f129715-5280-4d26-b35c-62ebe7bb35d1",
   "metadata": {},
   "outputs": [],
   "source": [
    "file = open('MyData.txt', 'r')\n",
    "str1 = file.read()"
   ]
  },
  {
   "cell_type": "markdown",
   "id": "9fe58775-5241-4d9b-9929-0f6173aa004e",
   "metadata": {
    "jp-MarkdownHeadingCollapsed": true
   },
   "source": [
    "## Modes of opening a File"
   ]
  },
  {
   "cell_type": "code",
   "execution_count": null,
   "id": "7bcff65c-92c7-4f47-b3d0-b334aaa8b98d",
   "metadata": {},
   "outputs": [],
   "source": [
    "file = open('MyData.txt', 'w') # 'r' , 'a' , 'w'..."
   ]
  },
  {
   "cell_type": "code",
   "execution_count": null,
   "id": "160e63eb-8bcd-4b0a-9059-08dfa2e97a79",
   "metadata": {},
   "outputs": [],
   "source": [
    "file.write('Hello\\n')\n",
    "file.write('How are you')\n",
    "file.close()"
   ]
  },
  {
   "cell_type": "markdown",
   "id": "7a72b7bb-ecb7-4505-aed0-2f33a09f69f7",
   "metadata": {},
   "source": [
    "## Operations on File"
   ]
  },
  {
   "cell_type": "markdown",
   "id": "b8160f0c-e3e2-4c7f-8911-a7629a2725c3",
   "metadata": {},
   "source": [
    "## Copying Binary Files"
   ]
  },
  {
   "cell_type": "markdown",
   "id": "53cfc98a-56aa-4fa1-93d6-f3c51bdcc6e0",
   "metadata": {},
   "source": [
    "## Random Acces Files"
   ]
  },
  {
   "cell_type": "markdown",
   "id": "79ae7c7e-66fa-47ec-941e-ab29fda2792f",
   "metadata": {},
   "source": [
    "## Pickle and UnPickle"
   ]
  },
  {
   "cell_type": "markdown",
   "id": "e7ed8ab7-98e6-4781-8cba-a0bded50cba0",
   "metadata": {},
   "source": [
    "## Zip and UnZip"
   ]
  },
  {
   "cell_type": "code",
   "execution_count": null,
   "id": "5271bf30-9748-4ddc-9f0b-0299b9ca83bc",
   "metadata": {},
   "outputs": [],
   "source": []
  }
 ],
 "metadata": {
  "kernelspec": {
   "display_name": "Python 3 (ipykernel)",
   "language": "python",
   "name": "python3"
  },
  "language_info": {
   "codemirror_mode": {
    "name": "ipython",
    "version": 3
   },
   "file_extension": ".py",
   "mimetype": "text/x-python",
   "name": "python",
   "nbconvert_exporter": "python",
   "pygments_lexer": "ipython3",
   "version": "3.12.7"
  }
 },
 "nbformat": 4,
 "nbformat_minor": 5
}
