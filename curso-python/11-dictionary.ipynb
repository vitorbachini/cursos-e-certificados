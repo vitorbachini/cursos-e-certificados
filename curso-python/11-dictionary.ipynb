{
 "cells": [
  {
   "cell_type": "markdown",
   "id": "b8ee049e-bd58-482e-a1a9-2e155e730886",
   "metadata": {},
   "source": [
    "# 11-Dictionary"
   ]
  },
  {
   "cell_type": "markdown",
   "id": "dad6bb8e-e127-4c4e-8673-7eec86dfb61f",
   "metadata": {
    "jp-MarkdownHeadingCollapsed": true
   },
   "source": [
    "## Introduction to Dictionary"
   ]
  },
  {
   "cell_type": "code",
   "execution_count": 1,
   "id": "5f96a7b2-9926-43f9-a6ee-54477f5a85ae",
   "metadata": {},
   "outputs": [
    {
     "name": "stdout",
     "output_type": "stream",
     "text": [
      "{'calculadora': 'realiza cálculos', 'celular': 'dispositivo de comunicação'}\n"
     ]
    }
   ],
   "source": [
    "# cada elemento do dicionário possui 2 entradas\n",
    "# uma key e seu value\n",
    "\n",
    "dict1 = {'calculadora': 'realiza cálculos', 'celular': 'dispositivo de comunicação'}\n",
    "print(dict1)"
   ]
  },
  {
   "cell_type": "code",
   "execution_count": 7,
   "id": "c41db0ce-bcc0-44cd-81db-c1f0aca02d0e",
   "metadata": {},
   "outputs": [
    {
     "name": "stdout",
     "output_type": "stream",
     "text": [
      "{101: 'john', 102: 'david', 103: 'mark'}\n"
     ]
    }
   ],
   "source": [
    "dict2 = {101:'john', 102:'david', 103:'mark'}\n",
    "print(dict2)"
   ]
  },
  {
   "cell_type": "code",
   "execution_count": 8,
   "id": "dd921f62-0e3f-4aeb-82d7-5e1f1c01b84d",
   "metadata": {},
   "outputs": [
    {
     "data": {
      "text/plain": [
       "'john'"
      ]
     },
     "execution_count": 8,
     "metadata": {},
     "output_type": "execute_result"
    }
   ],
   "source": [
    "dict2[101]"
   ]
  },
  {
   "cell_type": "code",
   "execution_count": 9,
   "id": "4f33f9dc-89ac-46fc-a205-210f7aff9ac4",
   "metadata": {},
   "outputs": [
    {
     "name": "stdout",
     "output_type": "stream",
     "text": [
      "101 john\n",
      "102 david\n",
      "103 mark\n"
     ]
    }
   ],
   "source": [
    "for i in dict2:\n",
    "    print(i, dict2[i])"
   ]
  },
  {
   "cell_type": "markdown",
   "id": "6f8b729b-e212-48fb-8b1c-d288813f857e",
   "metadata": {
    "jp-MarkdownHeadingCollapsed": true
   },
   "source": [
    "## Dict Comprehensions"
   ]
  },
  {
   "cell_type": "code",
   "execution_count": 10,
   "id": "15cb4ad9-0dce-4b66-adcb-665e9b15c897",
   "metadata": {},
   "outputs": [],
   "source": [
    "dict1 = dict() # empty dictionary"
   ]
  },
  {
   "cell_type": "code",
   "execution_count": 11,
   "id": "11a3648e-e129-4931-bb56-b3509e62bf6b",
   "metadata": {},
   "outputs": [],
   "source": [
    "dict1['apple'] = 'red'"
   ]
  },
  {
   "cell_type": "code",
   "execution_count": 12,
   "id": "c7661e95-550f-41ad-aeeb-478a55afa5d2",
   "metadata": {},
   "outputs": [],
   "source": [
    "dict1['mango'] = 'yellow'"
   ]
  },
  {
   "cell_type": "markdown",
   "id": "23289721-84a5-49af-bc63-d1b0c57c978e",
   "metadata": {
    "jp-MarkdownHeadingCollapsed": true
   },
   "source": [
    "## Looping over Dictionary"
   ]
  },
  {
   "cell_type": "code",
   "execution_count": 14,
   "id": "2b466155-39dc-4aa4-8181-2f87b9a0401c",
   "metadata": {},
   "outputs": [],
   "source": [
    "dict1 = {101: 'Production', 102: 'Accounts', 103: 'Sales & Marketing', 104: 'Inventory'}"
   ]
  },
  {
   "cell_type": "code",
   "execution_count": 15,
   "id": "7aa87b6b-5ac1-421c-8cb5-faa6c3a7feea",
   "metadata": {},
   "outputs": [
    {
     "name": "stdout",
     "output_type": "stream",
     "text": [
      "101 Production\n",
      "102 Accounts\n",
      "103 Sales & Marketing\n",
      "104 Inventory\n"
     ]
    }
   ],
   "source": [
    "for x in dict1:\n",
    "    print(x, dict1[x]) # calls a error"
   ]
  },
  {
   "cell_type": "code",
   "execution_count": 16,
   "id": "dfddfe2c-85a4-4370-bcfc-6c75e6d1480f",
   "metadata": {},
   "outputs": [
    {
     "name": "stdout",
     "output_type": "stream",
     "text": [
      "101 Production\n",
      "102 Accounts\n",
      "103 Sales & Marketing\n",
      "104 Inventory\n"
     ]
    }
   ],
   "source": [
    "for x in dict1:\n",
    "    print(x, dict1.get(x))"
   ]
  },
  {
   "cell_type": "code",
   "execution_count": 17,
   "id": "15e2e5ef-b469-4666-9607-689b6f2f807a",
   "metadata": {},
   "outputs": [
    {
     "data": {
      "text/plain": [
       "dict_keys([101, 102, 103, 104])"
      ]
     },
     "execution_count": 17,
     "metadata": {},
     "output_type": "execute_result"
    }
   ],
   "source": [
    "dict1.keys()"
   ]
  },
  {
   "cell_type": "code",
   "execution_count": 19,
   "id": "7bfc0fe4-782d-43f6-bc74-cc5fd2e1f9f4",
   "metadata": {},
   "outputs": [
    {
     "data": {
      "text/plain": [
       "dict_values(['Production', 'Accounts', 'Sales & Marketing', 'Inventory'])"
      ]
     },
     "execution_count": 19,
     "metadata": {},
     "output_type": "execute_result"
    }
   ],
   "source": [
    "dict1.values()"
   ]
  },
  {
   "cell_type": "code",
   "execution_count": 20,
   "id": "e86ff7ef-3ade-47d1-9c05-999408cd3fe7",
   "metadata": {},
   "outputs": [
    {
     "data": {
      "text/plain": [
       "dict_items([(101, 'Production'), (102, 'Accounts'), (103, 'Sales & Marketing'), (104, 'Inventory')])"
      ]
     },
     "execution_count": 20,
     "metadata": {},
     "output_type": "execute_result"
    }
   ],
   "source": [
    "dict1.items()"
   ]
  },
  {
   "cell_type": "markdown",
   "id": "3300bdaa-1419-46b0-9d8e-3c97020a2ee8",
   "metadata": {
    "jp-MarkdownHeadingCollapsed": true
   },
   "source": [
    "## Dictionary Methods"
   ]
  },
  {
   "cell_type": "code",
   "execution_count": 21,
   "id": "c5101728-faf1-428e-9c2e-f92aa8cbdb0d",
   "metadata": {},
   "outputs": [],
   "source": [
    "dict1 = {101: 'Production', 102: 'Accounts', 103: 'Sales & Marketing', 104: 'Inventory'}"
   ]
  },
  {
   "cell_type": "code",
   "execution_count": 22,
   "id": "3b6b37c3-cdbf-4168-9cb9-3b9e967ea71d",
   "metadata": {},
   "outputs": [
    {
     "data": {
      "text/plain": [
       "{101: 'Production',\n",
       " 102: 'Accounts',\n",
       " 103: 'Sales & Marketing',\n",
       " 104: 'Inventory'}"
      ]
     },
     "execution_count": 22,
     "metadata": {},
     "output_type": "execute_result"
    }
   ],
   "source": [
    "dict2 = dict1.copy()\n",
    "dict2"
   ]
  },
  {
   "cell_type": "code",
   "execution_count": 23,
   "id": "d8524b22-979a-4b6d-b6be-ad20326d3c7a",
   "metadata": {},
   "outputs": [],
   "source": [
    "dict3 = {105: 'Designing', 106: 'IT'}"
   ]
  },
  {
   "cell_type": "code",
   "execution_count": 24,
   "id": "9aff0e35-cd44-49f2-b648-a28e1ca7b4ac",
   "metadata": {},
   "outputs": [
    {
     "data": {
      "text/plain": [
       "{101: 'Production',\n",
       " 102: 'Accounts',\n",
       " 103: 'Sales & Marketing',\n",
       " 104: 'Inventory',\n",
       " 105: 'Designing',\n",
       " 106: 'IT'}"
      ]
     },
     "execution_count": 24,
     "metadata": {},
     "output_type": "execute_result"
    }
   ],
   "source": [
    "dict1.update(dict3)\n",
    "dict1"
   ]
  },
  {
   "cell_type": "code",
   "execution_count": 25,
   "id": "2b85d7ed-8389-41b8-8b60-2f3e6b17608c",
   "metadata": {},
   "outputs": [
    {
     "data": {
      "text/plain": [
       "'IT'"
      ]
     },
     "execution_count": 25,
     "metadata": {},
     "output_type": "execute_result"
    }
   ],
   "source": [
    "dict1.pop(106)"
   ]
  },
  {
   "cell_type": "code",
   "execution_count": 26,
   "id": "edf480c7-72fd-49eb-ae32-121be253941f",
   "metadata": {},
   "outputs": [
    {
     "data": {
      "text/plain": [
       "{101: 'Production',\n",
       " 102: 'Accounts',\n",
       " 103: 'Sales & Marketing',\n",
       " 104: 'Inventory',\n",
       " 105: 'Designing'}"
      ]
     },
     "execution_count": 26,
     "metadata": {},
     "output_type": "execute_result"
    }
   ],
   "source": [
    "dict1"
   ]
  },
  {
   "cell_type": "markdown",
   "id": "3f507311-7840-4538-a0d3-e8b7e28248b1",
   "metadata": {},
   "source": [
    "## Challenge 1"
   ]
  },
  {
   "cell_type": "code",
   "execution_count": 29,
   "id": "b4e96cee-9961-4c32-ba78-3ff5bf52bc71",
   "metadata": {},
   "outputs": [
    {
     "name": "stdin",
     "output_type": "stream",
     "text": [
      "Enter name Marcos\n"
     ]
    },
    {
     "name": "stdout",
     "output_type": "stream",
     "text": [
      "03/03/2004\n"
     ]
    }
   ],
   "source": [
    "birthdays = {\n",
    "    'José': '01/01/2002',\n",
    "    'Pedro': '02/02/2003',\n",
    "    'Marcos': '03/03/2004'\n",
    "}\n",
    "\n",
    "name = input('Enter name')\n",
    "\n",
    "if name in birthdays:\n",
    "    print(birthdays[name])\n",
    "else:\n",
    "    print('Name not found')"
   ]
  },
  {
   "cell_type": "markdown",
   "id": "13d315e4-b438-4478-8f9b-15a572f428d7",
   "metadata": {},
   "source": []
  },
  {
   "cell_type": "code",
   "execution_count": null,
   "id": "add19b14-1eb1-4418-8401-f126cd2c9b24",
   "metadata": {},
   "outputs": [],
   "source": []
  }
 ],
 "metadata": {
  "kernelspec": {
   "display_name": "Python 3 (ipykernel)",
   "language": "python",
   "name": "python3"
  },
  "language_info": {
   "codemirror_mode": {
    "name": "ipython",
    "version": 3
   },
   "file_extension": ".py",
   "mimetype": "text/x-python",
   "name": "python",
   "nbconvert_exporter": "python",
   "pygments_lexer": "ipython3",
   "version": "3.12.7"
  }
 },
 "nbformat": 4,
 "nbformat_minor": 5
}
