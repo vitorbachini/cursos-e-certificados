{
 "cells": [
  {
   "cell_type": "markdown",
   "id": "a693dcbc-c52e-49fa-a0cd-472e758be787",
   "metadata": {},
   "source": [
    "# 05-Strings and its Methods"
   ]
  },
  {
   "cell_type": "markdown",
   "id": "2436e788-685f-4a18-ab6d-060533875dfe",
   "metadata": {
    "jp-MarkdownHeadingCollapsed": true
   },
   "source": [
    "## Introduction in Strings"
   ]
  },
  {
   "cell_type": "code",
   "execution_count": null,
   "id": "9ab62785-19e3-4719-9c95-8a0f64cd3428",
   "metadata": {},
   "outputs": [],
   "source": [
    "string1 = input('Enter a string')\n",
    "\n",
    "len(string1)"
   ]
  },
  {
   "cell_type": "code",
   "execution_count": null,
   "id": "552930b4-072b-4237-900f-a18636647c91",
   "metadata": {},
   "outputs": [],
   "source": [
    "for x in string1:\n",
    "    print(x)"
   ]
  },
  {
   "cell_type": "markdown",
   "id": "ef0b7c3d-89fe-4c95-b49e-9023c29923d6",
   "metadata": {
    "jp-MarkdownHeadingCollapsed": true
   },
   "source": [
    "## Operators on String"
   ]
  },
  {
   "cell_type": "code",
   "execution_count": null,
   "id": "5326fd26-ada4-4b01-b545-4f61fde795d1",
   "metadata": {},
   "outputs": [],
   "source": [
    "s1 = input('Enter a string')\n",
    "s2 = input('Enter another string')\n",
    "\n",
    "s3 = s1 + ' ' + s2\n",
    "print(s3)"
   ]
  },
  {
   "cell_type": "code",
   "execution_count": null,
   "id": "a5dd0cc7-af25-4398-9b4f-da81aeb92398",
   "metadata": {},
   "outputs": [],
   "source": [
    "for i in range (0, len(s3)):\n",
    "    print(s3[i])"
   ]
  },
  {
   "cell_type": "code",
   "execution_count": null,
   "id": "383fba33-dfc7-4b69-9036-becd46f0f352",
   "metadata": {},
   "outputs": [],
   "source": [
    "for i in range(len(s3)-1, -1, -1):\n",
    "    print(s3[i])"
   ]
  },
  {
   "cell_type": "code",
   "execution_count": null,
   "id": "1ae1ecfb-bf46-4030-adb7-88464df9607f",
   "metadata": {},
   "outputs": [],
   "source": [
    "s3[4:8:]"
   ]
  },
  {
   "cell_type": "markdown",
   "id": "90eff2e0-5ce3-43c5-9c50-09fb0e177240",
   "metadata": {
    "jp-MarkdownHeadingCollapsed": true
   },
   "source": [
    "## Relational Operators in Strings"
   ]
  },
  {
   "cell_type": "code",
   "execution_count": null,
   "id": "b51d7ee4-572d-4a7c-872e-376c2738bb96",
   "metadata": {},
   "outputs": [],
   "source": [
    "s1 = 'oi'\n",
    "s2 = 'eai'\n",
    "\n",
    "s3 = s1 != s2\n",
    "s3"
   ]
  },
  {
   "cell_type": "markdown",
   "id": "8d68a6c8-d487-42e3-b679-8b22150c2e9a",
   "metadata": {
    "jp-MarkdownHeadingCollapsed": true
   },
   "source": [
    "## Strings Methods: find and index"
   ]
  },
  {
   "cell_type": "code",
   "execution_count": null,
   "id": "f845188c-83a9-4a9f-8843-dd67d79d822d",
   "metadata": {},
   "outputs": [],
   "source": [
    "s1 = 'hello, how are you'"
   ]
  },
  {
   "cell_type": "code",
   "execution_count": null,
   "id": "d2c63e16-25db-4949-83d0-a16151b88140",
   "metadata": {},
   "outputs": [],
   "source": [
    "s1.find('o')\n",
    "# s1.find('o',5)\n",
    "# s1.rfind('o')"
   ]
  },
  {
   "cell_type": "code",
   "execution_count": null,
   "id": "52891b9c-6d7f-46ba-a7fe-f5f21ba5aaa0",
   "metadata": {},
   "outputs": [],
   "source": [
    "s1.index('o')"
   ]
  },
  {
   "cell_type": "code",
   "execution_count": null,
   "id": "d5adc642-9ba4-42b3-a469-504307b8a687",
   "metadata": {},
   "outputs": [],
   "source": [
    "s1.count('o')"
   ]
  },
  {
   "cell_type": "markdown",
   "id": "b98b4611-35e8-4e02-847a-ed120da33554",
   "metadata": {
    "jp-MarkdownHeadingCollapsed": true
   },
   "source": [
    "## Strings Methods: remove spaces"
   ]
  },
  {
   "cell_type": "code",
   "execution_count": null,
   "id": "69598e6c-8cab-487a-9f6f-1c006e2d4d50",
   "metadata": {},
   "outputs": [],
   "source": [
    "s2 = '   eai beleza'"
   ]
  },
  {
   "cell_type": "code",
   "execution_count": null,
   "id": "c44e8aef-bc18-4776-a998-9ffb7df2d245",
   "metadata": {},
   "outputs": [],
   "source": [
    "s2.lstrip()"
   ]
  },
  {
   "cell_type": "markdown",
   "id": "8f113685-3507-4339-85ab-fe257fe6ca08",
   "metadata": {
    "jp-MarkdownHeadingCollapsed": true
   },
   "source": [
    "## Strings Methods: changing cases"
   ]
  },
  {
   "cell_type": "code",
   "execution_count": null,
   "id": "42acf20a-4eb4-4886-9a13-96a5d12b67ec",
   "metadata": {},
   "outputs": [],
   "source": [
    "s1 = 'HeLLo'\n",
    "\n",
    "s1.lower()"
   ]
  },
  {
   "cell_type": "code",
   "execution_count": null,
   "id": "aef6133a-546f-4590-b314-be641817672a",
   "metadata": {},
   "outputs": [],
   "source": [
    "s2 = 'hello'\n",
    "\n",
    "s2.capitalize()"
   ]
  },
  {
   "cell_type": "code",
   "execution_count": null,
   "id": "e2853118-cb36-430a-af06-670b503bca9c",
   "metadata": {},
   "outputs": [],
   "source": [
    "s3 = 'hello how'\n",
    "\n",
    "s3.title()"
   ]
  },
  {
   "cell_type": "markdown",
   "id": "57719cae-1a41-4cb2-95bf-a0dc4d7b8d4c",
   "metadata": {
    "jp-MarkdownHeadingCollapsed": true
   },
   "source": [
    "## Strings Methods: inquiry methods"
   ]
  },
  {
   "cell_type": "code",
   "execution_count": null,
   "id": "befc361b-5688-42de-bf6e-0fb6288c31c8",
   "metadata": {},
   "outputs": [],
   "source": [
    "s1 = 'EAI'\n",
    "\n",
    "s1.isupper()"
   ]
  },
  {
   "cell_type": "code",
   "execution_count": null,
   "id": "e1b1d6cb-4ffe-44df-b948-bee1158cb501",
   "metadata": {},
   "outputs": [],
   "source": [
    "s2 = 'abc123'\n",
    "\n",
    "s2.isalnum()"
   ]
  },
  {
   "cell_type": "markdown",
   "id": "822eab59-39f6-446a-8ea8-f7f8f327c235",
   "metadata": {
    "jp-MarkdownHeadingCollapsed": true
   },
   "source": [
    "## Strings Methods: starswith and endswith"
   ]
  },
  {
   "cell_type": "code",
   "execution_count": null,
   "id": "85dfcc18-241d-4315-9266-520b6e0bbd4f",
   "metadata": {},
   "outputs": [],
   "source": [
    "s1 = 'Hello world'\n",
    "\n",
    "s1.startswith('Hel')"
   ]
  },
  {
   "cell_type": "code",
   "execution_count": null,
   "id": "3d20d2c4-2355-437e-bc6c-8fcd4bceda52",
   "metadata": {},
   "outputs": [],
   "source": [
    "s1.endswith('d')"
   ]
  },
  {
   "cell_type": "markdown",
   "id": "6bb98cbf-9676-4eb6-91f8-097062171aa2",
   "metadata": {
    "jp-MarkdownHeadingCollapsed": true
   },
   "source": [
    "## Strings Methods: joining and splitting"
   ]
  },
  {
   "cell_type": "code",
   "execution_count": null,
   "id": "366fbeb5-1a34-4f81-aefb-4588c1370718",
   "metadata": {},
   "outputs": [],
   "source": [
    "s1 = 'a-b-c-d'\n",
    "\n",
    "s1.replace('-',',')"
   ]
  },
  {
   "cell_type": "code",
   "execution_count": null,
   "id": "69605454-22b6-471b-b29e-6455024f8150",
   "metadata": {},
   "outputs": [],
   "source": [
    "s2 = 'x-y-z'\n",
    "\n",
    "s1.join(s2)"
   ]
  },
  {
   "cell_type": "code",
   "execution_count": null,
   "id": "7b25e551-e957-4fdf-ad37-666e42acb683",
   "metadata": {},
   "outputs": [],
   "source": [
    "s3 = 'john smith ajay'\n",
    "\n",
    "s3.split()"
   ]
  },
  {
   "cell_type": "markdown",
   "id": "2faf9b27-9ce2-4cdb-8108-67598703c2db",
   "metadata": {
    "jp-MarkdownHeadingCollapsed": true
   },
   "source": [
    "## Challenge 1"
   ]
  },
  {
   "cell_type": "code",
   "execution_count": null,
   "id": "9bc453a6-78f8-46a6-ae97-be6a05eee09a",
   "metadata": {},
   "outputs": [],
   "source": [
    "s1 = 'adasndasjdngfds'\n",
    "\n",
    "ss = sorted(s1)\n",
    "s2 = ''.join(ss)\n",
    "s2"
   ]
  },
  {
   "cell_type": "markdown",
   "id": "bc514d57-74d4-49c7-8389-f6c2283c1ca4",
   "metadata": {
    "jp-MarkdownHeadingCollapsed": true
   },
   "source": [
    "## Challenge 2"
   ]
  },
  {
   "cell_type": "code",
   "execution_count": null,
   "id": "631173f6-d511-45d5-8343-c7faf43fbde6",
   "metadata": {},
   "outputs": [],
   "source": [
    "item = input('Enter the item')\n",
    "price = input('Enter the price')\n",
    "\n",
    "total_len = len(item) + len(price)\n",
    "dots = '.' * (25 - total_len)\n",
    "print(item+dots+price)"
   ]
  },
  {
   "cell_type": "markdown",
   "id": "ce1e00f1-16ba-449f-a203-056f4c9ef916",
   "metadata": {
    "jp-MarkdownHeadingCollapsed": true
   },
   "source": [
    "## Challenge 3"
   ]
  },
  {
   "cell_type": "code",
   "execution_count": null,
   "id": "d2962fde-6f78-4d59-97f1-99fd389b4461",
   "metadata": {},
   "outputs": [],
   "source": [
    "pass1 = input('Enter the password')\n",
    "pass2 = input('Enter the password')\n",
    "\n",
    "if pass1 == pass2:\n",
    "    print('Password correct')\n",
    "else: \n",
    "    print('Password incorrect')"
   ]
  },
  {
   "cell_type": "markdown",
   "id": "36973575-3587-4267-932b-be1b4445ac3a",
   "metadata": {
    "jp-MarkdownHeadingCollapsed": true
   },
   "source": [
    "## Challenge 4"
   ]
  },
  {
   "cell_type": "code",
   "execution_count": null,
   "id": "9bb399a0-bcc9-4a1b-ba43-7f09117872d6",
   "metadata": {},
   "outputs": [],
   "source": [
    "card_number = input('Digite o número do cartão:')\n",
    "\n",
    "last_numbers = card_number[15::]\n",
    "stars = '*' * 4 + ' '\n",
    "display = stars * 3 + last_numbers\n",
    "\n",
    "print(display)"
   ]
  },
  {
   "cell_type": "markdown",
   "id": "93020b4a-3958-4bb8-8e80-f15ac30fdd49",
   "metadata": {
    "jp-MarkdownHeadingCollapsed": true
   },
   "source": [
    "## Challenge 5"
   ]
  },
  {
   "cell_type": "code",
   "execution_count": null,
   "id": "9d2efbd9-351b-4797-ab54-7ebd4349cf91",
   "metadata": {},
   "outputs": [],
   "source": [
    "email = input('Enter an email')\n",
    "\n",
    "indexA = email.find('@')\n",
    "\n",
    "user_name = email[:indexA]\n",
    "domain = email[indexA+1:]\n",
    "\n",
    "print(user_name)\n",
    "print(domain)"
   ]
  },
  {
   "cell_type": "markdown",
   "id": "efc5fa3a-73ae-4a21-94d7-481b9a7da2ec",
   "metadata": {
    "jp-MarkdownHeadingCollapsed": true
   },
   "source": [
    "## Challenge 6"
   ]
  },
  {
   "cell_type": "code",
   "execution_count": null,
   "id": "0d075c6c-5ebe-4b20-ac51-5acbeae9d059",
   "metadata": {},
   "outputs": [],
   "source": [
    "s1 = input('Enter a string')\n",
    "\n",
    "rev = s1[::-1]\n",
    "\n",
    "if s1 == rev:\n",
    "    print('Palindrome')\n",
    "else:\n",
    "    print('Not Palindrome')"
   ]
  },
  {
   "cell_type": "code",
   "execution_count": null,
   "id": "ad639308-28a3-42a3-8a56-68a4e77785f9",
   "metadata": {},
   "outputs": [],
   "source": [
    "print(s1 + rev)"
   ]
  },
  {
   "cell_type": "markdown",
   "id": "2b339eb9-9ef2-4cfa-a8b1-aa8679fdb709",
   "metadata": {
    "jp-MarkdownHeadingCollapsed": true
   },
   "source": [
    "## Challenge 7"
   ]
  },
  {
   "cell_type": "code",
   "execution_count": null,
   "id": "0c9412fd-a035-41f9-bc3f-a02bcd5a4e8a",
   "metadata": {},
   "outputs": [],
   "source": [
    "date = input('Enter date in format dd/mm/yyyy')\n",
    "\n",
    "l = date.split('/')\n",
    "\n",
    "day = l[0]\n",
    "month = l[1]\n",
    "year = l[2]\n",
    "\n",
    "print('Day:', day)\n",
    "print('Month:', month)\n",
    "print('Year:', year)"
   ]
  },
  {
   "cell_type": "markdown",
   "id": "bb009bcc-88b7-4097-a1d9-fcd33a807e21",
   "metadata": {
    "jp-MarkdownHeadingCollapsed": true
   },
   "source": [
    "## Challenge 8"
   ]
  },
  {
   "cell_type": "code",
   "execution_count": null,
   "id": "f7cee344-f01a-4e27-b7b8-efbce2fd6bad",
   "metadata": {},
   "outputs": [],
   "source": [
    "s1 = input('Enter a string')\n",
    "s2 = input('Enter another string')\n",
    "\n",
    "if len(s1) != len(s2):\n",
    "    print('Not Anagram')\n",
    "else:\n",
    "    for x in s1:\n",
    "        if x not in s2:\n",
    "            print('Not Anagram')\n",
    "            break;\n",
    "    else:\n",
    "        print('Anagram')"
   ]
  },
  {
   "cell_type": "markdown",
   "id": "7d3c85c8-c811-46b2-9fc7-a35ce767838c",
   "metadata": {
    "jp-MarkdownHeadingCollapsed": true
   },
   "source": [
    "## Challenge 9"
   ]
  },
  {
   "cell_type": "code",
   "execution_count": null,
   "id": "e5cc846b-041b-4421-9fea-80458e6a4089",
   "metadata": {},
   "outputs": [],
   "source": [
    "str1 = 'AbcDEfgHi'\n",
    "\n",
    "lower = ''\n",
    "upper = ''\n",
    "\n",
    "for x in str1:\n",
    "    if x.islower():\n",
    "        lower += x\n",
    "    else:\n",
    "        upper += x\n",
    "\n",
    "str2 = lower + upper\n",
    "print(str2)"
   ]
  },
  {
   "cell_type": "markdown",
   "id": "b59f9cff-15da-42b2-8271-bb6f6028058e",
   "metadata": {
    "jp-MarkdownHeadingCollapsed": true
   },
   "source": [
    "## Challenge 10"
   ]
  },
  {
   "cell_type": "code",
   "execution_count": 3,
   "id": "7e62066e-3193-4cc7-9ebb-b38bbd25df94",
   "metadata": {},
   "outputs": [
    {
     "name": "stdout",
     "output_type": "stream",
     "text": [
      "mypythongmailcom\n"
     ]
    }
   ],
   "source": [
    "str1 = '[my_python@gmail.com]'\n",
    "\n",
    "pont = ' [ ] _ @ .'\n",
    "\n",
    "str2 = ''\n",
    "for x in str1:\n",
    "    if x not in pont:\n",
    "        str2 = str2 + x\n",
    "        \n",
    "print(str2)"
   ]
  },
  {
   "cell_type": "code",
   "execution_count": null,
   "id": "1bf7f0ae-9dc5-400f-a218-ebd7a47aa43b",
   "metadata": {},
   "outputs": [],
   "source": []
  }
 ],
 "metadata": {
  "kernelspec": {
   "display_name": "Python 3 (ipykernel)",
   "language": "python",
   "name": "python3"
  },
  "language_info": {
   "codemirror_mode": {
    "name": "ipython",
    "version": 3
   },
   "file_extension": ".py",
   "mimetype": "text/x-python",
   "name": "python",
   "nbconvert_exporter": "python",
   "pygments_lexer": "ipython3",
   "version": "3.12.7"
  }
 },
 "nbformat": 4,
 "nbformat_minor": 5
}
