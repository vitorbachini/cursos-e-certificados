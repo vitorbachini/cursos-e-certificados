{
 "cells": [
  {
   "cell_type": "markdown",
   "id": "aef172aa-406c-4e0c-90c8-96c2c6a2ea24",
   "metadata": {},
   "source": [
    "# 16-MultiThreading"
   ]
  },
  {
   "cell_type": "markdown",
   "id": "8135d311-3214-4d1b-bf7f-157a0f41ed1b",
   "metadata": {},
   "source": [
    "## Introduction to MultiThreading"
   ]
  },
  {
   "cell_type": "markdown",
   "id": "da095f6f-bc50-467c-a360-be64deea5f63",
   "metadata": {},
   "source": [
    "## Ways of MultiThreading"
   ]
  },
  {
   "cell_type": "code",
   "execution_count": 1,
   "id": "c9a27f1d-7cec-4c44-94bc-075a2932f703",
   "metadata": {},
   "outputs": [
    {
     "name": "stdout",
     "output_type": "stream",
     "text": [
      "65\n",
      "66\n",
      "67\n",
      "68\n",
      "69\n",
      "70\n",
      "71\n",
      "72\n",
      "73\n",
      "74\n",
      "75\n",
      "76\n",
      "77\n",
      "78\n",
      "79\n",
      "80\n",
      "81\n",
      "82\n",
      "83\n",
      "84\n",
      "85\n",
      "86\n",
      "87\n",
      "88\n",
      "89\n",
      "90\n"
     ]
    }
   ],
   "source": [
    "for i in range(65, 91):\n",
    "    print(i)"
   ]
  },
  {
   "cell_type": "code",
   "execution_count": 6,
   "id": "51ca33ac-3aa8-4372-82e3-c26ce3d89f4c",
   "metadata": {},
   "outputs": [
    {
     "name": "stdout",
     "output_type": "stream",
     "text": [
      "A65\n",
      "\n",
      "66\n",
      "B\n",
      "67\n",
      "C\n",
      "68D\n",
      "\n",
      "E\n",
      "69\n",
      "70\n",
      "F\n",
      "71\n",
      "G\n",
      "72\n",
      "H\n",
      "73\n",
      "I\n",
      "74\n",
      "J\n",
      "75\n",
      "K\n",
      "76\n",
      "L\n",
      "77\n",
      "M\n",
      "N\n",
      "78\n",
      "79\n",
      "O\n",
      "80\n",
      "P\n",
      "81\n",
      "Q\n",
      "82\n",
      "R\n",
      "83\n",
      "S\n",
      "84\n",
      "T\n",
      "85\n",
      "U\n",
      "86\n",
      "V\n",
      "87\n",
      "W\n",
      "88\n",
      "X\n",
      "89Y\n",
      "\n",
      "90\n",
      "Z\n"
     ]
    }
   ],
   "source": [
    "# multithread program using a function\n",
    "\n",
    "from threading import *\n",
    "from time import *\n",
    "\n",
    "def display():\n",
    "    for i in range(65, 91):\n",
    "        print(chr(i))\n",
    "        sleep(0.1)\n",
    "\n",
    "t = Thread(target = display, name='Alphabets')\n",
    "t.start()\n",
    "for i in range(65, 91):\n",
    "    print(i)\n",
    "    sleep(0.1)\n",
    "t.join()"
   ]
  },
  {
   "cell_type": "code",
   "execution_count": 9,
   "id": "b2443bf0-1d36-45d9-9170-b5c6b2242580",
   "metadata": {},
   "outputs": [
    {
     "name": "stdout",
     "output_type": "stream",
     "text": [
      "A65\n",
      "\n",
      "66\n",
      "B\n",
      "67\n",
      "C\n",
      "68D\n",
      "\n",
      "69\n",
      "E\n",
      "70\n",
      "F\n",
      "71\n",
      "G\n",
      "72\n",
      "H\n",
      "73\n",
      "I\n",
      "74\n",
      "J\n",
      "75\n",
      "K\n",
      "76\n",
      "L\n",
      "77\n",
      "M\n",
      "78\n",
      "N\n",
      "79\n",
      "O\n",
      "80\n",
      "P\n",
      "81\n",
      "Q\n",
      "82\n",
      "R\n",
      "83\n",
      "S\n",
      "84\n",
      "T\n",
      "85\n",
      "U\n",
      "86\n",
      "V\n",
      "87\n",
      "W\n",
      "88\n",
      "X\n",
      "89\n",
      "Y\n",
      "90\n",
      "Z\n"
     ]
    }
   ],
   "source": [
    "# multithread program using a class\n",
    "\n",
    "from threading import *\n",
    "from time import *\n",
    "\n",
    "class Alphabets(Thread):\n",
    "    def run(self):\n",
    "        for i in range(65, 91):\n",
    "            print(chr(i))\n",
    "            sleep(0.1)\n",
    "\n",
    "t = Alphabets()\n",
    "t.start()\n",
    "for i in range(65, 91):\n",
    "    print(i)\n",
    "    sleep(0.1)\n",
    "t.join()"
   ]
  },
  {
   "cell_type": "markdown",
   "id": "8af077a9-2ef6-4e1a-85ce-a7bfd8768243",
   "metadata": {},
   "source": [
    "## Mutex and Semaphore"
   ]
  },
  {
   "cell_type": "code",
   "execution_count": 11,
   "id": "df615d5e-9cf6-4766-89c6-401b3f77f034",
   "metadata": {},
   "outputs": [],
   "source": [
    "# Thread Synchronisation (Mutex) or (Semaphore)"
   ]
  },
  {
   "cell_type": "markdown",
   "id": "362f17e1-718e-4978-a4e1-848010421d0d",
   "metadata": {},
   "source": [
    "## Interprocess Communication"
   ]
  },
  {
   "cell_type": "code",
   "execution_count": null,
   "id": "9ab103ad-fd15-4c83-ac3d-c0a1fdeea396",
   "metadata": {},
   "outputs": [],
   "source": []
  }
 ],
 "metadata": {
  "kernelspec": {
   "display_name": "Python 3 (ipykernel)",
   "language": "python",
   "name": "python3"
  },
  "language_info": {
   "codemirror_mode": {
    "name": "ipython",
    "version": 3
   },
   "file_extension": ".py",
   "mimetype": "text/x-python",
   "name": "python",
   "nbconvert_exporter": "python",
   "pygments_lexer": "ipython3",
   "version": "3.12.7"
  }
 },
 "nbformat": 4,
 "nbformat_minor": 5
}
