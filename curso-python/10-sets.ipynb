{
 "cells": [
  {
   "cell_type": "markdown",
   "id": "628ad388-bec4-4999-8bdf-672939627ec2",
   "metadata": {},
   "source": [
    "# 10-Sets"
   ]
  },
  {
   "cell_type": "markdown",
   "id": "a2161284-73ba-4df0-98b8-2695f650178e",
   "metadata": {
    "jp-MarkdownHeadingCollapsed": true
   },
   "source": [
    "## Introduction to Sets"
   ]
  },
  {
   "cell_type": "code",
   "execution_count": 2,
   "id": "82a9e42a-437c-427c-8f59-de8ed1bd99a0",
   "metadata": {},
   "outputs": [
    {
     "data": {
      "text/plain": [
       "set"
      ]
     },
     "execution_count": 2,
     "metadata": {},
     "output_type": "execute_result"
    }
   ],
   "source": [
    "s1 = {1, 2, 3}\n",
    "type(s1)"
   ]
  },
  {
   "cell_type": "code",
   "execution_count": 3,
   "id": "c8a176d2-5d96-4664-9030-3179dd162845",
   "metadata": {},
   "outputs": [
    {
     "name": "stdout",
     "output_type": "stream",
     "text": [
      "{1, 2, 3, 4, 5}\n"
     ]
    }
   ],
   "source": [
    "s2 = {1, 2, 3, 4, 5, 1, 2,}\n",
    "print(s2)"
   ]
  },
  {
   "cell_type": "code",
   "execution_count": 5,
   "id": "531baf2d-9da8-4fab-9b91-a46fb971c5dc",
   "metadata": {},
   "outputs": [],
   "source": [
    "s2.discard(5)"
   ]
  },
  {
   "cell_type": "code",
   "execution_count": 6,
   "id": "6af20aee-d0bf-4761-824c-774f927ddb86",
   "metadata": {},
   "outputs": [],
   "source": [
    "s2.add(7)"
   ]
  },
  {
   "cell_type": "code",
   "execution_count": 7,
   "id": "8999846a-9a49-4515-8db5-576c706f91d1",
   "metadata": {},
   "outputs": [
    {
     "data": {
      "text/plain": [
       "{1, 2, 3, 4, 7}"
      ]
     },
     "execution_count": 7,
     "metadata": {},
     "output_type": "execute_result"
    }
   ],
   "source": [
    "s2"
   ]
  },
  {
   "cell_type": "code",
   "execution_count": 8,
   "id": "2f302228-f750-4e33-a253-aa99729f0712",
   "metadata": {},
   "outputs": [
    {
     "data": {
      "text/plain": [
       "5"
      ]
     },
     "execution_count": 8,
     "metadata": {},
     "output_type": "execute_result"
    }
   ],
   "source": [
    "len(s2)"
   ]
  },
  {
   "cell_type": "markdown",
   "id": "39029962-9178-43a9-a4a5-d518e6d2988b",
   "metadata": {},
   "source": [
    "## Internal Working of Sets"
   ]
  },
  {
   "cell_type": "markdown",
   "id": "e6748e2f-a0f0-494e-9f5c-1a5cb423ba5e",
   "metadata": {
    "jp-MarkdownHeadingCollapsed": true
   },
   "source": [
    "## Set Methods"
   ]
  },
  {
   "cell_type": "code",
   "execution_count": 1,
   "id": "fc6dc312-82d8-4b93-87dd-a53a70b0ec4c",
   "metadata": {},
   "outputs": [],
   "source": [
    "s1 = {1,2,3,5,7}\n",
    "s2 = {5,7,9,10,11}"
   ]
  },
  {
   "cell_type": "code",
   "execution_count": 2,
   "id": "2146496f-e29f-41f3-be98-6f307bed05d6",
   "metadata": {},
   "outputs": [
    {
     "data": {
      "text/plain": [
       "{1, 2, 3, 5, 7, 9, 10, 11}"
      ]
     },
     "execution_count": 2,
     "metadata": {},
     "output_type": "execute_result"
    }
   ],
   "source": [
    "s1.union(s2)"
   ]
  },
  {
   "cell_type": "code",
   "execution_count": 3,
   "id": "455e1e01-2c11-49e8-b9dc-b3ecf5f89889",
   "metadata": {},
   "outputs": [
    {
     "data": {
      "text/plain": [
       "{5, 7}"
      ]
     },
     "execution_count": 3,
     "metadata": {},
     "output_type": "execute_result"
    }
   ],
   "source": [
    "s1.intersection(s2)"
   ]
  },
  {
   "cell_type": "code",
   "execution_count": 4,
   "id": "b39b69c3-20e8-411b-a6e7-569c4989c45f",
   "metadata": {},
   "outputs": [
    {
     "data": {
      "text/plain": [
       "{1, 2, 3}"
      ]
     },
     "execution_count": 4,
     "metadata": {},
     "output_type": "execute_result"
    }
   ],
   "source": [
    "s1.difference(s2)"
   ]
  },
  {
   "cell_type": "code",
   "execution_count": 5,
   "id": "01570955-17be-422a-8f51-c4ba104bb6ff",
   "metadata": {},
   "outputs": [
    {
     "data": {
      "text/plain": [
       "{9, 10, 11}"
      ]
     },
     "execution_count": 5,
     "metadata": {},
     "output_type": "execute_result"
    }
   ],
   "source": [
    "s2.difference(s1)"
   ]
  },
  {
   "cell_type": "code",
   "execution_count": 7,
   "id": "21442aa5-b0f5-4868-a87f-8d10e2530706",
   "metadata": {},
   "outputs": [
    {
     "data": {
      "text/plain": [
       "{1, 2, 3, 9, 10, 11}"
      ]
     },
     "execution_count": 7,
     "metadata": {},
     "output_type": "execute_result"
    }
   ],
   "source": [
    "s1.symmetric_difference(s2)"
   ]
  },
  {
   "cell_type": "code",
   "execution_count": 8,
   "id": "0a590509-1c35-4b5b-827e-d2b3e8c36f8f",
   "metadata": {},
   "outputs": [],
   "source": [
    "a = {1,2,3,4,5,6,7,8,9,10}\n",
    "b = {1,2,3,5,7}\n",
    "c = {4,6,8,10}"
   ]
  },
  {
   "cell_type": "code",
   "execution_count": 9,
   "id": "d6d68afb-0bf1-481b-8f6e-d829bd42d13f",
   "metadata": {},
   "outputs": [
    {
     "data": {
      "text/plain": [
       "True"
      ]
     },
     "execution_count": 9,
     "metadata": {},
     "output_type": "execute_result"
    }
   ],
   "source": [
    "b.issubset(a)"
   ]
  },
  {
   "cell_type": "code",
   "execution_count": 10,
   "id": "22b83f21-a309-4e91-a324-3900522234c7",
   "metadata": {},
   "outputs": [
    {
     "data": {
      "text/plain": [
       "True"
      ]
     },
     "execution_count": 10,
     "metadata": {},
     "output_type": "execute_result"
    }
   ],
   "source": [
    "a.issuperset(b)"
   ]
  },
  {
   "cell_type": "code",
   "execution_count": 11,
   "id": "cc78d77f-4309-41a9-96be-fd72c23e59a1",
   "metadata": {},
   "outputs": [
    {
     "data": {
      "text/plain": [
       "True"
      ]
     },
     "execution_count": 11,
     "metadata": {},
     "output_type": "execute_result"
    }
   ],
   "source": [
    "b.isdisjoint(c)"
   ]
  },
  {
   "cell_type": "markdown",
   "id": "281ece67-2654-4aa6-a7b3-7f55e24955bf",
   "metadata": {
    "jp-MarkdownHeadingCollapsed": true
   },
   "source": [
    "## Operators on Set"
   ]
  },
  {
   "cell_type": "code",
   "execution_count": 12,
   "id": "b69530db-8d92-4fe3-8e9a-3e4b23b32bdd",
   "metadata": {},
   "outputs": [],
   "source": [
    "s = {1,2,3,4,5,6,7,8,9,10}\n",
    "a = {1,2,3,5,7}\n",
    "b = {5,7,9,10,11}"
   ]
  },
  {
   "cell_type": "code",
   "execution_count": 14,
   "id": "1ed040f6-9678-4309-9cf2-3695341ac2f9",
   "metadata": {},
   "outputs": [
    {
     "data": {
      "text/plain": [
       "{1, 2, 3, 5, 7, 9, 10, 11}"
      ]
     },
     "execution_count": 14,
     "metadata": {},
     "output_type": "execute_result"
    }
   ],
   "source": [
    "# união\n",
    "\n",
    "a|b"
   ]
  },
  {
   "cell_type": "code",
   "execution_count": 15,
   "id": "fe9f9411-97e3-4f26-a843-a15814a5467d",
   "metadata": {},
   "outputs": [
    {
     "data": {
      "text/plain": [
       "{5, 7}"
      ]
     },
     "execution_count": 15,
     "metadata": {},
     "output_type": "execute_result"
    }
   ],
   "source": [
    "# intersecção\n",
    "\n",
    "a&b"
   ]
  },
  {
   "cell_type": "code",
   "execution_count": 16,
   "id": "691ccb8e-45cd-4013-b543-b60a2378b119",
   "metadata": {},
   "outputs": [
    {
     "data": {
      "text/plain": [
       "{1, 2, 3}"
      ]
     },
     "execution_count": 16,
     "metadata": {},
     "output_type": "execute_result"
    }
   ],
   "source": [
    "# diferença\n",
    "a-b"
   ]
  },
  {
   "cell_type": "markdown",
   "id": "a3dba318-4785-42f9-8b91-93d0d3155044",
   "metadata": {
    "jp-MarkdownHeadingCollapsed": true
   },
   "source": [
    "## Adding and Deleting"
   ]
  },
  {
   "cell_type": "code",
   "execution_count": 17,
   "id": "f19dc1fb-e5bd-45b1-b45e-e63b8ae1c21b",
   "metadata": {},
   "outputs": [],
   "source": [
    "s1 = {10,20,30,40,50}"
   ]
  },
  {
   "cell_type": "code",
   "execution_count": 18,
   "id": "023cb1a1-67d0-45c2-9fe5-4670d3a4ce6a",
   "metadata": {},
   "outputs": [],
   "source": [
    "s1.add(60)"
   ]
  },
  {
   "cell_type": "code",
   "execution_count": 19,
   "id": "cbf425e9-7b9f-4332-b483-b6f8cde7bf57",
   "metadata": {},
   "outputs": [
    {
     "data": {
      "text/plain": [
       "{10, 20, 30, 40, 50, 60}"
      ]
     },
     "execution_count": 19,
     "metadata": {},
     "output_type": "execute_result"
    }
   ],
   "source": [
    "s1"
   ]
  },
  {
   "cell_type": "code",
   "execution_count": 20,
   "id": "e04607d1-3b47-45ff-9e94-b29833b7eca9",
   "metadata": {},
   "outputs": [
    {
     "data": {
      "text/plain": [
       "{10, 20, 30, 40, 60}"
      ]
     },
     "execution_count": 20,
     "metadata": {},
     "output_type": "execute_result"
    }
   ],
   "source": [
    "s1.pop()\n",
    "s1"
   ]
  },
  {
   "cell_type": "code",
   "execution_count": 22,
   "id": "343cb373-b152-4fb1-9aa6-9d36dcd1786a",
   "metadata": {},
   "outputs": [],
   "source": [
    "s1.remove(60)"
   ]
  },
  {
   "cell_type": "code",
   "execution_count": 23,
   "id": "15a2c3f5-a8cf-437c-83c7-784453cb30a4",
   "metadata": {},
   "outputs": [
    {
     "data": {
      "text/plain": [
       "{10, 20, 30, 40}"
      ]
     },
     "execution_count": 23,
     "metadata": {},
     "output_type": "execute_result"
    }
   ],
   "source": [
    "s1"
   ]
  },
  {
   "cell_type": "code",
   "execution_count": 24,
   "id": "875c1711-f5c2-45e7-a2ab-d309173c7966",
   "metadata": {},
   "outputs": [
    {
     "data": {
      "text/plain": [
       "set()"
      ]
     },
     "execution_count": 24,
     "metadata": {},
     "output_type": "execute_result"
    }
   ],
   "source": [
    "s1.clear()\n",
    "s1"
   ]
  },
  {
   "cell_type": "markdown",
   "id": "12372f3d-3d6d-4ad9-b49e-0c5d8b612830",
   "metadata": {},
   "source": [
    "## Set Comprehensions"
   ]
  },
  {
   "cell_type": "code",
   "execution_count": null,
   "id": "cc8d14be-e544-419e-98f8-778ae705ef15",
   "metadata": {},
   "outputs": [],
   "source": []
  }
 ],
 "metadata": {
  "kernelspec": {
   "display_name": "Python 3 (ipykernel)",
   "language": "python",
   "name": "python3"
  },
  "language_info": {
   "codemirror_mode": {
    "name": "ipython",
    "version": 3
   },
   "file_extension": ".py",
   "mimetype": "text/x-python",
   "name": "python",
   "nbconvert_exporter": "python",
   "pygments_lexer": "ipython3",
   "version": "3.12.7"
  }
 },
 "nbformat": 4,
 "nbformat_minor": 5
}
