{
 "cells": [
  {
   "cell_type": "markdown",
   "id": "471abdd3-2127-4860-aadf-c5dab47350f7",
   "metadata": {},
   "source": [
    "# 17-Date and Time"
   ]
  },
  {
   "cell_type": "markdown",
   "id": "c00bbb2e-d6d5-450b-8abd-353b07b38fdb",
   "metadata": {
    "jp-MarkdownHeadingCollapsed": true
   },
   "source": [
    "## Introduction to Date"
   ]
  },
  {
   "cell_type": "code",
   "execution_count": 1,
   "id": "d1fe3c76-22df-4a01-bbd7-ddf9ca6b0aff",
   "metadata": {},
   "outputs": [],
   "source": [
    "import time"
   ]
  },
  {
   "cell_type": "code",
   "execution_count": 2,
   "id": "fb3d972f-a3c8-48a8-83b1-55ba3af5694c",
   "metadata": {},
   "outputs": [
    {
     "data": {
      "text/plain": [
       "1734009432.675716"
      ]
     },
     "execution_count": 2,
     "metadata": {},
     "output_type": "execute_result"
    }
   ],
   "source": [
    "time.time()"
   ]
  },
  {
   "cell_type": "code",
   "execution_count": 3,
   "id": "f84aad47-b7a2-4a73-aeee-25b9e47ca3f7",
   "metadata": {},
   "outputs": [
    {
     "data": {
      "text/plain": [
       "time.struct_time(tm_year=2024, tm_mon=12, tm_mday=12, tm_hour=10, tm_min=17, tm_sec=17, tm_wday=3, tm_yday=347, tm_isdst=0)"
      ]
     },
     "execution_count": 3,
     "metadata": {},
     "output_type": "execute_result"
    }
   ],
   "source": [
    "time.localtime()"
   ]
  },
  {
   "cell_type": "code",
   "execution_count": 4,
   "id": "561f60f8-d2a9-4b00-a322-ba9d49d1288e",
   "metadata": {},
   "outputs": [
    {
     "data": {
      "text/plain": [
       "time.struct_time"
      ]
     },
     "execution_count": 4,
     "metadata": {},
     "output_type": "execute_result"
    }
   ],
   "source": [
    "lt = time.localtime()\n",
    "type(lt)"
   ]
  },
  {
   "cell_type": "code",
   "execution_count": 5,
   "id": "efc9f5ec-83c3-41ac-b9cf-f291529e5695",
   "metadata": {},
   "outputs": [
    {
     "data": {
      "text/plain": [
       "2024"
      ]
     },
     "execution_count": 5,
     "metadata": {},
     "output_type": "execute_result"
    }
   ],
   "source": [
    "lt.tm_year"
   ]
  },
  {
   "cell_type": "code",
   "execution_count": 11,
   "id": "003aa947-655b-4b62-ab05-fb0da27a7fc1",
   "metadata": {},
   "outputs": [
    {
     "data": {
      "text/plain": [
       "'Thu Dec 12 10:25:42 2024'"
      ]
     },
     "execution_count": 11,
     "metadata": {},
     "output_type": "execute_result"
    }
   ],
   "source": [
    "time.ctime()"
   ]
  },
  {
   "cell_type": "code",
   "execution_count": 6,
   "id": "3a76ce4d-7b42-4da7-9668-86c587dec9a8",
   "metadata": {},
   "outputs": [],
   "source": [
    "import datetime"
   ]
  },
  {
   "cell_type": "code",
   "execution_count": 7,
   "id": "5e7d74c3-d840-48a3-a528-84a9947f333b",
   "metadata": {},
   "outputs": [
    {
     "data": {
      "text/plain": [
       "datetime.datetime(2024, 12, 12, 10, 23, 52, 320056)"
      ]
     },
     "execution_count": 7,
     "metadata": {},
     "output_type": "execute_result"
    }
   ],
   "source": [
    "datetime.datetime.now()"
   ]
  },
  {
   "cell_type": "code",
   "execution_count": 9,
   "id": "a9fb80a1-628e-45bc-99b2-12a44757c67c",
   "metadata": {},
   "outputs": [],
   "source": [
    "dt = datetime.datetime(2024, 12, 12, 10, 23, 52, 320056)"
   ]
  },
  {
   "cell_type": "code",
   "execution_count": 10,
   "id": "2f70f669-0a34-4a7e-b724-cfdd78c09890",
   "metadata": {},
   "outputs": [
    {
     "data": {
      "text/plain": [
       "12"
      ]
     },
     "execution_count": 10,
     "metadata": {},
     "output_type": "execute_result"
    }
   ],
   "source": [
    "dt.month"
   ]
  },
  {
   "cell_type": "code",
   "execution_count": 12,
   "id": "f360db9c-d444-463d-88c2-e0e0304e37f6",
   "metadata": {},
   "outputs": [
    {
     "data": {
      "text/plain": [
       "datetime.datetime(2024, 12, 12, 10, 25, 58, 704883)"
      ]
     },
     "execution_count": 12,
     "metadata": {},
     "output_type": "execute_result"
    }
   ],
   "source": [
    "datetime.datetime.today()"
   ]
  },
  {
   "cell_type": "markdown",
   "id": "53ec60af-f58c-4efa-a88d-b77b0ee84f98",
   "metadata": {
    "jp-MarkdownHeadingCollapsed": true
   },
   "source": [
    "## Creating Date and Time Object"
   ]
  },
  {
   "cell_type": "code",
   "execution_count": 13,
   "id": "d94e2504-3dbc-44f7-81cc-4a7c75b050cb",
   "metadata": {},
   "outputs": [],
   "source": [
    "import datetime"
   ]
  },
  {
   "cell_type": "code",
   "execution_count": 14,
   "id": "9b21a620-6190-495e-aad4-d952b9a8732e",
   "metadata": {},
   "outputs": [],
   "source": [
    "dat1 = datetime.date(2015, 1, 1)\n",
    "dat2 = datetime.date(2016, 1, 1)"
   ]
  },
  {
   "cell_type": "code",
   "execution_count": 15,
   "id": "fa8af40b-0564-4915-8a6a-cd352f0d58d0",
   "metadata": {},
   "outputs": [
    {
     "data": {
      "text/plain": [
       "datetime.timedelta(days=365)"
      ]
     },
     "execution_count": 15,
     "metadata": {},
     "output_type": "execute_result"
    }
   ],
   "source": [
    "dat2 - dat1"
   ]
  },
  {
   "cell_type": "markdown",
   "id": "4e616992-05f5-4618-9b45-482770bdeec3",
   "metadata": {
    "jp-MarkdownHeadingCollapsed": true
   },
   "source": [
    "## Formatting Date and Time"
   ]
  },
  {
   "cell_type": "code",
   "execution_count": 16,
   "id": "d24427f0-a480-4265-8cbc-fe15a0d27370",
   "metadata": {},
   "outputs": [],
   "source": [
    "from datetime import *"
   ]
  },
  {
   "cell_type": "code",
   "execution_count": 17,
   "id": "a4bce475-cf1c-45cd-800b-b59bbb201e39",
   "metadata": {},
   "outputs": [],
   "source": [
    "dt1 = datetime(2010,1,1,10,20,30)"
   ]
  },
  {
   "cell_type": "code",
   "execution_count": 18,
   "id": "033b98b7-c4ea-4cf5-bf53-5d1803a423c9",
   "metadata": {},
   "outputs": [
    {
     "data": {
      "text/plain": [
       "'01 January,Friday 2010.10:20:30'"
      ]
     },
     "execution_count": 18,
     "metadata": {},
     "output_type": "execute_result"
    }
   ],
   "source": [
    "dt1.strftime('%d %B,%A %Y.%H:%M:%S')"
   ]
  },
  {
   "cell_type": "markdown",
   "id": "ae8ac3fb-a1eb-4af2-b7ef-76f949144b23",
   "metadata": {},
   "source": [
    "## timedelta"
   ]
  },
  {
   "cell_type": "markdown",
   "id": "f693adaa-0b4c-4370-b277-5c8aefec6457",
   "metadata": {},
   "source": [
    "## Calendar Module"
   ]
  },
  {
   "cell_type": "code",
   "execution_count": 19,
   "id": "df99cfd6-a3ee-44e3-9a43-c6a3d9570901",
   "metadata": {},
   "outputs": [],
   "source": [
    "from calendar import *"
   ]
  },
  {
   "cell_type": "code",
   "execution_count": 21,
   "id": "0bf30d90-0e5e-4e5c-a126-ce427573b650",
   "metadata": {},
   "outputs": [
    {
     "data": {
      "text/plain": [
       "0"
      ]
     },
     "execution_count": 21,
     "metadata": {},
     "output_type": "execute_result"
    }
   ],
   "source": [
    "firstweekday()"
   ]
  },
  {
   "cell_type": "code",
   "execution_count": 22,
   "id": "146f88f7-7847-4f7f-9275-42cd7d9c7f4a",
   "metadata": {},
   "outputs": [
    {
     "data": {
      "text/plain": [
       "True"
      ]
     },
     "execution_count": 22,
     "metadata": {},
     "output_type": "execute_result"
    }
   ],
   "source": [
    "isleap(2024)"
   ]
  },
  {
   "cell_type": "code",
   "execution_count": 23,
   "id": "ec298bd2-1dcc-44a8-8b39-c68f2c4d1ea7",
   "metadata": {},
   "outputs": [],
   "source": [
    "c = Calendar()"
   ]
  },
  {
   "cell_type": "code",
   "execution_count": 24,
   "id": "4b89f008-fa08-48f8-be33-495cfce8954f",
   "metadata": {},
   "outputs": [
    {
     "name": "stdout",
     "output_type": "stream",
     "text": [
      "0\n",
      "1\n",
      "2\n",
      "3\n",
      "4\n",
      "5\n",
      "6\n"
     ]
    }
   ],
   "source": [
    "for i in c.iterweekdays():\n",
    "    print(i)"
   ]
  },
  {
   "cell_type": "code",
   "execution_count": null,
   "id": "224bc14f-c888-422b-a370-1266818aa367",
   "metadata": {},
   "outputs": [],
   "source": []
  }
 ],
 "metadata": {
  "kernelspec": {
   "display_name": "Python 3 (ipykernel)",
   "language": "python",
   "name": "python3"
  },
  "language_info": {
   "codemirror_mode": {
    "name": "ipython",
    "version": 3
   },
   "file_extension": ".py",
   "mimetype": "text/x-python",
   "name": "python",
   "nbconvert_exporter": "python",
   "pygments_lexer": "ipython3",
   "version": "3.12.7"
  }
 },
 "nbformat": 4,
 "nbformat_minor": 5
}
