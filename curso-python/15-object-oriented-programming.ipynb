{
 "cells": [
  {
   "cell_type": "markdown",
   "id": "44cfbec4-7b26-451b-b3c0-23a618803b3c",
   "metadata": {},
   "source": [
    "## 15-Object-Oriented-Programming"
   ]
  },
  {
   "cell_type": "markdown",
   "id": "822a58df-56ea-4cac-b2a9-fa1589706821",
   "metadata": {
    "jp-MarkdownHeadingCollapsed": true
   },
   "source": [
    "## Introduction to OOP's"
   ]
  },
  {
   "cell_type": "code",
   "execution_count": 1,
   "id": "d42977d6-4bc0-48b2-876b-4a304d33defd",
   "metadata": {},
   "outputs": [],
   "source": [
    "# Encapsulation\n",
    "# Abstraction\n",
    "# Inheritance\n",
    "# Polymorphism"
   ]
  },
  {
   "cell_type": "markdown",
   "id": "ca08a9f1-f2eb-472e-a0cd-6a0cb5db6c4f",
   "metadata": {
    "jp-MarkdownHeadingCollapsed": true
   },
   "source": [
    "## Classes vs Objects"
   ]
  },
  {
   "cell_type": "code",
   "execution_count": 2,
   "id": "ad8b7056-7fcf-43bc-9d80-33b73c474e0f",
   "metadata": {},
   "outputs": [],
   "source": [
    "# classe é uma definição de um objeto.\n",
    "\n",
    "# todo objeto terá propriedades/atributos e métodos/operações/funções."
   ]
  },
  {
   "cell_type": "markdown",
   "id": "445b9ecd-3141-4ee2-b6f1-9ce529b172a7",
   "metadata": {
    "jp-MarkdownHeadingCollapsed": true
   },
   "source": [
    "## How to Write a Class"
   ]
  },
  {
   "cell_type": "code",
   "execution_count": 7,
   "id": "7c3fc170-3e8f-4a03-9f94-543ba6c8e392",
   "metadata": {},
   "outputs": [],
   "source": [
    "class Cuboid:\n",
    "    def __init__(self,h,l,c):\n",
    "        self.altura = h\n",
    "        self.largura = l\n",
    "        self.comprimento = c\n",
    "        \n",
    "    def areaSuperior(self):\n",
    "        return self.comprimento*self.largura\n",
    "        \n",
    "    def total(self):\n",
    "        return 2*(self.comprimento*self.largura + self.comprimento*self.altura + self.altura*self.largura)\n",
    "        \n",
    "    def volume(self):\n",
    "        return self.comprimento*self.largura*self.altura\n",
    "    "
   ]
  },
  {
   "cell_type": "code",
   "execution_count": 5,
   "id": "6de9eee2-c0c4-44d0-bd58-aed2bf77396a",
   "metadata": {},
   "outputs": [
    {
     "name": "stdout",
     "output_type": "stream",
     "text": [
      "150\n"
     ]
    }
   ],
   "source": [
    "c1 = Cuboid(10, 5, 3)\n",
    "print(c1.volume())"
   ]
  },
  {
   "cell_type": "code",
   "execution_count": 6,
   "id": "75752966-83cd-4baf-8bc2-d023c18fa067",
   "metadata": {},
   "outputs": [
    {
     "name": "stdout",
     "output_type": "stream",
     "text": [
      "1000\n"
     ]
    }
   ],
   "source": [
    "c2 = Cuboid(20, 10, 5)\n",
    "print(c2.volume())"
   ]
  },
  {
   "cell_type": "markdown",
   "id": "ada8c8aa-1d7c-4e4e-ac93-d08020e1fcb2",
   "metadata": {},
   "source": [
    "## Self and Constructor"
   ]
  },
  {
   "cell_type": "markdown",
   "id": "bff50f1b-916f-47e3-9fae-68a6c2e9cec3",
   "metadata": {
    "jp-MarkdownHeadingCollapsed": true
   },
   "source": [
    "## Instance Variable and Method"
   ]
  },
  {
   "cell_type": "code",
   "execution_count": 13,
   "id": "f43751d0-c508-4848-997d-dad0b512ed09",
   "metadata": {},
   "outputs": [],
   "source": [
    "class Rectangle:\n",
    "    def __init__(self, altura, largura):\n",
    "        self.altura = altura  # instance variable\n",
    "        self.largura = largura # instance variable\n",
    "\n",
    "    def area(self): # instance method\n",
    "        return self.altura * self.largura \n",
    "\n",
    "    def perimetro(self):  # instance method\n",
    "        return 2 * (self.atura + self.largura)"
   ]
  },
  {
   "cell_type": "code",
   "execution_count": 14,
   "id": "84497f47-b856-4cc2-8900-02579099c174",
   "metadata": {},
   "outputs": [
    {
     "name": "stdout",
     "output_type": "stream",
     "text": [
      "50\n"
     ]
    }
   ],
   "source": [
    "r1 = Rectangle(10,5)\n",
    "print(r1.area())"
   ]
  },
  {
   "cell_type": "markdown",
   "id": "b5fd0fa1-302f-46c8-aab6-6f1999f476b2",
   "metadata": {
    "jp-MarkdownHeadingCollapsed": true
   },
   "source": [
    "## Class Variable and Method"
   ]
  },
  {
   "cell_type": "code",
   "execution_count": 21,
   "id": "b78bcbcf-bbb9-4ded-bde0-8559ac8bfbcc",
   "metadata": {},
   "outputs": [],
   "source": [
    "class Rectangle:\n",
    "    count = 0 # class/static variable\n",
    "    \n",
    "    def __init__(self, altura, largura):\n",
    "        self.altura = altura\n",
    "        self.largura = largura\n",
    "        Rectangle.count += 1\n",
    "\n",
    "    def area(self):\n",
    "        return self.altura * self.largura\n",
    "\n",
    "    def perimetro(self):\n",
    "        return 2 * (self.atura + self.largura)\n",
    "\n",
    "    @classmethod \n",
    "    def countRect(cls): # class method\n",
    "        print(cls.count)"
   ]
  },
  {
   "cell_type": "code",
   "execution_count": 24,
   "id": "4512e0e4-554b-461c-838d-7bb9c47591fc",
   "metadata": {},
   "outputs": [],
   "source": [
    "r1 = Rectangle(10,5)\n",
    "r2 = Rectangle(15,7)\n",
    "r3 = Rectangle(2,5)"
   ]
  },
  {
   "cell_type": "code",
   "execution_count": 25,
   "id": "0953651f-259c-4b28-a176-cc5da38a3a98",
   "metadata": {},
   "outputs": [
    {
     "name": "stdout",
     "output_type": "stream",
     "text": [
      "5\n"
     ]
    }
   ],
   "source": [
    "Rectangle.countRect()"
   ]
  },
  {
   "cell_type": "markdown",
   "id": "fcda8d8a-838d-4b87-b8d6-0b6a070208b6",
   "metadata": {
    "jp-MarkdownHeadingCollapsed": true
   },
   "source": [
    "## Static Methods"
   ]
  },
  {
   "cell_type": "code",
   "execution_count": 26,
   "id": "0bd87988-7429-4662-bab8-21126b2c8ec9",
   "metadata": {},
   "outputs": [],
   "source": [
    "class Rectangle:\n",
    "    def __init__(self, altura, largura):\n",
    "        self.altura = altura\n",
    "        self.largura = largura\n",
    "\n",
    "    def area(self):\n",
    "        return self.altura * self.largura \n",
    "\n",
    "    def perimetro(self):\n",
    "        return 2 * (self.atura + self.largura)\n",
    "\n",
    "    @staticmethod    \n",
    "    def isSquare(altura, largura): # static method\n",
    "        return altura == largura"
   ]
  },
  {
   "cell_type": "code",
   "execution_count": 28,
   "id": "c7575ff9-c5df-4907-80b3-5ee1446b259b",
   "metadata": {},
   "outputs": [
    {
     "name": "stdout",
     "output_type": "stream",
     "text": [
      "False\n"
     ]
    }
   ],
   "source": [
    "r1 = Rectangle(10, 5)\n",
    "print(r1.isSquare(10, 5))"
   ]
  },
  {
   "cell_type": "code",
   "execution_count": 29,
   "id": "3995635d-880a-47ed-96c1-b433c5fa0606",
   "metadata": {},
   "outputs": [
    {
     "name": "stdout",
     "output_type": "stream",
     "text": [
      "True\n"
     ]
    }
   ],
   "source": [
    "r2 = Rectangle(10, 10)\n",
    "print(r1.isSquare(10, 10))"
   ]
  },
  {
   "cell_type": "markdown",
   "id": "9ad24e89-70e6-4c83-915b-d77078dd8990",
   "metadata": {
    "jp-MarkdownHeadingCollapsed": true
   },
   "source": [
    "## Accessors and Mutators"
   ]
  },
  {
   "cell_type": "code",
   "execution_count": 31,
   "id": "ed9ab442-d05e-41d3-8564-efa180a24ec9",
   "metadata": {},
   "outputs": [],
   "source": [
    "# accessors - read/get\n",
    "# mutators - write/set"
   ]
  },
  {
   "cell_type": "code",
   "execution_count": 44,
   "id": "d635ba4b-f452-4d42-9551-ae7203d74e9f",
   "metadata": {},
   "outputs": [],
   "source": [
    "class Rectangle:\n",
    "    def __init__(self, altura, largura):\n",
    "        self.altura = altura\n",
    "        self.largura = largura\n",
    "\n",
    "    def getAltura(self):\n",
    "        return self.altura\n",
    "\n",
    "    def setAltura(self, altura):\n",
    "        self.altura = altura\n",
    "\n",
    "    def getLargura(self):\n",
    "        return self.largura\n",
    "\n",
    "    def setLargura(self, largura):\n",
    "        self.largura = largura\n",
    "\n",
    "    def area(self):\n",
    "        return self.altura * self.largura\n",
    "\n",
    "    def perimetro(self):\n",
    "        return 2 * (self.atura + self.largura)"
   ]
  },
  {
   "cell_type": "code",
   "execution_count": 45,
   "id": "7ce60824-d71d-4eac-a1be-e5b902e69aa8",
   "metadata": {},
   "outputs": [
    {
     "name": "stdout",
     "output_type": "stream",
     "text": [
      "5\n"
     ]
    }
   ],
   "source": [
    "r = Rectangle(10,5)\n",
    "print(r.getLargura())"
   ]
  },
  {
   "cell_type": "code",
   "execution_count": 46,
   "id": "ff121c47-6eb2-482d-8c8d-97f5aa353c86",
   "metadata": {},
   "outputs": [
    {
     "name": "stdout",
     "output_type": "stream",
     "text": [
      "15\n"
     ]
    }
   ],
   "source": [
    "r.setLargura(15)\n",
    "print(r.getLargura())"
   ]
  },
  {
   "cell_type": "markdown",
   "id": "63551753-ebdd-4058-a210-bbc6fda36d8a",
   "metadata": {
    "jp-MarkdownHeadingCollapsed": true
   },
   "source": [
    "## Introduction to Inheritance"
   ]
  },
  {
   "cell_type": "code",
   "execution_count": 47,
   "id": "aca1dc51-a13c-45bb-83c5-232b0b575277",
   "metadata": {},
   "outputs": [],
   "source": [
    "class Rectangle:\n",
    "    def __init__(self, altura, largura):\n",
    "        self.altura = altura\n",
    "        self.largura = largura\n",
    "\n",
    "    def area(self):\n",
    "        return self.altura * self.largura\n",
    "\n",
    "    def perimetro(self):\n",
    "        return 2 * (self.atura + self.largura)"
   ]
  },
  {
   "cell_type": "code",
   "execution_count": 48,
   "id": "8b7e4099-3659-453d-ad00-cf1dc28e0008",
   "metadata": {},
   "outputs": [],
   "source": [
    "class Cuboid(Rectangle):\n",
    "    def __init__(self, altura, largura, comprimento):\n",
    "        self.comprimento = comprimento\n",
    "        super().__init__(altura, largura)\n",
    "\n",
    "    def volume(self):\n",
    "        return self.comprimento * self.largura * self.altura"
   ]
  },
  {
   "cell_type": "markdown",
   "id": "7d213c70-29f5-4893-b1b3-595860a7c630",
   "metadata": {
    "jp-MarkdownHeadingCollapsed": true
   },
   "source": [
    "## Inner Classes"
   ]
  },
  {
   "cell_type": "code",
   "execution_count": 9,
   "id": "c69279ae-bab9-43b2-b61d-03b50a4baa1b",
   "metadata": {},
   "outputs": [],
   "source": [
    "class Customer:\n",
    "\n",
    "    def __init__(self,id,name,bdno,bstreet,bcity,bcountry,bpin,sdno,sstreet,scity,scountry,spin):\n",
    "        self.custId = id\n",
    "        self.name = name\n",
    "        self.bAddr = self.Address(bdno,bstreet,bcity,bcountry,bpin)\n",
    "        self.sAddr = self.Address(sdno,sstreet,scity,scountry,spin)\n",
    "\n",
    "    class Address:\n",
    "        def __init__(self, dno, street, city, country, pin):\n",
    "            self.deno = dno\n",
    "            self.street = street\n",
    "            self.city = city\n",
    "            self.country = country\n",
    "            self.pin = pin\n",
    "\n",
    "        def display(self):\n",
    "            print(self.deno)\n",
    "            print(self.street)\n",
    "            print(self.city)\n",
    "            print(self.country)\n",
    "            print(self.pin)"
   ]
  },
  {
   "cell_type": "code",
   "execution_count": 10,
   "id": "669f5c40-61a6-42e4-b16a-61e83d1a458e",
   "metadata": {},
   "outputs": [
    {
     "name": "stdout",
     "output_type": "stream",
     "text": [
      "200\n",
      "ijk\n",
      "mumbai\n",
      "india\n",
      "40001\n"
     ]
    }
   ],
   "source": [
    "c = Customer(10, 'John', 101,'abc', 'delhi', 'india', 10001, 200, 'ijk', 'mumbai', 'india', 40001)\n",
    "c.sAddr.display()"
   ]
  },
  {
   "cell_type": "markdown",
   "id": "c3e5c482-a2e6-438b-9ac2-edff83c0f146",
   "metadata": {
    "jp-MarkdownHeadingCollapsed": true
   },
   "source": [
    "## Polymorphism"
   ]
  },
  {
   "cell_type": "code",
   "execution_count": 11,
   "id": "f507ca71-35d3-4bf7-a026-42f5f337ff97",
   "metadata": {},
   "outputs": [],
   "source": [
    "def Driver(car):\n",
    "    car.drive()\n",
    "\n",
    "class Creta:\n",
    "    def drive(self):\n",
    "        print('Creta is driving')\n",
    "\n",
    "class Mercedes:\n",
    "    def drive(self):\n",
    "        print('Mercedes is driving')"
   ]
  },
  {
   "cell_type": "code",
   "execution_count": 12,
   "id": "d456b8a9-bf29-4f9c-b9a9-910c59e10fc6",
   "metadata": {},
   "outputs": [
    {
     "name": "stdout",
     "output_type": "stream",
     "text": [
      "Mercedes is driving\n"
     ]
    }
   ],
   "source": [
    "c = Mercedes()\n",
    "Driver(c)"
   ]
  },
  {
   "cell_type": "markdown",
   "id": "e0ca0b7f-1cbe-4d9c-bb6e-f75625da5b76",
   "metadata": {},
   "source": [
    "## Method Overloading"
   ]
  },
  {
   "cell_type": "markdown",
   "id": "1da0a1d9-f6c4-4563-ae4d-10c3df0c9e2e",
   "metadata": {
    "jp-MarkdownHeadingCollapsed": true
   },
   "source": [
    "## Method Overriding"
   ]
  },
  {
   "cell_type": "code",
   "execution_count": 15,
   "id": "1e33ffda-3e89-461a-a60e-9420e6e07344",
   "metadata": {},
   "outputs": [],
   "source": [
    "class iphone6:\n",
    "    def home(self):\n",
    "        print('home button is pressed')\n",
    "\n",
    "class iphonex(iphone6):\n",
    "    def home(self):\n",
    "        print('home is touched')"
   ]
  },
  {
   "cell_type": "code",
   "execution_count": 16,
   "id": "0b0d8a67-6fc0-4bd2-b195-31775458541a",
   "metadata": {},
   "outputs": [
    {
     "name": "stdout",
     "output_type": "stream",
     "text": [
      "home button is pressed\n"
     ]
    }
   ],
   "source": [
    "i6 = iphone6()\n",
    "i6.home()"
   ]
  },
  {
   "cell_type": "code",
   "execution_count": 17,
   "id": "2b518d06-1809-4025-93c8-a1f0eaf007ca",
   "metadata": {},
   "outputs": [
    {
     "name": "stdout",
     "output_type": "stream",
     "text": [
      "home is touched\n"
     ]
    }
   ],
   "source": [
    "ix = iphonex()\n",
    "ix.home()"
   ]
  },
  {
   "cell_type": "markdown",
   "id": "3a6aa396-40b5-4e79-9389-7342c8e35b88",
   "metadata": {},
   "source": [
    "## Operator Overloading"
   ]
  },
  {
   "cell_type": "markdown",
   "id": "eee71c62-95ed-46c1-bc97-eba15cfb7181",
   "metadata": {
    "jp-MarkdownHeadingCollapsed": true
   },
   "source": [
    "## Abstract Class and Interface"
   ]
  },
  {
   "cell_type": "code",
   "execution_count": 19,
   "id": "fb1857b8-81fc-40ff-967d-6b38686fff76",
   "metadata": {},
   "outputs": [],
   "source": [
    "from abc import ABC, abstractmethod\n",
    "\n",
    "class Parent(ABC):\n",
    "    @abstractmethod\n",
    "    def show(self):\n",
    "        pass\n",
    "\n",
    "    def display(self):\n",
    "        print('Parent Display')\n",
    "\n",
    "class Child(Parent):\n",
    "    def show(self):\n",
    "        print('Show from child')"
   ]
  },
  {
   "cell_type": "code",
   "execution_count": 21,
   "id": "ae27ea9e-745c-44fb-920d-c1fa5017045d",
   "metadata": {},
   "outputs": [
    {
     "name": "stdout",
     "output_type": "stream",
     "text": [
      "Show from child\n",
      "Parent Display\n"
     ]
    }
   ],
   "source": [
    "c = Child()\n",
    "c.show()\n",
    "c.display()"
   ]
  },
  {
   "cell_type": "markdown",
   "id": "a72dd982-f137-4bd2-9a1f-71795fdfbb1f",
   "metadata": {},
   "source": [
    "## Method Resolution"
   ]
  },
  {
   "cell_type": "markdown",
   "id": "2f44c942-d83b-4da2-8c1b-a6a5bc4e81da",
   "metadata": {},
   "source": [
    "## Challenges"
   ]
  },
  {
   "cell_type": "code",
   "execution_count": 24,
   "id": "834b0378-abc7-49ac-9fb5-a5430622be91",
   "metadata": {},
   "outputs": [],
   "source": [
    "#### 1 Dice sides\n",
    "from random import *\n",
    "\n",
    "class Dice:\n",
    "    def __init__(s, sides):\n",
    "        s.sides = sides\n",
    "\n",
    "    def roll_dice(s):\n",
    "        return randint(1, s.sides)"
   ]
  },
  {
   "cell_type": "code",
   "execution_count": 25,
   "id": "ad2a1a91-6b24-46ef-87f6-eb5d0a62fb14",
   "metadata": {},
   "outputs": [
    {
     "name": "stdout",
     "output_type": "stream",
     "text": [
      "3\n",
      "1\n"
     ]
    }
   ],
   "source": [
    "d1 = Dice(6)\n",
    "\n",
    "print(d1.roll_dice())\n",
    "print(d1.roll_dice())"
   ]
  },
  {
   "cell_type": "code",
   "execution_count": 36,
   "id": "6a413494-0c4e-4c5d-9aab-9d7f664b8b17",
   "metadata": {},
   "outputs": [],
   "source": [
    "#### 2 Circle\n",
    "import math\n",
    "\n",
    "class Circle:\n",
    "    def __init__(s, radius):\n",
    "        s.radius = radius\n",
    "\n",
    "    def area(s):\n",
    "        return math.pi*(s.radius**2)\n",
    "\n",
    "    def perimeter(s):\n",
    "        return math.pi*2*s.radius"
   ]
  },
  {
   "cell_type": "code",
   "execution_count": 38,
   "id": "fb9a766c-43f4-4bff-8d62-cb3dae8ab511",
   "metadata": {},
   "outputs": [
    {
     "name": "stdout",
     "output_type": "stream",
     "text": [
      "Area: 153.93804002589985\n",
      "Perimeter: 43.982297150257104\n"
     ]
    }
   ],
   "source": [
    "c1 = Circle(7)\n",
    "print('Area:', c1.area())\n",
    "print('Perimeter:', c1.perimeter())"
   ]
  },
  {
   "cell_type": "code",
   "execution_count": 39,
   "id": "1d740e43-f189-4e78-8705-61b11c8a9f57",
   "metadata": {},
   "outputs": [],
   "source": [
    "#### 3 Book Details\n",
    "\n",
    "class Book():\n",
    "    def __init__(s, title, author, price):\n",
    "        s.title = title\n",
    "        s.author = author\n",
    "        s.price = price\n",
    "\n",
    "    def show_details(s):\n",
    "        print('Title:', s.title)\n",
    "        print('Author:', s.author)\n",
    "        print('Price:', s.price)"
   ]
  },
  {
   "cell_type": "code",
   "execution_count": 42,
   "id": "8ea6ffeb-7bf9-45d3-885d-d0ef215e482c",
   "metadata": {},
   "outputs": [
    {
     "name": "stdout",
     "output_type": "stream",
     "text": [
      "Title: The GOAT\n",
      "Author: Cristiano Ronaldo\n",
      "Price: 199.99\n"
     ]
    }
   ],
   "source": [
    "b1 = Book('The GOAT', 'Cristiano Ronaldo', 199.99)\n",
    "b1.show_details()"
   ]
  },
  {
   "cell_type": "code",
   "execution_count": 53,
   "id": "b08a9d0d-116f-406a-b014-a4d039e74d8a",
   "metadata": {},
   "outputs": [],
   "source": [
    "#### 4 Details Employees\n",
    "\n",
    "class Employee:\n",
    "\n",
    "    emp_count = 101\n",
    "    \n",
    "    def __init__(s, name, salary, designation):\n",
    "        s.name = name\n",
    "        s.salary = salary\n",
    "        s.designation = designation\n",
    "        s.emp_id = 'e' + str(Employee.emp_count)\n",
    "        Employee.emp_count += 1\n",
    "\n",
    "    def show_details(s):\n",
    "        print('Name:', s.name)\n",
    "        print('Emp_id:', s.emp_id)\n",
    "        print('Designation:', s.designation)\n",
    "        print('Salary:', s.salary)\n",
    "\n",
    "    @classmethod\n",
    "    def total_employees(cls):\n",
    "        return cls.emp_count - 101"
   ]
  },
  {
   "cell_type": "code",
   "execution_count": 54,
   "id": "af2ba614-9ef9-4871-bd9f-6538df71526f",
   "metadata": {},
   "outputs": [
    {
     "name": "stdout",
     "output_type": "stream",
     "text": [
      "Name: John\n",
      "Emp_id: e101\n",
      "Designation: Manager\n",
      "Salary: 5000\n",
      " \n",
      "Name: Marcus\n",
      "Emp_id: e102\n",
      "Designation: Team Leader\n",
      "Salary: 3000\n",
      " \n",
      "Total Employees: 2\n"
     ]
    }
   ],
   "source": [
    "e1 = Employee('John', 5000, 'Manager')\n",
    "e2 = Employee('Marcus', 3000, 'Team Leader')\n",
    "\n",
    "e1.show_details()\n",
    "print(' ')\n",
    "e2.show_details()\n",
    "print(' ')\n",
    "print('Total Employees:', e1.total_employees())"
   ]
  },
  {
   "cell_type": "code",
   "execution_count": 55,
   "id": "a51c1ebb-2752-4e5d-a21d-eca87d7cc011",
   "metadata": {},
   "outputs": [],
   "source": [
    "#### 5 Calculator\n",
    "\n",
    "class Calculator:\n",
    "\n",
    "    @staticmethod\n",
    "    def add(a, b):\n",
    "        return a + b\n",
    "\n",
    "    @staticmethod\n",
    "    def sub(a, b):\n",
    "        return a - b\n",
    "\n",
    "    @staticmethod\n",
    "    def mult(a, b):\n",
    "        return a * b\n",
    "\n",
    "    @staticmethod\n",
    "    def div(a, b):\n",
    "        return a / b"
   ]
  },
  {
   "cell_type": "code",
   "execution_count": 58,
   "id": "d6d8f66f-8f6c-4807-9195-70d42a19d928",
   "metadata": {},
   "outputs": [
    {
     "name": "stdout",
     "output_type": "stream",
     "text": [
      "Add: 8\n",
      "Sub: 2\n",
      "Mult: 15\n",
      "Div: 1.6666666666666667\n"
     ]
    }
   ],
   "source": [
    "print('Add:', Calculator.add(5, 3))\n",
    "print('Sub:', Calculator.sub(5, 3))\n",
    "print('Mult:', Calculator.mult(5, 3))\n",
    "print('Div:', Calculator.div(5, 3))"
   ]
  },
  {
   "cell_type": "code",
   "execution_count": 59,
   "id": "319d3611-d8c5-4402-ab9e-d074c1114ed3",
   "metadata": {},
   "outputs": [],
   "source": [
    "#### 6 Customer Phone Number\n",
    "\n",
    "class Customer:\n",
    "    def __init__(s, name, phone):\n",
    "        s.name = name\n",
    "        s.phone = phone\n",
    "\n",
    "    def get_name(s):\n",
    "        return s.name\n",
    "\n",
    "    def get_phone(s):\n",
    "        return s.phone\n",
    "\n",
    "    def set_phone(s, ph):\n",
    "        s.phone = ph"
   ]
  },
  {
   "cell_type": "code",
   "execution_count": 60,
   "id": "2b34b050-1c09-455d-a3f1-5ff0057a4c13",
   "metadata": {},
   "outputs": [
    {
     "name": "stdout",
     "output_type": "stream",
     "text": [
      "Name: John\n",
      "Phone: 7653245123\n"
     ]
    }
   ],
   "source": [
    "c1 = Customer('John', 7653245123)\n",
    "print('Name:', c1.get_name())\n",
    "print('Phone:', c1.get_phone())"
   ]
  },
  {
   "cell_type": "code",
   "execution_count": 61,
   "id": "ac5e08c8-071b-4f15-98c1-add1a6494dc9",
   "metadata": {},
   "outputs": [
    {
     "name": "stdout",
     "output_type": "stream",
     "text": [
      "Name: John\n",
      "Phone: 12312432123\n"
     ]
    }
   ],
   "source": [
    "c1.set_phone(12312432123)\n",
    "print('Name:', c1.get_name())\n",
    "print('Phone:', c1.get_phone())"
   ]
  },
  {
   "cell_type": "code",
   "execution_count": 68,
   "id": "b2312019-4b7f-4759-996a-74493bbb9bab",
   "metadata": {},
   "outputs": [],
   "source": [
    "#### 7 Currency Converter\n",
    "\n",
    "class CurrencyConverter():\n",
    "\n",
    "    def __init__(s, currency, rate):\n",
    "        s.currency = currency\n",
    "        s.rate = rate\n",
    "\n",
    "    def set_currency(s, currency):\n",
    "        s.currency = currency\n",
    "\n",
    "    def get_currency(s):\n",
    "        return s.currency\n",
    "\n",
    "    def set_rate(s, rate):\n",
    "        s.rate = rate\n",
    "\n",
    "    def get_rate(s):\n",
    "        return s.rate\n",
    "\n",
    "    def convert(s, amount):\n",
    "        return s.currency + ' conversion is ' + str(s.rate * amount)\n",
    "    "
   ]
  },
  {
   "cell_type": "code",
   "execution_count": 69,
   "id": "f0e4001b-4737-4e4e-adfb-4ecb53da4d45",
   "metadata": {},
   "outputs": [
    {
     "name": "stdout",
     "output_type": "stream",
     "text": [
      "USD conversion is 600\n"
     ]
    }
   ],
   "source": [
    "cc = CurrencyConverter('USD', 6)\n",
    "print(cc.convert(100))"
   ]
  },
  {
   "cell_type": "code",
   "execution_count": 12,
   "id": "b3f6d693-3cad-491d-a1ec-8b243d189b97",
   "metadata": {},
   "outputs": [],
   "source": [
    "#### 8 Bank Account\n",
    "\n",
    "class MinimumBalanceError(Exception):\n",
    "    pass\n",
    "\n",
    "class Account:\n",
    "    \n",
    "    AccNumber = 1001\n",
    "    \n",
    "    def __init__(s, name, balance = 1000):\n",
    "\n",
    "        if balance < 1000:\n",
    "            raise MinimumBalanceError('Account cannot be created')\n",
    "        s.name = name\n",
    "        s.balance = balance\n",
    "        s.account_number = Account.AccNumber\n",
    "        Account.AccNumber += 1\n",
    "\n",
    "    def deposit(s, amt):\n",
    "        s.balance += amt\n",
    "\n",
    "    def withdraw(s, amt):\n",
    "        if s.balance - amt < 1000:\n",
    "            raise MinimumBalanceError('Amount cannot be withdrawn')\n",
    "        s.balance -= amt\n",
    "\n",
    "    def show_details(s):\n",
    "        print('Account Number:', s.account_number)\n",
    "        print('Name:', s.name)\n",
    "        print('Balance:', s.balance)"
   ]
  },
  {
   "cell_type": "code",
   "execution_count": 13,
   "id": "ec42cd20-9247-47b3-9cd2-1cb16ecc752e",
   "metadata": {},
   "outputs": [
    {
     "name": "stdout",
     "output_type": "stream",
     "text": [
      "Account Number: 1001\n",
      "Name: John\n",
      "Balance: 2000\n",
      " \n",
      "Account Number: 1002\n",
      "Name: Marcus\n",
      "Balance: 5000\n"
     ]
    }
   ],
   "source": [
    "a1 = Account('John', 2000)\n",
    "a1.show_details()\n",
    "print(' ')\n",
    "a2 = Account('Marcus', 5000)\n",
    "a2.show_details()"
   ]
  },
  {
   "cell_type": "code",
   "execution_count": 19,
   "id": "60ca63a9-7bf9-4af3-970d-c4fd998e3b4a",
   "metadata": {},
   "outputs": [],
   "source": [
    "#### 9 Inheritance\n",
    "import math\n",
    "\n",
    "class Polygon:\n",
    "    def __init__(s, ns, *sides):\n",
    "        s.no_of_sides = ns\n",
    "        s.sides = sides[:ns]\n",
    "\n",
    "class Triangle(Polygon):\n",
    "    def __init__(s, ns, *sides):\n",
    "        Polygon.__init__(s, ns, *sides)\n",
    "\n",
    "    def area(s):\n",
    "        a, b, c = s.sides\n",
    "        s = (a + b + c) / 2\n",
    "        area = math.sqrt(s * (s-a) * (s-b) * (s-c))\n",
    "        return area"
   ]
  },
  {
   "cell_type": "code",
   "execution_count": 20,
   "id": "98b27a89-b6a3-4b6b-a45f-3613fec818fa",
   "metadata": {},
   "outputs": [
    {
     "name": "stdout",
     "output_type": "stream",
     "text": [
      "Area: 43.634848458542855\n"
     ]
    }
   ],
   "source": [
    "t1 = Triangle(3, 10, 15, 9)\n",
    "print('Area:', t1.area())"
   ]
  },
  {
   "cell_type": "code",
   "execution_count": 24,
   "id": "61c3700d-5d10-49e1-8fe3-e8907b894275",
   "metadata": {},
   "outputs": [],
   "source": [
    "#### 10 Academic Courses\n",
    "\n",
    "class Course:\n",
    "    def __init__(s, name, dur, *books):\n",
    "        s.course_name = name\n",
    "        s.duration = dur\n",
    "\n",
    "        s.books = [s.Book(b) for b in books]\n",
    "\n",
    "    def show_details(s):\n",
    "        print('Name:', s.course_name)\n",
    "        print('Duration:', s.duration)\n",
    "        print('Suggested Books:')\n",
    "        for b in s.books:\n",
    "            print(b)\n",
    "\n",
    "    class Book:\n",
    "        def __init__(s, title):\n",
    "            s.title = title\n",
    "\n",
    "        def __str__(s):\n",
    "            return s.title"
   ]
  },
  {
   "cell_type": "code",
   "execution_count": 25,
   "id": "34a517d3-bda0-42d9-81b1-52e6be6287d1",
   "metadata": {},
   "outputs": [
    {
     "name": "stdout",
     "output_type": "stream",
     "text": [
      "Name: Pytohn\n",
      "Duration: 10\n",
      "Suggested Books:\n",
      "Learn Python\n",
      "Python Crash Course\n"
     ]
    }
   ],
   "source": [
    "c1 = Course('Pytohn', 10, 'Learn Python', 'Python Crash Course')\n",
    "c1.show_details()"
   ]
  },
  {
   "cell_type": "code",
   "execution_count": 29,
   "id": "6c713b65-40b9-4446-96a2-30f96a1b037e",
   "metadata": {},
   "outputs": [],
   "source": [
    "####  11 Details of Computer\n",
    "\n",
    "class Computer():\n",
    "\n",
    "    def __init__(s, name, make, os):\n",
    "        s.name = name\n",
    "        s.cpu = s.CPU(make)\n",
    "        s.os = s.OS(os)\n",
    "\n",
    "    def __str__(s):\n",
    "        return 'Name: ' + s.name + '\\nMake: ' + s.cpu.get_make() + '\\nOS Name: ' + s.os.get_name()\n",
    "\n",
    "    class CPU:\n",
    "        def __init__(s, make):\n",
    "            s.make = make\n",
    "\n",
    "        def get_make(s):\n",
    "            return s.make\n",
    "\n",
    "    class OS:\n",
    "        def __init__(s, os):\n",
    "            s.name = os\n",
    "\n",
    "        def get_name(s):\n",
    "            return s.name"
   ]
  },
  {
   "cell_type": "code",
   "execution_count": 30,
   "id": "889b5e9b-f5c1-4bc7-95be-19b18153733b",
   "metadata": {},
   "outputs": [
    {
     "name": "stdout",
     "output_type": "stream",
     "text": [
      "Name: PC101\n",
      "Make: AMD\n",
      "OS Name: Windows\n"
     ]
    }
   ],
   "source": [
    "c1 = Computer('PC101', 'AMD', 'Windows')\n",
    "print(c1)"
   ]
  },
  {
   "cell_type": "code",
   "execution_count": 33,
   "id": "86899335-ce6b-43d7-bf47-312a572d00be",
   "metadata": {},
   "outputs": [],
   "source": [
    "#### 12 Pet Details\n",
    "\n",
    "class Cat:\n",
    "    def __init__(s, name, age):\n",
    "        s.name = name\n",
    "        s.age = age\n",
    "\n",
    "    def info(s):\n",
    "        print('My name is ' + s.name + '. My age is ' + str(s.age))\n",
    "\n",
    "    def make_sound(s):\n",
    "        print('meow')\n",
    "\n",
    "class Dog:\n",
    "    def __init__(s, name, age):\n",
    "        s.name = name\n",
    "        s.age = age\n",
    "\n",
    "    def info(s):\n",
    "        print('My name is ' + s.name + '. My age is ' + str(s.age))\n",
    "\n",
    "    def make_sound(s):\n",
    "        print('ruf ruf')\n",
    "\n",
    "def my_pet(pet):\n",
    "    pet.info()\n",
    "    pet.make_sound()"
   ]
  },
  {
   "cell_type": "code",
   "execution_count": 34,
   "id": "cf55f208-1c77-488e-be57-f550816b6da2",
   "metadata": {},
   "outputs": [
    {
     "name": "stdout",
     "output_type": "stream",
     "text": [
      "My name is Kitty. My age is 2\n",
      "meow\n",
      " \n",
      "My name is Tommy. My age is 3\n",
      "ruf ruf\n"
     ]
    }
   ],
   "source": [
    "c = Cat('Kitty', 2)\n",
    "d = Dog('Tommy', 3)\n",
    "\n",
    "my_pet(c)\n",
    "print(' ')\n",
    "my_pet(d)"
   ]
  },
  {
   "cell_type": "code",
   "execution_count": null,
   "id": "ca3970f5-13c5-44d4-b869-ecab43d6591f",
   "metadata": {},
   "outputs": [],
   "source": []
  }
 ],
 "metadata": {
  "kernelspec": {
   "display_name": "Python 3 (ipykernel)",
   "language": "python",
   "name": "python3"
  },
  "language_info": {
   "codemirror_mode": {
    "name": "ipython",
    "version": 3
   },
   "file_extension": ".py",
   "mimetype": "text/x-python",
   "name": "python",
   "nbconvert_exporter": "python",
   "pygments_lexer": "ipython3",
   "version": "3.12.7"
  }
 },
 "nbformat": 4,
 "nbformat_minor": 5
}
