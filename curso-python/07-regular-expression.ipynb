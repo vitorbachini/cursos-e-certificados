{
 "cells": [
  {
   "cell_type": "markdown",
   "id": "b792e2f2-9fab-4fdb-bb14-39070eed80a6",
   "metadata": {},
   "source": [
    "## 07-Regular-Expression"
   ]
  },
  {
   "cell_type": "markdown",
   "id": "25c1ff40-3258-4d92-8340-e79a6b64559c",
   "metadata": {
    "jp-MarkdownHeadingCollapsed": true
   },
   "source": [
    "## Quantifiers"
   ]
  },
  {
   "cell_type": "code",
   "execution_count": 1,
   "id": "df84a9f5-24f4-4d0d-ac1a-8cf911b8c064",
   "metadata": {},
   "outputs": [],
   "source": [
    "from re import *"
   ]
  },
  {
   "cell_type": "code",
   "execution_count": 2,
   "id": "5b2158b7-1d12-44c2-9589-d8b41169e3f3",
   "metadata": {},
   "outputs": [
    {
     "data": {
      "text/plain": [
       "'a'"
      ]
     },
     "execution_count": 2,
     "metadata": {},
     "output_type": "execute_result"
    }
   ],
   "source": [
    "match('a', 'a').group()"
   ]
  },
  {
   "cell_type": "code",
   "execution_count": 3,
   "id": "07e83773-2113-458d-bd09-5bb39221c10a",
   "metadata": {},
   "outputs": [
    {
     "data": {
      "text/plain": [
       "'b'"
      ]
     },
     "execution_count": 3,
     "metadata": {},
     "output_type": "execute_result"
    }
   ],
   "source": [
    "match('a|b', 'b').group()"
   ]
  },
  {
   "cell_type": "code",
   "execution_count": 4,
   "id": "9caf7c58-796f-4292-91e7-4a258531d9d9",
   "metadata": {},
   "outputs": [
    {
     "data": {
      "text/plain": [
       "'abc'"
      ]
     },
     "execution_count": 4,
     "metadata": {},
     "output_type": "execute_result"
    }
   ],
   "source": [
    "match('abc', 'abcd').group()"
   ]
  },
  {
   "cell_type": "code",
   "execution_count": 5,
   "id": "fc674903-c050-4d07-b150-d49885a2f2df",
   "metadata": {},
   "outputs": [
    {
     "data": {
      "text/plain": [
       "'c'"
      ]
     },
     "execution_count": 5,
     "metadata": {},
     "output_type": "execute_result"
    }
   ],
   "source": [
    "match('[abc]', 'c').group()"
   ]
  },
  {
   "cell_type": "code",
   "execution_count": 6,
   "id": "7e884aa7-fa48-4738-b2c0-beb25b7ab185",
   "metadata": {},
   "outputs": [
    {
     "data": {
      "text/plain": [
       "'aaaa'"
      ]
     },
     "execution_count": 6,
     "metadata": {},
     "output_type": "execute_result"
    }
   ],
   "source": [
    "match('[abc]+', 'aaaa').group()"
   ]
  },
  {
   "cell_type": "code",
   "execution_count": 9,
   "id": "828cc68f-b098-4438-b4c1-93d725c34c20",
   "metadata": {},
   "outputs": [
    {
     "data": {
      "text/plain": [
       "'aa'"
      ]
     },
     "execution_count": 9,
     "metadata": {},
     "output_type": "execute_result"
    }
   ],
   "source": [
    "match('[abc]{2}', 'aaaaa').group()"
   ]
  },
  {
   "cell_type": "markdown",
   "id": "e1ea3c7b-a9f6-45a0-87fb-b38f10f4a68e",
   "metadata": {},
   "source": [
    "## Special Characters"
   ]
  },
  {
   "cell_type": "markdown",
   "id": "07791671-b52c-4191-9fb3-79a6fe2824a4",
   "metadata": {},
   "source": [
    "## Sequence Characters"
   ]
  },
  {
   "cell_type": "code",
   "execution_count": null,
   "id": "e9b3b7ad-aca4-4417-a2a1-c6db3f2171ea",
   "metadata": {},
   "outputs": [],
   "source": []
  }
 ],
 "metadata": {
  "kernelspec": {
   "display_name": "Python 3 (ipykernel)",
   "language": "python",
   "name": "python3"
  },
  "language_info": {
   "codemirror_mode": {
    "name": "ipython",
    "version": 3
   },
   "file_extension": ".py",
   "mimetype": "text/x-python",
   "name": "python",
   "nbconvert_exporter": "python",
   "pygments_lexer": "ipython3",
   "version": "3.12.7"
  }
 },
 "nbformat": 4,
 "nbformat_minor": 5
}
