{
 "cells": [
  {
   "cell_type": "markdown",
   "id": "95284aeb-0bc7-4d3d-a774-5cc3b837869d",
   "metadata": {},
   "source": [
    "# 01-Python Datatypes\n",
    "\n",
    "## Variáveis\n",
    "\n",
    "- Variáveis são nomes atribuídos a dados\n",
    "- Variáveis precisam de um valor para serem iniciadas\n",
    "- age = 15\n",
    "- name = 'John'\n",
    "\n",
    "Em Python não é necessário especificar o tipo de dado para fazer a declaração\n",
    "- int price = 10 -> price = 10\n",
    "\n",
    "## Tipagem Dinâmica\n",
    "\n",
    "- x = 25, aqui x assume o mesmo Data Type de 25 que é INT;\n",
    "- x = 12.5, x passa a receber um dado com o tipo FLOAT;\n",
    "- x = 'A', depois x recebe um dado do tipo STRING.\n",
    "\n"
   ]
  },
  {
   "cell_type": "code",
   "execution_count": 2,
   "id": "3cb16ae7-dd55-4a4a-a46b-a010fe6e1f5d",
   "metadata": {},
   "outputs": [
    {
     "data": {
      "text/plain": [
       "float"
      ]
     },
     "execution_count": 2,
     "metadata": {},
     "output_type": "execute_result"
    }
   ],
   "source": [
    "a = 5\n",
    "b = 2\n",
    "c = a / b\n",
    "type(c)"
   ]
  },
  {
   "cell_type": "code",
   "execution_count": null,
   "id": "b973d24d-a0ac-40b6-ace3-0c296304c51a",
   "metadata": {},
   "outputs": [],
   "source": []
  }
 ],
 "metadata": {
  "kernelspec": {
   "display_name": "Python 3 (ipykernel)",
   "language": "python",
   "name": "python3"
  },
  "language_info": {
   "codemirror_mode": {
    "name": "ipython",
    "version": 3
   },
   "file_extension": ".py",
   "mimetype": "text/x-python",
   "name": "python",
   "nbconvert_exporter": "python",
   "pygments_lexer": "ipython3",
   "version": "3.12.7"
  }
 },
 "nbformat": 4,
 "nbformat_minor": 5
}
