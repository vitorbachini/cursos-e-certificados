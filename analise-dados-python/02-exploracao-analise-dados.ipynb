{
 "cells": [
  {
   "cell_type": "markdown",
   "id": "50da4430-6edb-4eae-8e91-4490a4365cd1",
   "metadata": {},
   "source": [
    "# 02-Projeto 1: Tratamento, Exploração e Análise de Dados"
   ]
  },
  {
   "cell_type": "markdown",
   "id": "9d5659a2-b4a9-47ca-9ba6-b17c6fd0b7f1",
   "metadata": {},
   "source": [
    "Este projeto analisa os dados dos casos de covid 19 no \n",
    "estado de São Paulo do período de fevereiro de 2020 a fevereiro de 2021"
   ]
  },
  {
   "cell_type": "markdown",
   "id": "92c52162-19d7-489d-894e-c7e7d690253d",
   "metadata": {
    "jp-MarkdownHeadingCollapsed": true
   },
   "source": [
    "## Importação dos Dados"
   ]
  },
  {
   "cell_type": "code",
   "execution_count": null,
   "id": "a10530c0-103f-4201-9e1e-5d1e10d14f8b",
   "metadata": {},
   "outputs": [],
   "source": [
    "import numpy as np\n",
    "import pandas as pd"
   ]
  },
  {
   "cell_type": "code",
   "execution_count": null,
   "id": "54508907-d2c0-47e1-a7e4-b9cd203a415b",
   "metadata": {},
   "outputs": [],
   "source": [
    "covid_sp = pd.read_csv('./dados_covid_sp.csv', sep=';', encoding='utf-8')\n",
    "# sep -> tipo de separador dos dados\n",
    "# encoding -> codificação dos caracteres: utf-8, iso-8859-1, latin-1, etc"
   ]
  },
  {
   "cell_type": "code",
   "execution_count": null,
   "id": "a7ca46f4-589f-4aa9-9725-4b8ec91041bb",
   "metadata": {},
   "outputs": [],
   "source": [
    "covid_sp.head()"
   ]
  },
  {
   "cell_type": "code",
   "execution_count": null,
   "id": "e2e36ec6-d664-4176-be67-6f2471dad717",
   "metadata": {},
   "outputs": [],
   "source": [
    "covid_sp.shape"
   ]
  },
  {
   "cell_type": "markdown",
   "id": "12f71f57-704e-4901-9bee-f0d844fffd2c",
   "metadata": {},
   "source": [
    "## Organização dos Dados"
   ]
  },
  {
   "cell_type": "markdown",
   "id": "747ab49c-4579-45d1-a468-7e75c2fe661e",
   "metadata": {
    "jp-MarkdownHeadingCollapsed": true
   },
   "source": [
    "### Renomeando variáveis (colunas)"
   ]
  },
  {
   "cell_type": "code",
   "execution_count": null,
   "id": "04e4dde8-2e37-4fcc-94a9-b504bc0e73ba",
   "metadata": {},
   "outputs": [],
   "source": [
    "covid_sp = covid_sp.rename(columns={'nome_munic': 'municipio'})"
   ]
  },
  {
   "cell_type": "code",
   "execution_count": null,
   "id": "e326811c-8145-4eb5-8737-3ec3ade6e657",
   "metadata": {},
   "outputs": [],
   "source": [
    "covid_sp.head(3)"
   ]
  },
  {
   "cell_type": "code",
   "execution_count": null,
   "id": "37374f1d-4e10-4cc6-87db-2280baa1bdc4",
   "metadata": {},
   "outputs": [],
   "source": [
    "covid_sp.rename(columns={'datahora': 'data'}, inplace = True) \n",
    "# inplace = True confirma a alteração na tabela"
   ]
  },
  {
   "cell_type": "code",
   "execution_count": null,
   "id": "9a1acd06-c17f-409c-aacb-cf41f71b2ccb",
   "metadata": {},
   "outputs": [],
   "source": [
    "covid_sp.rename(columns={'map_leg': 'rotulo_mapa', 'map_leg_s': 'codigo_mapa'}, inplace = True) "
   ]
  },
  {
   "cell_type": "markdown",
   "id": "3a4d8639-71b8-434a-9eb9-b1cd9d51064b",
   "metadata": {
    "jp-MarkdownHeadingCollapsed": true
   },
   "source": [
    "### Excluindo variáveis (colunas)"
   ]
  },
  {
   "cell_type": "code",
   "execution_count": null,
   "id": "12ae81dc-df96-46c8-bd0d-6584efab20c0",
   "metadata": {},
   "outputs": [],
   "source": [
    "covid_sp_alterado = covid_sp.drop(columns=['cod_ra'])\n",
    "# realizar a alteração e atribuir a uma nova tabela"
   ]
  },
  {
   "cell_type": "code",
   "execution_count": null,
   "id": "9df079a5-48f0-4717-8198-3ae749970790",
   "metadata": {},
   "outputs": [],
   "source": [
    "covid_sp_alterado.head(1)"
   ]
  },
  {
   "cell_type": "code",
   "execution_count": null,
   "id": "87f407d2-d1d1-4cd3-9849-8b04443e1147",
   "metadata": {},
   "outputs": [],
   "source": [
    "covid_sp_alterado = covid_sp_alterado.drop(covid_sp_alterado.columns[[1]], axis=1)"
   ]
  },
  {
   "cell_type": "code",
   "execution_count": null,
   "id": "e52d0835-8c56-444a-8224-7713ea9a0aaf",
   "metadata": {},
   "outputs": [],
   "source": [
    "covid_sp_alterado.drop(columns=['rotulo_mapa', 'codigo_mapa', 'cod_drs'], inplace = True) "
   ]
  },
  {
   "cell_type": "code",
   "execution_count": null,
   "id": "29ed3367-26d1-4fbe-9245-7d274d55d67d",
   "metadata": {},
   "outputs": [],
   "source": [
    "covid_sp_alterado.drop(covid_sp_alterado.columns[[13,14,18,19]],axis=1, inplace=True)"
   ]
  },
  {
   "cell_type": "code",
   "execution_count": null,
   "id": "9ef334c9-f03b-4400-a1f5-77f38c61722a",
   "metadata": {},
   "outputs": [],
   "source": [
    "covid_sp_alterado.shape"
   ]
  },
  {
   "cell_type": "markdown",
   "id": "f95f94f6-a922-4d4c-9cff-3abe4710f950",
   "metadata": {
    "jp-MarkdownHeadingCollapsed": true
   },
   "source": [
    "### Criando e Alterando valores das colunas (variáveis)"
   ]
  },
  {
   "cell_type": "code",
   "execution_count": null,
   "id": "e8159963-d431-4f59-96c4-c9f0972934f9",
   "metadata": {},
   "outputs": [],
   "source": [
    "covid_sp_alterado.head(2)"
   ]
  },
  {
   "cell_type": "code",
   "execution_count": null,
   "id": "e011681b-cef0-478a-b667-777bd7e3b91b",
   "metadata": {},
   "outputs": [],
   "source": [
    "# corrigindo o valor de área\n",
    "covid_sp_alterado['area'] = covid_sp_alterado['area']/100"
   ]
  },
  {
   "cell_type": "code",
   "execution_count": null,
   "id": "70232eb2-f326-4b52-ba54-13a342afafa4",
   "metadata": {},
   "outputs": [],
   "source": [
    "# criação de uma coluna com a densidade demográfica (hab/km2)\n",
    "\n",
    "covid_sp_alterado['densidade'] = covid_sp_alterado['pop'] / covid_sp_alterado['area']"
   ]
  },
  {
   "cell_type": "code",
   "execution_count": null,
   "id": "4ebaf32b-95f1-405a-8f60-0f1d718d016f",
   "metadata": {},
   "outputs": [],
   "source": [
    "covid_sp_alterado.shape"
   ]
  },
  {
   "cell_type": "code",
   "execution_count": null,
   "id": "3046785d-fe59-412f-a01c-6fa7c868fe59",
   "metadata": {},
   "outputs": [],
   "source": [
    "# criação de uma coluna com índices\n",
    "\n",
    "index = list(range(1, 374035))"
   ]
  },
  {
   "cell_type": "code",
   "execution_count": null,
   "id": "1c9bcd8c-cddf-42a5-a15d-c1d0883f95bd",
   "metadata": {},
   "outputs": [],
   "source": [
    "# transformar a lista em um dataframe\n",
    "\n",
    "df = pd.DataFrame(index,columns=['indice'])\n",
    "df"
   ]
  },
  {
   "cell_type": "code",
   "execution_count": null,
   "id": "a3926f91-2e9a-4a7f-82c3-f7cfb3b68f40",
   "metadata": {},
   "outputs": [],
   "source": [
    "# juntar os dois dataframes\n",
    "\n",
    "covid_sp_alterado = pd.concat([covid_sp_alterado, df],axis=1)\n",
    "# axis = 1 -> coluna\n",
    "# axis = 0 -> linha"
   ]
  },
  {
   "cell_type": "code",
   "execution_count": null,
   "id": "07f7df94-b73e-4900-8b3f-c3e802519959",
   "metadata": {},
   "outputs": [],
   "source": [
    "# reorganizar a tabela\n",
    "\n",
    "covid_sp_alterado = covid_sp_alterado.reindex(columns=['indice'] + list(covid_sp_alterado.columns[:-1]))"
   ]
  },
  {
   "cell_type": "markdown",
   "id": "fe452dff-72ef-4dbf-a409-b4c64707ad5f",
   "metadata": {
    "jp-MarkdownHeadingCollapsed": true
   },
   "source": [
    "### Contagem de Registros das Variáveis (colunas)"
   ]
  },
  {
   "cell_type": "code",
   "execution_count": null,
   "id": "21ce8fd7-2267-4327-9db6-f194b665bc44",
   "metadata": {},
   "outputs": [],
   "source": [
    "# contagem de dados\n",
    "\n",
    "covid_sp_alterado['semana_epidem'].value_counts()"
   ]
  },
  {
   "cell_type": "code",
   "execution_count": null,
   "id": "fac87e1c-cd20-4a6c-a431-093340fb1526",
   "metadata": {},
   "outputs": [],
   "source": [
    "covid_sp_alterado['semana_epidem'].value_counts().sort_index()"
   ]
  },
  {
   "cell_type": "code",
   "execution_count": null,
   "id": "4e6ff8a9-f2a0-4d96-a2b9-b00e11fb0df5",
   "metadata": {},
   "outputs": [],
   "source": [
    "from collections import Counter\n",
    "\n",
    "\n",
    "Counter(covid_sp_alterado.semana_epidem)"
   ]
  },
  {
   "cell_type": "code",
   "execution_count": null,
   "id": "8e68ebba-c4db-4530-b3d3-b6bbf4b5d218",
   "metadata": {},
   "outputs": [],
   "source": [
    "# realizando uma contagem por municipios\n",
    "\n",
    "covid_sp_alterado.query('obitos_novos > 50')['municipio'].value_counts()"
   ]
  },
  {
   "cell_type": "markdown",
   "id": "508bc87c-6087-4f04-9fca-9d7292a2edc1",
   "metadata": {
    "jp-MarkdownHeadingCollapsed": true
   },
   "source": [
    "### Selecionar Variáveis (colunas) por índices"
   ]
  },
  {
   "cell_type": "code",
   "execution_count": null,
   "id": "0a086bed-6bc8-4d9f-af79-4a102bf17fe7",
   "metadata": {},
   "outputs": [],
   "source": [
    "x = covid_sp_alterado.iloc[0:10 , 5:13] # iloc[linhas, colunas]\n",
    "x"
   ]
  },
  {
   "cell_type": "code",
   "execution_count": null,
   "id": "5eb900d5-6fd7-485a-99ea-744d7215987c",
   "metadata": {},
   "outputs": [],
   "source": [
    "# extrair os valores das linhas\n",
    "# selecionar todas as linhas da coluna 1\n",
    "\n",
    "y = covid_sp_alterado.iloc[:,1].values"
   ]
  },
  {
   "cell_type": "code",
   "execution_count": null,
   "id": "f2657dc6-3352-466f-9cb8-1f49650daa41",
   "metadata": {},
   "outputs": [],
   "source": [
    "# agora transformar esses valores em uma lista\n",
    "\n",
    "lista_y = list(y.flatten())"
   ]
  },
  {
   "cell_type": "code",
   "execution_count": null,
   "id": "f5c76fc0-3979-4163-b4ef-d00e8501f89e",
   "metadata": {},
   "outputs": [],
   "source": [
    "df = pd.DataFrame(lista_y, columns=['municipio'])\n",
    "df"
   ]
  },
  {
   "cell_type": "markdown",
   "id": "db6de2e9-2802-46a5-9dd9-1aafc1a79048",
   "metadata": {},
   "source": [
    "### Excluindo, filtrando e substituindo registros (linhas)"
   ]
  },
  {
   "cell_type": "code",
   "execution_count": null,
   "id": "0f7e887f-dbd7-4c8b-ae05-b7128363dc06",
   "metadata": {},
   "outputs": [],
   "source": [
    "# excluindo linhas por índices (valores absolutos)\n",
    "covid_sp_alterado2 = covid_sp_alterado.drop(covid_sp_alterado.index[[1,3]])"
   ]
  },
  {
   "cell_type": "code",
   "execution_count": null,
   "id": "6bd49c3d-09cd-492c-829b-e2fece10df0c",
   "metadata": {},
   "outputs": [],
   "source": [
    "covid_sp_alterado2.head(5)"
   ]
  },
  {
   "cell_type": "code",
   "execution_count": null,
   "id": "cc71fcf2-df79-41da-9f4f-9d43a555e47f",
   "metadata": {},
   "outputs": [],
   "source": [
    "# excluindo linhas por índices (intervalos de valores)\n",
    "covid_sp_alterado2 = covid_sp_alterado.drop(covid_sp_alterado.index[4:7])"
   ]
  },
  {
   "cell_type": "code",
   "execution_count": null,
   "id": "6dea90e1-f7ea-46b1-8c69-1f40c6b2ff01",
   "metadata": {},
   "outputs": [],
   "source": [
    "# reordenar (resetar) os índices\n",
    "covid_sp_alterado2 = covid_sp_alterado2.reset_index(drop=True) # drop é para excluir o índice anterior"
   ]
  },
  {
   "cell_type": "code",
   "execution_count": null,
   "id": "d19818d8-be2a-480e-a2f4-721d5936e2ce",
   "metadata": {},
   "outputs": [],
   "source": [
    "# encontrando municípios com o nome 'ignorado'\n",
    "\n",
    "ignorado = covid_sp_alterado.loc[covid_sp_alterado.municipio =='Ignorado']\n",
    "ignorado"
   ]
  },
  {
   "cell_type": "code",
   "execution_count": null,
   "id": "d920ab3a-e45f-4f79-bad5-d58167711116",
   "metadata": {},
   "outputs": [],
   "source": [
    "ignorado.shape"
   ]
  },
  {
   "cell_type": "code",
   "execution_count": null,
   "id": "3414d564-aa1b-4b2b-89ab-b23928b3cf6d",
   "metadata": {},
   "outputs": [],
   "source": [
    "# filtrando a tabela para ignorar os valores de municipio = Ignorado\n",
    "covid_sp_alterado = covid_sp_alterado.loc[covid_sp_alterado.municipio != 'Ignorado']\n",
    "covid_sp_alterado"
   ]
  },
  {
   "cell_type": "code",
   "execution_count": null,
   "id": "e7a18c98-08d4-4ee7-8509-f921dd54769b",
   "metadata": {},
   "outputs": [],
   "source": [
    "# casos de covid da cidade de guarulhos\n",
    "\n",
    "guarulhos = covid_sp_alterado.loc[covid_sp_alterado.municipio == 'Guarulhos']\n",
    "guarulhos"
   ]
  },
  {
   "cell_type": "code",
   "execution_count": null,
   "id": "e1b14214-ef75-4412-bbc0-810338d959f2",
   "metadata": {},
   "outputs": [],
   "source": [
    "# remover a coluna data e municipio de Guarulhos\n",
    "\n",
    "guarulhos.drop(columns=['data','municipio'], inplace=True)"
   ]
  },
  {
   "cell_type": "code",
   "execution_count": null,
   "id": "5aa6c95d-48df-4d29-b055-c4995d2d1323",
   "metadata": {},
   "outputs": [],
   "source": [
    "guarulhos.head(5)"
   ]
  },
  {
   "cell_type": "code",
   "execution_count": null,
   "id": "be7abd87-6604-40f0-9a49-2d841897252e",
   "metadata": {},
   "outputs": [],
   "source": [
    "# substituir valores da tabela guarulhos\n",
    "\n",
    "guarulhos['semana_epidem']=guarulhos['semana_epidem'].replace({9:'nove', 10:'dez'})"
   ]
  },
  {
   "cell_type": "code",
   "execution_count": null,
   "id": "9ab650c9-0b67-40e7-a6c0-78081d28c7c7",
   "metadata": {},
   "outputs": [],
   "source": [
    "# outra maneira de substituir valores\n",
    "\n",
    "guarulhos['semana_epidem']=guarulhos['semana_epidem'].replace([11,12,13],['onze','doze','treze'])"
   ]
  },
  {
   "cell_type": "code",
   "execution_count": null,
   "id": "b408ff8d-199a-4e77-81b3-edeae81725af",
   "metadata": {},
   "outputs": [],
   "source": [
    "# substituir ',' por '.'\n",
    "\n",
    "guarulhos['casos_pc'] = guarulhos['casos_pc'].apply(lambda x: x.replace(',','.'))"
   ]
  },
  {
   "cell_type": "code",
   "execution_count": null,
   "id": "0d71051d-75a8-4aca-afc5-ecee40003f85",
   "metadata": {},
   "outputs": [],
   "source": [
    "# criar uma coluna com as datas\n",
    "\n",
    "import datetime"
   ]
  },
  {
   "cell_type": "code",
   "execution_count": null,
   "id": "0490c0d6-0b53-439c-990b-cfac52271e11",
   "metadata": {},
   "outputs": [],
   "source": [
    "data = np.array('2020-02-25', dtype = np.datetime64())\n",
    "data"
   ]
  },
  {
   "cell_type": "code",
   "execution_count": null,
   "id": "36ca3185-d766-4d8c-8522-77cca69e09ef",
   "metadata": {},
   "outputs": [],
   "source": [
    "data = data + np.arange(579)\n",
    "data"
   ]
  },
  {
   "cell_type": "code",
   "execution_count": null,
   "id": "36f16955-ed0c-4151-9ba3-a398c4dc3a6c",
   "metadata": {},
   "outputs": [],
   "source": [
    "data = pd.DataFrame(data)\n",
    "data"
   ]
  },
  {
   "cell_type": "code",
   "execution_count": null,
   "id": "7085ebd4-db07-4ed5-b34e-b97922890ccd",
   "metadata": {},
   "outputs": [],
   "source": [
    "data.columns=['data']\n",
    "data.head()"
   ]
  },
  {
   "cell_type": "code",
   "execution_count": null,
   "id": "7f041862-69ec-4194-a67a-a3233e78e621",
   "metadata": {},
   "outputs": [],
   "source": [
    "guarulhos2 = pd.concat([data,guarulhos],axis=1)\n",
    "guarulhos2.head()"
   ]
  },
  {
   "cell_type": "code",
   "execution_count": null,
   "id": "fe7345f5-1f4a-4473-8b7e-fdfc89e1be3e",
   "metadata": {},
   "outputs": [],
   "source": [
    "# reordenar os índices\n",
    "\n",
    "guarulhos = guarulhos.reset_index(drop=True)"
   ]
  },
  {
   "cell_type": "code",
   "execution_count": null,
   "id": "5d129b07-4a40-4647-8bec-903882795484",
   "metadata": {},
   "outputs": [],
   "source": [
    "guarulhos2 = pd.concat([data,guarulhos],axis=1)\n",
    "guarulhos2.head()"
   ]
  },
  {
   "cell_type": "code",
   "execution_count": null,
   "id": "c5b4eb77-5338-4332-8770-5e35930abe5f",
   "metadata": {},
   "outputs": [],
   "source": [
    "guarulhos2.shape"
   ]
  },
  {
   "cell_type": "markdown",
   "id": "38e5017d-6c5e-4254-a1c1-4f981cb24bd7",
   "metadata": {
    "jp-MarkdownHeadingCollapsed": true
   },
   "source": [
    "### Valores Missing"
   ]
  },
  {
   "cell_type": "code",
   "execution_count": null,
   "id": "63a3fa82-66ae-4274-8a13-2d61c5c6dbe8",
   "metadata": {},
   "outputs": [],
   "source": [
    "# Relação da Quantidade\n",
    "\n",
    "covid_sp_alterado.isnull().sum()"
   ]
  },
  {
   "cell_type": "code",
   "execution_count": null,
   "id": "bd6058b4-3620-48e5-b343-accb54cb5a37",
   "metadata": {},
   "outputs": [],
   "source": [
    "# Analisando apenas uma coluna\n",
    "\n",
    "covid_sp_alterado['casos'].isnull().sum()"
   ]
  },
  {
   "cell_type": "code",
   "execution_count": null,
   "id": "f9719dda-e758-4f89-9061-a5a64d7cf50f",
   "metadata": {},
   "outputs": [],
   "source": [
    "# Relação da Quantidade na tabela original\n",
    "\n",
    "covid_sp.isnull().sum()"
   ]
  },
  {
   "cell_type": "code",
   "execution_count": null,
   "id": "6d4b2d1e-b3c8-4b3f-b8b4-426c822c785d",
   "metadata": {},
   "outputs": [],
   "source": [
    "# Excluindo os dados nulos\n",
    "\n",
    "covid_sp2 = covid_sp.dropna()"
   ]
  },
  {
   "cell_type": "code",
   "execution_count": null,
   "id": "49257d9c-ae39-4783-bbaf-736f63b45cea",
   "metadata": {},
   "outputs": [],
   "source": [
    "# Preencher o valores Missing com mediana\n",
    "\n",
    "covid_sp['obitos_novos'].fillna(covid_sp['obitos_novos'].median(), inplace=True)"
   ]
  },
  {
   "cell_type": "code",
   "execution_count": null,
   "id": "8d0371f8-8ce5-4e96-99eb-36000655dba2",
   "metadata": {},
   "outputs": [],
   "source": [
    "# Preencher o valores Missing com a media\n",
    "\n",
    "covid_sp['obitos_novos'].fillna(covid_sp['obitos_novos'].mean(), inplace=True)"
   ]
  },
  {
   "cell_type": "code",
   "execution_count": null,
   "id": "a593bb2a-982b-4e51-b0f5-3ba9ba8a3ce1",
   "metadata": {},
   "outputs": [],
   "source": [
    "# Preencher o valores Missing com um valor qualquer\n",
    "\n",
    "covid_sp['obitos_novos'].fillna(10, inplace=True)"
   ]
  },
  {
   "cell_type": "markdown",
   "id": "9d3fb97a-bdc3-4297-b034-6403adf1978d",
   "metadata": {
    "jp-MarkdownHeadingCollapsed": true
   },
   "source": [
    "### Classificação e alteração da tipagem dos atributos"
   ]
  },
  {
   "cell_type": "code",
   "execution_count": null,
   "id": "22f212c4-a1ec-435e-ad8d-a4c77f22970f",
   "metadata": {},
   "outputs": [],
   "source": [
    "# identificação do tipo de dados\n",
    "\n",
    "covid_sp_alterado.dtypes"
   ]
  },
  {
   "cell_type": "code",
   "execution_count": null,
   "id": "735cf615-5db8-4596-9baa-bdfc5e063f73",
   "metadata": {},
   "outputs": [],
   "source": [
    "# alterando o tipo de dado de casos_pc para float\n",
    "\n",
    "covid_sp_alterado['casos_pc'] = covid_sp_alterado['casos_pc'].astype(float)"
   ]
  },
  {
   "cell_type": "code",
   "execution_count": null,
   "id": "93bd3c56-bd2c-4dc5-bad5-2db7ba48b39a",
   "metadata": {},
   "outputs": [],
   "source": [
    "# antes devemos alterar ',' para '.' em casos_pc\n",
    "\n",
    "covid_sp_alterado['casos_pc'] = covid_sp_alterado['casos_pc'].apply(lambda x: x.replace(',','.'))"
   ]
  },
  {
   "cell_type": "code",
   "execution_count": null,
   "id": "5c49d17b-0cfe-4e95-8ac9-90e6a946aa15",
   "metadata": {},
   "outputs": [],
   "source": [
    "covid_sp_alterado.head(2)"
   ]
  },
  {
   "cell_type": "code",
   "execution_count": null,
   "id": "29a1e27c-e43c-4bab-bb26-8b341f8778e7",
   "metadata": {},
   "outputs": [],
   "source": [
    "# fazer o mesmo tratamento para todas variáveis com ',' para '.'\n",
    "\n",
    "covid_sp_alterado['casos_mm7d'] = covid_sp_alterado['casos_mm7d'].apply(lambda x: x.replace(',','.'))\n",
    "covid_sp_alterado['obitos_pc'] = covid_sp_alterado['obitos_pc'].apply(lambda x: x.replace(',','.'))\n",
    "covid_sp_alterado['obitos_mm7d'] = covid_sp_alterado['obitos_mm7d'].apply(lambda x: x.replace(',','.'))\n",
    "covid_sp_alterado['letalidade'] = covid_sp_alterado['letalidade'].apply(lambda x: x.replace(',','.'))"
   ]
  },
  {
   "cell_type": "code",
   "execution_count": null,
   "id": "4fc201c7-079e-4b4e-a402-b33417275404",
   "metadata": {},
   "outputs": [],
   "source": [
    "# agora transformar os tipos dos dados \n",
    "\n",
    "covid_sp_alterado['casos_mm7d'] = covid_sp_alterado['casos_mm7d'].astype(float)\n",
    "covid_sp_alterado['obitos_pc'] = covid_sp_alterado['obitos_pc'].astype(float)\n",
    "covid_sp_alterado['obitos_mm7d'] = covid_sp_alterado['obitos_mm7d'].astype(float)\n",
    "covid_sp_alterado['letalidade'] = covid_sp_alterado['letalidade'].astype(float)"
   ]
  },
  {
   "cell_type": "code",
   "execution_count": null,
   "id": "787b48fb-4d75-42f8-8512-c59cded9aa1c",
   "metadata": {},
   "outputs": [],
   "source": [
    "# alterar o tipo de data também\n",
    "\n",
    "covid_sp_alterado['data'] = covid_sp_alterado['data'].astype('datetime64[s]')"
   ]
  },
  {
   "cell_type": "markdown",
   "id": "a92b9902-c357-4c72-b8c2-23fecea5ad6e",
   "metadata": {},
   "source": [
    "## Salvando (Exportando) o DataFrame Tratado"
   ]
  },
  {
   "cell_type": "code",
   "execution_count": null,
   "id": "37083c08-b9f7-404c-94d7-20ef322cd6f1",
   "metadata": {},
   "outputs": [],
   "source": [
    "covid_sp_alterado.to_csv('covid_sp_tratado.csv', sep=';', encoding='utf-8', index=False)"
   ]
  },
  {
   "cell_type": "code",
   "execution_count": null,
   "id": "f3bfe578-e264-4102-b235-8c5abcb70dc4",
   "metadata": {},
   "outputs": [],
   "source": []
  }
 ],
 "metadata": {
  "kernelspec": {
   "display_name": "Python 3 (ipykernel)",
   "language": "python",
   "name": "python3"
  },
  "language_info": {
   "codemirror_mode": {
    "name": "ipython",
    "version": 3
   },
   "file_extension": ".py",
   "mimetype": "text/x-python",
   "name": "python",
   "nbconvert_exporter": "python",
   "pygments_lexer": "ipython3",
   "version": "3.12.7"
  }
 },
 "nbformat": 4,
 "nbformat_minor": 5
}
