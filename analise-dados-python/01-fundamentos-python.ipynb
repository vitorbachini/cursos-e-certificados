{
 "cells": [
  {
   "cell_type": "markdown",
   "id": "0b781f95-0d14-443b-aea5-65ec4da4a909",
   "metadata": {},
   "source": [
    "# 01-Fundamentos-Python"
   ]
  },
  {
   "cell_type": "markdown",
   "id": "6f1ec09c-646d-41a7-a71f-1c83db9b9d38",
   "metadata": {
    "jp-MarkdownHeadingCollapsed": true
   },
   "source": [
    "## Operadores Matemáticos"
   ]
  },
  {
   "cell_type": "code",
   "execution_count": null,
   "id": "992f2fe5-fb85-43d0-9749-51948d417a71",
   "metadata": {},
   "outputs": [],
   "source": [
    "n1 = 7\n",
    "n2 = 2"
   ]
  },
  {
   "cell_type": "code",
   "execution_count": null,
   "id": "18fba7d2-e199-4348-a941-0945b995cec4",
   "metadata": {},
   "outputs": [],
   "source": [
    "soma = n1 + n2\n",
    "print(soma)"
   ]
  },
  {
   "cell_type": "code",
   "execution_count": null,
   "id": "cedf2e11-3faa-4b80-8649-26bd63c36c12",
   "metadata": {},
   "outputs": [],
   "source": [
    "sub = n1 - n2\n",
    "print(sub)"
   ]
  },
  {
   "cell_type": "code",
   "execution_count": null,
   "id": "d2c2ad0c-a469-4955-b51e-b51930e53506",
   "metadata": {},
   "outputs": [],
   "source": [
    "mult = n1 * n2\n",
    "print(mult)"
   ]
  },
  {
   "cell_type": "code",
   "execution_count": null,
   "id": "0f3434d9-67e9-43d9-b6ef-ee7ba6d68442",
   "metadata": {},
   "outputs": [],
   "source": [
    "div = n1 / n2\n",
    "print(div)"
   ]
  },
  {
   "cell_type": "code",
   "execution_count": null,
   "id": "1e9d7d60-7428-45d8-bfb7-f673bda7739b",
   "metadata": {},
   "outputs": [],
   "source": [
    "pot = n1**n2\n",
    "pot2 = pow(n1,n2)\n",
    "\n",
    "print(pot)"
   ]
  },
  {
   "cell_type": "code",
   "execution_count": null,
   "id": "269dfa98-f2e7-4908-a669-3ef9b6f4a16a",
   "metadata": {},
   "outputs": [],
   "source": [
    "divi = n1//n2\n",
    "print(divi)"
   ]
  },
  {
   "cell_type": "code",
   "execution_count": null,
   "id": "8b403b2d-86fc-46f4-950f-168880fe7585",
   "metadata": {},
   "outputs": [],
   "source": [
    "rest = n1%n2\n",
    "print(rest)"
   ]
  },
  {
   "cell_type": "markdown",
   "id": "ddc869ca-760a-411e-b642-b60f1756ad31",
   "metadata": {
    "jp-MarkdownHeadingCollapsed": true
   },
   "source": [
    "## Importações de Bibliotecas, Pacotes e Módulos"
   ]
  },
  {
   "cell_type": "code",
   "execution_count": null,
   "id": "5f61bd61-431a-4d01-b2b4-44e87ce049cc",
   "metadata": {},
   "outputs": [],
   "source": [
    "import numpy as np"
   ]
  },
  {
   "cell_type": "code",
   "execution_count": null,
   "id": "53b070c0-2574-4e2d-a130-eda3be41bb9a",
   "metadata": {},
   "outputs": [],
   "source": [
    "# Biblioteca padrão Python\n",
    "import math\n",
    "\n",
    "n = 25\n",
    "raiz = math.sqrt(n)\n",
    "print('A raiz de {} é igual a {:.2f}'.format (n, raiz))\n",
    "\n",
    "# Outra forma de escrever\n",
    "print(f'A raiz quadrada de {n} é igual a {raiz:.2f}')"
   ]
  },
  {
   "cell_type": "code",
   "execution_count": null,
   "id": "c02e0bef-c3dd-4700-aedf-1bcc35114a9f",
   "metadata": {},
   "outputs": [],
   "source": [
    "from math import factorial\n",
    "\n",
    "fact = factorial(5)\n",
    "print(fact)"
   ]
  },
  {
   "cell_type": "code",
   "execution_count": null,
   "id": "ebe91833-ef63-4021-95f0-650fa3e6733d",
   "metadata": {},
   "outputs": [],
   "source": [
    "import random\n",
    "\n",
    "num = random.randint(1,20)\n",
    "print(num)"
   ]
  },
  {
   "cell_type": "markdown",
   "id": "4e763066-2235-4ac4-925d-7880d341017f",
   "metadata": {
    "jp-MarkdownHeadingCollapsed": true
   },
   "source": [
    "## Estrutura Condicional"
   ]
  },
  {
   "cell_type": "code",
   "execution_count": null,
   "id": "9f71fcdb-8812-4384-9f29-332a43e82b6d",
   "metadata": {},
   "outputs": [],
   "source": [
    "nota = 5.5\n",
    "\n",
    "if nota >= 6:\n",
    "    print('Aprovado')\n",
    "else:\n",
    "    print('Reprovado')"
   ]
  },
  {
   "cell_type": "code",
   "execution_count": null,
   "id": "a781bd9c-4ae8-4488-9750-ea635d6ea808",
   "metadata": {},
   "outputs": [],
   "source": [
    "nota = 6\n",
    "\n",
    "if nota >=7:\n",
    "    print('Aprovado')\n",
    "elif nota >=5 and nota < 7:\n",
    "    print('Recuperação')\n",
    "else:\n",
    "    print('Reprovado')"
   ]
  },
  {
   "cell_type": "markdown",
   "id": "14eda32b-1f6b-4ec3-a7cb-5e771e9b9ddd",
   "metadata": {
    "jp-MarkdownHeadingCollapsed": true
   },
   "source": [
    "## Estrutura de Repetição"
   ]
  },
  {
   "cell_type": "code",
   "execution_count": null,
   "id": "540e241c-4bd3-4511-9006-0122c73be038",
   "metadata": {},
   "outputs": [],
   "source": [
    "# Operador for\n",
    "\n",
    "for i in range (0,4):\n",
    "    print(i)"
   ]
  },
  {
   "cell_type": "code",
   "execution_count": null,
   "id": "a9da5ab5-5070-4d6f-bb01-888fdf99072d",
   "metadata": {},
   "outputs": [],
   "source": [
    "lista = [1,2,3,4,10]\n",
    "for num in lista:\n",
    "    print(num * 2)"
   ]
  },
  {
   "cell_type": "code",
   "execution_count": null,
   "id": "e060f3c6-4ff0-4deb-b033-3bd5def1d5b2",
   "metadata": {},
   "outputs": [],
   "source": [
    "soma = 0\n",
    "cont = 0\n",
    "for i in range (1,6):\n",
    "    num = int(input(f'Digite o {i}o valor:'))\n",
    "    if num % 2 == 0:\n",
    "        soma = soma + num\n",
    "        cont = cont + 1\n",
    "print(f'Você informou {cont} números pares e a soma deles é igual a {soma}')"
   ]
  },
  {
   "cell_type": "code",
   "execution_count": null,
   "id": "91f7f7ce-a962-4c02-a459-19fa5ff95b9b",
   "metadata": {},
   "outputs": [],
   "source": [
    "# Operador while\n",
    "\n",
    "i = 1\n",
    "while i < 10:\n",
    "    s = i + 10\n",
    "    print(s)\n",
    "    i = i + 1\n",
    "print('Fim')"
   ]
  },
  {
   "cell_type": "markdown",
   "id": "b5d2234d-303e-422f-acd1-e46fd9bff103",
   "metadata": {
    "jp-MarkdownHeadingCollapsed": true
   },
   "source": [
    "## Listas, Tuplas e Dicionários"
   ]
  },
  {
   "cell_type": "code",
   "execution_count": null,
   "id": "91402be5-89a0-4141-9fe2-b193cde34b08",
   "metadata": {},
   "outputs": [],
   "source": [
    "# Listas []\n",
    "# Tuplas ()\n",
    "# Dicionários {}"
   ]
  },
  {
   "cell_type": "code",
   "execution_count": null,
   "id": "c9609cda-f5ac-4a75-9ba1-ddf9f6614cd3",
   "metadata": {},
   "outputs": [],
   "source": [
    "# Listas\n",
    "\n",
    "num = [2, 5, 7, 9]\n",
    "print(num)"
   ]
  },
  {
   "cell_type": "code",
   "execution_count": null,
   "id": "1c356418-0256-42bf-bef4-7dfac2922fcb",
   "metadata": {},
   "outputs": [],
   "source": [
    "# Uma lista pode ser modificada\n",
    "\n",
    "num[3] = 12\n",
    "num.append(15)\n",
    "num.insert(0, 6)\n",
    "num.sort()\n",
    "\n",
    "print(num)"
   ]
  },
  {
   "cell_type": "code",
   "execution_count": null,
   "id": "f466ce25-56a0-4899-81b4-d92d28d9de7d",
   "metadata": {},
   "outputs": [],
   "source": [
    "num.remove(6)\n",
    "num.pop(4)\n",
    "\n",
    "print(num)"
   ]
  },
  {
   "cell_type": "code",
   "execution_count": null,
   "id": "d8b32960-dd13-4777-8ce3-573a0a42de74",
   "metadata": {},
   "outputs": [],
   "source": [
    "# Tuplas\n",
    "# as tuplas não podem ser modificadas\n",
    "\n",
    "num2 = (5, 2, 3, 8)\n",
    "print(num2)"
   ]
  },
  {
   "cell_type": "code",
   "execution_count": null,
   "id": "dc8caa2e-bd79-47a1-ab91-d2f5447da143",
   "metadata": {},
   "outputs": [],
   "source": [
    "# Dicionários\n",
    "\n",
    "funcionario = {'name': 'Marselo', 'gender': 'masculino', 'age': 32}\n",
    "print(funcionario)"
   ]
  },
  {
   "cell_type": "code",
   "execution_count": null,
   "id": "f426ae2e-cc46-4347-9701-0d7b82aa646a",
   "metadata": {},
   "outputs": [],
   "source": [
    "print(funcionario['name'])"
   ]
  },
  {
   "cell_type": "code",
   "execution_count": null,
   "id": "6385116b-0fe3-4a75-b275-670b5e4b5b8a",
   "metadata": {},
   "outputs": [],
   "source": [
    "funcionario['phone'] = '9988887777'\n",
    "print(funcionario)"
   ]
  },
  {
   "cell_type": "code",
   "execution_count": null,
   "id": "61a33568-fb54-45a1-983b-b2ef9165d6e3",
   "metadata": {},
   "outputs": [],
   "source": [
    "del funcionario['gender']"
   ]
  },
  {
   "cell_type": "markdown",
   "id": "4f09ec0c-17db-4c7f-9de5-04f16b2a4874",
   "metadata": {
    "jp-MarkdownHeadingCollapsed": true
   },
   "source": [
    "## Funções"
   ]
  },
  {
   "cell_type": "code",
   "execution_count": null,
   "id": "5a936ec2-3f92-4154-bd7b-a70fb33312ca",
   "metadata": {},
   "outputs": [],
   "source": [
    "def identificacao(nome, idade):\n",
    "    print('Olá', nome,'\\nVocê é jovem, tem apenas', idade, ' anos.')\n",
    "\n",
    "identificacao('Sérgio', 75)"
   ]
  },
  {
   "cell_type": "code",
   "execution_count": null,
   "id": "a7088139-96db-4558-b675-40b7ae8fdb42",
   "metadata": {},
   "outputs": [],
   "source": [
    "def maior (x,y):\n",
    "    if x > y:\n",
    "        print('O maior número é', x)\n",
    "    elif x == y:\n",
    "        print('Os números são iguais.')\n",
    "    else:\n",
    "        print('O maior número é', y)\n",
    "\n",
    "maior(5,4)"
   ]
  },
  {
   "cell_type": "code",
   "execution_count": null,
   "id": "29e075a3-e18e-4340-8d5b-0f547325d02f",
   "metadata": {},
   "outputs": [],
   "source": [
    "def pitagoras (cat1, cat2, hip):\n",
    "    if hip == '?':\n",
    "        hip = (cat1**2 + cat2**2)**(1/2)\n",
    "        print(f'A hipotenusa é {hip:.2f}')\n",
    "    elif cat1 == '?':\n",
    "        cat1 = (hip**2 - cat2**2)**(1/2)\n",
    "        print(f'O cateto é {cat1:.2f}')\n",
    "    elif cat2 == '?':\n",
    "        cat2 = (hip**2 - cat1**2)**(1/2)\n",
    "        print(f'O cateto é {cat2:.2f}')\n",
    "\n",
    "pitagoras('?', 2, 6)"
   ]
  },
  {
   "cell_type": "markdown",
   "id": "91107360-9a49-41b6-89d1-e0e2570225fd",
   "metadata": {
    "jp-MarkdownHeadingCollapsed": true
   },
   "source": [
    "## Função Lambda e Map"
   ]
  },
  {
   "cell_type": "code",
   "execution_count": null,
   "id": "4e70ff47-5cab-462d-8a47-608a6eeb4d5e",
   "metadata": {},
   "outputs": [],
   "source": [
    "# Forma simplificada de escrever funções\n",
    "\n",
    "def area_quadrado (L):\n",
    "    area = L**2\n",
    "    print(area)\n",
    "\n",
    "area_quadrado(4)"
   ]
  },
  {
   "cell_type": "code",
   "execution_count": null,
   "id": "28eced71-4bed-4b49-b9e5-8e918a8fe5c1",
   "metadata": {},
   "outputs": [],
   "source": [
    "# escrever a mesma função usando lambda\n",
    "\n",
    "area_quadrado2 = lambda x: x**2\n",
    "\n",
    "area_quadrado2(7)"
   ]
  },
  {
   "cell_type": "code",
   "execution_count": null,
   "id": "b7a7df43-5d34-4a70-a08b-94e212151a41",
   "metadata": {},
   "outputs": [],
   "source": [
    "area_retangulo = lambda b, h: b*h\n",
    "\n",
    "area_retangulo(4, 3)"
   ]
  },
  {
   "cell_type": "code",
   "execution_count": null,
   "id": "cc6f7c7d-02f2-4581-a64b-2955b6f62902",
   "metadata": {},
   "outputs": [],
   "source": [
    "# uma vantagem é quando se utiliza juntamente com outros métodos\n",
    "\n",
    "L = [4, 5, 6, 7, 11, 9, 10]\n",
    "\n",
    "areas = list(map(lambda x: x**2, L))\n",
    "print(areas)"
   ]
  },
  {
   "cell_type": "markdown",
   "id": "17d13ac7-9ca3-4ce4-93b5-b09d0a86e1fe",
   "metadata": {
    "jp-MarkdownHeadingCollapsed": true
   },
   "source": [
    "## List Comprehensions"
   ]
  },
  {
   "cell_type": "code",
   "execution_count": null,
   "id": "300547d9-0dcb-4f36-a8dc-c53a761893cf",
   "metadata": {},
   "outputs": [],
   "source": [
    "# otimiza a utilização de listas e diminui linhas de código\n",
    "\n",
    "lista = []\n",
    "for valor in range(5):\n",
    "    lista.append(valor+10)\n",
    "print(lista)"
   ]
  },
  {
   "cell_type": "code",
   "execution_count": null,
   "id": "ab89dbbd-e516-4b88-b053-8ae079f94784",
   "metadata": {},
   "outputs": [],
   "source": [
    "lista = [valor+10 for valor in range(5)]\n",
    "print(lista)"
   ]
  },
  {
   "cell_type": "code",
   "execution_count": null,
   "id": "0045bbe4-48d2-4ca2-9f81-8b279e58b7f8",
   "metadata": {},
   "outputs": [],
   "source": [
    "lista = []\n",
    "for numero in range (1,30):\n",
    "    if numero % 4 == 0:\n",
    "        lista.append(numero)\n",
    "print(lista)"
   ]
  },
  {
   "cell_type": "code",
   "execution_count": null,
   "id": "b2dc7701-e019-40bd-9294-5ac1e1d3a5db",
   "metadata": {},
   "outputs": [],
   "source": [
    "multiplos4 = [numero for numero in range(1,30) if numero % 4 == 0]\n",
    "print(multiplos4)"
   ]
  },
  {
   "cell_type": "code",
   "execution_count": null,
   "id": "84e3db8e-a339-4157-ab06-3d6b7d4d477f",
   "metadata": {},
   "outputs": [],
   "source": [
    "conceito = ['azul' if nota >= 6 else 'vermelha' for nota in range(1,11)]\n",
    "print(conceito)"
   ]
  },
  {
   "cell_type": "markdown",
   "id": "7c339f02-dd46-4667-8cee-39827043b815",
   "metadata": {
    "jp-MarkdownHeadingCollapsed": true
   },
   "source": [
    "## Vetores e Matrizes"
   ]
  },
  {
   "cell_type": "code",
   "execution_count": null,
   "id": "a55ad585-2834-4aa2-a905-dad1368746e3",
   "metadata": {},
   "outputs": [],
   "source": [
    "vetor = [2, 4, 5, 6]\n",
    "print(vetor)\n",
    "type(vetor)"
   ]
  },
  {
   "cell_type": "code",
   "execution_count": null,
   "id": "245c5c72-5561-4387-9a15-e968c1b18f9e",
   "metadata": {},
   "outputs": [],
   "source": [
    "matriz = [[2, 4, 5], [6, 1, 1], [3, 9, 12]]\n",
    "print(matriz)\n",
    "type(matriz)"
   ]
  },
  {
   "cell_type": "code",
   "execution_count": null,
   "id": "b868a155-b11a-4ead-8417-914185ef843c",
   "metadata": {},
   "outputs": [],
   "source": [
    "import numpy as np\n",
    "\n",
    "vetor2 = np.array([1, -3, 4.2, 5])\n",
    "type(vetor2)"
   ]
  },
  {
   "cell_type": "code",
   "execution_count": null,
   "id": "8c8ad196-81b5-4dfb-a84c-ee58b240fd7d",
   "metadata": {},
   "outputs": [],
   "source": [
    "matriz2 = np.ones((2,3))\n",
    "print(matriz2)\n",
    "type(matriz2)"
   ]
  },
  {
   "cell_type": "code",
   "execution_count": null,
   "id": "48dde11d-fcdc-44c0-8e7c-7eac3bc2d488",
   "metadata": {},
   "outputs": [],
   "source": [
    "matriz3 = np.diag((2, 4, 6, 8,  10))\n",
    "print(matriz3)\n",
    "type(matriz3)"
   ]
  }
 ],
 "metadata": {
  "kernelspec": {
   "display_name": "Python 3 (ipykernel)",
   "language": "python",
   "name": "python3"
  },
  "language_info": {
   "codemirror_mode": {
    "name": "ipython",
    "version": 3
   },
   "file_extension": ".py",
   "mimetype": "text/x-python",
   "name": "python",
   "nbconvert_exporter": "python",
   "pygments_lexer": "ipython3",
   "version": "3.12.7"
  }
 },
 "nbformat": 4,
 "nbformat_minor": 5
}
