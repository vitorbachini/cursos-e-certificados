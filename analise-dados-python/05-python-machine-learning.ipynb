{
 "cells": [
  {
   "cell_type": "markdown",
   "id": "e58239d4-c6e7-440f-8e92-d2c535b16638",
   "metadata": {},
   "source": [
    "# 05-Conhecimentos de Python para Machine Learning"
   ]
  },
  {
   "cell_type": "markdown",
   "id": "771418f8-9161-459a-9408-30e4f54e6c56",
   "metadata": {},
   "source": [
    "# Projeto 3: COVID 19 MUNDIAL"
   ]
  },
  {
   "cell_type": "markdown",
   "id": "d5e2d046-7836-4dd6-99a7-7686fb08930e",
   "metadata": {},
   "source": [
    "Este projeto analisa e implementa um algoritmo de Machine Learning para análise e previsão\n",
    "da evolução do Covid19 no periódo de 24/02/2019 a 05/09/2019."
   ]
  },
  {
   "cell_type": "markdown",
   "id": "8adbade8-0534-4ea8-8ace-0e735dff0c57",
   "metadata": {
    "jp-MarkdownHeadingCollapsed": true
   },
   "source": [
    "## Análise e Exploração de Dados"
   ]
  },
  {
   "cell_type": "code",
   "execution_count": null,
   "id": "bb147aed-d73e-422e-ba3d-a0d7529e5576",
   "metadata": {},
   "outputs": [],
   "source": [
    "import numpy as np\n",
    "import pandas as pd"
   ]
  },
  {
   "cell_type": "code",
   "execution_count": null,
   "id": "81ad6a3e-20cc-4217-bd67-5d4322e38b8d",
   "metadata": {},
   "outputs": [],
   "source": [
    "covidmundial = pd.read_csv('./covid19_mundial.csv', sep=',')"
   ]
  },
  {
   "cell_type": "code",
   "execution_count": null,
   "id": "2f094faf-0f89-4406-9e35-cf22fe61106d",
   "metadata": {},
   "outputs": [],
   "source": [
    "covidmundial.head(3)"
   ]
  },
  {
   "cell_type": "code",
   "execution_count": null,
   "id": "6cea5493-1a5c-49d0-86ef-82f32b5b289c",
   "metadata": {},
   "outputs": [],
   "source": [
    "covidmundial.shape"
   ]
  },
  {
   "cell_type": "code",
   "execution_count": null,
   "id": "b6c01858-de41-4235-a5c3-b439d3d099cf",
   "metadata": {},
   "outputs": [],
   "source": [
    "# Número de mortes acumuladas por país\n",
    "\n",
    "totaldeaths = covidmundial.groupby('country').cumulative_deaths.max()"
   ]
  },
  {
   "cell_type": "code",
   "execution_count": null,
   "id": "86af7584-5e6b-43cc-b46e-8683ecede36d",
   "metadata": {},
   "outputs": [],
   "source": [
    "# Organização em ordem decrescente\n",
    "\n",
    "totaldeaths.sort_values(ascending=False).head(15)"
   ]
  },
  {
   "cell_type": "code",
   "execution_count": null,
   "id": "32fd0c81-d9a4-4123-ba2d-b769fa6cec11",
   "metadata": {},
   "outputs": [],
   "source": [
    "# Casos acumulados por país\n",
    "\n",
    "casos_total = covidmundial.groupby('country').cumulative_cases.max()"
   ]
  },
  {
   "cell_type": "code",
   "execution_count": null,
   "id": "39ef3260-7be1-4d66-ada5-cd2a86cc9c0c",
   "metadata": {},
   "outputs": [],
   "source": [
    "# Organização em ordem decrescente\n",
    "\n",
    "casos_total.sort_values(ascending=False).head(15)"
   ]
  },
  {
   "cell_type": "code",
   "execution_count": null,
   "id": "5386a70d-27ac-4d63-ab24-f787d72a0161",
   "metadata": {},
   "outputs": [],
   "source": [
    "covidbrasil = covidmundial.loc[covidmundial.country == 'Brazil']"
   ]
  },
  {
   "cell_type": "code",
   "execution_count": null,
   "id": "b77359ff-dad3-428a-aa56-229f083a99eb",
   "metadata": {},
   "outputs": [],
   "source": [
    "covidbrasil.head(3)"
   ]
  },
  {
   "cell_type": "code",
   "execution_count": null,
   "id": "bc541a0d-8734-4ce0-a0be-beefca965e30",
   "metadata": {},
   "outputs": [],
   "source": [
    "covidbrasil.shape"
   ]
  },
  {
   "cell_type": "code",
   "execution_count": null,
   "id": "c5a28c05-957e-4562-ad98-5a85110305b5",
   "metadata": {},
   "outputs": [],
   "source": [
    "# Análise dos tipos de variáveis\n",
    "\n",
    "covidbrasil.dtypes"
   ]
  },
  {
   "cell_type": "code",
   "execution_count": null,
   "id": "4a462a58-93a6-47be-907d-733a4a0cfb04",
   "metadata": {},
   "outputs": [],
   "source": [
    "# Análise dos valores missing\n",
    "\n",
    "covidbrasil.isnull().sum()"
   ]
  },
  {
   "cell_type": "code",
   "execution_count": null,
   "id": "093265b6-0d16-4c81-b739-bbd7f957dc3c",
   "metadata": {},
   "outputs": [],
   "source": [
    "covidmundial.isnull().sum()"
   ]
  },
  {
   "cell_type": "markdown",
   "id": "86749767-0348-4dd9-ba48-dc35bd133973",
   "metadata": {
    "jp-MarkdownHeadingCollapsed": true
   },
   "source": [
    "### Análise de valores negativos"
   ]
  },
  {
   "cell_type": "code",
   "execution_count": null,
   "id": "3a32b8e2-891f-45e6-a495-b206e177512d",
   "metadata": {},
   "outputs": [],
   "source": [
    "covidmundial.loc[covidmundial.new_cases < 0, :]"
   ]
  },
  {
   "cell_type": "code",
   "execution_count": null,
   "id": "ba97a7e4-9450-4a44-9d0c-911451fcdc08",
   "metadata": {},
   "outputs": [],
   "source": [
    "covidmundial.loc[covidmundial.new_cases < 0, :].count()"
   ]
  },
  {
   "cell_type": "code",
   "execution_count": null,
   "id": "38099eb2-dd0e-42e7-bce8-92dd9879caeb",
   "metadata": {},
   "outputs": [],
   "source": [
    "covidmundial.loc[covidmundial.new_deaths < 0, :].count()"
   ]
  },
  {
   "cell_type": "code",
   "execution_count": null,
   "id": "889f468f-bc8f-41dc-8e60-28d89ad18575",
   "metadata": {},
   "outputs": [],
   "source": [
    "covidbrasil.loc[covidbrasil.new_cases < 0, :].count()"
   ]
  },
  {
   "cell_type": "code",
   "execution_count": null,
   "id": "70de57a8-5b43-4d37-a43f-97d21244560e",
   "metadata": {},
   "outputs": [],
   "source": [
    "covidbrasil.loc[covidbrasil.new_deaths < 0, :].count()"
   ]
  },
  {
   "cell_type": "code",
   "execution_count": null,
   "id": "47588c20-7608-43a0-9335-359e1566cbc2",
   "metadata": {},
   "outputs": [],
   "source": [
    "# Criação de um dataframe com a soma de todos os países por data\n",
    "\n",
    "covidmundial_sum = covidmundial.groupby('date').agg({'new_cases':'sum','cumulative_cases':'sum',\n",
    "                                                    'new_deaths':'sum','cumulative_deaths':'sum'}).reset_index()"
   ]
  },
  {
   "cell_type": "code",
   "execution_count": null,
   "id": "40d0a51f-3ad9-422b-beae-0a3bb4eb97bd",
   "metadata": {},
   "outputs": [],
   "source": [
    "covidmundial_sum"
   ]
  },
  {
   "cell_type": "markdown",
   "id": "9735ae4c-a00f-4250-829c-b04d3349d347",
   "metadata": {
    "jp-MarkdownHeadingCollapsed": true
   },
   "source": [
    "## Análise Estatística"
   ]
  },
  {
   "cell_type": "code",
   "execution_count": null,
   "id": "904203c4-eb8c-4499-bdf8-f5f7b9bc4e74",
   "metadata": {},
   "outputs": [],
   "source": [
    "covidbrasil.describe()"
   ]
  },
  {
   "cell_type": "code",
   "execution_count": null,
   "id": "c68d7768-2ba5-4ae5-8c77-2d06d564c3b4",
   "metadata": {},
   "outputs": [],
   "source": [
    "covidbrasil.new_cases.mode()"
   ]
  },
  {
   "cell_type": "code",
   "execution_count": null,
   "id": "72fa136a-84ad-4ca7-b7fa-d62145228706",
   "metadata": {},
   "outputs": [],
   "source": [
    "covidbrasil.new_deaths.mode()"
   ]
  },
  {
   "cell_type": "markdown",
   "id": "b0cd43fd-e07a-416e-a7e4-89d96fd41bed",
   "metadata": {
    "jp-MarkdownHeadingCollapsed": true
   },
   "source": [
    "### Análise dos Outliers"
   ]
  },
  {
   "cell_type": "code",
   "execution_count": null,
   "id": "badac0ea-08e5-4fa7-9d0c-3726888c856f",
   "metadata": {},
   "outputs": [],
   "source": [
    "import plotly.express as px"
   ]
  },
  {
   "cell_type": "code",
   "execution_count": null,
   "id": "c4d2e22f-e129-46d0-9105-652acf64fbdc",
   "metadata": {},
   "outputs": [],
   "source": [
    "px.box(covidbrasil, y='cumulative_cases')"
   ]
  },
  {
   "cell_type": "code",
   "execution_count": null,
   "id": "d74659ec-2540-41a9-b7f4-869af16f4a24",
   "metadata": {},
   "outputs": [],
   "source": [
    "px.box(covidbrasil, y='cumulative_deaths')"
   ]
  },
  {
   "cell_type": "markdown",
   "id": "51c07081-9751-41b5-a529-ec51dbf42b73",
   "metadata": {
    "jp-MarkdownHeadingCollapsed": true
   },
   "source": [
    "### Análise da Normalidade"
   ]
  },
  {
   "cell_type": "code",
   "execution_count": null,
   "id": "1cd24e45-c744-44b5-9674-99ca1ca96925",
   "metadata": {},
   "outputs": [],
   "source": [
    "import seaborn as sns"
   ]
  },
  {
   "cell_type": "code",
   "execution_count": null,
   "id": "a875d08c-1da4-424c-b8b2-0a970509c71f",
   "metadata": {},
   "outputs": [],
   "source": [
    "sns.histplot(covidbrasil, x='cumulative_cases', bins=20, color='brown', kde=True, stat='count');"
   ]
  },
  {
   "cell_type": "code",
   "execution_count": null,
   "id": "103419a5-56e0-4872-856b-127c4ad02679",
   "metadata": {},
   "outputs": [],
   "source": [
    "sns.histplot(covidbrasil, x='cumulative_deaths', bins=20, color='brown', kde=True, stat='count');"
   ]
  },
  {
   "cell_type": "code",
   "execution_count": null,
   "id": "77aa896d-e57e-4351-b49d-a5843b8ea103",
   "metadata": {},
   "outputs": [],
   "source": [
    "import scipy.stats as stats\n",
    "import matplotlib.pyplot as plt"
   ]
  },
  {
   "cell_type": "code",
   "execution_count": null,
   "id": "803885d9-9633-4a3b-afdd-709e17a750af",
   "metadata": {},
   "outputs": [],
   "source": [
    "stats.probplot(covidbrasil['cumulative_cases'], dist='norm', plot=plt)\n",
    "plt.title('Análise da Normalidade')\n",
    "plt.show()"
   ]
  },
  {
   "cell_type": "code",
   "execution_count": null,
   "id": "79e6e6c3-cb0b-4751-be6f-08d6f8de821d",
   "metadata": {},
   "outputs": [],
   "source": [
    "stats.probplot(covidbrasil['cumulative_deaths'], dist='norm', plot=plt)\n",
    "plt.title('Análise da Normalidade')\n",
    "plt.show()"
   ]
  },
  {
   "cell_type": "code",
   "execution_count": null,
   "id": "36134a99-fb3a-4bfb-86da-94c9131f04ff",
   "metadata": {},
   "outputs": [],
   "source": [
    "import statsmodels\n",
    "from statsmodels.stats.diagnostic import lilliefors"
   ]
  },
  {
   "cell_type": "code",
   "execution_count": null,
   "id": "b232631d-2ad6-494f-aa30-400adbd68b18",
   "metadata": {},
   "outputs": [],
   "source": [
    "estatistica, p = statsmodels.stats.diagnostic.lilliefors(covidbrasil.cumulative_cases, dist='norm')\n",
    "print('Estatistica do Teste (D) =', round(estatistica,2))\n",
    "print('p_valor =', p)"
   ]
  },
  {
   "cell_type": "code",
   "execution_count": null,
   "id": "198a3b4f-e7e0-47c5-acfc-1b20946ba476",
   "metadata": {},
   "outputs": [],
   "source": [
    "estatistica, p = statsmodels.stats.diagnostic.lilliefors(covidbrasil.cumulative_deaths, dist='norm')\n",
    "print('Estatistica do Teste (D) =', round(estatistica,2))\n",
    "print('p_valor =', p)"
   ]
  },
  {
   "cell_type": "markdown",
   "id": "4e6cdcc8-acb5-406e-8329-d276f327dde6",
   "metadata": {
    "jp-MarkdownHeadingCollapsed": true
   },
   "source": [
    "### Gráfico de dispersão em função das datas"
   ]
  },
  {
   "cell_type": "code",
   "execution_count": null,
   "id": "b1fc0ed5-347a-45ef-b732-2060642adddd",
   "metadata": {},
   "outputs": [],
   "source": [
    "import plotly.express as px"
   ]
  },
  {
   "cell_type": "code",
   "execution_count": null,
   "id": "90115223-e912-4717-aaef-fb591cb1c6e1",
   "metadata": {},
   "outputs": [],
   "source": [
    "disp = px.scatter(x=covidbrasil.date, y=covidbrasil.cumulative_cases)\n",
    "disp.update_layout(width=900, height=400,title_text='Número de casos acumulados no Brasil')\n",
    "disp.update_xaxes(title='Data')\n",
    "disp.update_yaxes(title='Casos')\n",
    "disp.show()"
   ]
  },
  {
   "cell_type": "code",
   "execution_count": null,
   "id": "46307001-bf96-4904-b684-d83c9f85f8ea",
   "metadata": {},
   "outputs": [],
   "source": [
    "disp = px.scatter(x=covidbrasil.date, y=covidbrasil.cumulative_deaths)\n",
    "disp.update_layout(width=900, height=400,title_text='Número de mortes acumuladas no Brasil')\n",
    "disp.update_xaxes(title='Data')\n",
    "disp.update_yaxes(title='Mortes')\n",
    "disp.show()"
   ]
  },
  {
   "cell_type": "code",
   "execution_count": null,
   "id": "7f6a0056-1ad0-439e-9962-7958c4d30e7f",
   "metadata": {},
   "outputs": [],
   "source": [
    "plt.subplots(figsize=(10,5))\n",
    "plt.stackplot(covidbrasil['date'], [covidbrasil['cumulative_cases'], covidbrasil['cumulative_deaths']],\n",
    "              labels = ['cumulative_cases', 'cumulative_deaths'])\n",
    "plt.legend(loc = 'upper left')\n",
    "plt.title('Comparação da evolução dos casos e das mortes no Brasil');"
   ]
  },
  {
   "cell_type": "markdown",
   "id": "b6908dfe-fac4-4862-b3ef-84a6f9831aa9",
   "metadata": {
    "jp-MarkdownHeadingCollapsed": true
   },
   "source": [
    "## Correlação Linear"
   ]
  },
  {
   "cell_type": "code",
   "execution_count": null,
   "id": "acc78b59-b5f3-44de-aa71-b7355d51aa08",
   "metadata": {},
   "outputs": [],
   "source": [
    "correlacoes = covidbrasil.corr(method='spearman')"
   ]
  },
  {
   "cell_type": "code",
   "execution_count": null,
   "id": "493cec81-b1b4-4012-aba6-a4a50bde34a7",
   "metadata": {},
   "outputs": [],
   "source": [
    "correlacoes"
   ]
  },
  {
   "cell_type": "code",
   "execution_count": null,
   "id": "3b99ae78-b803-4115-9388-e130d954d273",
   "metadata": {},
   "outputs": [],
   "source": [
    "plt.figure()\n",
    "sns.heatmap(correlacoes, annot=True);"
   ]
  },
  {
   "cell_type": "markdown",
   "id": "f775c6c3-af57-48f7-82ea-3929cd14fa64",
   "metadata": {},
   "source": [
    "## Machine Learning"
   ]
  },
  {
   "cell_type": "markdown",
   "id": "a4e5775e-4c18-4461-9c68-355e4ed69d25",
   "metadata": {
    "jp-MarkdownHeadingCollapsed": true
   },
   "source": [
    "### Regressão Linear Simples"
   ]
  },
  {
   "cell_type": "code",
   "execution_count": null,
   "id": "d755e7d3-27c2-40ef-8b11-517ab2d8095a",
   "metadata": {},
   "outputs": [],
   "source": [
    "covidbrasil"
   ]
  },
  {
   "cell_type": "code",
   "execution_count": null,
   "id": "ee07f50c-8c47-4950-a6eb-25b0cc0c55ba",
   "metadata": {},
   "outputs": [],
   "source": [
    "covidbrasil.shape"
   ]
  },
  {
   "cell_type": "code",
   "execution_count": null,
   "id": "41d87e6e-e9ee-4e64-9b3e-5a0b6d93d8a9",
   "metadata": {},
   "outputs": [],
   "source": [
    "import plotly.express as px"
   ]
  },
  {
   "cell_type": "code",
   "execution_count": null,
   "id": "56e1df78-a269-4af8-b0d4-a37033b28d32",
   "metadata": {},
   "outputs": [],
   "source": [
    "disp = px.scatter(x=covidbrasil.new_cases, y=covidbrasil.new_deaths)\n",
    "disp.update_layout(width=900, height=400,title_text='Número de mortes em função do número de casos')\n",
    "disp.update_xaxes(title='Novos casos')\n",
    "disp.update_yaxes(title='Novas mortes')\n",
    "disp.show()"
   ]
  },
  {
   "cell_type": "code",
   "execution_count": null,
   "id": "fbc20e1a-2c53-424f-9c95-8a8835459718",
   "metadata": {},
   "outputs": [],
   "source": [
    "x = covidbrasil.iloc[:, 4].values # índice 4 - novos casos\n",
    "y = covidbrasil.iloc[:, 6].values # índice 6 - novas mortes"
   ]
  },
  {
   "cell_type": "code",
   "execution_count": null,
   "id": "b7e15963-378b-40a8-92b0-fdab7a3abb9d",
   "metadata": {},
   "outputs": [],
   "source": [
    "x"
   ]
  },
  {
   "cell_type": "code",
   "execution_count": null,
   "id": "6e071314-e34e-4916-89e4-6aee474e5065",
   "metadata": {},
   "outputs": [],
   "source": [
    "y"
   ]
  },
  {
   "cell_type": "code",
   "execution_count": null,
   "id": "908eb035-6f51-49c2-94e8-dfa878e153a4",
   "metadata": {},
   "outputs": [],
   "source": [
    "# Transformando em matriz\n",
    "# a variável x precisa ser transformada em matriz\n",
    "x = x.reshape(-1,1)"
   ]
  },
  {
   "cell_type": "code",
   "execution_count": null,
   "id": "1f09b612-81c2-4cfe-9986-8356ee7e1255",
   "metadata": {},
   "outputs": [],
   "source": [
    "x"
   ]
  },
  {
   "cell_type": "markdown",
   "id": "cf8ef9bf-10a6-4dde-83aa-ef6b27064101",
   "metadata": {
    "jp-MarkdownHeadingCollapsed": true
   },
   "source": [
    "### Separando base de dados em teste e treinamento"
   ]
  },
  {
   "cell_type": "code",
   "execution_count": null,
   "id": "45d12d1d-a145-4f6b-8c20-a9e8652e3d40",
   "metadata": {},
   "outputs": [],
   "source": [
    "from sklearn.model_selection import train_test_split\n",
    "x_treinamento, x_teste, y_treinamento, y_teste = train_test_split(x,y,\n",
    "                                                                  test_size = 0.25,\n",
    "                                                                  random_state = 2)"
   ]
  },
  {
   "cell_type": "code",
   "execution_count": null,
   "id": "e4ffd331-6cee-4a64-bdf3-6565ae7f4ed8",
   "metadata": {},
   "outputs": [],
   "source": [
    "x_treinamento"
   ]
  },
  {
   "cell_type": "code",
   "execution_count": null,
   "id": "22335d68-4ce8-4cf0-baa1-d024e634cd47",
   "metadata": {},
   "outputs": [],
   "source": [
    "x_teste"
   ]
  },
  {
   "cell_type": "code",
   "execution_count": null,
   "id": "575ffc3b-0f54-4b50-8b8b-d40c201beb2d",
   "metadata": {},
   "outputs": [],
   "source": [
    "y_treinamento"
   ]
  },
  {
   "cell_type": "code",
   "execution_count": null,
   "id": "d9cec35f-fe71-4970-af76-ff665c89ac0f",
   "metadata": {},
   "outputs": [],
   "source": [
    "y_teste"
   ]
  },
  {
   "cell_type": "code",
   "execution_count": null,
   "id": "6d0603b1-873b-4781-b92b-75eb0d7f0660",
   "metadata": {},
   "outputs": [],
   "source": [
    "x_treinamento.size"
   ]
  },
  {
   "cell_type": "code",
   "execution_count": null,
   "id": "1656ea97-ed93-4ad2-a753-eab64100a9ac",
   "metadata": {},
   "outputs": [],
   "source": [
    "x_teste.size"
   ]
  },
  {
   "cell_type": "code",
   "execution_count": null,
   "id": "fb1c71cb-ccc0-4ca6-b023-b4a1de8a2d24",
   "metadata": {},
   "outputs": [],
   "source": [
    "y_treinamento.size"
   ]
  },
  {
   "cell_type": "code",
   "execution_count": null,
   "id": "a91f9ab6-67da-4d38-8483-d833511a0dbe",
   "metadata": {},
   "outputs": [],
   "source": [
    "y_teste.size"
   ]
  },
  {
   "cell_type": "markdown",
   "id": "0214a2bd-49e4-4d84-a594-b48d444a2586",
   "metadata": {
    "jp-MarkdownHeadingCollapsed": true
   },
   "source": [
    "### Criação do Modelo de Regressão Linear"
   ]
  },
  {
   "cell_type": "code",
   "execution_count": null,
   "id": "0e044437-968d-4b03-a929-2ba9d4200d9b",
   "metadata": {},
   "outputs": [],
   "source": [
    "from sklearn.linear_model import LinearRegression\n",
    "regressor = LinearRegression()\n",
    "regressor.fit(x_treinamento, y_treinamento)\n",
    "score = regressor.score(x_treinamento, y_treinamento)"
   ]
  },
  {
   "cell_type": "code",
   "execution_count": null,
   "id": "4155e7de-7932-4874-ab93-cf5df732a5eb",
   "metadata": {},
   "outputs": [],
   "source": [
    "# Gráfico com dados de treinamento\n",
    "\n",
    "import matplotlib.pyplot as plt\n",
    "plt.scatter(x_treinamento, y_treinamento)\n",
    "plt.plot(x_treinamento, regressor.predict(x_treinamento), color='red');"
   ]
  },
  {
   "cell_type": "code",
   "execution_count": null,
   "id": "644687fd-8d1f-45de-8312-fb560b75ca7b",
   "metadata": {},
   "outputs": [],
   "source": [
    "score # R quadrado"
   ]
  },
  {
   "cell_type": "code",
   "execution_count": null,
   "id": "73b695d2-3def-4f55-8e9b-21eb84e6820d",
   "metadata": {},
   "outputs": [],
   "source": [
    "previsoes = regressor.predict(x_teste)"
   ]
  },
  {
   "cell_type": "code",
   "execution_count": null,
   "id": "aa394134-8995-47bc-8802-e9fd95ea272b",
   "metadata": {},
   "outputs": [],
   "source": [
    "# Gráfico com os dados de teste\n",
    "\n",
    "plt.scatter(x_teste, y_teste)\n",
    "plt.plot(x_teste, regressor.predict(x_teste), color='red');"
   ]
  },
  {
   "cell_type": "code",
   "execution_count": null,
   "id": "10851d4a-a4b7-4bc8-aa20-8a8bfd106cf7",
   "metadata": {},
   "outputs": [],
   "source": [
    "previsao = regressor.predict(np.array(80000).reshape(1, -1)) # previsao para 80000 casos\n",
    "previsao"
   ]
  },
  {
   "cell_type": "code",
   "execution_count": null,
   "id": "5777f1ba-8abf-46ee-8d0b-bdc67e89ec49",
   "metadata": {},
   "outputs": [],
   "source": [
    "# Coeficiente Linear\n",
    "\n",
    "regressor.intercept_"
   ]
  },
  {
   "cell_type": "code",
   "execution_count": null,
   "id": "a0f249cb-007e-4736-b0ca-809338939ab1",
   "metadata": {},
   "outputs": [],
   "source": [
    "# Coeficiente Angular\n",
    "\n",
    "regressor.coef_"
   ]
  },
  {
   "cell_type": "code",
   "execution_count": null,
   "id": "34fd664e-e48f-4ef5-a550-4c912e45cfea",
   "metadata": {},
   "outputs": [],
   "source": [
    "# Equação: mortes = 201,03944 + 0,02188*casos"
   ]
  },
  {
   "cell_type": "markdown",
   "id": "2ab03424-1865-4c98-9cd8-4aa0a771d6e4",
   "metadata": {
    "jp-MarkdownHeadingCollapsed": true
   },
   "source": [
    "### Métricas de Desempenho"
   ]
  },
  {
   "cell_type": "code",
   "execution_count": null,
   "id": "837db944-3668-4586-8802-8252ee6b7fbf",
   "metadata": {},
   "outputs": [],
   "source": [
    "# Coeficiente de Determinação (R^2)\n",
    "\n",
    "regressor.score(x_teste, y_teste)"
   ]
  },
  {
   "cell_type": "code",
   "execution_count": null,
   "id": "78af6a66-ed95-4e8e-abd6-c1819e657896",
   "metadata": {},
   "outputs": [],
   "source": [
    "from sklearn.metrics import mean_absolute_error, mean_squared_error"
   ]
  },
  {
   "cell_type": "code",
   "execution_count": null,
   "id": "b785a810-0e02-4c57-85fa-80b34cf16a72",
   "metadata": {},
   "outputs": [],
   "source": [
    "print('Erro Médio Absoluto (MAE):', mean_absolute_error(y_teste, previsoes))\n",
    "print('Erro Quadrático Médio (MSE):', mean_squared_error(y_teste, previsoes))\n",
    "print('Raiz do Error Quadrático Médio (RMSE):', np.sqrt(mean_squared_error(y_teste, previsoes)))"
   ]
  },
  {
   "cell_type": "markdown",
   "id": "1cd1a314-da65-4c13-bb3d-670b1f980913",
   "metadata": {
    "jp-MarkdownHeadingCollapsed": true
   },
   "source": [
    "### Regressão Polinomial"
   ]
  },
  {
   "cell_type": "code",
   "execution_count": null,
   "id": "2812892b-7929-4cad-a502-42ed03c51d7f",
   "metadata": {},
   "outputs": [],
   "source": [
    "covidbrasil"
   ]
  },
  {
   "cell_type": "code",
   "execution_count": null,
   "id": "cd975d06-de7e-4cbb-b968-f67ac9107129",
   "metadata": {},
   "outputs": [],
   "source": [
    "x = covidbrasil.iloc[:, 0].values\n",
    "x"
   ]
  },
  {
   "cell_type": "code",
   "execution_count": null,
   "id": "8996c6c8-c935-4d62-8e88-62db04f9bd4c",
   "metadata": {},
   "outputs": [],
   "source": [
    "# Transformar as datas em sequência numérica (1, 2, 3, 4...) e em matriz\n",
    "\n",
    "x = np.arange(1,len(x) + 1).reshape(-1,1)\n",
    "x"
   ]
  },
  {
   "cell_type": "code",
   "execution_count": null,
   "id": "79400c76-c0b5-4559-8f28-762586e1eec8",
   "metadata": {},
   "outputs": [],
   "source": [
    "y = covidbrasil.iloc[:,5].values\n",
    "y"
   ]
  },
  {
   "cell_type": "markdown",
   "id": "4d9f24f7-e56f-4ac5-a471-0d083bc14d80",
   "metadata": {
    "jp-MarkdownHeadingCollapsed": true
   },
   "source": [
    "### Separando base dados em treinamento e teste"
   ]
  },
  {
   "cell_type": "code",
   "execution_count": null,
   "id": "3fd975f7-8def-4e25-aef0-1615131d10d1",
   "metadata": {},
   "outputs": [],
   "source": [
    "from sklearn.preprocessing import PolynomialFeatures\n",
    "from sklearn.model_selection import train_test_split"
   ]
  },
  {
   "cell_type": "code",
   "execution_count": null,
   "id": "a9e2d268-bd65-4ec8-a46f-d64581cc8dc1",
   "metadata": {},
   "outputs": [],
   "source": [
    "x_treinamento, x_teste, y_treinamento, y_teste = train_test_split(x, y, \n",
    "                                                                  test_size=0.25, \n",
    "                                                                  random_state=2)"
   ]
  },
  {
   "cell_type": "code",
   "execution_count": null,
   "id": "6265ed3c-44e5-4baa-b1e9-9083afb70482",
   "metadata": {},
   "outputs": [],
   "source": [
    "x_treinamento.size"
   ]
  },
  {
   "cell_type": "code",
   "execution_count": null,
   "id": "c37b81fb-904e-481e-91e2-3e3572d72ce2",
   "metadata": {},
   "outputs": [],
   "source": [
    "x_teste.size"
   ]
  },
  {
   "cell_type": "code",
   "execution_count": null,
   "id": "216198a8-87d1-41b6-812e-0c4968eac245",
   "metadata": {},
   "outputs": [],
   "source": [
    "y_treinamento.size"
   ]
  },
  {
   "cell_type": "code",
   "execution_count": null,
   "id": "c73e15de-d347-47ea-be5b-d631b2bd88cd",
   "metadata": {},
   "outputs": [],
   "source": [
    "y_teste.size"
   ]
  },
  {
   "cell_type": "code",
   "execution_count": null,
   "id": "379fe43f-3fed-48e2-a560-cd17bccd7eea",
   "metadata": {},
   "outputs": [],
   "source": [
    "poly = PolynomialFeatures(degree=2)\n",
    "x_treinamento_poly = poly.fit_transform(x_treinamento)\n",
    "x_teste_poly = poly.transform(x_teste)"
   ]
  },
  {
   "cell_type": "code",
   "execution_count": null,
   "id": "e2602ecc-1ffd-4f1d-8fe5-2d016675f6ca",
   "metadata": {},
   "outputs": [],
   "source": [
    "from sklearn.linear_model import LinearRegression\n",
    "regressor = LinearRegression()\n",
    "regressor.fit(x_treinamento_poly, y_treinamento)\n",
    "score = regressor.score(x_treinamento_poly, y_treinamento)"
   ]
  },
  {
   "cell_type": "code",
   "execution_count": null,
   "id": "397c6553-9956-4284-bb35-f1e2a08f7758",
   "metadata": {},
   "outputs": [],
   "source": [
    "previsoes = regressor.predict(x_teste_poly)"
   ]
  },
  {
   "cell_type": "code",
   "execution_count": null,
   "id": "e8618803-b0c6-4971-af05-a36a5fd12bee",
   "metadata": {},
   "outputs": [],
   "source": [
    "# Criação de uma sequência para previsão\n",
    "\n",
    "forecast = np.arange(len(x)+20).reshape(-1,1) # +20 é uma previsão de 20 dias a mais."
   ]
  },
  {
   "cell_type": "code",
   "execution_count": null,
   "id": "6252841c-8038-4ac3-b466-10320d3c3ae7",
   "metadata": {},
   "outputs": [],
   "source": [
    "forecast.shape"
   ]
  },
  {
   "cell_type": "code",
   "execution_count": null,
   "id": "bb44aa11-ee48-448d-95e2-37fc75309c57",
   "metadata": {},
   "outputs": [],
   "source": [
    "x_train_total = poly.transform(forecast)\n",
    "x_train_total.shape"
   ]
  },
  {
   "cell_type": "code",
   "execution_count": null,
   "id": "02c4c4fc-f031-4e85-9f34-edbefabf31a6",
   "metadata": {},
   "outputs": [],
   "source": [
    "x_train_total"
   ]
  },
  {
   "cell_type": "code",
   "execution_count": null,
   "id": "f8050c8c-b10f-414f-9a19-0ba7296dec46",
   "metadata": {},
   "outputs": [],
   "source": [
    "previsao_total = regressor.predict(x_train_total)\n",
    "len(previsao_total)"
   ]
  },
  {
   "cell_type": "code",
   "execution_count": null,
   "id": "6b413e01-92c1-42f6-af9a-92a7980f8ec6",
   "metadata": {},
   "outputs": [],
   "source": [
    "previsao_total"
   ]
  },
  {
   "cell_type": "code",
   "execution_count": null,
   "id": "ccad7d1c-3ea8-406e-9f0d-b45d827dd625",
   "metadata": {},
   "outputs": [],
   "source": [
    "plt.subplots(figsize=(10,5))\n",
    "plt.plot(forecast[: -20], y, color='red') # excluir os 20 últimos valores\n",
    "plt.plot(forecast, previsao_total, linestyle='dashed')\n",
    "plt.title('Casos de COVID-19 no Brasil')\n",
    "plt.xlabel('A partir de 26/02/2020')\n",
    "plt.ylabel('Número de casos')\n",
    "plt.legend(['Casos Acumulados', 'Previsão']);\n",
    "\n",
    "# a linha em vermelho são os 192 dias, ou seja, os casos reais\n",
    "# a linha em azul representa a previsão, considerando os 20 dias a mais"
   ]
  },
  {
   "cell_type": "code",
   "execution_count": null,
   "id": "b4f06bfb-5831-4d63-96f8-14f54e0e39ce",
   "metadata": {},
   "outputs": [],
   "source": [
    "previsao_total[200]"
   ]
  },
  {
   "cell_type": "markdown",
   "id": "ea25b9c9-fe7c-4211-8277-9d6a68b138b3",
   "metadata": {},
   "source": [
    "### Métricas de Desempenho"
   ]
  },
  {
   "cell_type": "code",
   "execution_count": null,
   "id": "6ccfc217-0f9e-42a0-8011-af04225c97d2",
   "metadata": {},
   "outputs": [],
   "source": [
    "from sklearn.metrics import mean_absolute_error, mean_squared_error"
   ]
  },
  {
   "cell_type": "code",
   "execution_count": null,
   "id": "80c0a0bb-9cbe-4c6a-8255-deadb0c82f40",
   "metadata": {},
   "outputs": [],
   "source": [
    "# Coeficiente de Determinação (R^2)\n",
    "score"
   ]
  },
  {
   "cell_type": "code",
   "execution_count": null,
   "id": "9ede86d5-01df-4ebf-b077-d1f91fb06ac0",
   "metadata": {},
   "outputs": [],
   "source": [
    "poly_teste_pred = regressor.predict(x_teste_poly)"
   ]
  },
  {
   "cell_type": "code",
   "execution_count": null,
   "id": "e10da55f-341c-4a29-a6e1-c46c769330c8",
   "metadata": {},
   "outputs": [],
   "source": [
    "print('Erro Médio Absoluto (MAE):', mean_absolute_error(poly_teste_pred, y_teste))\n",
    "print('Erro Quadrático Médio (MSE):', mean_squared_error(poly_teste_pred, y_teste))\n",
    "print('Raiz do Error Quadrático Médio (RMSE):', np.sqrt(mean_squared_error(poly_teste_pred, y_teste)))"
   ]
  },
  {
   "cell_type": "code",
   "execution_count": null,
   "id": "fd80517e-1976-403c-82c6-a9f1933e9496",
   "metadata": {},
   "outputs": [],
   "source": []
  }
 ],
 "metadata": {
  "kernelspec": {
   "display_name": "Python 3 (ipykernel)",
   "language": "python",
   "name": "python3"
  },
  "language_info": {
   "codemirror_mode": {
    "name": "ipython",
    "version": 3
   },
   "file_extension": ".py",
   "mimetype": "text/x-python",
   "name": "python",
   "nbconvert_exporter": "python",
   "pygments_lexer": "ipython3",
   "version": "3.12.7"
  }
 },
 "nbformat": 4,
 "nbformat_minor": 5
}
