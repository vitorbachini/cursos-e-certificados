{
 "cells": [
  {
   "cell_type": "markdown",
   "id": "76bb09d5-0962-4320-83d1-2e85962c5e5b",
   "metadata": {},
   "source": [
    "# 03-Projeto 1: Análises Estatísticas"
   ]
  },
  {
   "cell_type": "markdown",
   "id": "38c75ed4-06ec-417a-a5b8-a1b28a754f27",
   "metadata": {
    "jp-MarkdownHeadingCollapsed": true
   },
   "source": [
    "## Exploração dos Dados: Importação e Filtragem"
   ]
  },
  {
   "cell_type": "code",
   "execution_count": null,
   "id": "551d0f63-d640-4ca1-b1ce-79b9d345c5a8",
   "metadata": {},
   "outputs": [],
   "source": [
    "import numpy as np\n",
    "import pandas as pd"
   ]
  },
  {
   "cell_type": "code",
   "execution_count": null,
   "id": "8960bf04-28a9-41af-932c-a252b887ca33",
   "metadata": {},
   "outputs": [],
   "source": [
    "covid = pd.read_csv('./covid_sp_tratado.csv', sep=';', encoding='utf-8')"
   ]
  },
  {
   "cell_type": "code",
   "execution_count": null,
   "id": "4f4a586a-9d13-4fe5-8863-5f8ee2121e59",
   "metadata": {},
   "outputs": [],
   "source": [
    "covid.head(5)"
   ]
  },
  {
   "cell_type": "code",
   "execution_count": null,
   "id": "3c2932ab-f1f5-4693-bdee-0f5b5ae273d8",
   "metadata": {},
   "outputs": [],
   "source": [
    "covid.shape"
   ]
  },
  {
   "cell_type": "code",
   "execution_count": null,
   "id": "7b72d6e8-cc20-4049-8ee6-2437e987ecff",
   "metadata": {},
   "outputs": [],
   "source": [
    "# Análise dos atributos\n",
    "covid.dtypes"
   ]
  },
  {
   "cell_type": "markdown",
   "id": "2a58b8be-1b78-4529-825a-ea551cc6554e",
   "metadata": {
    "jp-MarkdownHeadingCollapsed": true
   },
   "source": [
    "## Filtrando duas cidades: Campinas e Guarulhos"
   ]
  },
  {
   "cell_type": "code",
   "execution_count": null,
   "id": "43335a45-6ecb-4688-804e-f212749442ed",
   "metadata": {},
   "outputs": [],
   "source": [
    "covid_campinas = covid.loc[covid.municipio == 'Campinas']"
   ]
  },
  {
   "cell_type": "code",
   "execution_count": null,
   "id": "d9c0ef09-f102-4e37-ba31-83a9b180b96d",
   "metadata": {},
   "outputs": [],
   "source": [
    "covid_campinas.head(3)"
   ]
  },
  {
   "cell_type": "code",
   "execution_count": null,
   "id": "a0e93cd7-73b5-4f12-aae4-87e00104aa2e",
   "metadata": {},
   "outputs": [],
   "source": [
    "# Criação de uma coluna com a porcentagem de idosos\n",
    "\n",
    "covid_campinas['porcentagem_idosos'] = 100*covid_campinas['pop_60'] / covid_campinas['pop']"
   ]
  },
  {
   "cell_type": "code",
   "execution_count": null,
   "id": "d415bfd0-bbeb-4236-8d79-c4fdc0e9d046",
   "metadata": {},
   "outputs": [],
   "source": [
    "covid_guarulhos = covid.loc[covid.municipio == 'Guarulhos']"
   ]
  },
  {
   "cell_type": "code",
   "execution_count": null,
   "id": "fbcf8f8d-f705-404f-ae4d-59a312eb2585",
   "metadata": {},
   "outputs": [],
   "source": [
    "covid_guarulhos.head(3)"
   ]
  },
  {
   "cell_type": "code",
   "execution_count": null,
   "id": "65812632-30df-44e1-8c59-e8b4b284fd01",
   "metadata": {},
   "outputs": [],
   "source": [
    "# criação de uma coluna com a porcentagem de idosos\n",
    "\n",
    "covid_guarulhos['porcentagem_idosos'] = 100*covid_guarulhos['pop_60'] / covid_guarulhos['pop']"
   ]
  },
  {
   "cell_type": "code",
   "execution_count": null,
   "id": "1b5b48ee-e33a-4c60-b94c-21f38d2eeef0",
   "metadata": {},
   "outputs": [],
   "source": [
    "covid_campinas.shape"
   ]
  },
  {
   "cell_type": "code",
   "execution_count": null,
   "id": "c629d15b-3c00-44a7-8ce4-5d8032b2a7a5",
   "metadata": {},
   "outputs": [],
   "source": [
    "covid_guarulhos.shape"
   ]
  },
  {
   "cell_type": "markdown",
   "id": "80e1c345-ffeb-42dc-919d-301b38e8676b",
   "metadata": {
    "jp-MarkdownHeadingCollapsed": true
   },
   "source": [
    "## Medidas de Centralidade"
   ]
  },
  {
   "cell_type": "markdown",
   "id": "5e9253a0-7ee1-48ec-b278-ea3ec5bbe7fe",
   "metadata": {
    "jp-MarkdownHeadingCollapsed": true
   },
   "source": [
    "### Média"
   ]
  },
  {
   "cell_type": "code",
   "execution_count": null,
   "id": "f1df12b4-8bf7-4913-a87e-ffa2b7b57bb4",
   "metadata": {},
   "outputs": [],
   "source": [
    "# Campinas\n",
    "\n",
    "covid_campinas['obitos_novos'].mean()"
   ]
  },
  {
   "cell_type": "code",
   "execution_count": null,
   "id": "6a183db6-49eb-4e52-8590-10403c3fbb90",
   "metadata": {},
   "outputs": [],
   "source": [
    "covid_campinas.casos_novos.mean()"
   ]
  },
  {
   "cell_type": "code",
   "execution_count": null,
   "id": "c6ea9feb-8647-413c-a5ff-f42683331573",
   "metadata": {},
   "outputs": [],
   "source": [
    "# Guarulhos\n",
    "\n",
    "round(covid_guarulhos['obitos_novos'].mean(),3)"
   ]
  },
  {
   "cell_type": "code",
   "execution_count": null,
   "id": "7b7829d0-471d-4401-bda2-22393ff58a97",
   "metadata": {},
   "outputs": [],
   "source": [
    "covid_guarulhos.casos_novos.mean()"
   ]
  },
  {
   "cell_type": "markdown",
   "id": "5363ed48-3f71-4e69-b7be-7b8d3b638711",
   "metadata": {
    "jp-MarkdownHeadingCollapsed": true
   },
   "source": [
    "### Mediana"
   ]
  },
  {
   "cell_type": "code",
   "execution_count": null,
   "id": "faaa6c25-79b5-4073-9b51-525b90aa1627",
   "metadata": {},
   "outputs": [],
   "source": [
    "# Campinas\n",
    "\n",
    "covid_campinas['obitos_novos'].median()"
   ]
  },
  {
   "cell_type": "code",
   "execution_count": null,
   "id": "5a6e411e-72fc-447e-ab00-6a94abec8f9d",
   "metadata": {},
   "outputs": [],
   "source": [
    "covid_campinas.casos_novos.median()"
   ]
  },
  {
   "cell_type": "code",
   "execution_count": null,
   "id": "566fa663-2e2f-4aaa-8781-0c9cafd3dc6a",
   "metadata": {},
   "outputs": [],
   "source": [
    "# Guarulhos\n",
    "\n",
    "covid_guarulhos['obitos_novos'].median()"
   ]
  },
  {
   "cell_type": "code",
   "execution_count": null,
   "id": "ac8aac23-4614-4eff-a0e7-5e0febd223ae",
   "metadata": {},
   "outputs": [],
   "source": [
    "covid_guarulhos.casos_novos.median()"
   ]
  },
  {
   "cell_type": "markdown",
   "id": "f0b3f3d5-ab9a-4ac6-855e-d3380d9a25f0",
   "metadata": {
    "jp-MarkdownHeadingCollapsed": true
   },
   "source": [
    "### Moda"
   ]
  },
  {
   "cell_type": "code",
   "execution_count": null,
   "id": "a911b36b-999e-454b-9bdc-10fac2cf45fe",
   "metadata": {},
   "outputs": [],
   "source": [
    "# Campinas\n",
    "\n",
    "covid_campinas['obitos_novos'].mode()"
   ]
  },
  {
   "cell_type": "code",
   "execution_count": null,
   "id": "2d771743-fff3-4be5-8d53-1c160f9f28d0",
   "metadata": {},
   "outputs": [],
   "source": [
    "covid_campinas['dia'].mode()"
   ]
  },
  {
   "cell_type": "code",
   "execution_count": null,
   "id": "3f25660d-99da-4ad5-a405-7ba2c575242a",
   "metadata": {},
   "outputs": [],
   "source": [
    "covid_guarulhos['dia'].mode()"
   ]
  },
  {
   "cell_type": "code",
   "execution_count": null,
   "id": "63a3a9d2-fd39-4915-86b3-279497366f23",
   "metadata": {},
   "outputs": [],
   "source": [
    "covid_campinas.mes.mode()"
   ]
  },
  {
   "cell_type": "markdown",
   "id": "a4af74cc-785a-4ddb-8eec-746fd5e84a46",
   "metadata": {
    "jp-MarkdownHeadingCollapsed": true
   },
   "source": [
    "### Descrição Geral"
   ]
  },
  {
   "cell_type": "code",
   "execution_count": null,
   "id": "82ecb05d-1c19-423c-8213-98c94c14ae19",
   "metadata": {},
   "outputs": [],
   "source": [
    "round(covid_campinas.describe(),1)"
   ]
  },
  {
   "cell_type": "code",
   "execution_count": null,
   "id": "5c8cd934-0eb4-4fc9-9ef4-8f2e681dd9ed",
   "metadata": {},
   "outputs": [],
   "source": [
    "round(covid_campinas['casos_novos'].describe(),1)"
   ]
  },
  {
   "cell_type": "markdown",
   "id": "7ee1e880-cb2d-4ca9-9f0a-89222b0b90f4",
   "metadata": {
    "jp-MarkdownHeadingCollapsed": true
   },
   "source": [
    "## Distribuição de Frenquências: Histograma"
   ]
  },
  {
   "cell_type": "code",
   "execution_count": null,
   "id": "c8970656-2d44-4212-908e-7aa350369579",
   "metadata": {},
   "outputs": [],
   "source": [
    "# filtro por datas\n",
    "\n",
    "covid_campinas2021 = covid_campinas.loc[covid_campinas.data > '2020-12-31']"
   ]
  },
  {
   "cell_type": "code",
   "execution_count": null,
   "id": "2b1f9838-51e6-4b0f-8b8a-da99496b921f",
   "metadata": {},
   "outputs": [],
   "source": [
    "covid_campinas2021.head(5)"
   ]
  },
  {
   "cell_type": "code",
   "execution_count": null,
   "id": "f673bd52-3180-45c5-8f15-7c639208668b",
   "metadata": {},
   "outputs": [],
   "source": [
    "covid_campinas2021.shape"
   ]
  },
  {
   "cell_type": "code",
   "execution_count": null,
   "id": "9f3064f2-7bf7-422a-bdaf-13f6fe5b218f",
   "metadata": {},
   "outputs": [],
   "source": [
    "covid_campinas2021.obitos_novos.median()"
   ]
  },
  {
   "cell_type": "code",
   "execution_count": null,
   "id": "132445d4-4d73-48aa-bf86-a8da199f13b5",
   "metadata": {},
   "outputs": [],
   "source": [
    "covid_campinas2021.obitos_novos.mean()"
   ]
  },
  {
   "cell_type": "code",
   "execution_count": null,
   "id": "4f00bfb0-9ae3-4ce2-b928-0ab47da201b7",
   "metadata": {},
   "outputs": [],
   "source": [
    "# biblioteca gráfica Plotly\n",
    "\n",
    "import plotly.express as px"
   ]
  },
  {
   "cell_type": "code",
   "execution_count": null,
   "id": "77d42aa2-a51d-48fe-883c-fc6526ae7320",
   "metadata": {},
   "outputs": [],
   "source": [
    "grafico = px.histogram(covid_campinas2021, x=\"obitos_novos\", nbins=30) # nbins = largura das faixas de distribuição de frequência\n",
    "grafico.update_layout(width=400,height=400,title_text='Obitos novos de Campinas em 2021')\n",
    "grafico.show()\n",
    "# gráfico com uma distribuição assimétrica à direita ou positivamente assimétrica"
   ]
  },
  {
   "cell_type": "code",
   "execution_count": null,
   "id": "52339309-d48b-489a-87e1-be920abf85e4",
   "metadata": {},
   "outputs": [],
   "source": [
    "grafico = px.histogram(covid_campinas2021, x=\"casos_novos\", nbins=30)\n",
    "grafico.update_layout(width=600,height=400,title_text='Casos novos de Campinas em 2021')\n",
    "grafico.show()"
   ]
  },
  {
   "cell_type": "code",
   "execution_count": null,
   "id": "66fcdd2c-1fe0-4a26-ab0c-0a178425ad87",
   "metadata": {},
   "outputs": [],
   "source": [
    "grafico = px.histogram(covid_campinas, x=\"casos_novos\", nbins=30)\n",
    "grafico.update_layout(width=600,height=400,title_text='Casos novos de Campinas')\n",
    "grafico.show()"
   ]
  },
  {
   "cell_type": "code",
   "execution_count": null,
   "id": "fc240232-a514-4c19-9250-e6c9503ee9a6",
   "metadata": {},
   "outputs": [],
   "source": [
    "grafico = px.histogram(covid_guarulhos, x=\"casos_novos\", nbins=30)\n",
    "grafico.update_layout(width=600,height=400,title_text='Casos novos de Guarulhos')\n",
    "grafico.show()"
   ]
  },
  {
   "cell_type": "markdown",
   "id": "35f231ae-bc57-4800-b985-ced1e6cf82c5",
   "metadata": {
    "jp-MarkdownHeadingCollapsed": true
   },
   "source": [
    "## Medidas de Posição"
   ]
  },
  {
   "cell_type": "code",
   "execution_count": null,
   "id": "e92d375f-b678-450b-9642-42c47af83ff7",
   "metadata": {},
   "outputs": [],
   "source": [
    "# mínimo\n",
    "\n",
    "covid_campinas['obitos_novos'].min()"
   ]
  },
  {
   "cell_type": "code",
   "execution_count": null,
   "id": "8ed3b2d1-9bd6-4c29-bfb0-1a967a8fc109",
   "metadata": {},
   "outputs": [],
   "source": [
    "# máximo\n",
    "\n",
    "covid_campinas['obitos_novos'].max()"
   ]
  },
  {
   "cell_type": "code",
   "execution_count": null,
   "id": "7fd94083-1efe-496d-afbf-70ae1f3243a7",
   "metadata": {},
   "outputs": [],
   "source": [
    "covid_guarulhos['obitos_novos'].max()"
   ]
  },
  {
   "cell_type": "code",
   "execution_count": null,
   "id": "6cd42e43-aab6-4d24-bbc4-415989b207c0",
   "metadata": {},
   "outputs": [],
   "source": [
    "covid_campinas['casos_novos'].max()"
   ]
  },
  {
   "cell_type": "code",
   "execution_count": null,
   "id": "8d298fb2-6922-47a4-80ee-645411e86353",
   "metadata": {},
   "outputs": [],
   "source": [
    "covid_guarulhos['casos_novos'].max()"
   ]
  },
  {
   "cell_type": "code",
   "execution_count": null,
   "id": "b460dbcb-4164-417b-9828-460ea449d300",
   "metadata": {},
   "outputs": [],
   "source": [
    "# primeiro quartil\n",
    "\n",
    "covid_campinas['casos_novos'].quantile(q=0.25)"
   ]
  },
  {
   "cell_type": "code",
   "execution_count": null,
   "id": "f1c50fa7-9cac-42d9-9228-1d514612a24c",
   "metadata": {},
   "outputs": [],
   "source": [
    "# segundo quartil (mediana)\n",
    "\n",
    "covid_campinas['casos_novos'].quantile(q=0.50)"
   ]
  },
  {
   "cell_type": "code",
   "execution_count": null,
   "id": "16306fe8-f7c4-475d-a38c-460cddab23d9",
   "metadata": {},
   "outputs": [],
   "source": [
    "# terceiro quartile\n",
    "\n",
    "covid_campinas['casos_novos'].quantile(q=0.75)"
   ]
  },
  {
   "cell_type": "code",
   "execution_count": null,
   "id": "c27dcc3f-2067-42f3-bc10-e4713965c648",
   "metadata": {},
   "outputs": [],
   "source": [
    "covid_campinas['casos_novos'].quantile(q=0.99)"
   ]
  },
  {
   "cell_type": "code",
   "execution_count": null,
   "id": "a9b3d70f-a1f8-4d17-8cbe-55ff27ca3d44",
   "metadata": {},
   "outputs": [],
   "source": [
    "covid_campinas['casos_novos'].describe()"
   ]
  },
  {
   "cell_type": "markdown",
   "id": "e9e01006-84e6-4769-8e2f-20d91b41dfc2",
   "metadata": {
    "jp-MarkdownHeadingCollapsed": true
   },
   "source": [
    "## BoxPlot e Outliers"
   ]
  },
  {
   "cell_type": "code",
   "execution_count": null,
   "id": "97aa65cb-729f-40e6-bce5-f08f41fd3e1b",
   "metadata": {},
   "outputs": [],
   "source": [
    "import plotly.express as px"
   ]
  },
  {
   "cell_type": "code",
   "execution_count": null,
   "id": "cc78cb6d-b07d-4cca-9f4c-4c9c37cc8959",
   "metadata": {},
   "outputs": [],
   "source": [
    "### Campinas\n",
    "\n",
    "grafico = px.box(covid_campinas, y='casos_novos')\n",
    "grafico.show()"
   ]
  },
  {
   "cell_type": "code",
   "execution_count": null,
   "id": "e647e357-3b51-4ebe-9072-865487e45788",
   "metadata": {},
   "outputs": [],
   "source": [
    "outlier_sup = covid_campinas.casos_novos.quantile(q=0.75) + 1.5 * (covid_campinas.casos_novos.quantile(q=0.75) - covid_campinas.casos_novos.quantile(q=0.25))\n",
    "outlier_sup"
   ]
  },
  {
   "cell_type": "code",
   "execution_count": null,
   "id": "c1d5b9fa-8c29-43f1-9fe7-87215ec5ebe1",
   "metadata": {},
   "outputs": [],
   "source": [
    "outlier_inf = covid_campinas.casos_novos.quantile(q=0.25) - 1.5 * (covid_campinas.casos_novos.quantile(q=0.75) - covid_campinas.casos_novos.quantile(q=0.25))\n",
    "outlier_inf"
   ]
  },
  {
   "cell_type": "code",
   "execution_count": null,
   "id": "52c94495-7b10-47a5-b3a9-1960dd8ee104",
   "metadata": {},
   "outputs": [],
   "source": [
    "sem_outliers = covid_campinas.loc[covid_campinas.casos_novos <= outlier_sup]"
   ]
  },
  {
   "cell_type": "code",
   "execution_count": null,
   "id": "569996d9-a6ab-447a-be0f-b18a1356a429",
   "metadata": {},
   "outputs": [],
   "source": [
    "sem_outliers.head(3)"
   ]
  },
  {
   "cell_type": "code",
   "execution_count": null,
   "id": "8e63fc56-a928-44c2-8707-e6ef70e32d38",
   "metadata": {},
   "outputs": [],
   "source": [
    "grafico = px.box(sem_outliers, y='casos_novos')\n",
    "grafico.show()"
   ]
  },
  {
   "cell_type": "code",
   "execution_count": null,
   "id": "03002dda-9517-48b8-90e1-10a6ac4afb47",
   "metadata": {},
   "outputs": [],
   "source": [
    "### Guarulhos\n",
    "\n",
    "grafico = px.box(covid_guarulhos, y='casos_novos')\n",
    "grafico.show()"
   ]
  },
  {
   "cell_type": "code",
   "execution_count": null,
   "id": "0044c625-fe55-427b-9dd8-6aadd80745ac",
   "metadata": {},
   "outputs": [],
   "source": [
    "outlier_sup2 = covid_guarulhos.casos_novos.quantile(q=0.75) + 1.5 * (covid_guarulhos.casos_novos.quantile(q=0.75) - covid_guarulhos.casos_novos.quantile(q=0.25))\n",
    "outlier_sup2"
   ]
  },
  {
   "cell_type": "code",
   "execution_count": null,
   "id": "2baa89c1-4d92-45df-bd32-553aa6f1b7ce",
   "metadata": {},
   "outputs": [],
   "source": [
    "outlier_inf2 = covid_guarulhos.casos_novos.quantile(q=0.25) - 1.5 * (covid_guarulhos.casos_novos.quantile(q=0.75) - covid_guarulhos.casos_novos.quantile(q=0.25))\n",
    "outlier_inf2"
   ]
  },
  {
   "cell_type": "code",
   "execution_count": null,
   "id": "d0c956b9-a5b1-4bbe-a584-27f1d6a5172c",
   "metadata": {},
   "outputs": [],
   "source": [
    "sem_outliers2 = covid_guarulhos.loc[covid_guarulhos.casos_novos <= outlier_sup2]"
   ]
  },
  {
   "cell_type": "code",
   "execution_count": null,
   "id": "869ce7a5-8d14-431e-bd69-b68427b54db7",
   "metadata": {},
   "outputs": [],
   "source": [
    "grafico = px.box(sem_outliers2, y='casos_novos')\n",
    "grafico.show()"
   ]
  },
  {
   "cell_type": "markdown",
   "id": "429928d6-56cc-4a76-a2ce-5375a5a96592",
   "metadata": {
    "jp-MarkdownHeadingCollapsed": true
   },
   "source": [
    "## Medidades de Dispersão"
   ]
  },
  {
   "cell_type": "code",
   "execution_count": null,
   "id": "e41218d1-3734-4c81-a346-311ee805a7e3",
   "metadata": {},
   "outputs": [],
   "source": [
    "# Variância para casos novos\n",
    "\n",
    "covid_guarulhos['casos_novos'].var()"
   ]
  },
  {
   "cell_type": "code",
   "execution_count": null,
   "id": "dd11dbe1-f988-4b66-8f75-fbc866399a5e",
   "metadata": {},
   "outputs": [],
   "source": [
    "covid_campinas['casos_novos'].var()"
   ]
  },
  {
   "cell_type": "code",
   "execution_count": null,
   "id": "2bcc983b-799f-4c3b-ae5c-89cf3a281ee8",
   "metadata": {},
   "outputs": [],
   "source": [
    "# Variância para óbitos novos\n",
    "\n",
    "covid_guarulhos['obitos_novos'].var()"
   ]
  },
  {
   "cell_type": "code",
   "execution_count": null,
   "id": "87351188-2666-453b-9037-ce81b9b62d39",
   "metadata": {},
   "outputs": [],
   "source": [
    "covid_campinas['obitos_novos'].var()"
   ]
  },
  {
   "cell_type": "code",
   "execution_count": null,
   "id": "28458048-a7f0-4b5f-b7a6-4b693d87ed13",
   "metadata": {},
   "outputs": [],
   "source": [
    "# Desvio padrão óbitos novos\n",
    "\n",
    "covid_guarulhos['obitos_novos'].std()"
   ]
  },
  {
   "cell_type": "code",
   "execution_count": null,
   "id": "68ee8079-ac9f-4b74-802b-e9b871c5707a",
   "metadata": {},
   "outputs": [],
   "source": [
    "covid_campinas['obitos_novos'].std()"
   ]
  },
  {
   "cell_type": "code",
   "execution_count": null,
   "id": "f9919ed0-567c-449f-a4c5-dd2471b01c9d",
   "metadata": {},
   "outputs": [],
   "source": [
    "# Desvio padrão casos novos\n",
    "\n",
    "covid_guarulhos['casos_novos'].std()"
   ]
  },
  {
   "cell_type": "code",
   "execution_count": null,
   "id": "e6d14b27-c5c5-4b01-9b18-ebb4a0b436c4",
   "metadata": {},
   "outputs": [],
   "source": [
    "covid_campinas['casos_novos'].std()"
   ]
  },
  {
   "cell_type": "markdown",
   "id": "295b5200-594d-48b4-a9a5-be97340d5c90",
   "metadata": {
    "jp-MarkdownHeadingCollapsed": true
   },
   "source": [
    "## Testes de Normalidade"
   ]
  },
  {
   "cell_type": "code",
   "execution_count": null,
   "id": "45b82163-2331-4e56-ad1e-b34023cf70c9",
   "metadata": {},
   "outputs": [],
   "source": [
    "# Existem teste de normalidade numéricos e testes gráficos:\n",
    "# Exemplos numéricos: Shapiro-Wilk e Kolmogorov_Smirnov\n",
    "# Exemplos Gráficos: Histograma e QQplot"
   ]
  },
  {
   "cell_type": "code",
   "execution_count": null,
   "id": "d3e5dc77-7657-4768-b8bf-9fa79576d018",
   "metadata": {},
   "outputs": [],
   "source": [
    "# Histograma\n",
    "\n",
    "import seaborn as sns\n",
    "sns.histplot(covid_campinas, x='casos_novos', bins=32, color='orange', kde=True, stat='count',);\n",
    "# bins = intervalo da classe que analisa a distribuição\n",
    "# kde = linha de tendência\n",
    "\n",
    "# o histograma mostra que essa não é uma distribuição normal"
   ]
  },
  {
   "cell_type": "code",
   "execution_count": null,
   "id": "a6d2e02e-d24b-473a-b452-bf3bd056ff94",
   "metadata": {},
   "outputs": [],
   "source": [
    "# QQPLOT\n",
    "\n",
    "import scipy.stats as stats\n",
    "import matplotlib.pyplot as plt"
   ]
  },
  {
   "cell_type": "code",
   "execution_count": null,
   "id": "cce727b4-a086-435f-baa4-01e2a8277fa2",
   "metadata": {},
   "outputs": [],
   "source": [
    "stats.probplot(covid_campinas['casos_novos'], dist='norm', plot=plt)\n",
    "plt.title('Análise Normalidade')\n",
    "plt.show()"
   ]
  },
  {
   "cell_type": "code",
   "execution_count": null,
   "id": "5cdc2ee2-5a23-4edc-b1d0-368a2d18285e",
   "metadata": {},
   "outputs": [],
   "source": [
    "# Teste de Shapiro-Wilk\n",
    "\n",
    "# Critérios:\n",
    "# Nível de Significância de 0,05 ou 5% (mais utilizado)\n",
    "# quando p > 0,05 (distribuição normal)"
   ]
  },
  {
   "cell_type": "code",
   "execution_count": null,
   "id": "c55dbafb-cd1d-4ca2-8a35-284e1aec0ba4",
   "metadata": {},
   "outputs": [],
   "source": [
    "stats.shapiro(covid_campinas['casos_novos'])"
   ]
  },
  {
   "cell_type": "code",
   "execution_count": null,
   "id": "f9f7bcd0-f228-4e44-a47f-61f73d05dfb9",
   "metadata": {},
   "outputs": [],
   "source": [
    "estatistica, p = stats.shapiro(covid_campinas['casos_novos'])"
   ]
  },
  {
   "cell_type": "code",
   "execution_count": null,
   "id": "0336caf4-86b7-444d-88fe-301d7943f483",
   "metadata": {},
   "outputs": [],
   "source": [
    "print('Estatística do teste (w) =', round(estatistica,2))"
   ]
  },
  {
   "cell_type": "code",
   "execution_count": null,
   "id": "a1c58f8b-0d0a-4253-b4f6-a428154c78b1",
   "metadata": {},
   "outputs": [],
   "source": [
    "print('p_valor =', p)"
   ]
  },
  {
   "cell_type": "code",
   "execution_count": null,
   "id": "853daa04-1557-4bf1-807b-6af74833dd97",
   "metadata": {},
   "outputs": [],
   "source": [
    "# Segundo o teste a distribuição não é normal.\n",
    "\n",
    "# O teste de Shapiro-Wilk não se aplica a dados maiores que 5000"
   ]
  },
  {
   "cell_type": "code",
   "execution_count": null,
   "id": "6ef7e60f-519d-4a39-8666-d02b5648fca9",
   "metadata": {},
   "outputs": [],
   "source": [
    "# Teste de Lilliefors (Kolmogorov-Smirnov)\n",
    "\n",
    "import statsmodels\n",
    "from statsmodels.stats.diagnostic import lilliefors"
   ]
  },
  {
   "cell_type": "code",
   "execution_count": null,
   "id": "54d801b9-30c9-4b83-97e6-067a68f87213",
   "metadata": {},
   "outputs": [],
   "source": [
    "estatistica, p = statsmodels.stats.diagnostic.lilliefors(covid_campinas['casos_novos'], dist = 'norm')"
   ]
  },
  {
   "cell_type": "code",
   "execution_count": null,
   "id": "d3e16078-3287-4c4d-98e0-6e7da90da59b",
   "metadata": {},
   "outputs": [],
   "source": [
    "print('Estatística do teste (D) =', round(estatistica,2))\n",
    "print('p_valor =', p)"
   ]
  },
  {
   "cell_type": "markdown",
   "id": "a7d60dc5-caf8-483c-8d68-a4c4b4abd211",
   "metadata": {
    "jp-MarkdownHeadingCollapsed": true
   },
   "source": [
    "## Correlação Linear"
   ]
  },
  {
   "cell_type": "code",
   "execution_count": null,
   "id": "c4b52230-3a24-4bb0-b366-5b051c55c91e",
   "metadata": {},
   "outputs": [],
   "source": [
    "# Gráfico de Dispersão\n",
    "\n",
    "import matplotlib.pyplot as plt"
   ]
  },
  {
   "cell_type": "code",
   "execution_count": null,
   "id": "848477a5-9664-4830-9e95-1b24d5568112",
   "metadata": {},
   "outputs": [],
   "source": [
    "plt.scatter(covid_campinas.casos, covid_campinas.obitos)\n",
    "plt.title('Correlação')\n",
    "plt.xlabel('Casos')\n",
    "plt.ylabel('Óbitos')\n",
    "plt.grid(False) # linhas de grade\n",
    "plt.show()\n",
    "\n",
    "# podemos observar que é uma correlação linear positiva, ou seja, quanto maior o número de casos\n",
    "# maior o número de óbitos"
   ]
  },
  {
   "cell_type": "code",
   "execution_count": null,
   "id": "f20da266-ce44-40da-820b-4be600f06d73",
   "metadata": {},
   "outputs": [],
   "source": [
    "# montar um dataframe com as variáveis que queremos trabalhar\n",
    "\n",
    "df = covid_campinas[['casos', 'casos_novos', 'obitos', 'obitos_novos']]\n",
    "df.head(3)"
   ]
  },
  {
   "cell_type": "code",
   "execution_count": null,
   "id": "3f7bf4bb-0d4e-49e5-8f87-d5c227f3e784",
   "metadata": {},
   "outputs": [],
   "source": [
    "# Determinação da correlação\n",
    "# method:\n",
    "# 'pearson': para dados paramétricos (normalidade e homocedasticidade)\n",
    "# 'spearman': (volume grande de dados não paramétricos: maior ou igual a 30)\n",
    "# 'kendall': (volume pequeno de dados não paramétricos: menor que 30)"
   ]
  },
  {
   "cell_type": "code",
   "execution_count": null,
   "id": "1abf792c-342b-46e7-9f37-1e306ee6d99a",
   "metadata": {},
   "outputs": [],
   "source": [
    "# gráfico qqplot para 'casos'\n",
    "\n",
    "stats.probplot(covid_campinas['casos'], dist='norm', plot=plt)\n",
    "plt.title('Análise Normalidade')\n",
    "plt.show()"
   ]
  },
  {
   "cell_type": "code",
   "execution_count": null,
   "id": "4bd43833-d535-462f-aab4-8f40dc6fa582",
   "metadata": {},
   "outputs": [],
   "source": [
    "# não é uma distribuição normal\n",
    "\n",
    "# correlação linear: \n",
    "correlacoes = df.corr(method='spearman')\n",
    "correlacoes"
   ]
  },
  {
   "cell_type": "code",
   "execution_count": null,
   "id": "f7dd2733-e044-4e6a-a1bb-801f419b0592",
   "metadata": {},
   "outputs": [],
   "source": [
    "import seaborn as sns\n",
    "plt.figure()\n",
    "sns.heatmap(correlacoes, annot=True);"
   ]
  },
  {
   "cell_type": "code",
   "execution_count": null,
   "id": "1578c456-aa4c-4542-b6c4-fc93805661e7",
   "metadata": {},
   "outputs": [],
   "source": [
    "sns.pairplot(df);"
   ]
  },
  {
   "cell_type": "markdown",
   "id": "7e3ebeaf-f47e-4c3b-91b7-a1691170480b",
   "metadata": {},
   "source": [
    "## Introdução à Regressão Linear Simples com StatsModels"
   ]
  },
  {
   "cell_type": "code",
   "execution_count": null,
   "id": "fa3b6f81-3a41-4ebd-8354-5558f02a6704",
   "metadata": {},
   "outputs": [],
   "source": [
    "import statsmodels.formula.api as smf\n",
    "import statsmodels.stats.api as sms"
   ]
  },
  {
   "cell_type": "code",
   "execution_count": null,
   "id": "a7b3f2bd-63f0-4a36-9598-c51c02851f45",
   "metadata": {},
   "outputs": [],
   "source": [
    "regressao = smf.ols('obitos ~ casos', data = covid_campinas).fit()\n",
    "print(regressao.summary())\n",
    "\n",
    "# modelo de regressão linear"
   ]
  },
  {
   "cell_type": "code",
   "execution_count": null,
   "id": "dd9ef635-6e76-4465-b784-3fd83a850561",
   "metadata": {},
   "outputs": [],
   "source": [
    "# coeficientes\n",
    "\n",
    "coefs = pd.DataFrame(regressao.params)\n",
    "coefs.columns = ['Coeficientes']\n",
    "print(coefs)"
   ]
  },
  {
   "cell_type": "code",
   "execution_count": null,
   "id": "fa6fc97e-69b0-4af6-a9ae-607face85ce1",
   "metadata": {},
   "outputs": [],
   "source": [
    "# A equação seria:\n",
    "# obitos = -62,2 + 0,039.casos"
   ]
  },
  {
   "cell_type": "code",
   "execution_count": null,
   "id": "1d4072ec-90d3-48b4-b7bc-07a013877ccd",
   "metadata": {},
   "outputs": [],
   "source": [
    "plt.scatter(y=covid_campinas.obitos, x=covid_campinas.casos, color='blue', s=2, alpha=0.5) # pontos reais\n",
    "x_plot = np.linspace(min(covid_campinas.casos), max(covid_campinas.casos), len(covid_campinas.obitos))\n",
    "plt.plot(x_plot, x_plot*regressao.params[1] + regressao.params[0], color='r') # ajuste de reta\n",
    "plt.title('Reta de Regressão')\n",
    "plt.ylabel('Óbitos')\n",
    "plt.xlabel('Casos')\n",
    "plt.show()"
   ]
  },
  {
   "cell_type": "code",
   "execution_count": null,
   "id": "8ff7ad7a-f551-49ba-927f-142cf350decf",
   "metadata": {},
   "outputs": [],
   "source": []
  }
 ],
 "metadata": {
  "kernelspec": {
   "display_name": "Python 3 (ipykernel)",
   "language": "python",
   "name": "python3"
  },
  "language_info": {
   "codemirror_mode": {
    "name": "ipython",
    "version": 3
   },
   "file_extension": ".py",
   "mimetype": "text/x-python",
   "name": "python",
   "nbconvert_exporter": "python",
   "pygments_lexer": "ipython3",
   "version": "3.12.7"
  }
 },
 "nbformat": 4,
 "nbformat_minor": 5
}
