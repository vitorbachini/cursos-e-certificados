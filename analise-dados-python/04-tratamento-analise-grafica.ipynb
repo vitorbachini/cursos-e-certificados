{
 "cells": [
  {
   "cell_type": "markdown",
   "id": "d9208183-e39a-42d3-b94b-430b0be2024a",
   "metadata": {},
   "source": [
    "# Projeto 2: Tratamento e Análise Gráfica dos Dados"
   ]
  },
  {
   "cell_type": "markdown",
   "id": "3908a76c-de7a-4dfa-9124-c841d3a1950a",
   "metadata": {},
   "source": [
    "Este projeto analisa os dados referentes aos casos de síndrome respiratória aguda no estado\n",
    "de São Paulo do período de dezembro de 2019 à julho de 2020."
   ]
  },
  {
   "cell_type": "markdown",
   "id": "6acd4f63-5678-4ac2-9fb8-ae80cef9dfa6",
   "metadata": {
    "jp-MarkdownHeadingCollapsed": true
   },
   "source": [
    "## Importação e Análise inicial da nova tabela de dados"
   ]
  },
  {
   "cell_type": "code",
   "execution_count": null,
   "id": "d55de342-10a5-409c-904a-324a9c78ed75",
   "metadata": {},
   "outputs": [],
   "source": [
    "import numpy as np\n",
    "import pandas as pd"
   ]
  },
  {
   "cell_type": "code",
   "execution_count": null,
   "id": "eac5fd67-afab-4ad5-8619-11f5672d5f72",
   "metadata": {},
   "outputs": [],
   "source": [
    "srag_sp = pd.read_csv('./SRAG_2020.csv', sep=';', encoding='utf-8')"
   ]
  },
  {
   "cell_type": "code",
   "execution_count": null,
   "id": "6e7d126c-440a-4fdd-a932-daae5b29d951",
   "metadata": {},
   "outputs": [],
   "source": [
    "srag_sp.head(5)"
   ]
  },
  {
   "cell_type": "code",
   "execution_count": null,
   "id": "89f89fab-c375-47e9-a5dd-277023fcd171",
   "metadata": {},
   "outputs": [],
   "source": [
    "srag_sp.shape"
   ]
  },
  {
   "cell_type": "markdown",
   "id": "39bcc379-c77f-4805-b6df-87334f716590",
   "metadata": {
    "jp-MarkdownHeadingCollapsed": true
   },
   "source": [
    "## Tratamento dos Dados"
   ]
  },
  {
   "cell_type": "markdown",
   "id": "9bd42d06-d737-4035-941b-bbf05f572f49",
   "metadata": {},
   "source": [
    "### Excluindo Variáveis"
   ]
  },
  {
   "cell_type": "code",
   "execution_count": null,
   "id": "c65599b1-95cf-4c47-881a-9dcb01e9e1bc",
   "metadata": {},
   "outputs": [],
   "source": [
    "lista = list(range(50,133))\n",
    "lista"
   ]
  },
  {
   "cell_type": "code",
   "execution_count": null,
   "id": "20d3e239-9517-4791-98c9-ee1bd995b0ac",
   "metadata": {},
   "outputs": [],
   "source": [
    "srag_mod = srag_sp.drop(srag_sp.columns[lista], axis=1)"
   ]
  },
  {
   "cell_type": "code",
   "execution_count": null,
   "id": "914f8ea9-7d27-4776-b250-f94aede9c939",
   "metadata": {},
   "outputs": [],
   "source": [
    "srag_mod.head(2)"
   ]
  },
  {
   "cell_type": "code",
   "execution_count": null,
   "id": "fdd587b2-9a30-4385-a914-cc07b2d05f41",
   "metadata": {},
   "outputs": [],
   "source": [
    "srag_mod.shape"
   ]
  },
  {
   "cell_type": "code",
   "execution_count": null,
   "id": "495b7aa8-5e06-49dd-929e-b1cce4a95472",
   "metadata": {},
   "outputs": [],
   "source": [
    "srag_mod.drop(columns=['COD_IDADE','ID_PAIS','CO_PAIS','SG_UF','ID_RG_RESI','CO_RG_RESI','CO_MUN_RES'],inplace=True)"
   ]
  },
  {
   "cell_type": "markdown",
   "id": "dbfdeee8-c916-4833-b228-6e616105c17b",
   "metadata": {},
   "source": [
    "### Renomeando Variáveis"
   ]
  },
  {
   "cell_type": "code",
   "execution_count": null,
   "id": "61ff7860-1408-4ae3-8476-9033bd60eb55",
   "metadata": {},
   "outputs": [],
   "source": [
    "srag_mod = srag_mod.rename(columns={'DT_NOTIFIC': 'data', 'CS_SEXO': 'sexo', 'NU_IDADE_N': 'idade', 'CS_RACA': 'raca'})"
   ]
  },
  {
   "cell_type": "markdown",
   "id": "c36ac587-c631-4d16-b092-87b32ae647c7",
   "metadata": {},
   "source": [
    "### Analisando os tipos de variáveis"
   ]
  },
  {
   "cell_type": "code",
   "execution_count": null,
   "id": "2bbddc2a-727b-4097-bd03-3d5cdc04b4fa",
   "metadata": {},
   "outputs": [],
   "source": [
    "srag_mod.dtypes"
   ]
  },
  {
   "cell_type": "code",
   "execution_count": null,
   "id": "43c356c5-933f-4bb6-8af2-e81dd53f5ea1",
   "metadata": {},
   "outputs": [],
   "source": [
    "srag_mod['data'] = srag_mod['data'].astype('datetime64[ms]')"
   ]
  },
  {
   "cell_type": "markdown",
   "id": "22795cfa-6061-4ccb-a9b0-6e383976d007",
   "metadata": {},
   "source": [
    "### Analisando valores missing (NAN)"
   ]
  },
  {
   "cell_type": "code",
   "execution_count": null,
   "id": "dd059d25-120c-47ae-afb6-c2f46f7f34dc",
   "metadata": {},
   "outputs": [],
   "source": [
    "srag_mod.isnull().sum()"
   ]
  },
  {
   "cell_type": "markdown",
   "id": "8ff08b7a-0387-40dd-8fff-fcf99d905150",
   "metadata": {},
   "source": [
    "### Contagem das classificações de raças"
   ]
  },
  {
   "cell_type": "code",
   "execution_count": null,
   "id": "88cdabfc-3293-41ad-ae98-76ec4d28c55f",
   "metadata": {},
   "outputs": [],
   "source": [
    "srag_mod['raca'].value_counts().sort_index()"
   ]
  },
  {
   "cell_type": "code",
   "execution_count": null,
   "id": "5c021e31-c41f-421f-9cbf-d6204190e120",
   "metadata": {},
   "outputs": [],
   "source": [
    "# preenchendo valores missing com o número 9 (ignorado)\n",
    "\n",
    "srag_mod['raca'].fillna(9, inplace=True)"
   ]
  },
  {
   "cell_type": "code",
   "execution_count": null,
   "id": "6be8426d-fdd8-4dc3-8583-8d242db076d6",
   "metadata": {},
   "outputs": [],
   "source": [
    "srag_mod['raca'].value_counts().sort_index()"
   ]
  },
  {
   "cell_type": "markdown",
   "id": "8ec736a5-7b57-43a5-a0c3-8fca92583795",
   "metadata": {},
   "source": [
    "### Contagem das Classificações de CS_ZONA"
   ]
  },
  {
   "cell_type": "code",
   "execution_count": null,
   "id": "c3bc79f2-063a-4412-a12d-39e982afc9be",
   "metadata": {},
   "outputs": [],
   "source": [
    "srag_mod['CS_ZONA'].value_counts().sort_index()"
   ]
  },
  {
   "cell_type": "code",
   "execution_count": null,
   "id": "3b5929f0-0369-44e5-9e52-b5eb21e2bbee",
   "metadata": {},
   "outputs": [],
   "source": [
    "# preenchendo valores missing com o número 9 (ignorado)\n",
    "\n",
    "srag_mod['CS_ZONA'].fillna(9, inplace=True)"
   ]
  },
  {
   "cell_type": "markdown",
   "id": "274fba33-8ddc-4c57-aabd-ce52644504d3",
   "metadata": {},
   "source": [
    "### Substituindo as classificações numéricas por palavras"
   ]
  },
  {
   "cell_type": "code",
   "execution_count": null,
   "id": "4d8d866c-fb5e-42b3-9d42-5513809ce3ae",
   "metadata": {},
   "outputs": [],
   "source": [
    "srag_mod['raca'] = srag_mod['raca'].replace({1:'branca',2:'preta',3:'amarela',4:'parda',5:'indigena',9:'ignorado'})"
   ]
  },
  {
   "cell_type": "code",
   "execution_count": null,
   "id": "ff53c82d-3012-41f9-a740-22d20ac95db8",
   "metadata": {},
   "outputs": [],
   "source": [
    "srag_mod['raca'].value_counts().sort_index()"
   ]
  },
  {
   "cell_type": "code",
   "execution_count": null,
   "id": "87bff847-b717-49c4-b0de-941d9133472e",
   "metadata": {},
   "outputs": [],
   "source": [
    "srag_mod['CS_ZONA'] = srag_mod['CS_ZONA'].replace({1:'urbana',2:'rural',3:'periurbana',9:'ignorado'})"
   ]
  },
  {
   "cell_type": "code",
   "execution_count": null,
   "id": "926c003e-a420-4d0c-bd06-5fa7d4257822",
   "metadata": {},
   "outputs": [],
   "source": [
    "srag_mod['CS_ZONA'].value_counts().sort_index()"
   ]
  },
  {
   "cell_type": "markdown",
   "id": "bf097f01-4656-4935-b662-e1e229f6d4c1",
   "metadata": {
    "jp-MarkdownHeadingCollapsed": true
   },
   "source": [
    "## Gráfico de Barras"
   ]
  },
  {
   "cell_type": "markdown",
   "id": "76b4715b-b49a-4520-b6fd-9a6601954e8d",
   "metadata": {
    "jp-MarkdownHeadingCollapsed": true
   },
   "source": [
    "### Matplotlib"
   ]
  },
  {
   "cell_type": "code",
   "execution_count": null,
   "id": "584e9d10-afe8-44e1-9757-d11aacccf02c",
   "metadata": {},
   "outputs": [],
   "source": [
    "import matplotlib.pyplot as plt"
   ]
  },
  {
   "cell_type": "code",
   "execution_count": null,
   "id": "b217b05c-48ce-4db5-a11a-e7089c0d6872",
   "metadata": {},
   "outputs": [],
   "source": [
    "# o gráfico de barras é muito utilizado com variáveis categóricas\n",
    "\n",
    "graf_barras = srag_mod['sexo'].value_counts()\n",
    "graf_barras"
   ]
  },
  {
   "cell_type": "code",
   "execution_count": null,
   "id": "7d1f65f3-7560-4bb0-9e8e-815f82145369",
   "metadata": {},
   "outputs": [],
   "source": [
    "graf_barras.index"
   ]
  },
  {
   "cell_type": "code",
   "execution_count": null,
   "id": "cc89cf31-2095-4568-a1e8-4560064e2d7a",
   "metadata": {},
   "outputs": [],
   "source": [
    "plt.bar(graf_barras.index, graf_barras, color='red')\n",
    "plt.title('Análise da Distribuição por Sexo')\n",
    "plt.ylabel('Quantidade')\n",
    "plt.xlabel('Sexo')\n",
    "plt.show()"
   ]
  },
  {
   "cell_type": "code",
   "execution_count": null,
   "id": "03b5518a-46f2-4d6e-a1b2-f110b22c4310",
   "metadata": {},
   "outputs": [],
   "source": [
    "plt.barh(graf_barras.index, graf_barras, color='red')\n",
    "plt.title('Análise da Distribuição por Sexo')\n",
    "plt.xlabel('Quantidade')\n",
    "plt.ylabel('Sexo')\n",
    "plt.show()"
   ]
  },
  {
   "cell_type": "markdown",
   "id": "556851f5-d2a7-44fe-a387-4b3d701b40d6",
   "metadata": {
    "jp-MarkdownHeadingCollapsed": true
   },
   "source": [
    "### Seaborn"
   ]
  },
  {
   "cell_type": "code",
   "execution_count": null,
   "id": "ec9fea36-bb4c-4d69-9009-69fc18bb8ba9",
   "metadata": {},
   "outputs": [],
   "source": [
    "import seaborn as sns"
   ]
  },
  {
   "cell_type": "code",
   "execution_count": null,
   "id": "a644cf5b-b0b2-4792-a655-dc1e6c2e2980",
   "metadata": {},
   "outputs": [],
   "source": [
    "sns.countplot(x='sexo', data=srag_mod);"
   ]
  },
  {
   "cell_type": "code",
   "execution_count": null,
   "id": "e1f5c0d5-e96b-413b-ac60-736f220798a0",
   "metadata": {},
   "outputs": [],
   "source": [
    "sns.countplot(y='sexo', data=srag_mod);"
   ]
  },
  {
   "cell_type": "code",
   "execution_count": null,
   "id": "16d8e041-5e75-41f5-9030-fd508b9bc049",
   "metadata": {},
   "outputs": [],
   "source": [
    "fig, ax = plt.subplots(figsize=(8,6))\n",
    "sns.countplot(x='raca', data=srag_mod)\n",
    "ax.set_title('Análise da Distribuição por Raça', fontdict={'fontsize':20})\n",
    "ax.set_xlabel('Raça', fontdict={'fontsize':15})\n",
    "ax.set_ylabel('Quantidade', fontdict={'fontsize':15});"
   ]
  },
  {
   "cell_type": "markdown",
   "id": "6566a542-df58-4702-aa34-c44ec6d16145",
   "metadata": {
    "jp-MarkdownHeadingCollapsed": true
   },
   "source": [
    "## Boxplot e Outliers"
   ]
  },
  {
   "cell_type": "markdown",
   "id": "ea29dc7b-9a51-49a5-b3b7-ac66f6ee7fca",
   "metadata": {
    "jp-MarkdownHeadingCollapsed": true
   },
   "source": [
    "### Plotly"
   ]
  },
  {
   "cell_type": "code",
   "execution_count": null,
   "id": "5929e7b1-fbbc-455f-a282-ee32cf293077",
   "metadata": {},
   "outputs": [],
   "source": [
    "import plotly.express as px"
   ]
  },
  {
   "cell_type": "code",
   "execution_count": null,
   "id": "170670eb-b1f2-44c9-be52-c10fe8b402a9",
   "metadata": {},
   "outputs": [],
   "source": [
    "# Boxplot para idade em anos"
   ]
  },
  {
   "cell_type": "code",
   "execution_count": null,
   "id": "e3e5e63f-5d8e-438d-b7f5-4dd38fabc3df",
   "metadata": {},
   "outputs": [],
   "source": [
    "srag_mod['TP_IDADE'].value_counts().sort_index()"
   ]
  },
  {
   "cell_type": "code",
   "execution_count": null,
   "id": "cf5c7485-b3cc-4aac-af6a-272e61a0d7a5",
   "metadata": {},
   "outputs": [],
   "source": [
    "srag_mod['idade'].value_counts().sort_index()"
   ]
  },
  {
   "cell_type": "code",
   "execution_count": null,
   "id": "01a22a9d-cdee-4d16-840d-72963ce37fdb",
   "metadata": {},
   "outputs": [],
   "source": [
    "srag_mod.idade.describe()"
   ]
  },
  {
   "cell_type": "code",
   "execution_count": null,
   "id": "21ac08e0-49f6-42ee-85cf-58a2d03fe508",
   "metadata": {},
   "outputs": [],
   "source": [
    "srag_mod.idade.mode()"
   ]
  },
  {
   "cell_type": "code",
   "execution_count": null,
   "id": "34346d01-0eb4-496c-b674-b3caeab1487c",
   "metadata": {},
   "outputs": [],
   "source": [
    "srag_mod.loc[srag_mod['TP_IDADE'] == 1, 'idade'] = 0"
   ]
  },
  {
   "cell_type": "code",
   "execution_count": null,
   "id": "48a36327-154d-4c83-8301-14b672a8929f",
   "metadata": {},
   "outputs": [],
   "source": [
    "srag_mod.loc[srag_mod['TP_IDADE'] == 2, 'idade'] = 0"
   ]
  },
  {
   "cell_type": "code",
   "execution_count": null,
   "id": "34f279ec-d7ca-44a1-9203-1be28d681671",
   "metadata": {},
   "outputs": [],
   "source": [
    "# montando o boxplot\n",
    "\n",
    "box = px.box(srag_mod, y='idade')\n",
    "box.show()"
   ]
  },
  {
   "cell_type": "code",
   "execution_count": null,
   "id": "47d14c89-5d9f-4fb1-9410-5facc27bae45",
   "metadata": {},
   "outputs": [],
   "source": [
    "# removendo os outliers\n",
    "\n",
    "srag_sem_outliers = srag_mod.loc[srag_mod.idade < 118]"
   ]
  },
  {
   "cell_type": "code",
   "execution_count": null,
   "id": "27518d58-c581-4212-91af-04d078478e9d",
   "metadata": {},
   "outputs": [],
   "source": [
    "srag_sem_outliers.idade.describe()"
   ]
  },
  {
   "cell_type": "code",
   "execution_count": null,
   "id": "028f6acc-d7d6-4e4e-aa83-b53f9b4e93d9",
   "metadata": {},
   "outputs": [],
   "source": [
    "box = px.box(srag_sem_outliers, y='idade')\n",
    "box.show()"
   ]
  },
  {
   "cell_type": "code",
   "execution_count": null,
   "id": "45ac4f10-c06d-492a-8c3a-b2b4b36d0671",
   "metadata": {},
   "outputs": [],
   "source": [
    "box = px.box(srag_mod, x='sexo', y='idade')\n",
    "box.show()"
   ]
  },
  {
   "cell_type": "code",
   "execution_count": null,
   "id": "c9227dc8-a984-45fe-9cc4-9dd52842f581",
   "metadata": {},
   "outputs": [],
   "source": [
    "box = px.box(srag_sem_outliers, x='raca', y='idade')\n",
    "box.show()"
   ]
  },
  {
   "cell_type": "markdown",
   "id": "5c9f6b09-44c6-46ca-b74e-e9d7be35cee3",
   "metadata": {
    "jp-MarkdownHeadingCollapsed": true
   },
   "source": [
    "### Seaborn"
   ]
  },
  {
   "cell_type": "code",
   "execution_count": null,
   "id": "20f15387-dd78-4faa-a935-8d9b83dfc8ea",
   "metadata": {},
   "outputs": [],
   "source": [
    "import seaborn as sns"
   ]
  },
  {
   "cell_type": "code",
   "execution_count": null,
   "id": "7632d12c-a0d9-4bbe-ab0a-ba6adc7f2520",
   "metadata": {},
   "outputs": [],
   "source": [
    "sns.boxplot(y='idade', data=srag_mod, color='red');"
   ]
  },
  {
   "cell_type": "code",
   "execution_count": null,
   "id": "c6b3af65-cbd3-4cb8-a0d9-c4d55a7c454a",
   "metadata": {},
   "outputs": [],
   "source": [
    "sns.boxplot(y='idade', data=srag_sem_outliers, color='red');"
   ]
  },
  {
   "cell_type": "code",
   "execution_count": null,
   "id": "e56f8f2f-74c0-4890-b6ff-d5644095c938",
   "metadata": {},
   "outputs": [],
   "source": [
    "sns.boxplot(x='sexo', y='idade', data=srag_mod, color='red');"
   ]
  },
  {
   "cell_type": "code",
   "execution_count": null,
   "id": "e34b6e0e-801d-42e3-87bd-6fbe32589329",
   "metadata": {},
   "outputs": [],
   "source": [
    "sns.boxplot(x='CS_ZONA', y='idade', data=srag_mod, color='red');"
   ]
  },
  {
   "cell_type": "code",
   "execution_count": null,
   "id": "31a67772-1b74-4fea-b8f0-86d0c5bf8922",
   "metadata": {},
   "outputs": [],
   "source": [
    "sns.boxplot(x='CS_ZONA', y='idade', hue='sexo', data=srag_mod);"
   ]
  },
  {
   "cell_type": "markdown",
   "id": "ce23ca0d-8c03-42a5-8f60-0a8d46063daa",
   "metadata": {
    "jp-MarkdownHeadingCollapsed": true
   },
   "source": [
    "### Matplotlib"
   ]
  },
  {
   "cell_type": "code",
   "execution_count": null,
   "id": "354f2880-b648-49dd-a151-6811a41b786b",
   "metadata": {},
   "outputs": [],
   "source": [
    "import matplotlib.pyplot as plt"
   ]
  },
  {
   "cell_type": "code",
   "execution_count": null,
   "id": "925527e1-f006-4e49-8b49-745695932bfc",
   "metadata": {},
   "outputs": [],
   "source": [
    "plt.boxplot(srag_mod.idade)\n",
    "plt.show()"
   ]
  },
  {
   "cell_type": "code",
   "execution_count": null,
   "id": "455a1553-d69a-444d-b2f3-d24794b8ab45",
   "metadata": {},
   "outputs": [],
   "source": [
    "plt.boxplot(srag_sem_outliers.idade)\n",
    "plt.title('Box Plot da idade')\n",
    "plt.ylabel('idade')\n",
    "plt.show()"
   ]
  },
  {
   "cell_type": "markdown",
   "id": "b9e23c5f-cecf-4e5b-a4e1-d7f9b8be1ee6",
   "metadata": {
    "jp-MarkdownHeadingCollapsed": true
   },
   "source": [
    "## Histograma"
   ]
  },
  {
   "cell_type": "markdown",
   "id": "2c0c15a9-f67d-468c-b0e4-11c0c9b940ea",
   "metadata": {
    "jp-MarkdownHeadingCollapsed": true
   },
   "source": [
    "### Plotly"
   ]
  },
  {
   "cell_type": "code",
   "execution_count": null,
   "id": "e1651dde-b2a9-4db8-bb33-1a1ac9da81cb",
   "metadata": {},
   "outputs": [],
   "source": [
    "import plotly.express as px"
   ]
  },
  {
   "cell_type": "code",
   "execution_count": null,
   "id": "ee232913-49e6-4e10-8f4c-b18a6f65c0bd",
   "metadata": {},
   "outputs": [],
   "source": [
    "hist1 = px.histogram(srag_mod, x='idade', nbins=60)\n",
    "hist1.update_layout(width=800, height=500, title_text = 'Distribuição das Idades')\n",
    "hist1.show()"
   ]
  },
  {
   "cell_type": "markdown",
   "id": "396caec0-56fa-4202-a6f4-e3bf19d9b77c",
   "metadata": {
    "jp-MarkdownHeadingCollapsed": true
   },
   "source": [
    "### Análise da Normalidade - Gráfico QQPlot"
   ]
  },
  {
   "cell_type": "code",
   "execution_count": null,
   "id": "0f532e3c-888c-4a08-8e14-2faa1ac77e6c",
   "metadata": {},
   "outputs": [],
   "source": [
    "srag_mod.idade.describe()"
   ]
  },
  {
   "cell_type": "code",
   "execution_count": null,
   "id": "941aee97-5677-4c2f-bf14-a8d4f1cc66ff",
   "metadata": {},
   "outputs": [],
   "source": [
    "srag_mod.idade.mode()"
   ]
  },
  {
   "cell_type": "code",
   "execution_count": null,
   "id": "ca53962c-f403-4d50-a58a-d83f817e8c67",
   "metadata": {},
   "outputs": [],
   "source": [
    "import scipy.stats as stats\n",
    "import matplotlib.pyplot as plt"
   ]
  },
  {
   "cell_type": "code",
   "execution_count": null,
   "id": "629551ca-f6e4-47fe-9dc6-13bbc88d3ebc",
   "metadata": {},
   "outputs": [],
   "source": [
    "stats.probplot(srag_mod['idade'], dist='norm', plot=plt)\n",
    "plt.title('Análise Normalidade')\n",
    "plt.show()"
   ]
  },
  {
   "cell_type": "code",
   "execution_count": null,
   "id": "292d0ae3-7d9c-42ef-8282-23ef66615395",
   "metadata": {},
   "outputs": [],
   "source": [
    "# Teste de Shapiro-Wilk\n",
    "# Critérios:\n",
    "# Nível de significância de 0,005 ou 5% (mais utilizado)\n",
    "# quando p > 0,005 (distribuição normal)"
   ]
  },
  {
   "cell_type": "code",
   "execution_count": null,
   "id": "c91be76a-29ed-4169-9e4e-60ae1ae49b12",
   "metadata": {},
   "outputs": [],
   "source": [
    "stats.shapiro(srag_mod.idade)\n",
    "# o teste de Shapiro-Wilk não se aplica a dados maiores que 5000."
   ]
  },
  {
   "cell_type": "code",
   "execution_count": null,
   "id": "0c5ff1c2-8543-4922-be24-1d0943012b42",
   "metadata": {},
   "outputs": [],
   "source": [
    "# Teste Lilliefors(Kolmogorov-Smirnov)\n",
    "\n",
    "import statsmodels\n",
    "from statsmodels.stats.diagnostic import lilliefors"
   ]
  },
  {
   "cell_type": "code",
   "execution_count": null,
   "id": "7c295de6-0de9-4495-9b1c-528e1e5dc268",
   "metadata": {},
   "outputs": [],
   "source": [
    "estatistica, p = statsmodels.stats.diagnostic.lilliefors(srag_mod.idade, dist = 'norm')\n",
    "print('Estatística do Teste (D):', round(estatistica, 2))\n",
    "print('p_valor:', p)"
   ]
  },
  {
   "cell_type": "markdown",
   "id": "f71a6af3-4cd4-46e2-a7c8-134bf06fcc31",
   "metadata": {
    "jp-MarkdownHeadingCollapsed": true
   },
   "source": [
    "### Seaborn"
   ]
  },
  {
   "cell_type": "code",
   "execution_count": null,
   "id": "57e9ecbc-afd1-4266-9b4d-bf36bf1075de",
   "metadata": {},
   "outputs": [],
   "source": [
    "import seaborn as sns"
   ]
  },
  {
   "cell_type": "code",
   "execution_count": null,
   "id": "67c27c7a-3c6c-4fab-81b6-891ede6f268f",
   "metadata": {},
   "outputs": [],
   "source": [
    "fig, ax = plt.subplots(figsize=(8,6))\n",
    "sns.histplot(srag_mod, x='idade', bins=20, color='orange', kde=True, stat='count');\n",
    "ax.set_title('Distribuição SRAG por idade', fontdict={'fontsize': 20});\n",
    "# ax.set_xlabel('Idade',fontdict={'fontsize':15})\n",
    "# ax.set_ylabel('Quantidade',fontdict={'fontsize':15})"
   ]
  },
  {
   "cell_type": "markdown",
   "id": "c40774e9-8309-4f32-a7bf-250eba71c68f",
   "metadata": {
    "jp-MarkdownHeadingCollapsed": true
   },
   "source": [
    "### Matplotlib"
   ]
  },
  {
   "cell_type": "code",
   "execution_count": null,
   "id": "10710170-a748-48ff-968a-52eb2befb5b2",
   "metadata": {},
   "outputs": [],
   "source": [
    "import matplotlib.pyplot as plt"
   ]
  },
  {
   "cell_type": "code",
   "execution_count": null,
   "id": "09082d8b-f9bf-4685-bb32-23821a75214d",
   "metadata": {},
   "outputs": [],
   "source": [
    "plt.hist(srag_mod.idade, color='red', density=False, bins=30)\n",
    "plt.title('Distribuição SRAG por idade', fontsize=20)\n",
    "plt.xlabel('Idade')\n",
    "plt.ylabel('Quantidade')\n",
    "plt.show()"
   ]
  },
  {
   "cell_type": "markdown",
   "id": "7da9b3a6-7a60-46b9-b182-926912b6b412",
   "metadata": {
    "jp-MarkdownHeadingCollapsed": true
   },
   "source": [
    "## Gráfico de Dispersão"
   ]
  },
  {
   "cell_type": "code",
   "execution_count": null,
   "id": "ea5ce629-4281-447e-a42b-dc6c5da0af36",
   "metadata": {},
   "outputs": [],
   "source": [
    "srag_mod.head(2)"
   ]
  },
  {
   "cell_type": "code",
   "execution_count": null,
   "id": "c00000f0-6272-400c-9861-94e09cce6f21",
   "metadata": {},
   "outputs": [],
   "source": [
    "srag_catanduva = srag_mod.loc[srag_mod['ID_MN_RESI'] == 'CATANDUVA']"
   ]
  },
  {
   "cell_type": "code",
   "execution_count": null,
   "id": "4f5a8c72-50f0-425f-8771-4fa854e5633f",
   "metadata": {},
   "outputs": [],
   "source": [
    "srag_catanduva.head(2)"
   ]
  },
  {
   "cell_type": "code",
   "execution_count": null,
   "id": "eccaf434-a3b3-4672-8b15-555694464c93",
   "metadata": {},
   "outputs": [],
   "source": [
    "srag_catanduva.shape"
   ]
  },
  {
   "cell_type": "markdown",
   "id": "655203ff-f756-4d79-b9d0-18829f7343df",
   "metadata": {
    "jp-MarkdownHeadingCollapsed": true
   },
   "source": [
    "### Matplotlib"
   ]
  },
  {
   "cell_type": "code",
   "execution_count": null,
   "id": "ea4f3afc-ad48-4801-acb9-96377aab5e61",
   "metadata": {},
   "outputs": [],
   "source": [
    "import matplotlib.pyplot as plt"
   ]
  },
  {
   "cell_type": "code",
   "execution_count": null,
   "id": "b8ef9c46-db7d-4c8f-8ac5-c1bd86746176",
   "metadata": {},
   "outputs": [],
   "source": [
    "plt.scatter(srag_catanduva.data, srag_catanduva.idade)\n",
    "plt.title('Gráfico de Dispersão')\n",
    "plt.xlabel('Data')\n",
    "plt.ylabel('Idade')\n",
    "plt.grid(False)\n",
    "plt.show()"
   ]
  },
  {
   "cell_type": "markdown",
   "id": "28174f36-c668-48f3-8b2f-6d7c6c235768",
   "metadata": {
    "jp-MarkdownHeadingCollapsed": true
   },
   "source": [
    "### Seaborn"
   ]
  },
  {
   "cell_type": "code",
   "execution_count": null,
   "id": "6f1e3db1-d463-409a-92c9-7d63666986ad",
   "metadata": {},
   "outputs": [],
   "source": [
    "import seaborn as sns"
   ]
  },
  {
   "cell_type": "code",
   "execution_count": null,
   "id": "dc053c7a-f49c-4218-ab95-4de56eac6e70",
   "metadata": {},
   "outputs": [],
   "source": [
    "fig, ax = plt.subplots(figsize=(8,6))\n",
    "sns.scatterplot(x='data', y='idade', data=srag_catanduva, color='brown')\n",
    "ax.set_title('Gráfico de dispersão da Idade em função da Data', fontdict={'fontsize':18});\n",
    "ax.set_xlabel('Datas',fontdict={'fontsize':12})\n",
    "ax.set_ylabel('Idade',fontdict={'fontsize':12});"
   ]
  },
  {
   "cell_type": "markdown",
   "id": "2bc02efa-8771-4885-bc29-35642bd392fc",
   "metadata": {
    "jp-MarkdownHeadingCollapsed": true
   },
   "source": [
    "### Plotly"
   ]
  },
  {
   "cell_type": "code",
   "execution_count": null,
   "id": "52452460-2b51-47d6-ab4a-1b39700b682b",
   "metadata": {},
   "outputs": [],
   "source": [
    "import plotly.express as px"
   ]
  },
  {
   "cell_type": "code",
   "execution_count": null,
   "id": "c69425d5-4586-4e4a-899f-4228b72c2e12",
   "metadata": {},
   "outputs": [],
   "source": [
    "disp = px.scatter(x=srag_catanduva.data, y=srag_catanduva.idade, color=srag_catanduva['sexo'])\n",
    "disp.update_layout(width=800,height=500,title_text='Gráfico de dispersão de Idade em função da Data')\n",
    "disp.update_xaxes(title='Data')\n",
    "disp.update_yaxes(title='Idade')\n",
    "disp.show()"
   ]
  },
  {
   "cell_type": "markdown",
   "id": "9a18f7bf-3daa-40bb-8910-065930500c3c",
   "metadata": {
    "jp-MarkdownHeadingCollapsed": true
   },
   "source": [
    "## Gráfico de Setores (pizza)"
   ]
  },
  {
   "cell_type": "markdown",
   "id": "2facf1c4-7b49-4a7e-bc5c-842bfd793fc4",
   "metadata": {
    "jp-MarkdownHeadingCollapsed": true
   },
   "source": [
    "### Plotly"
   ]
  },
  {
   "cell_type": "code",
   "execution_count": null,
   "id": "91664ce7-e0fc-4057-96ec-64c976737ee1",
   "metadata": {},
   "outputs": [],
   "source": [
    "import plotly.express as px"
   ]
  },
  {
   "cell_type": "code",
   "execution_count": null,
   "id": "5e3d202d-ce6d-4202-87d0-05005e4bd870",
   "metadata": {},
   "outputs": [],
   "source": [
    "srag_mod['sexo'].value_counts()"
   ]
  },
  {
   "cell_type": "code",
   "execution_count": null,
   "id": "776dd27e-bbe1-4625-8edc-f8d511b39704",
   "metadata": {},
   "outputs": [],
   "source": [
    "pizza = px.pie(srag_mod, 'sexo')\n",
    "pizza.update_layout(title_text='Gráfico de Setores')\n",
    "pizza.show()"
   ]
  },
  {
   "cell_type": "code",
   "execution_count": null,
   "id": "daa67548-7d00-47df-bdfb-59ed3f412772",
   "metadata": {},
   "outputs": [],
   "source": [
    "srag_mod['raca'].value_counts()"
   ]
  },
  {
   "cell_type": "code",
   "execution_count": null,
   "id": "fd47f783-7585-48f3-a408-7e8414ae2893",
   "metadata": {},
   "outputs": [],
   "source": [
    "pizza = px.pie(srag_mod, 'raca')\n",
    "pizza.update_layout(title_text='Gráfico de Setores')\n",
    "pizza.show()"
   ]
  },
  {
   "cell_type": "code",
   "execution_count": null,
   "id": "60086a5a-5866-414d-9368-f5d9d6a455e6",
   "metadata": {},
   "outputs": [],
   "source": [
    "srag_mod['CS_ZONA'].value_counts()"
   ]
  },
  {
   "cell_type": "code",
   "execution_count": null,
   "id": "166e0cbc-3c08-4dee-a6c2-ebda492978f6",
   "metadata": {},
   "outputs": [],
   "source": [
    "pizza = px.pie(srag_mod, 'CS_ZONA')\n",
    "pizza.update_layout(title_text='Gráfico de Setores')\n",
    "pizza.show()"
   ]
  },
  {
   "cell_type": "markdown",
   "id": "6a2a7f42-6d66-4183-81d1-c944c93b3554",
   "metadata": {
    "jp-MarkdownHeadingCollapsed": true
   },
   "source": [
    "### Matplotlib"
   ]
  },
  {
   "cell_type": "code",
   "execution_count": null,
   "id": "cfc5ea8e-d619-4b0d-aeec-67d28545b127",
   "metadata": {},
   "outputs": [],
   "source": [
    "import matplotlib.pyplot as plt"
   ]
  },
  {
   "cell_type": "code",
   "execution_count": null,
   "id": "1004d1df-da19-4f73-91ab-77fd9f37f42f",
   "metadata": {},
   "outputs": [],
   "source": [
    "contagem = srag_mod['sexo'].value_counts()\n",
    "contagem"
   ]
  },
  {
   "cell_type": "code",
   "execution_count": null,
   "id": "ef07d74c-df5a-4c82-85e7-5cd72699ad2e",
   "metadata": {},
   "outputs": [],
   "source": [
    "contagem.index"
   ]
  },
  {
   "cell_type": "code",
   "execution_count": null,
   "id": "035836ac-0b70-4d05-8c98-174eff7ac3d4",
   "metadata": {},
   "outputs": [],
   "source": [
    "plt.figure(figsize=(8,8))\n",
    "plt.pie(contagem, labels=contagem.index, autopct='%.2f%%')\n",
    "plt.show()"
   ]
  },
  {
   "cell_type": "markdown",
   "id": "aa8fbb32-3b46-4fc3-a3c8-ad46e538507e",
   "metadata": {},
   "source": [
    "## Gráfico de Bolhas"
   ]
  },
  {
   "cell_type": "markdown",
   "id": "3e3abf00-91df-4eb0-b3a3-2ed462537df3",
   "metadata": {
    "jp-MarkdownHeadingCollapsed": true
   },
   "source": [
    "### Plotly"
   ]
  },
  {
   "cell_type": "code",
   "execution_count": null,
   "id": "ae2858e9-3a7e-416a-a328-2ed34c0c9baf",
   "metadata": {},
   "outputs": [],
   "source": [
    "import plotly.express as px"
   ]
  },
  {
   "cell_type": "code",
   "execution_count": null,
   "id": "b4987933-ee93-4b9d-87a8-78b8bfa24c90",
   "metadata": {},
   "outputs": [],
   "source": [
    "srag_tupa = srag_mod.loc[srag_mod.ID_MN_RESI == 'TUPA']"
   ]
  },
  {
   "cell_type": "code",
   "execution_count": null,
   "id": "7b3b37bd-bdbe-4aef-8ab7-5e214e99e787",
   "metadata": {},
   "outputs": [],
   "source": [
    "srag_tupa.head(3)"
   ]
  },
  {
   "cell_type": "code",
   "execution_count": null,
   "id": "bd1043eb-a934-40d7-a96f-fb3a6c552f6a",
   "metadata": {},
   "outputs": [],
   "source": [
    "srag_tupa.shape"
   ]
  },
  {
   "cell_type": "code",
   "execution_count": null,
   "id": "15aa1ef0-b097-4987-bc62-80770895e62c",
   "metadata": {},
   "outputs": [],
   "source": [
    " bolhas = px.scatter(srag_tupa, x='data', y='CS_ZONA', color='sexo', size='idade')\n",
    "bolhas.show()"
   ]
  },
  {
   "cell_type": "code",
   "execution_count": null,
   "id": "e298a841-5a7c-457c-9d29-cb5b8153608b",
   "metadata": {},
   "outputs": [],
   "source": [
    " bolhas2 = px.scatter(srag_tupa, x='data', y='raca', color='sexo', size='idade')\n",
    "bolhas2.show()"
   ]
  },
  {
   "cell_type": "markdown",
   "id": "f1a36b4b-a47c-4889-99fe-bc7d8f474b4b",
   "metadata": {
    "jp-MarkdownHeadingCollapsed": true
   },
   "source": [
    "### Seaborn"
   ]
  },
  {
   "cell_type": "code",
   "execution_count": null,
   "id": "836029c3-3b97-487b-a50e-ee04e22267cb",
   "metadata": {},
   "outputs": [],
   "source": [
    "import seaborn as sns\n",
    "import matplotlib.pyplot as plt"
   ]
  },
  {
   "cell_type": "code",
   "execution_count": null,
   "id": "2ea3d497-cffe-452f-8ffc-4beb2d93e27f",
   "metadata": {},
   "outputs": [],
   "source": [
    "fig, ax = plt.subplots(figsize=(15,12))\n",
    "sns.scatterplot(x='data',y='raca',data=srag_tupa,color='brown',size='idade')\n",
    "ax.set_title('Gráfico de Bolhas',fontdict={'fontsize':18});\n",
    "ax.set_xlabel('Datas',fontdict={'fontsize':12})\n",
    "ax.set_ylabel('Idade',fontdict={'fontsize':12});"
   ]
  },
  {
   "cell_type": "markdown",
   "id": "f8d072c0-dc14-4e0b-bc75-e48931004425",
   "metadata": {},
   "source": [
    "## Gráfico de Linhas"
   ]
  },
  {
   "cell_type": "markdown",
   "id": "a796cee8-9b3e-438b-a1bb-cb82d74c6ac1",
   "metadata": {
    "jp-MarkdownHeadingCollapsed": true
   },
   "source": [
    "### Matplotlib"
   ]
  },
  {
   "cell_type": "code",
   "execution_count": null,
   "id": "5c81da98-fbd9-4286-ab44-97c4bb3daf20",
   "metadata": {},
   "outputs": [],
   "source": [
    "import matplotlib.pyplot as plt"
   ]
  },
  {
   "cell_type": "code",
   "execution_count": null,
   "id": "cfaaf968-3487-4e43-88cf-a846fb38d2f1",
   "metadata": {},
   "outputs": [],
   "source": [
    "plt.subplots(figsize=(8,6))\n",
    "y = [4,9,6,4,0,3,5.1,6,8.4,12.3]\n",
    "x = range(len(y))\n",
    "plt.plot(x,y, color='red', marker='o')\n",
    "plt.title('Gráfico de Linhas')\n",
    "plt.show()"
   ]
  },
  {
   "cell_type": "code",
   "execution_count": null,
   "id": "dec9c689-ca7c-4653-9c5f-c19dff41b646",
   "metadata": {},
   "outputs": [],
   "source": [
    "plt.subplots(figsize=(8,6))\n",
    "m = [1, 5, 8, 0, 3, 1, 6.5, 4, 12.3, 15.8]\n",
    "n = range(len(m))\n",
    "plt.plot(n,m, color='yellow', marker='x')\n",
    "plt.title('Gráfico de Linhas 2')\n",
    "plt.show()"
   ]
  },
  {
   "cell_type": "code",
   "execution_count": null,
   "id": "b552dff7-967a-44cf-80b3-7ef8f7dedda0",
   "metadata": {},
   "outputs": [],
   "source": [
    "plt.subplots(figsize=(8,6))\n",
    "plt.title('Gráfico de Linha')\n",
    "plt.plot(x,y)\n",
    "plt.plot(n,m)\n",
    "plt.show()"
   ]
  },
  {
   "cell_type": "markdown",
   "id": "7238c630-e95d-4d4f-b894-4474f5649010",
   "metadata": {
    "jp-MarkdownHeadingCollapsed": true
   },
   "source": [
    "### Plotly"
   ]
  },
  {
   "cell_type": "code",
   "execution_count": null,
   "id": "d93bfec8-fc1a-4682-a91f-a9dff9d7e3d7",
   "metadata": {},
   "outputs": [],
   "source": [
    "import plotly.express as px"
   ]
  },
  {
   "cell_type": "code",
   "execution_count": null,
   "id": "ae1f7544-7fc0-4724-959b-208885fe57db",
   "metadata": {},
   "outputs": [],
   "source": [
    "y = [4,9,6,4,0,3,5.1,6,8.4,12.3]\n",
    "type(y)"
   ]
  },
  {
   "cell_type": "code",
   "execution_count": null,
   "id": "93e17ebc-a1ef-4560-a9f7-af1d8d927232",
   "metadata": {},
   "outputs": [],
   "source": [
    "x = list(range(len(y)))\n",
    "print(x)"
   ]
  },
  {
   "cell_type": "code",
   "execution_count": null,
   "id": "c3f83866-f16b-4ba2-8bd1-8c29012134ba",
   "metadata": {},
   "outputs": [],
   "source": [
    "linha = px.line(x,y)\n",
    "linha.show()"
   ]
  },
  {
   "cell_type": "code",
   "execution_count": null,
   "id": "cab3cd5b-488d-4c89-973f-5b1509ad536b",
   "metadata": {},
   "outputs": [],
   "source": [
    "df = pd.DataFrame(x, columns=['eixo_x'])\n",
    "df"
   ]
  },
  {
   "cell_type": "code",
   "execution_count": null,
   "id": "00154bfb-7f5b-43c2-a5e2-53b9e5b88fc8",
   "metadata": {},
   "outputs": [],
   "source": [
    "df = pd.concat([df, pd.DataFrame(y, columns=['eixo_y'])], axis=1)\n",
    "df"
   ]
  },
  {
   "cell_type": "code",
   "execution_count": null,
   "id": "b935e947-2a1d-4e00-a123-ee45275daefd",
   "metadata": {},
   "outputs": [],
   "source": [
    "linha = px.line(df, 'eixo_x', 'eixo_y')\n",
    "linha.show()"
   ]
  },
  {
   "cell_type": "markdown",
   "id": "b5e7f331-6f6e-4174-add1-347a352d2cb5",
   "metadata": {
    "jp-MarkdownHeadingCollapsed": true
   },
   "source": [
    "### Seaborn"
   ]
  },
  {
   "cell_type": "code",
   "execution_count": null,
   "id": "fff577ad-21c8-470d-8c15-addcaadd0776",
   "metadata": {},
   "outputs": [],
   "source": [
    "import seaborn as sns\n",
    "import matplotlib.pyplot as plt"
   ]
  },
  {
   "cell_type": "code",
   "execution_count": null,
   "id": "27f0dc57-07d9-4a4a-a26e-5bd11195642c",
   "metadata": {},
   "outputs": [],
   "source": [
    "fig, ax = plt.subplots(figsize=(8,6))\n",
    "sns.lineplot(x,y)\n",
    "ax.set_title('Gráfico de Linhas', fontdict={'fontsize':18})\n",
    "ax.set_xlabel('Eixo x',fontdict={'fontsize':12})\n",
    "ax.set_ylabel('Eixo y',fontdict={'fontsize':12});"
   ]
  },
  {
   "cell_type": "code",
   "execution_count": null,
   "id": "a8219726-2a8f-4190-80ec-3a7354f69f07",
   "metadata": {},
   "outputs": [],
   "source": [
    "fig, ax = plt.subplots(figsize=(8,6))\n",
    "sns.lineplot(df.eixo_x, df.eixo_y)\n",
    "ax.set_title('Gráfico de Linhas', fontdict={'fontsize':18})\n",
    "ax.set_xlabel('Eixo x',fontdict={'fontsize':12})\n",
    "ax.set_ylabel('Eixo y',fontdict={'fontsize':12});"
   ]
  },
  {
   "cell_type": "code",
   "execution_count": null,
   "id": "d557319f-e9fd-4688-a84e-930b64411b6f",
   "metadata": {},
   "outputs": [],
   "source": []
  }
 ],
 "metadata": {
  "kernelspec": {
   "display_name": "Python 3 (ipykernel)",
   "language": "python",
   "name": "python3"
  },
  "language_info": {
   "codemirror_mode": {
    "name": "ipython",
    "version": 3
   },
   "file_extension": ".py",
   "mimetype": "text/x-python",
   "name": "python",
   "nbconvert_exporter": "python",
   "pygments_lexer": "ipython3",
   "version": "3.12.7"
  }
 },
 "nbformat": 4,
 "nbformat_minor": 5
}
